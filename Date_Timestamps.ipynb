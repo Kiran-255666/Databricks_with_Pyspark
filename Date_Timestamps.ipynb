{
  "nbformat": 4,
  "nbformat_minor": 0,
  "metadata": {
    "colab": {
      "provenance": []
    },
    "kernelspec": {
      "name": "python3",
      "display_name": "Python 3"
    },
    "language_info": {
      "name": "python"
    }
  },
  "cells": [
    {
      "cell_type": "code",
      "execution_count": 1,
      "metadata": {
        "colab": {
          "base_uri": "https://localhost:8080/"
        },
        "id": "6Ew5vrzh-C-s",
        "outputId": "6734130b-2710-4073-9848-071bf7eacc10"
      },
      "outputs": [
        {
          "output_type": "stream",
          "name": "stdout",
          "text": [
            "Looking in indexes: https://pypi.org/simple, https://us-python.pkg.dev/colab-wheels/public/simple/\n",
            "Collecting pyspark\n",
            "  Downloading pyspark-3.3.1.tar.gz (281.4 MB)\n",
            "\u001b[K     |████████████████████████████████| 281.4 MB 45 kB/s \n",
            "\u001b[?25hCollecting py4j==0.10.9.5\n",
            "  Downloading py4j-0.10.9.5-py2.py3-none-any.whl (199 kB)\n",
            "\u001b[K     |████████████████████████████████| 199 kB 57.7 MB/s \n",
            "\u001b[?25hBuilding wheels for collected packages: pyspark\n",
            "  Building wheel for pyspark (setup.py) ... \u001b[?25l\u001b[?25hdone\n",
            "  Created wheel for pyspark: filename=pyspark-3.3.1-py2.py3-none-any.whl size=281845512 sha256=acd1d49d8bb1d23aa8bdba13bccdef6c5503f17576fa2e63e6e7b904e8aabb2a\n",
            "  Stored in directory: /root/.cache/pip/wheels/43/dc/11/ec201cd671da62fa9c5cc77078235e40722170ceba231d7598\n",
            "Successfully built pyspark\n",
            "Installing collected packages: py4j, pyspark\n",
            "Successfully installed py4j-0.10.9.5 pyspark-3.3.1\n"
          ]
        }
      ],
      "source": [
        "!pip install pyspark\n",
        "import pyspark\n",
        "from pyspark.sql import SparkSession\n",
        "\n",
        "spark = SparkSession.builder \\\n",
        "               .appName('datetimestamp') \\\n",
        "               .getOrCreate()\n"
      ]
    },
    {
      "cell_type": "code",
      "source": [
        "data=[[\"1\",\"2020-02-01\"],[\"2\",\"2019-03-01\"],[\"3\",\"2021-03-01\"]]\n",
        "df=spark.createDataFrame(data,[\"id\",\"input\"])\n",
        "df.show()"
      ],
      "metadata": {
        "colab": {
          "base_uri": "https://localhost:8080/"
        },
        "id": "K81J5Se3-G73",
        "outputId": "ae542ada-fe63-4f74-f00e-4f077ee4c4e7"
      },
      "execution_count": 2,
      "outputs": [
        {
          "output_type": "stream",
          "name": "stdout",
          "text": [
            "+---+----------+\n",
            "| id|     input|\n",
            "+---+----------+\n",
            "|  1|2020-02-01|\n",
            "|  2|2019-03-01|\n",
            "|  3|2021-03-01|\n",
            "+---+----------+\n",
            "\n"
          ]
        }
      ]
    },
    {
      "cell_type": "code",
      "source": [
        "from pyspark.sql.functions import *\n",
        "\n",
        "#current_date()\n",
        "df.select(current_date().alias(\"current_date\")\n",
        "  ).show(1)"
      ],
      "metadata": {
        "colab": {
          "base_uri": "https://localhost:8080/"
        },
        "id": "7Ggg4DFM-FMU",
        "outputId": "5d64e9d9-d9fd-4506-8667-931fc4b90953"
      },
      "execution_count": 3,
      "outputs": [
        {
          "output_type": "stream",
          "name": "stdout",
          "text": [
            "+------------+\n",
            "|current_date|\n",
            "+------------+\n",
            "|  2022-12-21|\n",
            "+------------+\n",
            "only showing top 1 row\n",
            "\n"
          ]
        }
      ]
    },
    {
      "cell_type": "code",
      "source": [
        "#date_format()\n",
        "df.select(col(\"input\"), \n",
        "    date_format(col(\"input\"), \"MM-dd-yyyy\").alias(\"date_format\") \n",
        "  ).show()"
      ],
      "metadata": {
        "colab": {
          "base_uri": "https://localhost:8080/"
        },
        "id": "iBf9jsWQ-bED",
        "outputId": "3cdd0628-586e-498f-bebd-5bc60ac5ba7e"
      },
      "execution_count": 4,
      "outputs": [
        {
          "output_type": "stream",
          "name": "stdout",
          "text": [
            "+----------+-----------+\n",
            "|     input|date_format|\n",
            "+----------+-----------+\n",
            "|2020-02-01| 02-01-2020|\n",
            "|2019-03-01| 03-01-2019|\n",
            "|2021-03-01| 03-01-2021|\n",
            "+----------+-----------+\n",
            "\n"
          ]
        }
      ]
    },
    {
      "cell_type": "code",
      "source": [
        "#to_date()\n",
        "df.select(col(\"input\"), \n",
        "    to_date(col(\"input\"), \"yyy-MM-dd\").alias(\"to_date\") \n",
        "  ).show()"
      ],
      "metadata": {
        "colab": {
          "base_uri": "https://localhost:8080/"
        },
        "id": "tr3uUj-7-d_4",
        "outputId": "6b7befc0-1437-41f4-c7d7-a055d94e6649"
      },
      "execution_count": 5,
      "outputs": [
        {
          "output_type": "stream",
          "name": "stdout",
          "text": [
            "+----------+----------+\n",
            "|     input|   to_date|\n",
            "+----------+----------+\n",
            "|2020-02-01|2020-02-01|\n",
            "|2019-03-01|2019-03-01|\n",
            "|2021-03-01|2021-03-01|\n",
            "+----------+----------+\n",
            "\n"
          ]
        }
      ]
    },
    {
      "cell_type": "code",
      "source": [
        "#datediff()\n",
        "df.select(col(\"input\"), \n",
        "    datediff(current_date(),col(\"input\")).alias(\"datediff\")  \n",
        "  ).show()"
      ],
      "metadata": {
        "colab": {
          "base_uri": "https://localhost:8080/"
        },
        "id": "cT7ACxUh-g5p",
        "outputId": "150aff92-df3b-4fb9-dcb5-038598afe998"
      },
      "execution_count": 6,
      "outputs": [
        {
          "output_type": "stream",
          "name": "stdout",
          "text": [
            "+----------+--------+\n",
            "|     input|datediff|\n",
            "+----------+--------+\n",
            "|2020-02-01|    1054|\n",
            "|2019-03-01|    1391|\n",
            "|2021-03-01|     660|\n",
            "+----------+--------+\n",
            "\n"
          ]
        }
      ]
    },
    {
      "cell_type": "code",
      "source": [
        "#months_between()\n",
        "df.select(col(\"input\"), \n",
        "    months_between(current_date(),col(\"input\")).alias(\"months_between\")  \n",
        "  ).show()"
      ],
      "metadata": {
        "colab": {
          "base_uri": "https://localhost:8080/"
        },
        "id": "1tZigCJ4-j8a",
        "outputId": "c9e43403-0362-490b-96eb-8c2e1e72b50f"
      },
      "execution_count": 7,
      "outputs": [
        {
          "output_type": "stream",
          "name": "stdout",
          "text": [
            "+----------+--------------+\n",
            "|     input|months_between|\n",
            "+----------+--------------+\n",
            "|2020-02-01|   34.64516129|\n",
            "|2019-03-01|   45.64516129|\n",
            "|2021-03-01|   21.64516129|\n",
            "+----------+--------------+\n",
            "\n"
          ]
        }
      ]
    },
    {
      "cell_type": "code",
      "source": [
        "#trunc()\n",
        "df.select(col(\"input\"), \n",
        "    trunc(col(\"input\"),\"Month\").alias(\"Month_Trunc\"), \n",
        "    trunc(col(\"input\"),\"Year\").alias(\"Month_Year\"), \n",
        "    trunc(col(\"input\"),\"Month\").alias(\"Month_Trunc\")\n",
        "   ).show()"
      ],
      "metadata": {
        "colab": {
          "base_uri": "https://localhost:8080/"
        },
        "id": "RIHnUywI-nNl",
        "outputId": "5a945e6d-2922-4441-e216-f98ce2b7e1e2"
      },
      "execution_count": 8,
      "outputs": [
        {
          "output_type": "stream",
          "name": "stdout",
          "text": [
            "+----------+-----------+----------+-----------+\n",
            "|     input|Month_Trunc|Month_Year|Month_Trunc|\n",
            "+----------+-----------+----------+-----------+\n",
            "|2020-02-01| 2020-02-01|2020-01-01| 2020-02-01|\n",
            "|2019-03-01| 2019-03-01|2019-01-01| 2019-03-01|\n",
            "|2021-03-01| 2021-03-01|2021-01-01| 2021-03-01|\n",
            "+----------+-----------+----------+-----------+\n",
            "\n"
          ]
        }
      ]
    },
    {
      "cell_type": "code",
      "source": [
        "#add_months() , date_add(), date_sub()\n",
        "\n",
        "df.select(col(\"input\"), \n",
        "    add_months(col(\"input\"),3).alias(\"add_months\"), \n",
        "    add_months(col(\"input\"),-3).alias(\"sub_months\"), \n",
        "    date_add(col(\"input\"),4).alias(\"date_add\"), \n",
        "    date_sub(col(\"input\"),4).alias(\"date_sub\") \n",
        "  ).show()"
      ],
      "metadata": {
        "colab": {
          "base_uri": "https://localhost:8080/"
        },
        "id": "1yTuj2Ge-rgb",
        "outputId": "5fbdf254-207f-4162-d322-a3c1750eea4c"
      },
      "execution_count": 9,
      "outputs": [
        {
          "output_type": "stream",
          "name": "stdout",
          "text": [
            "+----------+----------+----------+----------+----------+\n",
            "|     input|add_months|sub_months|  date_add|  date_sub|\n",
            "+----------+----------+----------+----------+----------+\n",
            "|2020-02-01|2020-05-01|2019-11-01|2020-02-05|2020-01-28|\n",
            "|2019-03-01|2019-06-01|2018-12-01|2019-03-05|2019-02-25|\n",
            "|2021-03-01|2021-06-01|2020-12-01|2021-03-05|2021-02-25|\n",
            "+----------+----------+----------+----------+----------+\n",
            "\n"
          ]
        }
      ]
    },
    {
      "cell_type": "code",
      "source": [
        "#\n",
        "\n",
        "df.select(col(\"input\"), \n",
        "     year(col(\"input\")).alias(\"year\"), \n",
        "     month(col(\"input\")).alias(\"month\"), \n",
        "     next_day(col(\"input\"),\"Sunday\").alias(\"next_day\"), \n",
        "     weekofyear(col(\"input\")).alias(\"weekofyear\") \n",
        "  ).show()"
      ],
      "metadata": {
        "colab": {
          "base_uri": "https://localhost:8080/"
        },
        "id": "AefpJ3AH-yfL",
        "outputId": "002aa7bb-0c87-4e90-d3b5-62a7583914fd"
      },
      "execution_count": 10,
      "outputs": [
        {
          "output_type": "stream",
          "name": "stdout",
          "text": [
            "+----------+----+-----+----------+----------+\n",
            "|     input|year|month|  next_day|weekofyear|\n",
            "+----------+----+-----+----------+----------+\n",
            "|2020-02-01|2020|    2|2020-02-02|         5|\n",
            "|2019-03-01|2019|    3|2019-03-03|         9|\n",
            "|2021-03-01|2021|    3|2021-03-07|         9|\n",
            "+----------+----+-----+----------+----------+\n",
            "\n"
          ]
        }
      ]
    },
    {
      "cell_type": "code",
      "source": [
        "df.select(col(\"input\"),  \n",
        "     dayofweek(col(\"input\")).alias(\"dayofweek\"), \n",
        "     dayofmonth(col(\"input\")).alias(\"dayofmonth\"), \n",
        "     dayofyear(col(\"input\")).alias(\"dayofyear\"), \n",
        "  ).show()"
      ],
      "metadata": {
        "colab": {
          "base_uri": "https://localhost:8080/"
        },
        "id": "-9VZGp20-1hq",
        "outputId": "0eb2d3e8-6e53-4428-9d74-25b810e4e3ec"
      },
      "execution_count": 11,
      "outputs": [
        {
          "output_type": "stream",
          "name": "stdout",
          "text": [
            "+----------+---------+----------+---------+\n",
            "|     input|dayofweek|dayofmonth|dayofyear|\n",
            "+----------+---------+----------+---------+\n",
            "|2020-02-01|        7|         1|       32|\n",
            "|2019-03-01|        6|         1|       60|\n",
            "|2021-03-01|        2|         1|       60|\n",
            "+----------+---------+----------+---------+\n",
            "\n"
          ]
        }
      ]
    },
    {
      "cell_type": "code",
      "source": [
        "data=[[\"1\",\"02-01-2020 11 01 19 06\"],[\"2\",\"03-01-2019 12 01 19 406\"],[\"3\",\"03-01-2021 12 01 19 406\"]]\n",
        "df2=spark.createDataFrame(data,[\"id\",\"input\"])\n",
        "df2.show(truncate=False)"
      ],
      "metadata": {
        "colab": {
          "base_uri": "https://localhost:8080/"
        },
        "id": "dzpFrjjU-4qY",
        "outputId": "5f588ed9-7e78-4e53-87da-43c75200e334"
      },
      "execution_count": 12,
      "outputs": [
        {
          "output_type": "stream",
          "name": "stdout",
          "text": [
            "+---+-----------------------+\n",
            "|id |input                  |\n",
            "+---+-----------------------+\n",
            "|1  |02-01-2020 11 01 19 06 |\n",
            "|2  |03-01-2019 12 01 19 406|\n",
            "|3  |03-01-2021 12 01 19 406|\n",
            "+---+-----------------------+\n",
            "\n"
          ]
        }
      ]
    },
    {
      "cell_type": "code",
      "source": [
        "#current_timestamp()\n",
        "df2.select(current_timestamp().alias(\"current_timestamp\")\n",
        "  ).show(1,truncate=False)"
      ],
      "metadata": {
        "colab": {
          "base_uri": "https://localhost:8080/"
        },
        "id": "3vE5XuWN-73j",
        "outputId": "d71c42e2-3db1-4061-dedb-8230f2c27dc0"
      },
      "execution_count": 13,
      "outputs": [
        {
          "output_type": "stream",
          "name": "stdout",
          "text": [
            "+--------------------------+\n",
            "|current_timestamp         |\n",
            "+--------------------------+\n",
            "|2022-12-21 09:23:06.468376|\n",
            "+--------------------------+\n",
            "only showing top 1 row\n",
            "\n"
          ]
        }
      ]
    },
    {
      "cell_type": "code",
      "source": [
        "#to_timestamp()\n",
        "df2.select(col(\"input\"), \n",
        "    to_timestamp(col(\"input\"), \"MM-dd-yyyy HH mm ss SSS\").alias(\"to_timestamp\") \n",
        "  ).show(truncate=False)"
      ],
      "metadata": {
        "colab": {
          "base_uri": "https://localhost:8080/"
        },
        "id": "O-uHKxos-_HH",
        "outputId": "6beec180-ec69-4024-8e02-a23e4a392b6f"
      },
      "execution_count": 14,
      "outputs": [
        {
          "output_type": "stream",
          "name": "stdout",
          "text": [
            "+-----------------------+-----------------------+\n",
            "|input                  |to_timestamp           |\n",
            "+-----------------------+-----------------------+\n",
            "|02-01-2020 11 01 19 06 |2020-02-01 11:01:19.06 |\n",
            "|03-01-2019 12 01 19 406|2019-03-01 12:01:19.406|\n",
            "|03-01-2021 12 01 19 406|2021-03-01 12:01:19.406|\n",
            "+-----------------------+-----------------------+\n",
            "\n"
          ]
        }
      ]
    },
    {
      "cell_type": "code",
      "source": [
        "#hour, minute,second\n",
        "data=[[\"1\",\"2020-02-01 11:01:19.06\"],[\"2\",\"2019-03-01 12:01:19.406\"],[\"3\",\"2021-03-01 12:01:19.406\"]]\n",
        "df3=spark.createDataFrame(data,[\"id\",\"input\"])"
      ],
      "metadata": {
        "id": "L7Ceuc4T_GVu"
      },
      "execution_count": 15,
      "outputs": []
    },
    {
      "cell_type": "code",
      "source": [
        "df3.select(col(\"input\"), \n",
        "    hour(col(\"input\")).alias(\"hour\"), \n",
        "    minute(col(\"input\")).alias(\"minute\"),\n",
        "    second(col(\"input\")).alias(\"second\") \n",
        "  ).show(truncate=False)"
      ],
      "metadata": {
        "colab": {
          "base_uri": "https://localhost:8080/"
        },
        "id": "1Vogr0nQ_Kcj",
        "outputId": "ca228979-fe5c-47c2-c44e-31c5753aaf4e"
      },
      "execution_count": 16,
      "outputs": [
        {
          "output_type": "stream",
          "name": "stdout",
          "text": [
            "+-----------------------+----+------+------+\n",
            "|input                  |hour|minute|second|\n",
            "+-----------------------+----+------+------+\n",
            "|2020-02-01 11:01:19.06 |11  |1     |19    |\n",
            "|2019-03-01 12:01:19.406|12  |1     |19    |\n",
            "|2021-03-01 12:01:19.406|12  |1     |19    |\n",
            "+-----------------------+----+------+------+\n",
            "\n"
          ]
        }
      ]
    },
    {
      "cell_type": "code",
      "source": [],
      "metadata": {
        "id": "jpIdB8M2_S1v"
      },
      "execution_count": 16,
      "outputs": []
    }
  ]
}