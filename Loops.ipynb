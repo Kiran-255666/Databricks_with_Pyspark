{
  "nbformat": 4,
  "nbformat_minor": 0,
  "metadata": {
    "colab": {
      "provenance": []
    },
    "kernelspec": {
      "name": "python3",
      "display_name": "Python 3"
    },
    "language_info": {
      "name": "python"
    }
  },
  "cells": [
    {
      "cell_type": "code",
      "execution_count": 1,
      "metadata": {
        "colab": {
          "base_uri": "https://localhost:8080/"
        },
        "id": "JSsaTajkC6-U",
        "outputId": "082f9239-db94-43ae-a928-201e35f682cd"
      },
      "outputs": [
        {
          "output_type": "stream",
          "name": "stdout",
          "text": [
            "Looking in indexes: https://pypi.org/simple, https://us-python.pkg.dev/colab-wheels/public/simple/\n",
            "Collecting pyspark\n",
            "  Downloading pyspark-3.3.1.tar.gz (281.4 MB)\n",
            "\u001b[K     |████████████████████████████████| 281.4 MB 33 kB/s \n",
            "\u001b[?25hCollecting py4j==0.10.9.5\n",
            "  Downloading py4j-0.10.9.5-py2.py3-none-any.whl (199 kB)\n",
            "\u001b[K     |████████████████████████████████| 199 kB 43.9 MB/s \n",
            "\u001b[?25hBuilding wheels for collected packages: pyspark\n",
            "  Building wheel for pyspark (setup.py) ... \u001b[?25l\u001b[?25hdone\n",
            "  Created wheel for pyspark: filename=pyspark-3.3.1-py2.py3-none-any.whl size=281845512 sha256=0b543ac2d873ff657a6eb10c58e0dd42f0a45301f95ff2688c9de6b81c8321fe\n",
            "  Stored in directory: /root/.cache/pip/wheels/43/dc/11/ec201cd671da62fa9c5cc77078235e40722170ceba231d7598\n",
            "Successfully built pyspark\n",
            "Installing collected packages: py4j, pyspark\n",
            "Successfully installed py4j-0.10.9.5 pyspark-3.3.1\n"
          ]
        }
      ],
      "source": [
        "!pip install pyspark\n",
        "from pyspark.sql import SparkSession\n",
        "spark = SparkSession.builder \\\n",
        "                    .appName('Loops') \\\n",
        "                    .getOrCreate()\n"
      ]
    },
    {
      "cell_type": "code",
      "source": [
        "data = [('James','Smith','M',30),\n",
        "  ('Anna','Rose','F',41),\n",
        "  ('Robert','Williams','M',62), \n",
        "]\n",
        "\n",
        "columns = [\"firstname\",\"lastname\",\"gender\",\"salary\"]"
      ],
      "metadata": {
        "id": "QcubGlBoDBLw"
      },
      "execution_count": 2,
      "outputs": []
    },
    {
      "cell_type": "code",
      "source": [
        "df = spark.createDataFrame(data=data, schema = columns)\n",
        "df.show()"
      ],
      "metadata": {
        "colab": {
          "base_uri": "https://localhost:8080/"
        },
        "id": "WKjhqdxaEsCL",
        "outputId": "62661a89-6d63-4ba7-abe6-1ed8886a6433"
      },
      "execution_count": 4,
      "outputs": [
        {
          "output_type": "stream",
          "name": "stdout",
          "text": [
            "+---------+--------+------+------+\n",
            "|firstname|lastname|gender|salary|\n",
            "+---------+--------+------+------+\n",
            "|    James|   Smith|     M|    30|\n",
            "|     Anna|    Rose|     F|    41|\n",
            "|   Robert|Williams|     M|    62|\n",
            "+---------+--------+------+------+\n",
            "\n"
          ]
        }
      ]
    },
    {
      "cell_type": "code",
      "source": [
        "from pyspark.sql.functions import concat_ws,col,lit\n",
        "df.select(concat_ws(\",\",df.firstname,df.lastname).alias(\"name\"), \\\n",
        "          df.gender,lit(df.salary*2).alias(\"new_salary\")).show()"
      ],
      "metadata": {
        "colab": {
          "base_uri": "https://localhost:8080/"
        },
        "id": "2O3dKQBkC9R1",
        "outputId": "89af42df-d08a-4d64-eca5-3df83fb7b862"
      },
      "execution_count": 5,
      "outputs": [
        {
          "output_type": "stream",
          "name": "stdout",
          "text": [
            "+---------------+------+----------+\n",
            "|           name|gender|new_salary|\n",
            "+---------------+------+----------+\n",
            "|    James,Smith|     M|        60|\n",
            "|      Anna,Rose|     F|        82|\n",
            "|Robert,Williams|     M|       124|\n",
            "+---------------+------+----------+\n",
            "\n"
          ]
        }
      ]
    },
    {
      "cell_type": "code",
      "source": [
        "print(df.collect())\n",
        "rdd=df.rdd.map(lambda x: \n",
        "    (x[0]+\",\"+x[1],x[2],x[3]*2)\n",
        "    )  \n",
        "df2=rdd.toDF([\"name\",\"gender\",\"new_salary\"]   )\n",
        "df2.show()"
      ],
      "metadata": {
        "colab": {
          "base_uri": "https://localhost:8080/"
        },
        "id": "9dX47uZbDN_G",
        "outputId": "32f8f5de-4ed9-479d-be0c-b0f16367c926"
      },
      "execution_count": 6,
      "outputs": [
        {
          "output_type": "stream",
          "name": "stdout",
          "text": [
            "[Row(firstname='James', lastname='Smith', gender='M', salary=30), Row(firstname='Anna', lastname='Rose', gender='F', salary=41), Row(firstname='Robert', lastname='Williams', gender='M', salary=62)]\n",
            "+---------------+------+----------+\n",
            "|           name|gender|new_salary|\n",
            "+---------------+------+----------+\n",
            "|    James,Smith|     M|        60|\n",
            "|      Anna,Rose|     F|        82|\n",
            "|Robert,Williams|     M|       124|\n",
            "+---------------+------+----------+\n",
            "\n"
          ]
        }
      ]
    },
    {
      "cell_type": "code",
      "source": [
        "#Referring Column Names\n",
        "rdd2=df.rdd.map(lambda x: \n",
        "    (x[\"firstname\"]+\",\"+x[\"lastname\"],x[\"gender\"],x[\"salary\"]*2)\n",
        "    ) \n"
      ],
      "metadata": {
        "id": "4npOsTAZDOLL"
      },
      "execution_count": 7,
      "outputs": []
    },
    {
      "cell_type": "code",
      "source": [
        "#Referring Column Names\n",
        "rdd2=df.rdd.map(lambda x: \n",
        "    (x.firstname+\",\"+x.lastname,x.gender,x.salary*2)\n",
        "    ) "
      ],
      "metadata": {
        "id": "Ya_95O13DaOF"
      },
      "execution_count": 8,
      "outputs": []
    },
    {
      "cell_type": "code",
      "source": [
        "\n",
        "def func1(x):\n",
        "    firstName=x.firstname\n",
        "    lastName=x.lastName\n",
        "    name=firstName+\",\"+lastName\n",
        "    gender=x.gender.lower()\n",
        "    salary=x.salary*2\n",
        "    return (name,gender,salary)\n",
        "\n",
        "rdd2=df.rdd.map(lambda x: func1(x))"
      ],
      "metadata": {
        "id": "mcT38UR_Df3e"
      },
      "execution_count": 15,
      "outputs": []
    },
    {
      "cell_type": "code",
      "source": [
        "display(rdd2)"
      ],
      "metadata": {
        "colab": {
          "base_uri": "https://localhost:8080/",
          "height": 34
        },
        "id": "MNf6ww8VFBY3",
        "outputId": "4e4553c7-b2af-433e-b001-f88cfde5c904"
      },
      "execution_count": 17,
      "outputs": [
        {
          "output_type": "display_data",
          "data": {
            "text/plain": [
              "PythonRDD[28] at RDD at PythonRDD.scala:53"
            ]
          },
          "metadata": {}
        }
      ]
    },
    {
      "cell_type": "code",
      "source": [
        "#Foeeach example\n",
        "def f(x): print(x)\n",
        "df.rdd.foreach(f)\n",
        "\n",
        "df.rdd.foreach(lambda x: \n",
        "    print(\"Data ==>\"+x[\"firstname\"]+\",\"+x[\"lastname\"]+\",\"+x[\"gender\"]+\",\"+str(x[\"salary\"]*2))\n",
        "    ) "
      ],
      "metadata": {
        "id": "7k1hun_jDjzQ"
      },
      "execution_count": 10,
      "outputs": []
    },
    {
      "cell_type": "code",
      "source": [
        "#Iterate collected data\n",
        "dataCollect = df.collect()\n",
        "for row in dataCollect:\n",
        "    print(row['firstname'] + \",\" +row['lastname'])"
      ],
      "metadata": {
        "colab": {
          "base_uri": "https://localhost:8080/"
        },
        "id": "L0thsJRIDndJ",
        "outputId": "d347459b-74a7-427f-e540-ec9fcb90bb45"
      },
      "execution_count": 11,
      "outputs": [
        {
          "output_type": "stream",
          "name": "stdout",
          "text": [
            "James,Smith\n",
            "Anna,Rose\n",
            "Robert,Williams\n"
          ]
        }
      ]
    },
    {
      "cell_type": "code",
      "source": [
        "dataCollect=df.rdd.toLocalIterator()\n",
        "for row in dataCollect:\n",
        "    print(row['firstname'] + \",\" +row['lastname'])\n"
      ],
      "metadata": {
        "colab": {
          "base_uri": "https://localhost:8080/"
        },
        "id": "UuVDT4MJDxw4",
        "outputId": "898ba3bd-d6b6-4a43-c1b3-1f8f9cbd7273"
      },
      "execution_count": 12,
      "outputs": [
        {
          "output_type": "stream",
          "name": "stdout",
          "text": [
            "James,Smith\n",
            "Anna,Rose\n",
            "Robert,Williams\n"
          ]
        }
      ]
    },
    {
      "cell_type": "code",
      "source": [
        "import pandas as pd\n",
        "pandasDF = df.toPandas()\n",
        "for index, row in pandasDF.iterrows():\n",
        "    print(row['firstname'], row['gender'])"
      ],
      "metadata": {
        "colab": {
          "base_uri": "https://localhost:8080/"
        },
        "id": "ogkRDTr5D5os",
        "outputId": "bf5adb05-9c44-48a9-db44-0cd3661d96d7"
      },
      "execution_count": 13,
      "outputs": [
        {
          "output_type": "stream",
          "name": "stdout",
          "text": [
            "James M\n",
            "Anna F\n",
            "Robert M\n"
          ]
        }
      ]
    },
    {
      "cell_type": "code",
      "source": [
        "type(pandasDF)"
      ],
      "metadata": {
        "colab": {
          "base_uri": "https://localhost:8080/"
        },
        "id": "p5P2LtkzESb1",
        "outputId": "43bf79d9-936d-492f-a099-28675766df00"
      },
      "execution_count": 18,
      "outputs": [
        {
          "output_type": "execute_result",
          "data": {
            "text/plain": [
              "pandas.core.frame.DataFrame"
            ]
          },
          "metadata": {},
          "execution_count": 18
        }
      ]
    },
    {
      "cell_type": "code",
      "source": [],
      "metadata": {
        "id": "XpiN1ip9GEca"
      },
      "execution_count": null,
      "outputs": []
    }
  ]
}