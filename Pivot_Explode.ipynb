{
  "nbformat": 4,
  "nbformat_minor": 0,
  "metadata": {
    "colab": {
      "provenance": []
    },
    "kernelspec": {
      "name": "python3",
      "display_name": "Python 3"
    },
    "language_info": {
      "name": "python"
    }
  },
  "cells": [
    {
      "cell_type": "code",
      "execution_count": 2,
      "metadata": {
        "colab": {
          "base_uri": "https://localhost:8080/"
        },
        "id": "5w3yyggBVvwK",
        "outputId": "410eef6a-ad4c-4857-f85b-a677c7b5b979"
      },
      "outputs": [
        {
          "output_type": "stream",
          "name": "stdout",
          "text": [
            "Looking in indexes: https://pypi.org/simple, https://us-python.pkg.dev/colab-wheels/public/simple/\n",
            "Requirement already satisfied: pyspark in /usr/local/lib/python3.8/dist-packages (3.3.1)\n",
            "Requirement already satisfied: py4j==0.10.9.5 in /usr/local/lib/python3.8/dist-packages (from pyspark) (0.10.9.5)\n"
          ]
        }
      ],
      "source": [
        "!pip install pyspark\n",
        "import pyspark\n",
        "from pyspark.sql import SparkSession\n",
        "spark=SparkSession.builder.appName('Pivot&Explode').getOrCreate()"
      ]
    },
    {
      "cell_type": "code",
      "source": [
        "\n",
        "data = [(\"Banana\",1000,\"USA\"), (\"Carrots\",1500,\"USA\"), (\"Beans\",1600,\"USA\"), \\\n",
        "      (\"Orange\",2000,\"USA\"),(\"Orange\",2000,\"USA\"),(\"Banana\",400,\"China\"), \\\n",
        "      (\"Carrots\",1200,\"China\"),(\"Beans\",1500,\"China\"),(\"Orange\",4000,\"China\"), \\\n",
        "      (\"Banana\",2000,\"Canada\"),(\"Carrots\",2000,\"Canada\"),(\"Beans\",2000,\"Mexico\")]\n",
        "\n",
        "columns= [\"Product\",\"Amount\",\"Country\"]"
      ],
      "metadata": {
        "id": "l9-W1BlTV9O8"
      },
      "execution_count": 3,
      "outputs": []
    },
    {
      "cell_type": "code",
      "source": [
        "df =spark.createDataFrame(data=data,schema=columns)"
      ],
      "metadata": {
        "id": "4q8PGWRMXGOZ"
      },
      "execution_count": 4,
      "outputs": []
    },
    {
      "cell_type": "code",
      "source": [
        "df.printSchema()"
      ],
      "metadata": {
        "colab": {
          "base_uri": "https://localhost:8080/"
        },
        "id": "1AtSJoazXLl6",
        "outputId": "12152df9-6e33-4bac-9cff-24db1d1adf79"
      },
      "execution_count": 5,
      "outputs": [
        {
          "output_type": "stream",
          "name": "stdout",
          "text": [
            "root\n",
            " |-- Product: string (nullable = true)\n",
            " |-- Amount: long (nullable = true)\n",
            " |-- Country: string (nullable = true)\n",
            "\n"
          ]
        }
      ]
    },
    {
      "cell_type": "code",
      "source": [
        "df.show()"
      ],
      "metadata": {
        "colab": {
          "base_uri": "https://localhost:8080/"
        },
        "id": "y_rZgeGkXSGr",
        "outputId": "31676a7d-edcf-4f6f-d484-7782280aed9e"
      },
      "execution_count": 6,
      "outputs": [
        {
          "output_type": "stream",
          "name": "stdout",
          "text": [
            "+-------+------+-------+\n",
            "|Product|Amount|Country|\n",
            "+-------+------+-------+\n",
            "| Banana|  1000|    USA|\n",
            "|Carrots|  1500|    USA|\n",
            "|  Beans|  1600|    USA|\n",
            "| Orange|  2000|    USA|\n",
            "| Orange|  2000|    USA|\n",
            "| Banana|   400|  China|\n",
            "|Carrots|  1200|  China|\n",
            "|  Beans|  1500|  China|\n",
            "| Orange|  4000|  China|\n",
            "| Banana|  2000| Canada|\n",
            "|Carrots|  2000| Canada|\n",
            "|  Beans|  2000| Mexico|\n",
            "+-------+------+-------+\n",
            "\n"
          ]
        }
      ]
    },
    {
      "cell_type": "code",
      "source": [
        "pivotDF= df.groupBy(\"Product\").pivot(\"Country\").sum(\"Amount\")"
      ],
      "metadata": {
        "id": "XEa5Z3WmXWdY"
      },
      "execution_count": 7,
      "outputs": []
    },
    {
      "cell_type": "code",
      "source": [
        "pivotDF.printSchema()"
      ],
      "metadata": {
        "colab": {
          "base_uri": "https://localhost:8080/"
        },
        "id": "eoWowUSaXtVL",
        "outputId": "20d1bc40-034e-4aff-846c-2e502cc70bc4"
      },
      "execution_count": 8,
      "outputs": [
        {
          "output_type": "stream",
          "name": "stdout",
          "text": [
            "root\n",
            " |-- Product: string (nullable = true)\n",
            " |-- Canada: long (nullable = true)\n",
            " |-- China: long (nullable = true)\n",
            " |-- Mexico: long (nullable = true)\n",
            " |-- USA: long (nullable = true)\n",
            "\n"
          ]
        }
      ]
    },
    {
      "cell_type": "code",
      "source": [
        "pivotDF.show(truncate=False)"
      ],
      "metadata": {
        "colab": {
          "base_uri": "https://localhost:8080/"
        },
        "id": "axPyA_cxXxCd",
        "outputId": "ff081e5e-c032-4c16-9e4c-f3347deadd51"
      },
      "execution_count": 9,
      "outputs": [
        {
          "output_type": "stream",
          "name": "stdout",
          "text": [
            "+-------+------+-----+------+----+\n",
            "|Product|Canada|China|Mexico|USA |\n",
            "+-------+------+-----+------+----+\n",
            "|Orange |null  |4000 |null  |4000|\n",
            "|Beans  |null  |1500 |2000  |1600|\n",
            "|Banana |2000  |400  |null  |1000|\n",
            "|Carrots|2000  |1200 |null  |1500|\n",
            "+-------+------+-----+------+----+\n",
            "\n"
          ]
        }
      ]
    },
    {
      "cell_type": "code",
      "source": [
        "#unpivot\n",
        "from pyspark.sql.functions import expr"
      ],
      "metadata": {
        "id": "Mxw56c1MX3N-"
      },
      "execution_count": 11,
      "outputs": []
    },
    {
      "cell_type": "code",
      "source": [
        "unpivotExpr = \"stack (3,'Canada', Canada,'China',China,'Mexico',Mexico) as (country,Total)\"\n",
        "unpivotDF = pivotDF.select('Product',expr(unpivotExpr)) \\\n",
        "  .where(\"Total is not Null\")"
      ],
      "metadata": {
        "id": "QQajB9K2YVee"
      },
      "execution_count": 12,
      "outputs": []
    },
    {
      "cell_type": "code",
      "source": [
        "unpivotDF.show(truncate=False)"
      ],
      "metadata": {
        "colab": {
          "base_uri": "https://localhost:8080/"
        },
        "id": "WxgESY2gZlvS",
        "outputId": "4a9621dc-2b64-4518-efcf-bcec5fe61142"
      },
      "execution_count": 13,
      "outputs": [
        {
          "output_type": "stream",
          "name": "stdout",
          "text": [
            "+-------+-------+-----+\n",
            "|Product|country|Total|\n",
            "+-------+-------+-----+\n",
            "|Orange |China  |4000 |\n",
            "|Beans  |China  |1500 |\n",
            "|Beans  |Mexico |2000 |\n",
            "|Banana |Canada |2000 |\n",
            "|Banana |China  |400  |\n",
            "|Carrots|Canada |2000 |\n",
            "|Carrots|China  |1200 |\n",
            "+-------+-------+-----+\n",
            "\n"
          ]
        }
      ]
    },
    {
      "cell_type": "code",
      "source": [
        "#explode\n",
        "arrayData = [\n",
        "        ('James',['Java','Scala'],{'hair':'black','eye':'brown'}),\n",
        "        ('Michael',['Spark','Java',None],{'hair':'brown','eye':None}),\n",
        "        ('Robert',['CSharp',''],{'hair':'red','eye':''}),\n",
        "        ('Washington',None,None),\n",
        "        ('Jefferson',['1','2'],{})\n",
        "        ]"
      ],
      "metadata": {
        "id": "T2xJKaMJZqgj"
      },
      "execution_count": 14,
      "outputs": []
    },
    {
      "cell_type": "code",
      "source": [
        "df =spark.createDataFrame(data =arrayData,schema= ['Name','languagesknown','properties'])"
      ],
      "metadata": {
        "id": "ZpRrlTMFaXFS"
      },
      "execution_count": 15,
      "outputs": []
    },
    {
      "cell_type": "code",
      "source": [
        "df.show()"
      ],
      "metadata": {
        "colab": {
          "base_uri": "https://localhost:8080/"
        },
        "id": "v6RczlCWauzL",
        "outputId": "bbc979c6-c025-44f0-8822-de6db9b87960"
      },
      "execution_count": 16,
      "outputs": [
        {
          "output_type": "stream",
          "name": "stdout",
          "text": [
            "+----------+-------------------+--------------------+\n",
            "|      Name|     languagesknown|          properties|\n",
            "+----------+-------------------+--------------------+\n",
            "|     James|      [Java, Scala]|{eye -> brown, ha...|\n",
            "|   Michael|[Spark, Java, null]|{eye -> null, hai...|\n",
            "|    Robert|         [CSharp, ]|{eye -> , hair ->...|\n",
            "|Washington|               null|                null|\n",
            "| Jefferson|             [1, 2]|                  {}|\n",
            "+----------+-------------------+--------------------+\n",
            "\n"
          ]
        }
      ]
    },
    {
      "cell_type": "code",
      "source": [
        "from pyspark.sql.functions import *"
      ],
      "metadata": {
        "id": "WXcBpNOZav8N"
      },
      "execution_count": 17,
      "outputs": []
    },
    {
      "cell_type": "code",
      "source": [
        "df2 =df.select(df.Name,explode(df.languagesknown))\n",
        "df2.show()"
      ],
      "metadata": {
        "colab": {
          "base_uri": "https://localhost:8080/"
        },
        "id": "6OONDytda63Q",
        "outputId": "2612d732-8e52-40b1-cdd7-3b2a6ae3da91"
      },
      "execution_count": 19,
      "outputs": [
        {
          "output_type": "stream",
          "name": "stdout",
          "text": [
            "+---------+------+\n",
            "|     Name|   col|\n",
            "+---------+------+\n",
            "|    James|  Java|\n",
            "|    James| Scala|\n",
            "|  Michael| Spark|\n",
            "|  Michael|  Java|\n",
            "|  Michael|  null|\n",
            "|   Robert|CSharp|\n",
            "|   Robert|      |\n",
            "|Jefferson|     1|\n",
            "|Jefferson|     2|\n",
            "+---------+------+\n",
            "\n"
          ]
        }
      ]
    },
    {
      "cell_type": "code",
      "source": [
        "df3 =df.select(df.Name,explode_outer(df.languagesknown))\n",
        "df3.show()"
      ],
      "metadata": {
        "colab": {
          "base_uri": "https://localhost:8080/"
        },
        "id": "qcEgmR7_bIvw",
        "outputId": "91481e3d-ce89-4121-90e5-48757251676f"
      },
      "execution_count": 20,
      "outputs": [
        {
          "output_type": "stream",
          "name": "stdout",
          "text": [
            "+----------+------+\n",
            "|      Name|   col|\n",
            "+----------+------+\n",
            "|     James|  Java|\n",
            "|     James| Scala|\n",
            "|   Michael| Spark|\n",
            "|   Michael|  Java|\n",
            "|   Michael|  null|\n",
            "|    Robert|CSharp|\n",
            "|    Robert|      |\n",
            "|Washington|  null|\n",
            "| Jefferson|     1|\n",
            "| Jefferson|     2|\n",
            "+----------+------+\n",
            "\n"
          ]
        }
      ]
    },
    {
      "cell_type": "code",
      "source": [
        "df4 =df.select(df.Name,explode(df.properties))\n",
        "df4.show()"
      ],
      "metadata": {
        "colab": {
          "base_uri": "https://localhost:8080/"
        },
        "id": "hciyNWUbbhOH",
        "outputId": "0469b5d6-41f6-4904-c45f-8d07908ba189"
      },
      "execution_count": 21,
      "outputs": [
        {
          "output_type": "stream",
          "name": "stdout",
          "text": [
            "+-------+----+-----+\n",
            "|   Name| key|value|\n",
            "+-------+----+-----+\n",
            "|  James| eye|brown|\n",
            "|  James|hair|black|\n",
            "|Michael| eye| null|\n",
            "|Michael|hair|brown|\n",
            "| Robert| eye|     |\n",
            "| Robert|hair|  red|\n",
            "+-------+----+-----+\n",
            "\n"
          ]
        }
      ]
    },
    {
      "cell_type": "code",
      "source": [
        "df5 =df.select(df.Name,explode_outer(df.properties))\n",
        "df5.show()"
      ],
      "metadata": {
        "colab": {
          "base_uri": "https://localhost:8080/"
        },
        "id": "uXPgVfRsbzQd",
        "outputId": "dbeee942-9589-4f49-9e19-ae28263e92a7"
      },
      "execution_count": 23,
      "outputs": [
        {
          "output_type": "stream",
          "name": "stdout",
          "text": [
            "+----------+----+-----+\n",
            "|      Name| key|value|\n",
            "+----------+----+-----+\n",
            "|     James| eye|brown|\n",
            "|     James|hair|black|\n",
            "|   Michael| eye| null|\n",
            "|   Michael|hair|brown|\n",
            "|    Robert| eye|     |\n",
            "|    Robert|hair|  red|\n",
            "|Washington|null| null|\n",
            "| Jefferson|null| null|\n",
            "+----------+----+-----+\n",
            "\n"
          ]
        }
      ]
    },
    {
      "cell_type": "code",
      "source": [
        "df.show(truncate=False)"
      ],
      "metadata": {
        "colab": {
          "base_uri": "https://localhost:8080/"
        },
        "id": "rMACQwr0ccAj",
        "outputId": "6ccf0d76-6bfb-4d86-abee-bcd28e195dd0"
      },
      "execution_count": 27,
      "outputs": [
        {
          "output_type": "stream",
          "name": "stdout",
          "text": [
            "+----------+-------------------+-----------------------------+\n",
            "|Name      |languagesknown     |properties                   |\n",
            "+----------+-------------------+-----------------------------+\n",
            "|James     |[Java, Scala]      |{eye -> brown, hair -> black}|\n",
            "|Michael   |[Spark, Java, null]|{eye -> null, hair -> brown} |\n",
            "|Robert    |[CSharp, ]         |{eye -> , hair -> red}       |\n",
            "|Washington|null               |null                         |\n",
            "|Jefferson |[1, 2]             |{}                           |\n",
            "+----------+-------------------+-----------------------------+\n",
            "\n"
          ]
        }
      ]
    },
    {
      "cell_type": "code",
      "source": [
        "#pos_Explode\n",
        "\n",
        "df6 =df.select(df.Name,posexplode(df.properties))\n",
        "df6.show()"
      ],
      "metadata": {
        "colab": {
          "base_uri": "https://localhost:8080/"
        },
        "id": "NcQXcUJBb-r1",
        "outputId": "3ab8bd9d-d359-45a7-efe0-56336daace7b"
      },
      "execution_count": 24,
      "outputs": [
        {
          "output_type": "stream",
          "name": "stdout",
          "text": [
            "+-------+---+----+-----+\n",
            "|   Name|pos| key|value|\n",
            "+-------+---+----+-----+\n",
            "|  James|  0| eye|brown|\n",
            "|  James|  1|hair|black|\n",
            "|Michael|  0| eye| null|\n",
            "|Michael|  1|hair|brown|\n",
            "| Robert|  0| eye|     |\n",
            "| Robert|  1|hair|  red|\n",
            "+-------+---+----+-----+\n",
            "\n"
          ]
        }
      ]
    },
    {
      "cell_type": "code",
      "source": [
        "df7 =df.select(df.Name,posexplode(df.languagesknown))\n",
        "df7.show()"
      ],
      "metadata": {
        "colab": {
          "base_uri": "https://localhost:8080/"
        },
        "id": "bBgz5GSecYVm",
        "outputId": "d911f9ef-8b69-4f25-c801-71ccfd7d8424"
      },
      "execution_count": 28,
      "outputs": [
        {
          "output_type": "stream",
          "name": "stdout",
          "text": [
            "+---------+---+------+\n",
            "|     Name|pos|   col|\n",
            "+---------+---+------+\n",
            "|    James|  0|  Java|\n",
            "|    James|  1| Scala|\n",
            "|  Michael|  0| Spark|\n",
            "|  Michael|  1|  Java|\n",
            "|  Michael|  2|  null|\n",
            "|   Robert|  0|CSharp|\n",
            "|   Robert|  1|      |\n",
            "|Jefferson|  0|     1|\n",
            "|Jefferson|  1|     2|\n",
            "+---------+---+------+\n",
            "\n"
          ]
        }
      ]
    },
    {
      "cell_type": "code",
      "source": [
        "df8 =df.select(df.Name,posexplode_outer(df.properties))\n",
        "df8.show()"
      ],
      "metadata": {
        "colab": {
          "base_uri": "https://localhost:8080/"
        },
        "id": "HnjJ1Fv-cu9l",
        "outputId": "95ac4d98-a3c5-4f9f-a58f-599d70460582"
      },
      "execution_count": 29,
      "outputs": [
        {
          "output_type": "stream",
          "name": "stdout",
          "text": [
            "+----------+----+----+-----+\n",
            "|      Name| pos| key|value|\n",
            "+----------+----+----+-----+\n",
            "|     James|   0| eye|brown|\n",
            "|     James|   1|hair|black|\n",
            "|   Michael|   0| eye| null|\n",
            "|   Michael|   1|hair|brown|\n",
            "|    Robert|   0| eye|     |\n",
            "|    Robert|   1|hair|  red|\n",
            "|Washington|null|null| null|\n",
            "| Jefferson|null|null| null|\n",
            "+----------+----+----+-----+\n",
            "\n"
          ]
        }
      ]
    },
    {
      "cell_type": "code",
      "source": [
        "df9 =df.select(df.Name,posexplode_outer(df.languagesknown))\n",
        "df9.show()"
      ],
      "metadata": {
        "colab": {
          "base_uri": "https://localhost:8080/"
        },
        "id": "Hy_lsLE5c4F3",
        "outputId": "932b7d32-1e27-4f80-bf6b-1964537c5bf4"
      },
      "execution_count": 30,
      "outputs": [
        {
          "output_type": "stream",
          "name": "stdout",
          "text": [
            "+----------+----+------+\n",
            "|      Name| pos|   col|\n",
            "+----------+----+------+\n",
            "|     James|   0|  Java|\n",
            "|     James|   1| Scala|\n",
            "|   Michael|   0| Spark|\n",
            "|   Michael|   1|  Java|\n",
            "|   Michael|   2|  null|\n",
            "|    Robert|   0|CSharp|\n",
            "|    Robert|   1|      |\n",
            "|Washington|null|  null|\n",
            "| Jefferson|   0|     1|\n",
            "| Jefferson|   1|     2|\n",
            "+----------+----+------+\n",
            "\n"
          ]
        }
      ]
    },
    {
      "cell_type": "code",
      "source": [],
      "metadata": {
        "id": "PAzNtpvgdCDj"
      },
      "execution_count": null,
      "outputs": []
    }
  ]
}