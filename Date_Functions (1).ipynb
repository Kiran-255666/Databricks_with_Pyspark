{
  "nbformat": 4,
  "nbformat_minor": 0,
  "metadata": {
    "colab": {
      "provenance": []
    },
    "kernelspec": {
      "name": "python3",
      "display_name": "Python 3"
    },
    "language_info": {
      "name": "python"
    }
  },
  "cells": [
    {
      "cell_type": "code",
      "execution_count": 1,
      "metadata": {
        "colab": {
          "base_uri": "https://localhost:8080/"
        },
        "collapsed": true,
        "id": "JBnto2Mz32kI",
        "outputId": "893e1e02-57f2-4d34-9379-7e04913ea2c2"
      },
      "outputs": [
        {
          "output_type": "stream",
          "name": "stdout",
          "text": [
            "Looking in indexes: https://pypi.org/simple, https://us-python.pkg.dev/colab-wheels/public/simple/\n",
            "Collecting pyspark\n",
            "  Downloading pyspark-3.3.1.tar.gz (281.4 MB)\n",
            "\u001b[K     |████████████████████████████████| 281.4 MB 42 kB/s \n",
            "\u001b[?25hCollecting py4j==0.10.9.5\n",
            "  Downloading py4j-0.10.9.5-py2.py3-none-any.whl (199 kB)\n",
            "\u001b[K     |████████████████████████████████| 199 kB 50.4 MB/s \n",
            "\u001b[?25hBuilding wheels for collected packages: pyspark\n",
            "  Building wheel for pyspark (setup.py) ... \u001b[?25l\u001b[?25hdone\n",
            "  Created wheel for pyspark: filename=pyspark-3.3.1-py2.py3-none-any.whl size=281845512 sha256=791e19fcf2028bef00b1780c1d8c69915b8b815db34d3f5a47ca393f0750694c\n",
            "  Stored in directory: /root/.cache/pip/wheels/43/dc/11/ec201cd671da62fa9c5cc77078235e40722170ceba231d7598\n",
            "Successfully built pyspark\n",
            "Installing collected packages: py4j, pyspark\n",
            "Successfully installed py4j-0.10.9.5 pyspark-3.3.1\n"
          ]
        }
      ],
      "source": [
        "!pip install pyspark"
      ]
    },
    {
      "cell_type": "code",
      "source": [
        "from pyspark.sql import SparkSession\n",
        "\n",
        "# Create SparkSession\n",
        "spark = SparkSession.builder \\\n",
        "          .appName('DateDiff') \\\n",
        "          .getOrCreate()\n",
        "data = [(\"1\",\"2019-07-01\"),(\"2\",\"2019-06-24\"),(\"3\",\"2019-08-24\")]"
      ],
      "metadata": {
        "id": "otnUgh_g36OB"
      },
      "execution_count": 18,
      "outputs": []
    },
    {
      "cell_type": "code",
      "source": [
        "df=spark.createDataFrame(data=data,schema=[\"id\",\"date\"])"
      ],
      "metadata": {
        "id": "e5h-onDt390m"
      },
      "execution_count": 15,
      "outputs": []
    },
    {
      "cell_type": "code",
      "source": [
        "from pyspark.sql.functions import *\n",
        "\n",
        "df.select(\n",
        "      col(\"date\"),\n",
        "      current_date().alias(\"current_date\"),\n",
        "      datediff(current_date(),col(\"date\")).alias(\"datediff\")\n",
        "    ).show()"
      ],
      "metadata": {
        "colab": {
          "base_uri": "https://localhost:8080/"
        },
        "collapsed": true,
        "id": "K84KvnQx3_Ao",
        "outputId": "614a2f52-3669-42c2-89a8-82f49c025370"
      },
      "execution_count": 16,
      "outputs": [
        {
          "output_type": "stream",
          "name": "stdout",
          "text": [
            "+----------+------------+--------+\n",
            "|      date|current_date|datediff|\n",
            "+----------+------------+--------+\n",
            "|2019-07-01|  2022-12-21|    1269|\n",
            "|2019-06-24|  2022-12-21|    1276|\n",
            "|2019-08-24|  2022-12-21|    1215|\n",
            "+----------+------------+--------+\n",
            "\n"
          ]
        }
      ]
    },
    {
      "cell_type": "code",
      "source": [
        "df.withColumn(\"datesDiff\", datediff(current_date(),col(\"date\"))) \\\n",
        "  .withColumn(\"montsDiff\", months_between(current_date(),col(\"date\"))) \\\n",
        "  .withColumn(\"montsDiff_round\",round(months_between(current_date(),col(\"date\")),2)) \\\n",
        "  .withColumn(\"yearsDiff\",months_between(current_date(),col(\"date\"))/lit(12)) \\\n",
        "  .withColumn(\"yearsDiff_round\",round(months_between(current_date(),col(\"date\"))/lit(12),2)) \\\n",
        "  .show()"
      ],
      "metadata": {
        "colab": {
          "base_uri": "https://localhost:8080/"
        },
        "collapsed": true,
        "id": "uY-Tr4ld4E5I",
        "outputId": "ed53f0ea-8cf3-4700-94ee-bd0e9d8b04a1"
      },
      "execution_count": 17,
      "outputs": [
        {
          "output_type": "stream",
          "name": "stdout",
          "text": [
            "+---+----------+---------+-----------+---------------+-----------------+---------------+\n",
            "| id|      date|datesDiff|  montsDiff|montsDiff_round|        yearsDiff|yearsDiff_round|\n",
            "+---+----------+---------+-----------+---------------+-----------------+---------------+\n",
            "|  1|2019-07-01|     1269|41.64516129|          41.65|     3.4704301075|           3.47|\n",
            "|  2|2019-06-24|     1276|41.90322581|           41.9|3.491935484166667|           3.49|\n",
            "|  3|2019-08-24|     1215|39.90322581|           39.9|     3.3252688175|           3.33|\n",
            "+---+----------+---------+-----------+---------------+-----------------+---------------+\n",
            "\n"
          ]
        }
      ]
    },
    {
      "cell_type": "code",
      "source": [
        "data2 = [(\"1\",\"07-01-2019\"),(\"2\",\"06-24-2019\"),(\"3\",\"08-24-2019\")]  \n",
        "df2=spark.createDataFrame(data=data2,schema=[\"id\",\"date\"])"
      ],
      "metadata": {
        "id": "dWs8hbAg4I0K"
      },
      "execution_count": 7,
      "outputs": []
    },
    {
      "cell_type": "code",
      "source": [
        "df2.select(\n",
        "    to_date(col(\"date\"),\"MM-dd-yyyy\").alias(\"date\"),\n",
        "    current_date().alias(\"endDate\")\n",
        "    ).show()"
      ],
      "metadata": {
        "colab": {
          "base_uri": "https://localhost:8080/"
        },
        "collapsed": true,
        "id": "uOzl-xnK4NoB",
        "outputId": "21bddfcb-06a3-404e-d949-0d37f28003d0"
      },
      "execution_count": 10,
      "outputs": [
        {
          "output_type": "stream",
          "name": "stdout",
          "text": [
            "+----------+----------+\n",
            "|      date|   endDate|\n",
            "+----------+----------+\n",
            "|2019-07-01|2022-12-21|\n",
            "|2019-06-24|2022-12-21|\n",
            "|2019-08-24|2022-12-21|\n",
            "+----------+----------+\n",
            "\n"
          ]
        }
      ]
    },
    {
      "cell_type": "code",
      "source": [
        "#SQL\n",
        "\n",
        "spark.sql(\"select round(months_between('2019-07-01',current_date())/12,2) as years_diff\").show()"
      ],
      "metadata": {
        "colab": {
          "base_uri": "https://localhost:8080/"
        },
        "collapsed": true,
        "id": "SZVosK7b4Qvr",
        "outputId": "cab070e0-9bf1-4608-fb6c-87709ee808b1"
      },
      "execution_count": 13,
      "outputs": [
        {
          "output_type": "stream",
          "name": "stdout",
          "text": [
            "+----------+\n",
            "|years_diff|\n",
            "+----------+\n",
            "|     -3.47|\n",
            "+----------+\n",
            "\n"
          ]
        }
      ]
    },
    {
      "cell_type": "code",
      "source": [],
      "metadata": {
        "id": "VNvW_ujW4aRx"
      },
      "execution_count": 9,
      "outputs": []
    }
  ]
}