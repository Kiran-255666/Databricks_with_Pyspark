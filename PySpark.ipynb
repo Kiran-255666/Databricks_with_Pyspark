{
  "nbformat": 4,
  "nbformat_minor": 0,
  "metadata": {
    "colab": {
      "provenance": [],
      "authorship_tag": "ABX9TyNsKuc0KFAADTNN0PwTcZIv",
      "include_colab_link": true
    },
    "kernelspec": {
      "name": "python3",
      "display_name": "Python 3"
    },
    "language_info": {
      "name": "python"
    }
  },
  "cells": [
    {
      "cell_type": "markdown",
      "metadata": {
        "id": "view-in-github",
        "colab_type": "text"
      },
      "source": [
        "<a href=\"https://colab.research.google.com/github/Kiran-255666/Databricks_with_Pyspark/blob/main/PySpark.ipynb\" target=\"_parent\"><img src=\"https://colab.research.google.com/assets/colab-badge.svg\" alt=\"Open In Colab\"/></a>"
      ]
    },
    {
      "cell_type": "code",
      "execution_count": 1,
      "metadata": {
        "colab": {
          "base_uri": "https://localhost:8080/"
        },
        "id": "H1iyK1KtTiTx",
        "outputId": "20e31d97-2af1-486e-c015-76553d08ee95"
      },
      "outputs": [
        {
          "output_type": "stream",
          "name": "stdout",
          "text": [
            "Looking in indexes: https://pypi.org/simple, https://us-python.pkg.dev/colab-wheels/public/simple/\n",
            "Collecting pyspark\n",
            "  Downloading pyspark-3.3.1.tar.gz (281.4 MB)\n",
            "\u001b[K     |████████████████████████████████| 281.4 MB 40 kB/s \n",
            "\u001b[?25hCollecting py4j==0.10.9.5\n",
            "  Downloading py4j-0.10.9.5-py2.py3-none-any.whl (199 kB)\n",
            "\u001b[K     |████████████████████████████████| 199 kB 52.2 MB/s \n",
            "\u001b[?25hBuilding wheels for collected packages: pyspark\n",
            "  Building wheel for pyspark (setup.py) ... \u001b[?25l\u001b[?25hdone\n",
            "  Created wheel for pyspark: filename=pyspark-3.3.1-py2.py3-none-any.whl size=281845512 sha256=2e3b071920e034dc41ced8830e11ea2cfa41cb0aad21f707bf836eea7b26c0c3\n",
            "  Stored in directory: /root/.cache/pip/wheels/43/dc/11/ec201cd671da62fa9c5cc77078235e40722170ceba231d7598\n",
            "Successfully built pyspark\n",
            "Installing collected packages: py4j, pyspark\n",
            "Successfully installed py4j-0.10.9.5 pyspark-3.3.1\n"
          ]
        }
      ],
      "source": [
        "!pip install pyspark"
      ]
    },
    {
      "cell_type": "code",
      "source": [
        "import pyspark"
      ],
      "metadata": {
        "id": "pR9aGo1hTvyY"
      },
      "execution_count": 2,
      "outputs": []
    },
    {
      "cell_type": "code",
      "source": [
        "from pyspark.sql import SparkSession"
      ],
      "metadata": {
        "id": "9kbOqSRhUCF7"
      },
      "execution_count": 3,
      "outputs": []
    },
    {
      "cell_type": "code",
      "source": [
        "url ='https://github.com/Kiran-255666/Databricks_with_Pyspark/blob/main/heart.csv'"
      ],
      "metadata": {
        "id": "IsrMdobPUVuu"
      },
      "execution_count": 7,
      "outputs": []
    },
    {
      "cell_type": "code",
      "source": [
        "spark = SparkSession.builder.appName('test').getOrCreate()"
      ],
      "metadata": {
        "id": "yUpfB2eHUJeO"
      },
      "execution_count": 8,
      "outputs": []
    },
    {
      "cell_type": "code",
      "source": [
        "df =spark.read.option('header','true').csv('heart.csv',inferSchema=True)"
      ],
      "metadata": {
        "id": "mIAm9jfwUgsN"
      },
      "execution_count": 51,
      "outputs": []
    },
    {
      "cell_type": "code",
      "source": [
        "df.show()"
      ],
      "metadata": {
        "colab": {
          "base_uri": "https://localhost:8080/"
        },
        "id": "bJkP7cy2U3GK",
        "outputId": "a0e44448-fcd5-45b8-ca36-735d85e69faa"
      },
      "execution_count": 52,
      "outputs": [
        {
          "output_type": "stream",
          "name": "stdout",
          "text": [
            "+---+---+-------------+---------+-----------+---------+----------+-----+--------------+-------+--------+------------+\n",
            "|Age|Sex|ChestPainType|RestingBP|Cholesterol|FastingBS|RestingECG|MaxHR|ExerciseAngina|Oldpeak|ST_Slope|HeartDisease|\n",
            "+---+---+-------------+---------+-----------+---------+----------+-----+--------------+-------+--------+------------+\n",
            "| 40|  M|          ATA|      140|        289|        0|    Normal|  172|             N|    0.0|      Up|           0|\n",
            "| 49|  F|          NAP|      160|        180|        0|    Normal|  156|             N|    1.0|    Flat|           1|\n",
            "| 37|  M|          ATA|      130|        283|        0|        ST|   98|             N|    0.0|      Up|           0|\n",
            "| 48|  F|          ASY|      138|        214|        0|    Normal|  108|             Y|    1.5|    Flat|           1|\n",
            "| 54|  M|          NAP|      150|        195|        0|    Normal|  122|             N|    0.0|      Up|           0|\n",
            "| 39|  M|          NAP|      120|        339|        0|    Normal|  170|             N|    0.0|      Up|           0|\n",
            "| 45|  F|          ATA|      130|        237|        0|    Normal|  170|             N|    0.0|      Up|           0|\n",
            "| 54|  M|          ATA|      110|        208|        0|    Normal|  142|             N|    0.0|      Up|           0|\n",
            "| 37|  M|          ASY|      140|        207|        0|    Normal|  130|             Y|    1.5|    Flat|           1|\n",
            "| 48|  F|          ATA|      120|        284|        0|    Normal|  120|             N|    0.0|      Up|           0|\n",
            "| 37|  F|          NAP|      130|        211|        0|    Normal|  142|             N|    0.0|      Up|           0|\n",
            "| 58|  M|          ATA|      136|        164|        0|        ST|   99|             Y|    2.0|    Flat|           1|\n",
            "| 39|  M|          ATA|      120|        204|        0|    Normal|  145|             N|    0.0|      Up|           0|\n",
            "| 49|  M|          ASY|      140|        234|        0|    Normal|  140|             Y|    1.0|    Flat|           1|\n",
            "| 42|  F|          NAP|      115|        211|        0|        ST|  137|             N|    0.0|      Up|           0|\n",
            "| 54|  F|          ATA|      120|        273|        0|    Normal|  150|             N|    1.5|    Flat|           0|\n",
            "| 38|  M|          ASY|      110|        196|        0|    Normal|  166|             N|    0.0|    Flat|           1|\n",
            "| 43|  F|          ATA|      120|        201|        0|    Normal|  165|             N|    0.0|      Up|           0|\n",
            "| 60|  M|          ASY|      100|        248|        0|    Normal|  125|             N|    1.0|    Flat|           1|\n",
            "| 36|  M|          ATA|      120|        267|        0|    Normal|  160|             N|    3.0|    Flat|           1|\n",
            "+---+---+-------------+---------+-----------+---------+----------+-----+--------------+-------+--------+------------+\n",
            "only showing top 20 rows\n",
            "\n"
          ]
        }
      ]
    },
    {
      "cell_type": "code",
      "source": [
        "df.count()"
      ],
      "metadata": {
        "colab": {
          "base_uri": "https://localhost:8080/"
        },
        "id": "fXKmbOdiVLv3",
        "outputId": "748d94a3-17a2-4a47-f72e-427fee327ad8"
      },
      "execution_count": 53,
      "outputs": [
        {
          "output_type": "execute_result",
          "data": {
            "text/plain": [
              "918"
            ]
          },
          "metadata": {},
          "execution_count": 53
        }
      ]
    },
    {
      "cell_type": "code",
      "source": [
        "df.head(10)"
      ],
      "metadata": {
        "colab": {
          "base_uri": "https://localhost:8080/"
        },
        "id": "waB0nLvwVWTL",
        "outputId": "3ae88a48-dee7-460e-e612-4b3913d01120"
      },
      "execution_count": 54,
      "outputs": [
        {
          "output_type": "execute_result",
          "data": {
            "text/plain": [
              "[Row(Age=40, Sex='M', ChestPainType='ATA', RestingBP=140, Cholesterol=289, FastingBS=0, RestingECG='Normal', MaxHR=172, ExerciseAngina='N', Oldpeak=0.0, ST_Slope='Up', HeartDisease=0),\n",
              " Row(Age=49, Sex='F', ChestPainType='NAP', RestingBP=160, Cholesterol=180, FastingBS=0, RestingECG='Normal', MaxHR=156, ExerciseAngina='N', Oldpeak=1.0, ST_Slope='Flat', HeartDisease=1),\n",
              " Row(Age=37, Sex='M', ChestPainType='ATA', RestingBP=130, Cholesterol=283, FastingBS=0, RestingECG='ST', MaxHR=98, ExerciseAngina='N', Oldpeak=0.0, ST_Slope='Up', HeartDisease=0),\n",
              " Row(Age=48, Sex='F', ChestPainType='ASY', RestingBP=138, Cholesterol=214, FastingBS=0, RestingECG='Normal', MaxHR=108, ExerciseAngina='Y', Oldpeak=1.5, ST_Slope='Flat', HeartDisease=1),\n",
              " Row(Age=54, Sex='M', ChestPainType='NAP', RestingBP=150, Cholesterol=195, FastingBS=0, RestingECG='Normal', MaxHR=122, ExerciseAngina='N', Oldpeak=0.0, ST_Slope='Up', HeartDisease=0),\n",
              " Row(Age=39, Sex='M', ChestPainType='NAP', RestingBP=120, Cholesterol=339, FastingBS=0, RestingECG='Normal', MaxHR=170, ExerciseAngina='N', Oldpeak=0.0, ST_Slope='Up', HeartDisease=0),\n",
              " Row(Age=45, Sex='F', ChestPainType='ATA', RestingBP=130, Cholesterol=237, FastingBS=0, RestingECG='Normal', MaxHR=170, ExerciseAngina='N', Oldpeak=0.0, ST_Slope='Up', HeartDisease=0),\n",
              " Row(Age=54, Sex='M', ChestPainType='ATA', RestingBP=110, Cholesterol=208, FastingBS=0, RestingECG='Normal', MaxHR=142, ExerciseAngina='N', Oldpeak=0.0, ST_Slope='Up', HeartDisease=0),\n",
              " Row(Age=37, Sex='M', ChestPainType='ASY', RestingBP=140, Cholesterol=207, FastingBS=0, RestingECG='Normal', MaxHR=130, ExerciseAngina='Y', Oldpeak=1.5, ST_Slope='Flat', HeartDisease=1),\n",
              " Row(Age=48, Sex='F', ChestPainType='ATA', RestingBP=120, Cholesterol=284, FastingBS=0, RestingECG='Normal', MaxHR=120, ExerciseAngina='N', Oldpeak=0.0, ST_Slope='Up', HeartDisease=0)]"
            ]
          },
          "metadata": {},
          "execution_count": 54
        }
      ]
    },
    {
      "cell_type": "code",
      "source": [
        "df.show(10)"
      ],
      "metadata": {
        "colab": {
          "base_uri": "https://localhost:8080/"
        },
        "id": "d_icdRxNVbfW",
        "outputId": "24fb3dd6-2dd0-4a9e-d37d-d7083948c059"
      },
      "execution_count": 55,
      "outputs": [
        {
          "output_type": "stream",
          "name": "stdout",
          "text": [
            "+---+---+-------------+---------+-----------+---------+----------+-----+--------------+-------+--------+------------+\n",
            "|Age|Sex|ChestPainType|RestingBP|Cholesterol|FastingBS|RestingECG|MaxHR|ExerciseAngina|Oldpeak|ST_Slope|HeartDisease|\n",
            "+---+---+-------------+---------+-----------+---------+----------+-----+--------------+-------+--------+------------+\n",
            "| 40|  M|          ATA|      140|        289|        0|    Normal|  172|             N|    0.0|      Up|           0|\n",
            "| 49|  F|          NAP|      160|        180|        0|    Normal|  156|             N|    1.0|    Flat|           1|\n",
            "| 37|  M|          ATA|      130|        283|        0|        ST|   98|             N|    0.0|      Up|           0|\n",
            "| 48|  F|          ASY|      138|        214|        0|    Normal|  108|             Y|    1.5|    Flat|           1|\n",
            "| 54|  M|          NAP|      150|        195|        0|    Normal|  122|             N|    0.0|      Up|           0|\n",
            "| 39|  M|          NAP|      120|        339|        0|    Normal|  170|             N|    0.0|      Up|           0|\n",
            "| 45|  F|          ATA|      130|        237|        0|    Normal|  170|             N|    0.0|      Up|           0|\n",
            "| 54|  M|          ATA|      110|        208|        0|    Normal|  142|             N|    0.0|      Up|           0|\n",
            "| 37|  M|          ASY|      140|        207|        0|    Normal|  130|             Y|    1.5|    Flat|           1|\n",
            "| 48|  F|          ATA|      120|        284|        0|    Normal|  120|             N|    0.0|      Up|           0|\n",
            "+---+---+-------------+---------+-----------+---------+----------+-----+--------------+-------+--------+------------+\n",
            "only showing top 10 rows\n",
            "\n"
          ]
        }
      ]
    },
    {
      "cell_type": "code",
      "source": [
        "df.select('Age').show(3)\n",
        "df.select(['Age','Sex']).show(3)"
      ],
      "metadata": {
        "colab": {
          "base_uri": "https://localhost:8080/"
        },
        "id": "jDcpuToKVfRj",
        "outputId": "fb6f1064-52ab-4fd8-fa3a-a341b22e137e"
      },
      "execution_count": 56,
      "outputs": [
        {
          "output_type": "stream",
          "name": "stdout",
          "text": [
            "+---+\n",
            "|Age|\n",
            "+---+\n",
            "| 40|\n",
            "| 49|\n",
            "| 37|\n",
            "+---+\n",
            "only showing top 3 rows\n",
            "\n",
            "+---+---+\n",
            "|Age|Sex|\n",
            "+---+---+\n",
            "| 40|  M|\n",
            "| 49|  F|\n",
            "| 37|  M|\n",
            "+---+---+\n",
            "only showing top 3 rows\n",
            "\n"
          ]
        }
      ]
    },
    {
      "cell_type": "code",
      "source": [
        "df.cache()"
      ],
      "metadata": {
        "colab": {
          "base_uri": "https://localhost:8080/"
        },
        "id": "xvzIksz6Vvmc",
        "outputId": "a99f82dd-d151-4c36-f01c-73175f630285"
      },
      "execution_count": 57,
      "outputs": [
        {
          "output_type": "execute_result",
          "data": {
            "text/plain": [
              "DataFrame[Age: int, Sex: string, ChestPainType: string, RestingBP: int, Cholesterol: int, FastingBS: int, RestingECG: string, MaxHR: int, ExerciseAngina: string, Oldpeak: double, ST_Slope: string, HeartDisease: int]"
            ]
          },
          "metadata": {},
          "execution_count": 57
        }
      ]
    },
    {
      "cell_type": "code",
      "source": [
        "df.collect()"
      ],
      "metadata": {
        "colab": {
          "base_uri": "https://localhost:8080/"
        },
        "id": "SY48aoAyWIJr",
        "outputId": "b6c2aca5-b73c-4127-f478-a8ab3822ea82"
      },
      "execution_count": 58,
      "outputs": [
        {
          "output_type": "execute_result",
          "data": {
            "text/plain": [
              "[Row(Age=40, Sex='M', ChestPainType='ATA', RestingBP=140, Cholesterol=289, FastingBS=0, RestingECG='Normal', MaxHR=172, ExerciseAngina='N', Oldpeak=0.0, ST_Slope='Up', HeartDisease=0),\n",
              " Row(Age=49, Sex='F', ChestPainType='NAP', RestingBP=160, Cholesterol=180, FastingBS=0, RestingECG='Normal', MaxHR=156, ExerciseAngina='N', Oldpeak=1.0, ST_Slope='Flat', HeartDisease=1),\n",
              " Row(Age=37, Sex='M', ChestPainType='ATA', RestingBP=130, Cholesterol=283, FastingBS=0, RestingECG='ST', MaxHR=98, ExerciseAngina='N', Oldpeak=0.0, ST_Slope='Up', HeartDisease=0),\n",
              " Row(Age=48, Sex='F', ChestPainType='ASY', RestingBP=138, Cholesterol=214, FastingBS=0, RestingECG='Normal', MaxHR=108, ExerciseAngina='Y', Oldpeak=1.5, ST_Slope='Flat', HeartDisease=1),\n",
              " Row(Age=54, Sex='M', ChestPainType='NAP', RestingBP=150, Cholesterol=195, FastingBS=0, RestingECG='Normal', MaxHR=122, ExerciseAngina='N', Oldpeak=0.0, ST_Slope='Up', HeartDisease=0),\n",
              " Row(Age=39, Sex='M', ChestPainType='NAP', RestingBP=120, Cholesterol=339, FastingBS=0, RestingECG='Normal', MaxHR=170, ExerciseAngina='N', Oldpeak=0.0, ST_Slope='Up', HeartDisease=0),\n",
              " Row(Age=45, Sex='F', ChestPainType='ATA', RestingBP=130, Cholesterol=237, FastingBS=0, RestingECG='Normal', MaxHR=170, ExerciseAngina='N', Oldpeak=0.0, ST_Slope='Up', HeartDisease=0),\n",
              " Row(Age=54, Sex='M', ChestPainType='ATA', RestingBP=110, Cholesterol=208, FastingBS=0, RestingECG='Normal', MaxHR=142, ExerciseAngina='N', Oldpeak=0.0, ST_Slope='Up', HeartDisease=0),\n",
              " Row(Age=37, Sex='M', ChestPainType='ASY', RestingBP=140, Cholesterol=207, FastingBS=0, RestingECG='Normal', MaxHR=130, ExerciseAngina='Y', Oldpeak=1.5, ST_Slope='Flat', HeartDisease=1),\n",
              " Row(Age=48, Sex='F', ChestPainType='ATA', RestingBP=120, Cholesterol=284, FastingBS=0, RestingECG='Normal', MaxHR=120, ExerciseAngina='N', Oldpeak=0.0, ST_Slope='Up', HeartDisease=0),\n",
              " Row(Age=37, Sex='F', ChestPainType='NAP', RestingBP=130, Cholesterol=211, FastingBS=0, RestingECG='Normal', MaxHR=142, ExerciseAngina='N', Oldpeak=0.0, ST_Slope='Up', HeartDisease=0),\n",
              " Row(Age=58, Sex='M', ChestPainType='ATA', RestingBP=136, Cholesterol=164, FastingBS=0, RestingECG='ST', MaxHR=99, ExerciseAngina='Y', Oldpeak=2.0, ST_Slope='Flat', HeartDisease=1),\n",
              " Row(Age=39, Sex='M', ChestPainType='ATA', RestingBP=120, Cholesterol=204, FastingBS=0, RestingECG='Normal', MaxHR=145, ExerciseAngina='N', Oldpeak=0.0, ST_Slope='Up', HeartDisease=0),\n",
              " Row(Age=49, Sex='M', ChestPainType='ASY', RestingBP=140, Cholesterol=234, FastingBS=0, RestingECG='Normal', MaxHR=140, ExerciseAngina='Y', Oldpeak=1.0, ST_Slope='Flat', HeartDisease=1),\n",
              " Row(Age=42, Sex='F', ChestPainType='NAP', RestingBP=115, Cholesterol=211, FastingBS=0, RestingECG='ST', MaxHR=137, ExerciseAngina='N', Oldpeak=0.0, ST_Slope='Up', HeartDisease=0),\n",
              " Row(Age=54, Sex='F', ChestPainType='ATA', RestingBP=120, Cholesterol=273, FastingBS=0, RestingECG='Normal', MaxHR=150, ExerciseAngina='N', Oldpeak=1.5, ST_Slope='Flat', HeartDisease=0),\n",
              " Row(Age=38, Sex='M', ChestPainType='ASY', RestingBP=110, Cholesterol=196, FastingBS=0, RestingECG='Normal', MaxHR=166, ExerciseAngina='N', Oldpeak=0.0, ST_Slope='Flat', HeartDisease=1),\n",
              " Row(Age=43, Sex='F', ChestPainType='ATA', RestingBP=120, Cholesterol=201, FastingBS=0, RestingECG='Normal', MaxHR=165, ExerciseAngina='N', Oldpeak=0.0, ST_Slope='Up', HeartDisease=0),\n",
              " Row(Age=60, Sex='M', ChestPainType='ASY', RestingBP=100, Cholesterol=248, FastingBS=0, RestingECG='Normal', MaxHR=125, ExerciseAngina='N', Oldpeak=1.0, ST_Slope='Flat', HeartDisease=1),\n",
              " Row(Age=36, Sex='M', ChestPainType='ATA', RestingBP=120, Cholesterol=267, FastingBS=0, RestingECG='Normal', MaxHR=160, ExerciseAngina='N', Oldpeak=3.0, ST_Slope='Flat', HeartDisease=1),\n",
              " Row(Age=43, Sex='F', ChestPainType='TA', RestingBP=100, Cholesterol=223, FastingBS=0, RestingECG='Normal', MaxHR=142, ExerciseAngina='N', Oldpeak=0.0, ST_Slope='Up', HeartDisease=0),\n",
              " Row(Age=44, Sex='M', ChestPainType='ATA', RestingBP=120, Cholesterol=184, FastingBS=0, RestingECG='Normal', MaxHR=142, ExerciseAngina='N', Oldpeak=1.0, ST_Slope='Flat', HeartDisease=0),\n",
              " Row(Age=49, Sex='F', ChestPainType='ATA', RestingBP=124, Cholesterol=201, FastingBS=0, RestingECG='Normal', MaxHR=164, ExerciseAngina='N', Oldpeak=0.0, ST_Slope='Up', HeartDisease=0),\n",
              " Row(Age=44, Sex='M', ChestPainType='ATA', RestingBP=150, Cholesterol=288, FastingBS=0, RestingECG='Normal', MaxHR=150, ExerciseAngina='Y', Oldpeak=3.0, ST_Slope='Flat', HeartDisease=1),\n",
              " Row(Age=40, Sex='M', ChestPainType='NAP', RestingBP=130, Cholesterol=215, FastingBS=0, RestingECG='Normal', MaxHR=138, ExerciseAngina='N', Oldpeak=0.0, ST_Slope='Up', HeartDisease=0),\n",
              " Row(Age=36, Sex='M', ChestPainType='NAP', RestingBP=130, Cholesterol=209, FastingBS=0, RestingECG='Normal', MaxHR=178, ExerciseAngina='N', Oldpeak=0.0, ST_Slope='Up', HeartDisease=0),\n",
              " Row(Age=53, Sex='M', ChestPainType='ASY', RestingBP=124, Cholesterol=260, FastingBS=0, RestingECG='ST', MaxHR=112, ExerciseAngina='Y', Oldpeak=3.0, ST_Slope='Flat', HeartDisease=0),\n",
              " Row(Age=52, Sex='M', ChestPainType='ATA', RestingBP=120, Cholesterol=284, FastingBS=0, RestingECG='Normal', MaxHR=118, ExerciseAngina='N', Oldpeak=0.0, ST_Slope='Up', HeartDisease=0),\n",
              " Row(Age=53, Sex='F', ChestPainType='ATA', RestingBP=113, Cholesterol=468, FastingBS=0, RestingECG='Normal', MaxHR=127, ExerciseAngina='N', Oldpeak=0.0, ST_Slope='Up', HeartDisease=0),\n",
              " Row(Age=51, Sex='M', ChestPainType='ATA', RestingBP=125, Cholesterol=188, FastingBS=0, RestingECG='Normal', MaxHR=145, ExerciseAngina='N', Oldpeak=0.0, ST_Slope='Up', HeartDisease=0),\n",
              " Row(Age=53, Sex='M', ChestPainType='NAP', RestingBP=145, Cholesterol=518, FastingBS=0, RestingECG='Normal', MaxHR=130, ExerciseAngina='N', Oldpeak=0.0, ST_Slope='Flat', HeartDisease=1),\n",
              " Row(Age=56, Sex='M', ChestPainType='NAP', RestingBP=130, Cholesterol=167, FastingBS=0, RestingECG='Normal', MaxHR=114, ExerciseAngina='N', Oldpeak=0.0, ST_Slope='Up', HeartDisease=0),\n",
              " Row(Age=54, Sex='M', ChestPainType='ASY', RestingBP=125, Cholesterol=224, FastingBS=0, RestingECG='Normal', MaxHR=122, ExerciseAngina='N', Oldpeak=2.0, ST_Slope='Flat', HeartDisease=1),\n",
              " Row(Age=41, Sex='M', ChestPainType='ASY', RestingBP=130, Cholesterol=172, FastingBS=0, RestingECG='ST', MaxHR=130, ExerciseAngina='N', Oldpeak=2.0, ST_Slope='Flat', HeartDisease=1),\n",
              " Row(Age=43, Sex='F', ChestPainType='ATA', RestingBP=150, Cholesterol=186, FastingBS=0, RestingECG='Normal', MaxHR=154, ExerciseAngina='N', Oldpeak=0.0, ST_Slope='Up', HeartDisease=0),\n",
              " Row(Age=32, Sex='M', ChestPainType='ATA', RestingBP=125, Cholesterol=254, FastingBS=0, RestingECG='Normal', MaxHR=155, ExerciseAngina='N', Oldpeak=0.0, ST_Slope='Up', HeartDisease=0),\n",
              " Row(Age=65, Sex='M', ChestPainType='ASY', RestingBP=140, Cholesterol=306, FastingBS=1, RestingECG='Normal', MaxHR=87, ExerciseAngina='Y', Oldpeak=1.5, ST_Slope='Flat', HeartDisease=1),\n",
              " Row(Age=41, Sex='F', ChestPainType='ATA', RestingBP=110, Cholesterol=250, FastingBS=0, RestingECG='ST', MaxHR=142, ExerciseAngina='N', Oldpeak=0.0, ST_Slope='Up', HeartDisease=0),\n",
              " Row(Age=48, Sex='F', ChestPainType='ATA', RestingBP=120, Cholesterol=177, FastingBS=1, RestingECG='ST', MaxHR=148, ExerciseAngina='N', Oldpeak=0.0, ST_Slope='Up', HeartDisease=0),\n",
              " Row(Age=48, Sex='F', ChestPainType='ASY', RestingBP=150, Cholesterol=227, FastingBS=0, RestingECG='Normal', MaxHR=130, ExerciseAngina='Y', Oldpeak=1.0, ST_Slope='Flat', HeartDisease=0),\n",
              " Row(Age=54, Sex='F', ChestPainType='ATA', RestingBP=150, Cholesterol=230, FastingBS=0, RestingECG='Normal', MaxHR=130, ExerciseAngina='N', Oldpeak=0.0, ST_Slope='Up', HeartDisease=0),\n",
              " Row(Age=54, Sex='F', ChestPainType='NAP', RestingBP=130, Cholesterol=294, FastingBS=0, RestingECG='ST', MaxHR=100, ExerciseAngina='Y', Oldpeak=0.0, ST_Slope='Flat', HeartDisease=1),\n",
              " Row(Age=35, Sex='M', ChestPainType='ATA', RestingBP=150, Cholesterol=264, FastingBS=0, RestingECG='Normal', MaxHR=168, ExerciseAngina='N', Oldpeak=0.0, ST_Slope='Up', HeartDisease=0),\n",
              " Row(Age=52, Sex='M', ChestPainType='NAP', RestingBP=140, Cholesterol=259, FastingBS=0, RestingECG='ST', MaxHR=170, ExerciseAngina='N', Oldpeak=0.0, ST_Slope='Up', HeartDisease=0),\n",
              " Row(Age=43, Sex='M', ChestPainType='ASY', RestingBP=120, Cholesterol=175, FastingBS=0, RestingECG='Normal', MaxHR=120, ExerciseAngina='Y', Oldpeak=1.0, ST_Slope='Flat', HeartDisease=1),\n",
              " Row(Age=59, Sex='M', ChestPainType='NAP', RestingBP=130, Cholesterol=318, FastingBS=0, RestingECG='Normal', MaxHR=120, ExerciseAngina='Y', Oldpeak=1.0, ST_Slope='Flat', HeartDisease=0),\n",
              " Row(Age=37, Sex='M', ChestPainType='ASY', RestingBP=120, Cholesterol=223, FastingBS=0, RestingECG='Normal', MaxHR=168, ExerciseAngina='N', Oldpeak=0.0, ST_Slope='Up', HeartDisease=0),\n",
              " Row(Age=50, Sex='M', ChestPainType='ATA', RestingBP=140, Cholesterol=216, FastingBS=0, RestingECG='Normal', MaxHR=170, ExerciseAngina='N', Oldpeak=0.0, ST_Slope='Up', HeartDisease=0),\n",
              " Row(Age=36, Sex='M', ChestPainType='NAP', RestingBP=112, Cholesterol=340, FastingBS=0, RestingECG='Normal', MaxHR=184, ExerciseAngina='N', Oldpeak=1.0, ST_Slope='Flat', HeartDisease=0),\n",
              " Row(Age=41, Sex='M', ChestPainType='ASY', RestingBP=110, Cholesterol=289, FastingBS=0, RestingECG='Normal', MaxHR=170, ExerciseAngina='N', Oldpeak=0.0, ST_Slope='Flat', HeartDisease=1),\n",
              " Row(Age=50, Sex='M', ChestPainType='ASY', RestingBP=130, Cholesterol=233, FastingBS=0, RestingECG='Normal', MaxHR=121, ExerciseAngina='Y', Oldpeak=2.0, ST_Slope='Flat', HeartDisease=1),\n",
              " Row(Age=47, Sex='F', ChestPainType='ASY', RestingBP=120, Cholesterol=205, FastingBS=0, RestingECG='Normal', MaxHR=98, ExerciseAngina='Y', Oldpeak=2.0, ST_Slope='Flat', HeartDisease=1),\n",
              " Row(Age=45, Sex='M', ChestPainType='ATA', RestingBP=140, Cholesterol=224, FastingBS=1, RestingECG='Normal', MaxHR=122, ExerciseAngina='N', Oldpeak=0.0, ST_Slope='Up', HeartDisease=0),\n",
              " Row(Age=41, Sex='F', ChestPainType='ATA', RestingBP=130, Cholesterol=245, FastingBS=0, RestingECG='Normal', MaxHR=150, ExerciseAngina='N', Oldpeak=0.0, ST_Slope='Up', HeartDisease=0),\n",
              " Row(Age=52, Sex='F', ChestPainType='ASY', RestingBP=130, Cholesterol=180, FastingBS=0, RestingECG='Normal', MaxHR=140, ExerciseAngina='Y', Oldpeak=1.5, ST_Slope='Flat', HeartDisease=0),\n",
              " Row(Age=51, Sex='F', ChestPainType='ATA', RestingBP=160, Cholesterol=194, FastingBS=0, RestingECG='Normal', MaxHR=170, ExerciseAngina='N', Oldpeak=0.0, ST_Slope='Up', HeartDisease=0),\n",
              " Row(Age=31, Sex='M', ChestPainType='ASY', RestingBP=120, Cholesterol=270, FastingBS=0, RestingECG='Normal', MaxHR=153, ExerciseAngina='Y', Oldpeak=1.5, ST_Slope='Flat', HeartDisease=1),\n",
              " Row(Age=58, Sex='M', ChestPainType='NAP', RestingBP=130, Cholesterol=213, FastingBS=0, RestingECG='ST', MaxHR=140, ExerciseAngina='N', Oldpeak=0.0, ST_Slope='Flat', HeartDisease=1),\n",
              " Row(Age=54, Sex='M', ChestPainType='ASY', RestingBP=150, Cholesterol=365, FastingBS=0, RestingECG='ST', MaxHR=134, ExerciseAngina='N', Oldpeak=1.0, ST_Slope='Up', HeartDisease=0),\n",
              " Row(Age=52, Sex='M', ChestPainType='ASY', RestingBP=112, Cholesterol=342, FastingBS=0, RestingECG='ST', MaxHR=96, ExerciseAngina='Y', Oldpeak=1.0, ST_Slope='Flat', HeartDisease=1),\n",
              " Row(Age=49, Sex='M', ChestPainType='ATA', RestingBP=100, Cholesterol=253, FastingBS=0, RestingECG='Normal', MaxHR=174, ExerciseAngina='N', Oldpeak=0.0, ST_Slope='Up', HeartDisease=0),\n",
              " Row(Age=43, Sex='F', ChestPainType='NAP', RestingBP=150, Cholesterol=254, FastingBS=0, RestingECG='Normal', MaxHR=175, ExerciseAngina='N', Oldpeak=0.0, ST_Slope='Up', HeartDisease=0),\n",
              " Row(Age=45, Sex='M', ChestPainType='ASY', RestingBP=140, Cholesterol=224, FastingBS=0, RestingECG='Normal', MaxHR=144, ExerciseAngina='N', Oldpeak=0.0, ST_Slope='Up', HeartDisease=0),\n",
              " Row(Age=46, Sex='M', ChestPainType='ASY', RestingBP=120, Cholesterol=277, FastingBS=0, RestingECG='Normal', MaxHR=125, ExerciseAngina='Y', Oldpeak=1.0, ST_Slope='Flat', HeartDisease=1),\n",
              " Row(Age=50, Sex='F', ChestPainType='ATA', RestingBP=110, Cholesterol=202, FastingBS=0, RestingECG='Normal', MaxHR=145, ExerciseAngina='N', Oldpeak=0.0, ST_Slope='Up', HeartDisease=0),\n",
              " Row(Age=37, Sex='F', ChestPainType='ATA', RestingBP=120, Cholesterol=260, FastingBS=0, RestingECG='Normal', MaxHR=130, ExerciseAngina='N', Oldpeak=0.0, ST_Slope='Up', HeartDisease=0),\n",
              " Row(Age=45, Sex='F', ChestPainType='ASY', RestingBP=132, Cholesterol=297, FastingBS=0, RestingECG='Normal', MaxHR=144, ExerciseAngina='N', Oldpeak=0.0, ST_Slope='Up', HeartDisease=0),\n",
              " Row(Age=32, Sex='M', ChestPainType='ATA', RestingBP=110, Cholesterol=225, FastingBS=0, RestingECG='Normal', MaxHR=184, ExerciseAngina='N', Oldpeak=0.0, ST_Slope='Up', HeartDisease=0),\n",
              " Row(Age=52, Sex='M', ChestPainType='ASY', RestingBP=160, Cholesterol=246, FastingBS=0, RestingECG='ST', MaxHR=82, ExerciseAngina='Y', Oldpeak=4.0, ST_Slope='Flat', HeartDisease=1),\n",
              " Row(Age=44, Sex='M', ChestPainType='ASY', RestingBP=150, Cholesterol=412, FastingBS=0, RestingECG='Normal', MaxHR=170, ExerciseAngina='N', Oldpeak=0.0, ST_Slope='Up', HeartDisease=0),\n",
              " Row(Age=57, Sex='M', ChestPainType='ATA', RestingBP=140, Cholesterol=265, FastingBS=0, RestingECG='ST', MaxHR=145, ExerciseAngina='Y', Oldpeak=1.0, ST_Slope='Flat', HeartDisease=1),\n",
              " Row(Age=44, Sex='M', ChestPainType='ATA', RestingBP=130, Cholesterol=215, FastingBS=0, RestingECG='Normal', MaxHR=135, ExerciseAngina='N', Oldpeak=0.0, ST_Slope='Up', HeartDisease=0),\n",
              " Row(Age=52, Sex='M', ChestPainType='ASY', RestingBP=120, Cholesterol=182, FastingBS=0, RestingECG='Normal', MaxHR=150, ExerciseAngina='N', Oldpeak=0.0, ST_Slope='Flat', HeartDisease=1),\n",
              " Row(Age=44, Sex='F', ChestPainType='ASY', RestingBP=120, Cholesterol=218, FastingBS=0, RestingECG='ST', MaxHR=115, ExerciseAngina='N', Oldpeak=0.0, ST_Slope='Up', HeartDisease=0),\n",
              " Row(Age=55, Sex='M', ChestPainType='ASY', RestingBP=140, Cholesterol=268, FastingBS=0, RestingECG='Normal', MaxHR=128, ExerciseAngina='Y', Oldpeak=1.5, ST_Slope='Flat', HeartDisease=1),\n",
              " Row(Age=46, Sex='M', ChestPainType='NAP', RestingBP=150, Cholesterol=163, FastingBS=0, RestingECG='Normal', MaxHR=116, ExerciseAngina='N', Oldpeak=0.0, ST_Slope='Up', HeartDisease=0),\n",
              " Row(Age=32, Sex='M', ChestPainType='ASY', RestingBP=118, Cholesterol=529, FastingBS=0, RestingECG='Normal', MaxHR=130, ExerciseAngina='N', Oldpeak=0.0, ST_Slope='Flat', HeartDisease=1),\n",
              " Row(Age=35, Sex='F', ChestPainType='ASY', RestingBP=140, Cholesterol=167, FastingBS=0, RestingECG='Normal', MaxHR=150, ExerciseAngina='N', Oldpeak=0.0, ST_Slope='Up', HeartDisease=0),\n",
              " Row(Age=52, Sex='M', ChestPainType='ATA', RestingBP=140, Cholesterol=100, FastingBS=0, RestingECG='Normal', MaxHR=138, ExerciseAngina='Y', Oldpeak=0.0, ST_Slope='Up', HeartDisease=0),\n",
              " Row(Age=49, Sex='M', ChestPainType='ASY', RestingBP=130, Cholesterol=206, FastingBS=0, RestingECG='Normal', MaxHR=170, ExerciseAngina='N', Oldpeak=0.0, ST_Slope='Flat', HeartDisease=1),\n",
              " Row(Age=55, Sex='M', ChestPainType='NAP', RestingBP=110, Cholesterol=277, FastingBS=0, RestingECG='Normal', MaxHR=160, ExerciseAngina='N', Oldpeak=0.0, ST_Slope='Up', HeartDisease=0),\n",
              " Row(Age=54, Sex='M', ChestPainType='ATA', RestingBP=120, Cholesterol=238, FastingBS=0, RestingECG='Normal', MaxHR=154, ExerciseAngina='N', Oldpeak=0.0, ST_Slope='Up', HeartDisease=0),\n",
              " Row(Age=63, Sex='M', ChestPainType='ASY', RestingBP=150, Cholesterol=223, FastingBS=0, RestingECG='Normal', MaxHR=115, ExerciseAngina='N', Oldpeak=0.0, ST_Slope='Flat', HeartDisease=1),\n",
              " Row(Age=52, Sex='M', ChestPainType='ATA', RestingBP=160, Cholesterol=196, FastingBS=0, RestingECG='Normal', MaxHR=165, ExerciseAngina='N', Oldpeak=0.0, ST_Slope='Up', HeartDisease=0),\n",
              " Row(Age=56, Sex='M', ChestPainType='ASY', RestingBP=150, Cholesterol=213, FastingBS=1, RestingECG='Normal', MaxHR=125, ExerciseAngina='Y', Oldpeak=1.0, ST_Slope='Flat', HeartDisease=1),\n",
              " Row(Age=66, Sex='M', ChestPainType='ASY', RestingBP=140, Cholesterol=139, FastingBS=0, RestingECG='Normal', MaxHR=94, ExerciseAngina='Y', Oldpeak=1.0, ST_Slope='Flat', HeartDisease=1),\n",
              " Row(Age=65, Sex='M', ChestPainType='ASY', RestingBP=170, Cholesterol=263, FastingBS=1, RestingECG='Normal', MaxHR=112, ExerciseAngina='Y', Oldpeak=2.0, ST_Slope='Flat', HeartDisease=1),\n",
              " Row(Age=53, Sex='F', ChestPainType='ATA', RestingBP=140, Cholesterol=216, FastingBS=0, RestingECG='Normal', MaxHR=142, ExerciseAngina='Y', Oldpeak=2.0, ST_Slope='Flat', HeartDisease=0),\n",
              " Row(Age=43, Sex='M', ChestPainType='TA', RestingBP=120, Cholesterol=291, FastingBS=0, RestingECG='ST', MaxHR=155, ExerciseAngina='N', Oldpeak=0.0, ST_Slope='Flat', HeartDisease=1),\n",
              " Row(Age=55, Sex='M', ChestPainType='ASY', RestingBP=140, Cholesterol=229, FastingBS=0, RestingECG='Normal', MaxHR=110, ExerciseAngina='Y', Oldpeak=0.5, ST_Slope='Flat', HeartDisease=0),\n",
              " Row(Age=49, Sex='F', ChestPainType='ATA', RestingBP=110, Cholesterol=208, FastingBS=0, RestingECG='Normal', MaxHR=160, ExerciseAngina='N', Oldpeak=0.0, ST_Slope='Up', HeartDisease=0),\n",
              " Row(Age=39, Sex='M', ChestPainType='ASY', RestingBP=130, Cholesterol=307, FastingBS=0, RestingECG='Normal', MaxHR=140, ExerciseAngina='N', Oldpeak=0.0, ST_Slope='Up', HeartDisease=0),\n",
              " Row(Age=52, Sex='F', ChestPainType='ATA', RestingBP=120, Cholesterol=210, FastingBS=0, RestingECG='Normal', MaxHR=148, ExerciseAngina='N', Oldpeak=0.0, ST_Slope='Up', HeartDisease=0),\n",
              " Row(Age=48, Sex='M', ChestPainType='ASY', RestingBP=160, Cholesterol=329, FastingBS=0, RestingECG='Normal', MaxHR=92, ExerciseAngina='Y', Oldpeak=1.5, ST_Slope='Flat', HeartDisease=1),\n",
              " Row(Age=39, Sex='F', ChestPainType='NAP', RestingBP=110, Cholesterol=182, FastingBS=0, RestingECG='ST', MaxHR=180, ExerciseAngina='N', Oldpeak=0.0, ST_Slope='Up', HeartDisease=0),\n",
              " Row(Age=58, Sex='M', ChestPainType='ASY', RestingBP=130, Cholesterol=263, FastingBS=0, RestingECG='Normal', MaxHR=140, ExerciseAngina='Y', Oldpeak=2.0, ST_Slope='Flat', HeartDisease=1),\n",
              " Row(Age=43, Sex='M', ChestPainType='ATA', RestingBP=142, Cholesterol=207, FastingBS=0, RestingECG='Normal', MaxHR=138, ExerciseAngina='N', Oldpeak=0.0, ST_Slope='Up', HeartDisease=0),\n",
              " Row(Age=39, Sex='M', ChestPainType='NAP', RestingBP=160, Cholesterol=147, FastingBS=1, RestingECG='Normal', MaxHR=160, ExerciseAngina='N', Oldpeak=0.0, ST_Slope='Up', HeartDisease=0),\n",
              " Row(Age=56, Sex='M', ChestPainType='ASY', RestingBP=120, Cholesterol=85, FastingBS=0, RestingECG='Normal', MaxHR=140, ExerciseAngina='N', Oldpeak=0.0, ST_Slope='Up', HeartDisease=0),\n",
              " Row(Age=41, Sex='M', ChestPainType='ATA', RestingBP=125, Cholesterol=269, FastingBS=0, RestingECG='Normal', MaxHR=144, ExerciseAngina='N', Oldpeak=0.0, ST_Slope='Up', HeartDisease=0),\n",
              " Row(Age=65, Sex='M', ChestPainType='ASY', RestingBP=130, Cholesterol=275, FastingBS=0, RestingECG='ST', MaxHR=115, ExerciseAngina='Y', Oldpeak=1.0, ST_Slope='Flat', HeartDisease=1),\n",
              " Row(Age=51, Sex='M', ChestPainType='ASY', RestingBP=130, Cholesterol=179, FastingBS=0, RestingECG='Normal', MaxHR=100, ExerciseAngina='N', Oldpeak=0.0, ST_Slope='Up', HeartDisease=0),\n",
              " Row(Age=40, Sex='F', ChestPainType='ASY', RestingBP=150, Cholesterol=392, FastingBS=0, RestingECG='Normal', MaxHR=130, ExerciseAngina='N', Oldpeak=2.0, ST_Slope='Flat', HeartDisease=1),\n",
              " Row(Age=40, Sex='M', ChestPainType='ASY', RestingBP=120, Cholesterol=466, FastingBS=1, RestingECG='Normal', MaxHR=152, ExerciseAngina='Y', Oldpeak=1.0, ST_Slope='Flat', HeartDisease=1),\n",
              " Row(Age=46, Sex='M', ChestPainType='ASY', RestingBP=118, Cholesterol=186, FastingBS=0, RestingECG='Normal', MaxHR=124, ExerciseAngina='N', Oldpeak=0.0, ST_Slope='Flat', HeartDisease=1),\n",
              " Row(Age=57, Sex='M', ChestPainType='ATA', RestingBP=140, Cholesterol=260, FastingBS=1, RestingECG='Normal', MaxHR=140, ExerciseAngina='N', Oldpeak=0.0, ST_Slope='Up', HeartDisease=0),\n",
              " Row(Age=48, Sex='F', ChestPainType='ASY', RestingBP=120, Cholesterol=254, FastingBS=0, RestingECG='ST', MaxHR=110, ExerciseAngina='N', Oldpeak=0.0, ST_Slope='Up', HeartDisease=0),\n",
              " Row(Age=34, Sex='M', ChestPainType='ATA', RestingBP=150, Cholesterol=214, FastingBS=0, RestingECG='ST', MaxHR=168, ExerciseAngina='N', Oldpeak=0.0, ST_Slope='Up', HeartDisease=0),\n",
              " Row(Age=50, Sex='M', ChestPainType='ASY', RestingBP=140, Cholesterol=129, FastingBS=0, RestingECG='Normal', MaxHR=135, ExerciseAngina='N', Oldpeak=0.0, ST_Slope='Up', HeartDisease=0),\n",
              " Row(Age=39, Sex='M', ChestPainType='ATA', RestingBP=190, Cholesterol=241, FastingBS=0, RestingECG='Normal', MaxHR=106, ExerciseAngina='N', Oldpeak=0.0, ST_Slope='Up', HeartDisease=0),\n",
              " Row(Age=59, Sex='F', ChestPainType='ATA', RestingBP=130, Cholesterol=188, FastingBS=0, RestingECG='Normal', MaxHR=124, ExerciseAngina='N', Oldpeak=1.0, ST_Slope='Flat', HeartDisease=0),\n",
              " Row(Age=57, Sex='M', ChestPainType='ASY', RestingBP=150, Cholesterol=255, FastingBS=0, RestingECG='Normal', MaxHR=92, ExerciseAngina='Y', Oldpeak=3.0, ST_Slope='Flat', HeartDisease=1),\n",
              " Row(Age=47, Sex='M', ChestPainType='ASY', RestingBP=140, Cholesterol=276, FastingBS=1, RestingECG='Normal', MaxHR=125, ExerciseAngina='Y', Oldpeak=0.0, ST_Slope='Up', HeartDisease=0),\n",
              " Row(Age=38, Sex='M', ChestPainType='ATA', RestingBP=140, Cholesterol=297, FastingBS=0, RestingECG='Normal', MaxHR=150, ExerciseAngina='N', Oldpeak=0.0, ST_Slope='Up', HeartDisease=0),\n",
              " Row(Age=49, Sex='F', ChestPainType='NAP', RestingBP=130, Cholesterol=207, FastingBS=0, RestingECG='ST', MaxHR=135, ExerciseAngina='N', Oldpeak=0.0, ST_Slope='Up', HeartDisease=0),\n",
              " Row(Age=33, Sex='F', ChestPainType='ASY', RestingBP=100, Cholesterol=246, FastingBS=0, RestingECG='Normal', MaxHR=150, ExerciseAngina='Y', Oldpeak=1.0, ST_Slope='Flat', HeartDisease=1),\n",
              " Row(Age=38, Sex='M', ChestPainType='ASY', RestingBP=120, Cholesterol=282, FastingBS=0, RestingECG='Normal', MaxHR=170, ExerciseAngina='N', Oldpeak=0.0, ST_Slope='Flat', HeartDisease=1),\n",
              " Row(Age=59, Sex='F', ChestPainType='ASY', RestingBP=130, Cholesterol=338, FastingBS=1, RestingECG='ST', MaxHR=130, ExerciseAngina='Y', Oldpeak=1.5, ST_Slope='Flat', HeartDisease=1),\n",
              " Row(Age=35, Sex='F', ChestPainType='TA', RestingBP=120, Cholesterol=160, FastingBS=0, RestingECG='ST', MaxHR=185, ExerciseAngina='N', Oldpeak=0.0, ST_Slope='Up', HeartDisease=0),\n",
              " Row(Age=34, Sex='M', ChestPainType='TA', RestingBP=140, Cholesterol=156, FastingBS=0, RestingECG='Normal', MaxHR=180, ExerciseAngina='N', Oldpeak=0.0, ST_Slope='Flat', HeartDisease=1),\n",
              " Row(Age=47, Sex='F', ChestPainType='NAP', RestingBP=135, Cholesterol=248, FastingBS=1, RestingECG='Normal', MaxHR=170, ExerciseAngina='N', Oldpeak=0.0, ST_Slope='Flat', HeartDisease=1),\n",
              " Row(Age=52, Sex='F', ChestPainType='NAP', RestingBP=125, Cholesterol=272, FastingBS=0, RestingECG='Normal', MaxHR=139, ExerciseAngina='N', Oldpeak=0.0, ST_Slope='Up', HeartDisease=0),\n",
              " Row(Age=46, Sex='M', ChestPainType='ASY', RestingBP=110, Cholesterol=240, FastingBS=0, RestingECG='ST', MaxHR=140, ExerciseAngina='N', Oldpeak=0.0, ST_Slope='Up', HeartDisease=0),\n",
              " Row(Age=58, Sex='F', ChestPainType='ATA', RestingBP=180, Cholesterol=393, FastingBS=0, RestingECG='Normal', MaxHR=110, ExerciseAngina='Y', Oldpeak=1.0, ST_Slope='Flat', HeartDisease=1),\n",
              " Row(Age=58, Sex='M', ChestPainType='ATA', RestingBP=130, Cholesterol=230, FastingBS=0, RestingECG='Normal', MaxHR=150, ExerciseAngina='N', Oldpeak=0.0, ST_Slope='Up', HeartDisease=0),\n",
              " Row(Age=54, Sex='M', ChestPainType='ATA', RestingBP=120, Cholesterol=246, FastingBS=0, RestingECG='Normal', MaxHR=110, ExerciseAngina='N', Oldpeak=0.0, ST_Slope='Up', HeartDisease=0),\n",
              " Row(Age=34, Sex='F', ChestPainType='ATA', RestingBP=130, Cholesterol=161, FastingBS=0, RestingECG='Normal', MaxHR=190, ExerciseAngina='N', Oldpeak=0.0, ST_Slope='Up', HeartDisease=0),\n",
              " Row(Age=48, Sex='F', ChestPainType='ASY', RestingBP=108, Cholesterol=163, FastingBS=0, RestingECG='Normal', MaxHR=175, ExerciseAngina='N', Oldpeak=2.0, ST_Slope='Up', HeartDisease=0),\n",
              " Row(Age=54, Sex='F', ChestPainType='ATA', RestingBP=120, Cholesterol=230, FastingBS=1, RestingECG='Normal', MaxHR=140, ExerciseAngina='N', Oldpeak=0.0, ST_Slope='Up', HeartDisease=0),\n",
              " Row(Age=42, Sex='M', ChestPainType='NAP', RestingBP=120, Cholesterol=228, FastingBS=0, RestingECG='Normal', MaxHR=152, ExerciseAngina='Y', Oldpeak=1.5, ST_Slope='Flat', HeartDisease=0),\n",
              " Row(Age=38, Sex='M', ChestPainType='NAP', RestingBP=145, Cholesterol=292, FastingBS=0, RestingECG='Normal', MaxHR=130, ExerciseAngina='N', Oldpeak=0.0, ST_Slope='Up', HeartDisease=0),\n",
              " Row(Age=46, Sex='M', ChestPainType='ASY', RestingBP=110, Cholesterol=202, FastingBS=0, RestingECG='Normal', MaxHR=150, ExerciseAngina='Y', Oldpeak=0.0, ST_Slope='Flat', HeartDisease=1),\n",
              " Row(Age=56, Sex='M', ChestPainType='ASY', RestingBP=170, Cholesterol=388, FastingBS=0, RestingECG='ST', MaxHR=122, ExerciseAngina='Y', Oldpeak=2.0, ST_Slope='Flat', HeartDisease=1),\n",
              " Row(Age=56, Sex='M', ChestPainType='ASY', RestingBP=150, Cholesterol=230, FastingBS=0, RestingECG='ST', MaxHR=124, ExerciseAngina='Y', Oldpeak=1.5, ST_Slope='Flat', HeartDisease=1),\n",
              " Row(Age=61, Sex='F', ChestPainType='ASY', RestingBP=130, Cholesterol=294, FastingBS=0, RestingECG='ST', MaxHR=120, ExerciseAngina='Y', Oldpeak=1.0, ST_Slope='Flat', HeartDisease=0),\n",
              " Row(Age=49, Sex='M', ChestPainType='NAP', RestingBP=115, Cholesterol=265, FastingBS=0, RestingECG='Normal', MaxHR=175, ExerciseAngina='N', Oldpeak=0.0, ST_Slope='Flat', HeartDisease=1),\n",
              " Row(Age=43, Sex='F', ChestPainType='ATA', RestingBP=120, Cholesterol=215, FastingBS=0, RestingECG='ST', MaxHR=175, ExerciseAngina='N', Oldpeak=0.0, ST_Slope='Up', HeartDisease=0),\n",
              " Row(Age=39, Sex='M', ChestPainType='ATA', RestingBP=120, Cholesterol=241, FastingBS=0, RestingECG='ST', MaxHR=146, ExerciseAngina='N', Oldpeak=2.0, ST_Slope='Up', HeartDisease=0),\n",
              " Row(Age=54, Sex='M', ChestPainType='ASY', RestingBP=140, Cholesterol=166, FastingBS=0, RestingECG='Normal', MaxHR=118, ExerciseAngina='Y', Oldpeak=0.0, ST_Slope='Flat', HeartDisease=1),\n",
              " Row(Age=43, Sex='M', ChestPainType='ASY', RestingBP=150, Cholesterol=247, FastingBS=0, RestingECG='Normal', MaxHR=130, ExerciseAngina='Y', Oldpeak=2.0, ST_Slope='Flat', HeartDisease=1),\n",
              " Row(Age=52, Sex='M', ChestPainType='ASY', RestingBP=160, Cholesterol=331, FastingBS=0, RestingECG='Normal', MaxHR=94, ExerciseAngina='Y', Oldpeak=2.5, ST_Slope='Flat', HeartDisease=1),\n",
              " Row(Age=50, Sex='M', ChestPainType='ASY', RestingBP=140, Cholesterol=341, FastingBS=0, RestingECG='ST', MaxHR=125, ExerciseAngina='Y', Oldpeak=2.5, ST_Slope='Flat', HeartDisease=1),\n",
              " Row(Age=47, Sex='M', ChestPainType='ASY', RestingBP=160, Cholesterol=291, FastingBS=0, RestingECG='ST', MaxHR=158, ExerciseAngina='Y', Oldpeak=3.0, ST_Slope='Flat', HeartDisease=1),\n",
              " Row(Age=53, Sex='M', ChestPainType='ASY', RestingBP=140, Cholesterol=243, FastingBS=0, RestingECG='Normal', MaxHR=155, ExerciseAngina='N', Oldpeak=0.0, ST_Slope='Up', HeartDisease=0),\n",
              " Row(Age=56, Sex='F', ChestPainType='ATA', RestingBP=120, Cholesterol=279, FastingBS=0, RestingECG='Normal', MaxHR=150, ExerciseAngina='N', Oldpeak=1.0, ST_Slope='Flat', HeartDisease=1),\n",
              " Row(Age=39, Sex='M', ChestPainType='ASY', RestingBP=110, Cholesterol=273, FastingBS=0, RestingECG='Normal', MaxHR=132, ExerciseAngina='N', Oldpeak=0.0, ST_Slope='Up', HeartDisease=0),\n",
              " Row(Age=42, Sex='M', ChestPainType='ATA', RestingBP=120, Cholesterol=198, FastingBS=0, RestingECG='Normal', MaxHR=155, ExerciseAngina='N', Oldpeak=0.0, ST_Slope='Up', HeartDisease=0),\n",
              " Row(Age=43, Sex='F', ChestPainType='ATA', RestingBP=120, Cholesterol=249, FastingBS=0, RestingECG='ST', MaxHR=176, ExerciseAngina='N', Oldpeak=0.0, ST_Slope='Up', HeartDisease=0),\n",
              " Row(Age=50, Sex='M', ChestPainType='ATA', RestingBP=120, Cholesterol=168, FastingBS=0, RestingECG='Normal', MaxHR=160, ExerciseAngina='N', Oldpeak=0.0, ST_Slope='Up', HeartDisease=0),\n",
              " Row(Age=54, Sex='M', ChestPainType='ASY', RestingBP=130, Cholesterol=603, FastingBS=1, RestingECG='Normal', MaxHR=125, ExerciseAngina='Y', Oldpeak=1.0, ST_Slope='Flat', HeartDisease=1),\n",
              " Row(Age=39, Sex='M', ChestPainType='ATA', RestingBP=130, Cholesterol=215, FastingBS=0, RestingECG='Normal', MaxHR=120, ExerciseAngina='N', Oldpeak=0.0, ST_Slope='Up', HeartDisease=0),\n",
              " Row(Age=48, Sex='M', ChestPainType='ATA', RestingBP=100, Cholesterol=159, FastingBS=0, RestingECG='Normal', MaxHR=100, ExerciseAngina='N', Oldpeak=0.0, ST_Slope='Up', HeartDisease=0),\n",
              " Row(Age=40, Sex='M', ChestPainType='ATA', RestingBP=130, Cholesterol=275, FastingBS=0, RestingECG='Normal', MaxHR=150, ExerciseAngina='N', Oldpeak=0.0, ST_Slope='Up', HeartDisease=0),\n",
              " Row(Age=55, Sex='M', ChestPainType='ASY', RestingBP=120, Cholesterol=270, FastingBS=0, RestingECG='Normal', MaxHR=140, ExerciseAngina='N', Oldpeak=0.0, ST_Slope='Up', HeartDisease=0),\n",
              " Row(Age=41, Sex='M', ChestPainType='ATA', RestingBP=120, Cholesterol=291, FastingBS=0, RestingECG='ST', MaxHR=160, ExerciseAngina='N', Oldpeak=0.0, ST_Slope='Up', HeartDisease=0),\n",
              " Row(Age=56, Sex='M', ChestPainType='ASY', RestingBP=155, Cholesterol=342, FastingBS=1, RestingECG='Normal', MaxHR=150, ExerciseAngina='Y', Oldpeak=3.0, ST_Slope='Flat', HeartDisease=1),\n",
              " Row(Age=38, Sex='M', ChestPainType='ASY', RestingBP=110, Cholesterol=190, FastingBS=0, RestingECG='Normal', MaxHR=150, ExerciseAngina='Y', Oldpeak=1.0, ST_Slope='Flat', HeartDisease=1),\n",
              " Row(Age=49, Sex='M', ChestPainType='ASY', RestingBP=140, Cholesterol=185, FastingBS=0, RestingECG='Normal', MaxHR=130, ExerciseAngina='N', Oldpeak=0.0, ST_Slope='Up', HeartDisease=0),\n",
              " Row(Age=44, Sex='M', ChestPainType='ASY', RestingBP=130, Cholesterol=290, FastingBS=0, RestingECG='Normal', MaxHR=100, ExerciseAngina='Y', Oldpeak=2.0, ST_Slope='Flat', HeartDisease=1),\n",
              " Row(Age=54, Sex='M', ChestPainType='ATA', RestingBP=160, Cholesterol=195, FastingBS=0, RestingECG='ST', MaxHR=130, ExerciseAngina='N', Oldpeak=1.0, ST_Slope='Up', HeartDisease=0),\n",
              " Row(Age=59, Sex='M', ChestPainType='ASY', RestingBP=140, Cholesterol=264, FastingBS=1, RestingECG='LVH', MaxHR=119, ExerciseAngina='Y', Oldpeak=0.0, ST_Slope='Flat', HeartDisease=1),\n",
              " Row(Age=49, Sex='M', ChestPainType='ASY', RestingBP=128, Cholesterol=212, FastingBS=0, RestingECG='Normal', MaxHR=96, ExerciseAngina='Y', Oldpeak=0.0, ST_Slope='Flat', HeartDisease=1),\n",
              " Row(Age=47, Sex='M', ChestPainType='ATA', RestingBP=160, Cholesterol=263, FastingBS=0, RestingECG='Normal', MaxHR=174, ExerciseAngina='N', Oldpeak=0.0, ST_Slope='Up', HeartDisease=0),\n",
              " Row(Age=42, Sex='M', ChestPainType='ATA', RestingBP=120, Cholesterol=196, FastingBS=0, RestingECG='Normal', MaxHR=150, ExerciseAngina='N', Oldpeak=0.0, ST_Slope='Up', HeartDisease=0),\n",
              " Row(Age=52, Sex='F', ChestPainType='ATA', RestingBP=140, Cholesterol=225, FastingBS=0, RestingECG='Normal', MaxHR=140, ExerciseAngina='N', Oldpeak=0.0, ST_Slope='Up', HeartDisease=0),\n",
              " Row(Age=46, Sex='M', ChestPainType='TA', RestingBP=140, Cholesterol=272, FastingBS=1, RestingECG='Normal', MaxHR=175, ExerciseAngina='N', Oldpeak=2.0, ST_Slope='Flat', HeartDisease=1),\n",
              " Row(Age=50, Sex='M', ChestPainType='ASY', RestingBP=140, Cholesterol=231, FastingBS=0, RestingECG='ST', MaxHR=140, ExerciseAngina='Y', Oldpeak=5.0, ST_Slope='Flat', HeartDisease=1),\n",
              " Row(Age=48, Sex='M', ChestPainType='ATA', RestingBP=140, Cholesterol=238, FastingBS=0, RestingECG='Normal', MaxHR=118, ExerciseAngina='N', Oldpeak=0.0, ST_Slope='Up', HeartDisease=0),\n",
              " Row(Age=58, Sex='M', ChestPainType='ASY', RestingBP=135, Cholesterol=222, FastingBS=0, RestingECG='Normal', MaxHR=100, ExerciseAngina='N', Oldpeak=0.0, ST_Slope='Up', HeartDisease=0),\n",
              " Row(Age=58, Sex='M', ChestPainType='NAP', RestingBP=140, Cholesterol=179, FastingBS=0, RestingECG='Normal', MaxHR=160, ExerciseAngina='N', Oldpeak=0.0, ST_Slope='Up', HeartDisease=0),\n",
              " Row(Age=29, Sex='M', ChestPainType='ATA', RestingBP=120, Cholesterol=243, FastingBS=0, RestingECG='Normal', MaxHR=160, ExerciseAngina='N', Oldpeak=0.0, ST_Slope='Up', HeartDisease=0),\n",
              " Row(Age=40, Sex='M', ChestPainType='NAP', RestingBP=140, Cholesterol=235, FastingBS=0, RestingECG='Normal', MaxHR=188, ExerciseAngina='N', Oldpeak=0.0, ST_Slope='Up', HeartDisease=0),\n",
              " Row(Age=53, Sex='M', ChestPainType='ATA', RestingBP=140, Cholesterol=320, FastingBS=0, RestingECG='Normal', MaxHR=162, ExerciseAngina='N', Oldpeak=0.0, ST_Slope='Up', HeartDisease=0),\n",
              " Row(Age=49, Sex='M', ChestPainType='NAP', RestingBP=140, Cholesterol=187, FastingBS=0, RestingECG='Normal', MaxHR=172, ExerciseAngina='N', Oldpeak=0.0, ST_Slope='Up', HeartDisease=0),\n",
              " Row(Age=52, Sex='M', ChestPainType='ASY', RestingBP=140, Cholesterol=266, FastingBS=0, RestingECG='Normal', MaxHR=134, ExerciseAngina='Y', Oldpeak=2.0, ST_Slope='Flat', HeartDisease=1),\n",
              " Row(Age=43, Sex='M', ChestPainType='ASY', RestingBP=140, Cholesterol=288, FastingBS=0, RestingECG='Normal', MaxHR=135, ExerciseAngina='Y', Oldpeak=2.0, ST_Slope='Flat', HeartDisease=1),\n",
              " Row(Age=54, Sex='M', ChestPainType='ASY', RestingBP=140, Cholesterol=216, FastingBS=0, RestingECG='Normal', MaxHR=105, ExerciseAngina='N', Oldpeak=1.5, ST_Slope='Flat', HeartDisease=1),\n",
              " Row(Age=59, Sex='M', ChestPainType='ATA', RestingBP=140, Cholesterol=287, FastingBS=0, RestingECG='Normal', MaxHR=150, ExerciseAngina='N', Oldpeak=0.0, ST_Slope='Up', HeartDisease=0),\n",
              " Row(Age=37, Sex='M', ChestPainType='NAP', RestingBP=130, Cholesterol=194, FastingBS=0, RestingECG='Normal', MaxHR=150, ExerciseAngina='N', Oldpeak=0.0, ST_Slope='Up', HeartDisease=0),\n",
              " Row(Age=46, Sex='F', ChestPainType='ASY', RestingBP=130, Cholesterol=238, FastingBS=0, RestingECG='Normal', MaxHR=90, ExerciseAngina='N', Oldpeak=0.0, ST_Slope='Up', HeartDisease=0),\n",
              " Row(Age=52, Sex='M', ChestPainType='ASY', RestingBP=130, Cholesterol=225, FastingBS=0, RestingECG='Normal', MaxHR=120, ExerciseAngina='Y', Oldpeak=2.0, ST_Slope='Flat', HeartDisease=1),\n",
              " Row(Age=51, Sex='M', ChestPainType='ATA', RestingBP=130, Cholesterol=224, FastingBS=0, RestingECG='Normal', MaxHR=150, ExerciseAngina='N', Oldpeak=0.0, ST_Slope='Up', HeartDisease=0),\n",
              " Row(Age=52, Sex='M', ChestPainType='ASY', RestingBP=140, Cholesterol=404, FastingBS=0, RestingECG='Normal', MaxHR=124, ExerciseAngina='Y', Oldpeak=2.0, ST_Slope='Flat', HeartDisease=1),\n",
              " Row(Age=46, Sex='M', ChestPainType='ASY', RestingBP=110, Cholesterol=238, FastingBS=0, RestingECG='ST', MaxHR=140, ExerciseAngina='Y', Oldpeak=1.0, ST_Slope='Flat', HeartDisease=0),\n",
              " Row(Age=54, Sex='F', ChestPainType='ATA', RestingBP=160, Cholesterol=312, FastingBS=0, RestingECG='Normal', MaxHR=130, ExerciseAngina='N', Oldpeak=0.0, ST_Slope='Up', HeartDisease=0),\n",
              " Row(Age=58, Sex='M', ChestPainType='NAP', RestingBP=160, Cholesterol=211, FastingBS=1, RestingECG='ST', MaxHR=92, ExerciseAngina='N', Oldpeak=0.0, ST_Slope='Flat', HeartDisease=1),\n",
              " Row(Age=58, Sex='M', ChestPainType='ATA', RestingBP=130, Cholesterol=251, FastingBS=0, RestingECG='Normal', MaxHR=110, ExerciseAngina='N', Oldpeak=0.0, ST_Slope='Up', HeartDisease=0),\n",
              " Row(Age=41, Sex='M', ChestPainType='ASY', RestingBP=120, Cholesterol=237, FastingBS=1, RestingECG='Normal', MaxHR=138, ExerciseAngina='Y', Oldpeak=1.0, ST_Slope='Flat', HeartDisease=1),\n",
              " Row(Age=50, Sex='F', ChestPainType='ASY', RestingBP=120, Cholesterol=328, FastingBS=0, RestingECG='Normal', MaxHR=110, ExerciseAngina='Y', Oldpeak=1.0, ST_Slope='Flat', HeartDisease=0),\n",
              " Row(Age=53, Sex='M', ChestPainType='ASY', RestingBP=180, Cholesterol=285, FastingBS=0, RestingECG='ST', MaxHR=120, ExerciseAngina='Y', Oldpeak=1.5, ST_Slope='Flat', HeartDisease=1),\n",
              " Row(Age=46, Sex='M', ChestPainType='ASY', RestingBP=180, Cholesterol=280, FastingBS=0, RestingECG='ST', MaxHR=120, ExerciseAngina='N', Oldpeak=0.0, ST_Slope='Up', HeartDisease=0),\n",
              " Row(Age=50, Sex='M', ChestPainType='ATA', RestingBP=170, Cholesterol=209, FastingBS=0, RestingECG='ST', MaxHR=116, ExerciseAngina='N', Oldpeak=0.0, ST_Slope='Up', HeartDisease=0),\n",
              " Row(Age=48, Sex='M', ChestPainType='ATA', RestingBP=130, Cholesterol=245, FastingBS=0, RestingECG='Normal', MaxHR=160, ExerciseAngina='N', Oldpeak=0.0, ST_Slope='Up', HeartDisease=0),\n",
              " Row(Age=45, Sex='M', ChestPainType='NAP', RestingBP=135, Cholesterol=192, FastingBS=0, RestingECG='Normal', MaxHR=110, ExerciseAngina='N', Oldpeak=0.0, ST_Slope='Up', HeartDisease=0),\n",
              " Row(Age=41, Sex='F', ChestPainType='ATA', RestingBP=125, Cholesterol=184, FastingBS=0, RestingECG='Normal', MaxHR=180, ExerciseAngina='N', Oldpeak=0.0, ST_Slope='Up', HeartDisease=0),\n",
              " Row(Age=62, Sex='F', ChestPainType='TA', RestingBP=160, Cholesterol=193, FastingBS=0, RestingECG='Normal', MaxHR=116, ExerciseAngina='N', Oldpeak=0.0, ST_Slope='Up', HeartDisease=0),\n",
              " Row(Age=49, Sex='M', ChestPainType='ASY', RestingBP=120, Cholesterol=297, FastingBS=0, RestingECG='Normal', MaxHR=132, ExerciseAngina='N', Oldpeak=1.0, ST_Slope='Flat', HeartDisease=0),\n",
              " Row(Age=42, Sex='M', ChestPainType='ATA', RestingBP=150, Cholesterol=268, FastingBS=0, RestingECG='Normal', MaxHR=136, ExerciseAngina='N', Oldpeak=0.0, ST_Slope='Up', HeartDisease=0),\n",
              " Row(Age=53, Sex='M', ChestPainType='ASY', RestingBP=120, Cholesterol=246, FastingBS=0, RestingECG='Normal', MaxHR=116, ExerciseAngina='Y', Oldpeak=0.0, ST_Slope='Flat', HeartDisease=1),\n",
              " Row(Age=57, Sex='F', ChestPainType='TA', RestingBP=130, Cholesterol=308, FastingBS=0, RestingECG='Normal', MaxHR=98, ExerciseAngina='N', Oldpeak=1.0, ST_Slope='Flat', HeartDisease=0),\n",
              " Row(Age=47, Sex='M', ChestPainType='TA', RestingBP=110, Cholesterol=249, FastingBS=0, RestingECG='Normal', MaxHR=150, ExerciseAngina='N', Oldpeak=0.0, ST_Slope='Up', HeartDisease=0),\n",
              " Row(Age=46, Sex='M', ChestPainType='NAP', RestingBP=120, Cholesterol=230, FastingBS=0, RestingECG='Normal', MaxHR=150, ExerciseAngina='N', Oldpeak=0.0, ST_Slope='Up', HeartDisease=0),\n",
              " Row(Age=42, Sex='M', ChestPainType='NAP', RestingBP=160, Cholesterol=147, FastingBS=0, RestingECG='Normal', MaxHR=146, ExerciseAngina='N', Oldpeak=0.0, ST_Slope='Up', HeartDisease=0),\n",
              " Row(Age=31, Sex='F', ChestPainType='ATA', RestingBP=100, Cholesterol=219, FastingBS=0, RestingECG='ST', MaxHR=150, ExerciseAngina='N', Oldpeak=0.0, ST_Slope='Up', HeartDisease=0),\n",
              " Row(Age=56, Sex='M', ChestPainType='ATA', RestingBP=130, Cholesterol=184, FastingBS=0, RestingECG='Normal', MaxHR=100, ExerciseAngina='N', Oldpeak=0.0, ST_Slope='Up', HeartDisease=0),\n",
              " Row(Age=50, Sex='M', ChestPainType='ASY', RestingBP=150, Cholesterol=215, FastingBS=0, RestingECG='Normal', MaxHR=140, ExerciseAngina='Y', Oldpeak=0.0, ST_Slope='Up', HeartDisease=0),\n",
              " Row(Age=35, Sex='M', ChestPainType='ATA', RestingBP=120, Cholesterol=308, FastingBS=0, RestingECG='LVH', MaxHR=180, ExerciseAngina='N', Oldpeak=0.0, ST_Slope='Up', HeartDisease=0),\n",
              " Row(Age=35, Sex='M', ChestPainType='ATA', RestingBP=110, Cholesterol=257, FastingBS=0, RestingECG='Normal', MaxHR=140, ExerciseAngina='N', Oldpeak=0.0, ST_Slope='Flat', HeartDisease=1),\n",
              " Row(Age=28, Sex='M', ChestPainType='ATA', RestingBP=130, Cholesterol=132, FastingBS=0, RestingECG='LVH', MaxHR=185, ExerciseAngina='N', Oldpeak=0.0, ST_Slope='Up', HeartDisease=0),\n",
              " Row(Age=54, Sex='M', ChestPainType='ASY', RestingBP=125, Cholesterol=216, FastingBS=0, RestingECG='Normal', MaxHR=140, ExerciseAngina='N', Oldpeak=0.0, ST_Slope='Flat', HeartDisease=1),\n",
              " Row(Age=48, Sex='M', ChestPainType='ASY', RestingBP=106, Cholesterol=263, FastingBS=1, RestingECG='Normal', MaxHR=110, ExerciseAngina='N', Oldpeak=0.0, ST_Slope='Flat', HeartDisease=1),\n",
              " Row(Age=50, Sex='F', ChestPainType='NAP', RestingBP=140, Cholesterol=288, FastingBS=0, RestingECG='Normal', MaxHR=140, ExerciseAngina='Y', Oldpeak=0.0, ST_Slope='Flat', HeartDisease=1),\n",
              " Row(Age=56, Sex='M', ChestPainType='NAP', RestingBP=130, Cholesterol=276, FastingBS=0, RestingECG='Normal', MaxHR=128, ExerciseAngina='Y', Oldpeak=1.0, ST_Slope='Up', HeartDisease=0),\n",
              " Row(Age=56, Sex='F', ChestPainType='NAP', RestingBP=130, Cholesterol=219, FastingBS=0, RestingECG='ST', MaxHR=164, ExerciseAngina='N', Oldpeak=0.0, ST_Slope='Up', HeartDisease=0),\n",
              " Row(Age=47, Sex='M', ChestPainType='ASY', RestingBP=150, Cholesterol=226, FastingBS=0, RestingECG='Normal', MaxHR=98, ExerciseAngina='Y', Oldpeak=1.5, ST_Slope='Flat', HeartDisease=1),\n",
              " Row(Age=30, Sex='F', ChestPainType='TA', RestingBP=170, Cholesterol=237, FastingBS=0, RestingECG='ST', MaxHR=170, ExerciseAngina='N', Oldpeak=0.0, ST_Slope='Up', HeartDisease=0),\n",
              " Row(Age=39, Sex='M', ChestPainType='ASY', RestingBP=110, Cholesterol=280, FastingBS=0, RestingECG='Normal', MaxHR=150, ExerciseAngina='N', Oldpeak=0.0, ST_Slope='Flat', HeartDisease=1),\n",
              " Row(Age=54, Sex='M', ChestPainType='NAP', RestingBP=120, Cholesterol=217, FastingBS=0, RestingECG='Normal', MaxHR=137, ExerciseAngina='N', Oldpeak=0.0, ST_Slope='Up', HeartDisease=0),\n",
              " Row(Age=55, Sex='M', ChestPainType='ATA', RestingBP=140, Cholesterol=196, FastingBS=0, RestingECG='Normal', MaxHR=150, ExerciseAngina='N', Oldpeak=0.0, ST_Slope='Up', HeartDisease=0),\n",
              " Row(Age=29, Sex='M', ChestPainType='ATA', RestingBP=140, Cholesterol=263, FastingBS=0, RestingECG='Normal', MaxHR=170, ExerciseAngina='N', Oldpeak=0.0, ST_Slope='Up', HeartDisease=0),\n",
              " Row(Age=46, Sex='M', ChestPainType='ASY', RestingBP=130, Cholesterol=222, FastingBS=0, RestingECG='Normal', MaxHR=112, ExerciseAngina='N', Oldpeak=0.0, ST_Slope='Flat', HeartDisease=1),\n",
              " Row(Age=51, Sex='F', ChestPainType='ASY', RestingBP=160, Cholesterol=303, FastingBS=0, RestingECG='Normal', MaxHR=150, ExerciseAngina='Y', Oldpeak=1.0, ST_Slope='Flat', HeartDisease=1),\n",
              " Row(Age=48, Sex='F', ChestPainType='NAP', RestingBP=120, Cholesterol=195, FastingBS=0, RestingECG='Normal', MaxHR=125, ExerciseAngina='N', Oldpeak=0.0, ST_Slope='Up', HeartDisease=0),\n",
              " Row(Age=33, Sex='M', ChestPainType='NAP', RestingBP=120, Cholesterol=298, FastingBS=0, RestingECG='Normal', MaxHR=185, ExerciseAngina='N', Oldpeak=0.0, ST_Slope='Up', HeartDisease=0),\n",
              " Row(Age=55, Sex='M', ChestPainType='ATA', RestingBP=120, Cholesterol=256, FastingBS=1, RestingECG='Normal', MaxHR=137, ExerciseAngina='N', Oldpeak=0.0, ST_Slope='Up', HeartDisease=0),\n",
              " Row(Age=50, Sex='M', ChestPainType='ASY', RestingBP=145, Cholesterol=264, FastingBS=0, RestingECG='Normal', MaxHR=150, ExerciseAngina='N', Oldpeak=0.0, ST_Slope='Flat', HeartDisease=1),\n",
              " Row(Age=53, Sex='M', ChestPainType='NAP', RestingBP=120, Cholesterol=195, FastingBS=0, RestingECG='Normal', MaxHR=140, ExerciseAngina='N', Oldpeak=0.0, ST_Slope='Up', HeartDisease=0),\n",
              " Row(Age=38, Sex='M', ChestPainType='ASY', RestingBP=92, Cholesterol=117, FastingBS=0, RestingECG='Normal', MaxHR=134, ExerciseAngina='Y', Oldpeak=2.5, ST_Slope='Flat', HeartDisease=1),\n",
              " Row(Age=41, Sex='M', ChestPainType='ATA', RestingBP=120, Cholesterol=295, FastingBS=0, RestingECG='Normal', MaxHR=170, ExerciseAngina='N', Oldpeak=0.0, ST_Slope='Up', HeartDisease=0),\n",
              " Row(Age=37, Sex='F', ChestPainType='ASY', RestingBP=130, Cholesterol=173, FastingBS=0, RestingECG='ST', MaxHR=184, ExerciseAngina='N', Oldpeak=0.0, ST_Slope='Up', HeartDisease=0),\n",
              " Row(Age=37, Sex='M', ChestPainType='ASY', RestingBP=130, Cholesterol=315, FastingBS=0, RestingECG='Normal', MaxHR=158, ExerciseAngina='N', Oldpeak=0.0, ST_Slope='Up', HeartDisease=0),\n",
              " Row(Age=40, Sex='M', ChestPainType='NAP', RestingBP=130, Cholesterol=281, FastingBS=0, RestingECG='Normal', MaxHR=167, ExerciseAngina='N', Oldpeak=0.0, ST_Slope='Up', HeartDisease=0),\n",
              " Row(Age=38, Sex='F', ChestPainType='ATA', RestingBP=120, Cholesterol=275, FastingBS=0, RestingECG='Normal', MaxHR=129, ExerciseAngina='N', Oldpeak=0.0, ST_Slope='Up', HeartDisease=0),\n",
              " Row(Age=41, Sex='M', ChestPainType='ASY', RestingBP=112, Cholesterol=250, FastingBS=0, RestingECG='Normal', MaxHR=142, ExerciseAngina='N', Oldpeak=0.0, ST_Slope='Up', HeartDisease=0),\n",
              " Row(Age=54, Sex='F', ChestPainType='ATA', RestingBP=140, Cholesterol=309, FastingBS=0, RestingECG='ST', MaxHR=140, ExerciseAngina='N', Oldpeak=0.0, ST_Slope='Up', HeartDisease=0),\n",
              " Row(Age=39, Sex='M', ChestPainType='ATA', RestingBP=120, Cholesterol=200, FastingBS=0, RestingECG='Normal', MaxHR=160, ExerciseAngina='Y', Oldpeak=1.0, ST_Slope='Flat', HeartDisease=0),\n",
              " Row(Age=41, Sex='M', ChestPainType='ASY', RestingBP=120, Cholesterol=336, FastingBS=0, RestingECG='Normal', MaxHR=118, ExerciseAngina='Y', Oldpeak=3.0, ST_Slope='Flat', HeartDisease=1),\n",
              " Row(Age=55, Sex='M', ChestPainType='TA', RestingBP=140, Cholesterol=295, FastingBS=0, RestingECG='Normal', MaxHR=136, ExerciseAngina='N', Oldpeak=0.0, ST_Slope='Flat', HeartDisease=1),\n",
              " Row(Age=48, Sex='M', ChestPainType='ASY', RestingBP=160, Cholesterol=355, FastingBS=0, RestingECG='Normal', MaxHR=99, ExerciseAngina='Y', Oldpeak=2.0, ST_Slope='Flat', HeartDisease=1),\n",
              " Row(Age=48, Sex='M', ChestPainType='ASY', RestingBP=160, Cholesterol=193, FastingBS=0, RestingECG='Normal', MaxHR=102, ExerciseAngina='Y', Oldpeak=3.0, ST_Slope='Flat', HeartDisease=1),\n",
              " Row(Age=55, Sex='M', ChestPainType='ATA', RestingBP=145, Cholesterol=326, FastingBS=0, RestingECG='Normal', MaxHR=155, ExerciseAngina='N', Oldpeak=0.0, ST_Slope='Up', HeartDisease=0),\n",
              " Row(Age=54, Sex='M', ChestPainType='ASY', RestingBP=200, Cholesterol=198, FastingBS=0, RestingECG='Normal', MaxHR=142, ExerciseAngina='Y', Oldpeak=2.0, ST_Slope='Flat', HeartDisease=1),\n",
              " Row(Age=55, Sex='M', ChestPainType='ATA', RestingBP=160, Cholesterol=292, FastingBS=1, RestingECG='Normal', MaxHR=143, ExerciseAngina='Y', Oldpeak=2.0, ST_Slope='Flat', HeartDisease=1),\n",
              " Row(Age=43, Sex='F', ChestPainType='ATA', RestingBP=120, Cholesterol=266, FastingBS=0, RestingECG='Normal', MaxHR=118, ExerciseAngina='N', Oldpeak=0.0, ST_Slope='Up', HeartDisease=0),\n",
              " Row(Age=48, Sex='M', ChestPainType='ASY', RestingBP=160, Cholesterol=268, FastingBS=0, RestingECG='Normal', MaxHR=103, ExerciseAngina='Y', Oldpeak=1.0, ST_Slope='Flat', HeartDisease=1),\n",
              " Row(Age=54, Sex='M', ChestPainType='TA', RestingBP=120, Cholesterol=171, FastingBS=0, RestingECG='Normal', MaxHR=137, ExerciseAngina='N', Oldpeak=2.0, ST_Slope='Up', HeartDisease=0),\n",
              " Row(Age=54, Sex='M', ChestPainType='NAP', RestingBP=120, Cholesterol=237, FastingBS=0, RestingECG='Normal', MaxHR=150, ExerciseAngina='Y', Oldpeak=1.5, ST_Slope='Flat', HeartDisease=1),\n",
              " Row(Age=48, Sex='M', ChestPainType='ASY', RestingBP=122, Cholesterol=275, FastingBS=1, RestingECG='ST', MaxHR=150, ExerciseAngina='Y', Oldpeak=2.0, ST_Slope='Down', HeartDisease=1),\n",
              " Row(Age=45, Sex='M', ChestPainType='ASY', RestingBP=130, Cholesterol=219, FastingBS=0, RestingECG='ST', MaxHR=130, ExerciseAngina='Y', Oldpeak=1.0, ST_Slope='Flat', HeartDisease=1),\n",
              " Row(Age=49, Sex='M', ChestPainType='ASY', RestingBP=130, Cholesterol=341, FastingBS=0, RestingECG='Normal', MaxHR=120, ExerciseAngina='Y', Oldpeak=1.0, ST_Slope='Flat', HeartDisease=1),\n",
              " Row(Age=44, Sex='M', ChestPainType='ASY', RestingBP=135, Cholesterol=491, FastingBS=0, RestingECG='Normal', MaxHR=135, ExerciseAngina='N', Oldpeak=0.0, ST_Slope='Flat', HeartDisease=1),\n",
              " Row(Age=48, Sex='M', ChestPainType='ASY', RestingBP=120, Cholesterol=260, FastingBS=0, RestingECG='Normal', MaxHR=115, ExerciseAngina='N', Oldpeak=2.0, ST_Slope='Flat', HeartDisease=1),\n",
              " Row(Age=61, Sex='M', ChestPainType='ASY', RestingBP=125, Cholesterol=292, FastingBS=0, RestingECG='ST', MaxHR=115, ExerciseAngina='Y', Oldpeak=0.0, ST_Slope='Up', HeartDisease=0),\n",
              " Row(Age=62, Sex='M', ChestPainType='ATA', RestingBP=140, Cholesterol=271, FastingBS=0, RestingECG='Normal', MaxHR=152, ExerciseAngina='N', Oldpeak=1.0, ST_Slope='Up', HeartDisease=0),\n",
              " Row(Age=55, Sex='M', ChestPainType='ASY', RestingBP=145, Cholesterol=248, FastingBS=0, RestingECG='Normal', MaxHR=96, ExerciseAngina='Y', Oldpeak=2.0, ST_Slope='Flat', HeartDisease=1),\n",
              " Row(Age=53, Sex='F', ChestPainType='NAP', RestingBP=120, Cholesterol=274, FastingBS=0, RestingECG='Normal', MaxHR=130, ExerciseAngina='N', Oldpeak=0.0, ST_Slope='Up', HeartDisease=0),\n",
              " Row(Age=55, Sex='F', ChestPainType='ATA', RestingBP=130, Cholesterol=394, FastingBS=0, RestingECG='LVH', MaxHR=150, ExerciseAngina='N', Oldpeak=0.0, ST_Slope='Up', HeartDisease=0),\n",
              " Row(Age=36, Sex='M', ChestPainType='NAP', RestingBP=150, Cholesterol=160, FastingBS=0, RestingECG='Normal', MaxHR=172, ExerciseAngina='N', Oldpeak=0.0, ST_Slope='Up', HeartDisease=0),\n",
              " Row(Age=51, Sex='F', ChestPainType='NAP', RestingBP=150, Cholesterol=200, FastingBS=0, RestingECG='Normal', MaxHR=120, ExerciseAngina='N', Oldpeak=0.5, ST_Slope='Up', HeartDisease=0),\n",
              " Row(Age=55, Sex='F', ChestPainType='ATA', RestingBP=122, Cholesterol=320, FastingBS=0, RestingECG='Normal', MaxHR=155, ExerciseAngina='N', Oldpeak=0.0, ST_Slope='Up', HeartDisease=0),\n",
              " Row(Age=46, Sex='M', ChestPainType='ATA', RestingBP=140, Cholesterol=275, FastingBS=0, RestingECG='Normal', MaxHR=165, ExerciseAngina='Y', Oldpeak=0.0, ST_Slope='Up', HeartDisease=0),\n",
              " Row(Age=54, Sex='F', ChestPainType='ATA', RestingBP=120, Cholesterol=221, FastingBS=0, RestingECG='Normal', MaxHR=138, ExerciseAngina='N', Oldpeak=1.0, ST_Slope='Up', HeartDisease=0),\n",
              " Row(Age=46, Sex='M', ChestPainType='ASY', RestingBP=120, Cholesterol=231, FastingBS=0, RestingECG='Normal', MaxHR=115, ExerciseAngina='Y', Oldpeak=0.0, ST_Slope='Flat', HeartDisease=1),\n",
              " Row(Age=59, Sex='M', ChestPainType='ASY', RestingBP=130, Cholesterol=126, FastingBS=0, RestingECG='Normal', MaxHR=125, ExerciseAngina='N', Oldpeak=0.0, ST_Slope='Flat', HeartDisease=1),\n",
              " Row(Age=47, Sex='M', ChestPainType='NAP', RestingBP=140, Cholesterol=193, FastingBS=0, RestingECG='Normal', MaxHR=145, ExerciseAngina='Y', Oldpeak=1.0, ST_Slope='Flat', HeartDisease=1),\n",
              " Row(Age=54, Sex='M', ChestPainType='ATA', RestingBP=160, Cholesterol=305, FastingBS=0, RestingECG='Normal', MaxHR=175, ExerciseAngina='N', Oldpeak=0.0, ST_Slope='Up', HeartDisease=0),\n",
              " Row(Age=52, Sex='M', ChestPainType='ASY', RestingBP=130, Cholesterol=298, FastingBS=0, RestingECG='Normal', MaxHR=110, ExerciseAngina='Y', Oldpeak=1.0, ST_Slope='Flat', HeartDisease=1),\n",
              " Row(Age=34, Sex='M', ChestPainType='ATA', RestingBP=98, Cholesterol=220, FastingBS=0, RestingECG='Normal', MaxHR=150, ExerciseAngina='N', Oldpeak=0.0, ST_Slope='Up', HeartDisease=0),\n",
              " Row(Age=54, Sex='M', ChestPainType='ASY', RestingBP=130, Cholesterol=242, FastingBS=0, RestingECG='Normal', MaxHR=91, ExerciseAngina='Y', Oldpeak=1.0, ST_Slope='Flat', HeartDisease=1),\n",
              " Row(Age=47, Sex='F', ChestPainType='NAP', RestingBP=130, Cholesterol=235, FastingBS=0, RestingECG='Normal', MaxHR=145, ExerciseAngina='N', Oldpeak=2.0, ST_Slope='Flat', HeartDisease=0),\n",
              " Row(Age=45, Sex='M', ChestPainType='ASY', RestingBP=120, Cholesterol=225, FastingBS=0, RestingECG='Normal', MaxHR=140, ExerciseAngina='N', Oldpeak=0.0, ST_Slope='Up', HeartDisease=0),\n",
              " Row(Age=32, Sex='F', ChestPainType='ATA', RestingBP=105, Cholesterol=198, FastingBS=0, RestingECG='Normal', MaxHR=165, ExerciseAngina='N', Oldpeak=0.0, ST_Slope='Up', HeartDisease=0),\n",
              " Row(Age=55, Sex='M', ChestPainType='ASY', RestingBP=140, Cholesterol=201, FastingBS=0, RestingECG='Normal', MaxHR=130, ExerciseAngina='Y', Oldpeak=3.0, ST_Slope='Flat', HeartDisease=1),\n",
              " Row(Age=55, Sex='M', ChestPainType='NAP', RestingBP=120, Cholesterol=220, FastingBS=0, RestingECG='LVH', MaxHR=134, ExerciseAngina='N', Oldpeak=0.0, ST_Slope='Up', HeartDisease=0),\n",
              " Row(Age=45, Sex='F', ChestPainType='ATA', RestingBP=180, Cholesterol=295, FastingBS=0, RestingECG='Normal', MaxHR=180, ExerciseAngina='N', Oldpeak=0.0, ST_Slope='Up', HeartDisease=0),\n",
              " Row(Age=59, Sex='M', ChestPainType='NAP', RestingBP=180, Cholesterol=213, FastingBS=0, RestingECG='Normal', MaxHR=100, ExerciseAngina='N', Oldpeak=0.0, ST_Slope='Up', HeartDisease=0),\n",
              " Row(Age=51, Sex='M', ChestPainType='NAP', RestingBP=135, Cholesterol=160, FastingBS=0, RestingECG='Normal', MaxHR=150, ExerciseAngina='N', Oldpeak=2.0, ST_Slope='Flat', HeartDisease=1),\n",
              " Row(Age=52, Sex='M', ChestPainType='ASY', RestingBP=170, Cholesterol=223, FastingBS=0, RestingECG='Normal', MaxHR=126, ExerciseAngina='Y', Oldpeak=1.5, ST_Slope='Flat', HeartDisease=1),\n",
              " Row(Age=57, Sex='F', ChestPainType='ASY', RestingBP=180, Cholesterol=347, FastingBS=0, RestingECG='ST', MaxHR=126, ExerciseAngina='Y', Oldpeak=0.8, ST_Slope='Flat', HeartDisease=0),\n",
              " Row(Age=54, Sex='F', ChestPainType='ATA', RestingBP=130, Cholesterol=253, FastingBS=0, RestingECG='ST', MaxHR=155, ExerciseAngina='N', Oldpeak=0.0, ST_Slope='Up', HeartDisease=0),\n",
              " Row(Age=60, Sex='M', ChestPainType='NAP', RestingBP=120, Cholesterol=246, FastingBS=0, RestingECG='LVH', MaxHR=135, ExerciseAngina='N', Oldpeak=0.0, ST_Slope='Up', HeartDisease=0),\n",
              " Row(Age=49, Sex='M', ChestPainType='ASY', RestingBP=150, Cholesterol=222, FastingBS=0, RestingECG='Normal', MaxHR=122, ExerciseAngina='N', Oldpeak=2.0, ST_Slope='Flat', HeartDisease=1),\n",
              " Row(Age=51, Sex='F', ChestPainType='NAP', RestingBP=130, Cholesterol=220, FastingBS=0, RestingECG='Normal', MaxHR=160, ExerciseAngina='Y', Oldpeak=2.0, ST_Slope='Up', HeartDisease=0),\n",
              " Row(Age=55, Sex='F', ChestPainType='ATA', RestingBP=110, Cholesterol=344, FastingBS=0, RestingECG='ST', MaxHR=160, ExerciseAngina='N', Oldpeak=0.0, ST_Slope='Up', HeartDisease=0),\n",
              " Row(Age=42, Sex='M', ChestPainType='ASY', RestingBP=140, Cholesterol=358, FastingBS=0, RestingECG='Normal', MaxHR=170, ExerciseAngina='N', Oldpeak=0.0, ST_Slope='Up', HeartDisease=0),\n",
              " Row(Age=51, Sex='F', ChestPainType='NAP', RestingBP=110, Cholesterol=190, FastingBS=0, RestingECG='Normal', MaxHR=120, ExerciseAngina='N', Oldpeak=0.0, ST_Slope='Up', HeartDisease=0),\n",
              " Row(Age=59, Sex='M', ChestPainType='ASY', RestingBP=140, Cholesterol=169, FastingBS=0, RestingECG='Normal', MaxHR=140, ExerciseAngina='N', Oldpeak=0.0, ST_Slope='Up', HeartDisease=0),\n",
              " Row(Age=53, Sex='M', ChestPainType='ATA', RestingBP=120, Cholesterol=181, FastingBS=0, RestingECG='Normal', MaxHR=132, ExerciseAngina='N', Oldpeak=0.0, ST_Slope='Up', HeartDisease=0),\n",
              " Row(Age=48, Sex='F', ChestPainType='ATA', RestingBP=133, Cholesterol=308, FastingBS=0, RestingECG='ST', MaxHR=156, ExerciseAngina='N', Oldpeak=2.0, ST_Slope='Up', HeartDisease=0),\n",
              " Row(Age=36, Sex='M', ChestPainType='ATA', RestingBP=120, Cholesterol=166, FastingBS=0, RestingECG='Normal', MaxHR=180, ExerciseAngina='N', Oldpeak=0.0, ST_Slope='Up', HeartDisease=0),\n",
              " Row(Age=48, Sex='M', ChestPainType='NAP', RestingBP=110, Cholesterol=211, FastingBS=0, RestingECG='Normal', MaxHR=138, ExerciseAngina='N', Oldpeak=0.0, ST_Slope='Up', HeartDisease=0),\n",
              " Row(Age=47, Sex='F', ChestPainType='ATA', RestingBP=140, Cholesterol=257, FastingBS=0, RestingECG='Normal', MaxHR=135, ExerciseAngina='N', Oldpeak=1.0, ST_Slope='Up', HeartDisease=0),\n",
              " Row(Age=53, Sex='M', ChestPainType='ASY', RestingBP=130, Cholesterol=182, FastingBS=0, RestingECG='Normal', MaxHR=148, ExerciseAngina='N', Oldpeak=0.0, ST_Slope='Up', HeartDisease=0),\n",
              " Row(Age=65, Sex='M', ChestPainType='ASY', RestingBP=115, Cholesterol=0, FastingBS=0, RestingECG='Normal', MaxHR=93, ExerciseAngina='Y', Oldpeak=0.0, ST_Slope='Flat', HeartDisease=1),\n",
              " Row(Age=32, Sex='M', ChestPainType='TA', RestingBP=95, Cholesterol=0, FastingBS=1, RestingECG='Normal', MaxHR=127, ExerciseAngina='N', Oldpeak=0.7, ST_Slope='Up', HeartDisease=1),\n",
              " Row(Age=61, Sex='M', ChestPainType='ASY', RestingBP=105, Cholesterol=0, FastingBS=1, RestingECG='Normal', MaxHR=110, ExerciseAngina='Y', Oldpeak=1.5, ST_Slope='Up', HeartDisease=1),\n",
              " Row(Age=50, Sex='M', ChestPainType='ASY', RestingBP=145, Cholesterol=0, FastingBS=1, RestingECG='Normal', MaxHR=139, ExerciseAngina='Y', Oldpeak=0.7, ST_Slope='Flat', HeartDisease=1),\n",
              " Row(Age=57, Sex='M', ChestPainType='ASY', RestingBP=110, Cholesterol=0, FastingBS=1, RestingECG='ST', MaxHR=131, ExerciseAngina='Y', Oldpeak=1.4, ST_Slope='Up', HeartDisease=1),\n",
              " Row(Age=51, Sex='M', ChestPainType='ASY', RestingBP=110, Cholesterol=0, FastingBS=1, RestingECG='Normal', MaxHR=92, ExerciseAngina='N', Oldpeak=0.0, ST_Slope='Flat', HeartDisease=1),\n",
              " Row(Age=47, Sex='M', ChestPainType='ASY', RestingBP=110, Cholesterol=0, FastingBS=1, RestingECG='ST', MaxHR=149, ExerciseAngina='N', Oldpeak=2.1, ST_Slope='Up', HeartDisease=1),\n",
              " Row(Age=60, Sex='M', ChestPainType='ASY', RestingBP=160, Cholesterol=0, FastingBS=1, RestingECG='Normal', MaxHR=149, ExerciseAngina='N', Oldpeak=0.4, ST_Slope='Flat', HeartDisease=1),\n",
              " Row(Age=55, Sex='M', ChestPainType='ATA', RestingBP=140, Cholesterol=0, FastingBS=0, RestingECG='ST', MaxHR=150, ExerciseAngina='N', Oldpeak=0.2, ST_Slope='Up', HeartDisease=0),\n",
              " Row(Age=53, Sex='M', ChestPainType='ASY', RestingBP=125, Cholesterol=0, FastingBS=1, RestingECG='Normal', MaxHR=120, ExerciseAngina='N', Oldpeak=1.5, ST_Slope='Up', HeartDisease=1),\n",
              " Row(Age=62, Sex='F', ChestPainType='ASY', RestingBP=120, Cholesterol=0, FastingBS=1, RestingECG='ST', MaxHR=123, ExerciseAngina='Y', Oldpeak=1.7, ST_Slope='Down', HeartDisease=1),\n",
              " Row(Age=51, Sex='M', ChestPainType='ASY', RestingBP=95, Cholesterol=0, FastingBS=1, RestingECG='Normal', MaxHR=126, ExerciseAngina='N', Oldpeak=2.2, ST_Slope='Flat', HeartDisease=1),\n",
              " Row(Age=51, Sex='F', ChestPainType='ASY', RestingBP=120, Cholesterol=0, FastingBS=1, RestingECG='Normal', MaxHR=127, ExerciseAngina='Y', Oldpeak=1.5, ST_Slope='Up', HeartDisease=1),\n",
              " Row(Age=55, Sex='M', ChestPainType='ASY', RestingBP=115, Cholesterol=0, FastingBS=1, RestingECG='Normal', MaxHR=155, ExerciseAngina='N', Oldpeak=0.1, ST_Slope='Flat', HeartDisease=1),\n",
              " Row(Age=53, Sex='M', ChestPainType='ATA', RestingBP=130, Cholesterol=0, FastingBS=0, RestingECG='ST', MaxHR=120, ExerciseAngina='N', Oldpeak=0.7, ST_Slope='Down', HeartDisease=0),\n",
              " Row(Age=58, Sex='M', ChestPainType='ASY', RestingBP=115, Cholesterol=0, FastingBS=1, RestingECG='Normal', MaxHR=138, ExerciseAngina='N', Oldpeak=0.5, ST_Slope='Up', HeartDisease=1),\n",
              " Row(Age=57, Sex='M', ChestPainType='ASY', RestingBP=95, Cholesterol=0, FastingBS=1, RestingECG='Normal', MaxHR=182, ExerciseAngina='N', Oldpeak=0.7, ST_Slope='Down', HeartDisease=1),\n",
              " Row(Age=65, Sex='M', ChestPainType='ASY', RestingBP=155, Cholesterol=0, FastingBS=0, RestingECG='Normal', MaxHR=154, ExerciseAngina='N', Oldpeak=1.0, ST_Slope='Up', HeartDisease=0),\n",
              " Row(Age=60, Sex='M', ChestPainType='ASY', RestingBP=125, Cholesterol=0, FastingBS=1, RestingECG='Normal', MaxHR=110, ExerciseAngina='N', Oldpeak=0.1, ST_Slope='Up', HeartDisease=1),\n",
              " Row(Age=41, Sex='M', ChestPainType='ASY', RestingBP=125, Cholesterol=0, FastingBS=1, RestingECG='Normal', MaxHR=176, ExerciseAngina='N', Oldpeak=1.6, ST_Slope='Up', HeartDisease=1),\n",
              " Row(Age=34, Sex='M', ChestPainType='ASY', RestingBP=115, Cholesterol=0, FastingBS=1, RestingECG='Normal', MaxHR=154, ExerciseAngina='N', Oldpeak=0.2, ST_Slope='Up', HeartDisease=1),\n",
              " Row(Age=53, Sex='M', ChestPainType='ASY', RestingBP=80, Cholesterol=0, FastingBS=0, RestingECG='Normal', MaxHR=141, ExerciseAngina='Y', Oldpeak=2.0, ST_Slope='Down', HeartDisease=0),\n",
              " Row(Age=74, Sex='M', ChestPainType='ATA', RestingBP=145, Cholesterol=0, FastingBS=1, RestingECG='ST', MaxHR=123, ExerciseAngina='N', Oldpeak=1.3, ST_Slope='Up', HeartDisease=1),\n",
              " Row(Age=57, Sex='M', ChestPainType='NAP', RestingBP=105, Cholesterol=0, FastingBS=1, RestingECG='Normal', MaxHR=148, ExerciseAngina='N', Oldpeak=0.3, ST_Slope='Flat', HeartDisease=1),\n",
              " Row(Age=56, Sex='M', ChestPainType='ASY', RestingBP=140, Cholesterol=0, FastingBS=1, RestingECG='Normal', MaxHR=121, ExerciseAngina='Y', Oldpeak=1.8, ST_Slope='Up', HeartDisease=1),\n",
              " Row(Age=61, Sex='M', ChestPainType='ASY', RestingBP=130, Cholesterol=0, FastingBS=1, RestingECG='Normal', MaxHR=77, ExerciseAngina='N', Oldpeak=2.5, ST_Slope='Flat', HeartDisease=1),\n",
              " Row(Age=68, Sex='M', ChestPainType='ASY', RestingBP=145, Cholesterol=0, FastingBS=1, RestingECG='Normal', MaxHR=136, ExerciseAngina='N', Oldpeak=1.8, ST_Slope='Up', HeartDisease=1),\n",
              " Row(Age=59, Sex='M', ChestPainType='NAP', RestingBP=125, Cholesterol=0, FastingBS=1, RestingECG='Normal', MaxHR=175, ExerciseAngina='N', Oldpeak=2.6, ST_Slope='Flat', HeartDisease=1),\n",
              " Row(Age=63, Sex='M', ChestPainType='ASY', RestingBP=100, Cholesterol=0, FastingBS=1, RestingECG='Normal', MaxHR=109, ExerciseAngina='N', Oldpeak=-0.9, ST_Slope='Flat', HeartDisease=1),\n",
              " Row(Age=38, Sex='F', ChestPainType='ASY', RestingBP=105, Cholesterol=0, FastingBS=1, RestingECG='Normal', MaxHR=166, ExerciseAngina='N', Oldpeak=2.8, ST_Slope='Up', HeartDisease=1),\n",
              " Row(Age=62, Sex='M', ChestPainType='ASY', RestingBP=115, Cholesterol=0, FastingBS=1, RestingECG='Normal', MaxHR=128, ExerciseAngina='Y', Oldpeak=2.5, ST_Slope='Down', HeartDisease=1),\n",
              " Row(Age=46, Sex='M', ChestPainType='ASY', RestingBP=100, Cholesterol=0, FastingBS=1, RestingECG='ST', MaxHR=133, ExerciseAngina='N', Oldpeak=-2.6, ST_Slope='Flat', HeartDisease=1),\n",
              " Row(Age=42, Sex='M', ChestPainType='ASY', RestingBP=105, Cholesterol=0, FastingBS=1, RestingECG='Normal', MaxHR=128, ExerciseAngina='Y', Oldpeak=-1.5, ST_Slope='Down', HeartDisease=1),\n",
              " Row(Age=45, Sex='M', ChestPainType='NAP', RestingBP=110, Cholesterol=0, FastingBS=0, RestingECG='Normal', MaxHR=138, ExerciseAngina='N', Oldpeak=-0.1, ST_Slope='Up', HeartDisease=0),\n",
              " Row(Age=59, Sex='M', ChestPainType='ASY', RestingBP=125, Cholesterol=0, FastingBS=1, RestingECG='Normal', MaxHR=119, ExerciseAngina='Y', Oldpeak=0.9, ST_Slope='Up', HeartDisease=1),\n",
              " Row(Age=52, Sex='M', ChestPainType='ASY', RestingBP=95, Cholesterol=0, FastingBS=1, RestingECG='Normal', MaxHR=82, ExerciseAngina='Y', Oldpeak=0.8, ST_Slope='Flat', HeartDisease=1),\n",
              " Row(Age=60, Sex='M', ChestPainType='ASY', RestingBP=130, Cholesterol=0, FastingBS=1, RestingECG='ST', MaxHR=130, ExerciseAngina='Y', Oldpeak=1.1, ST_Slope='Down', HeartDisease=1),\n",
              " Row(Age=60, Sex='M', ChestPainType='NAP', RestingBP=115, Cholesterol=0, FastingBS=1, RestingECG='Normal', MaxHR=143, ExerciseAngina='N', Oldpeak=2.4, ST_Slope='Up', HeartDisease=1),\n",
              " Row(Age=56, Sex='M', ChestPainType='ASY', RestingBP=115, Cholesterol=0, FastingBS=1, RestingECG='ST', MaxHR=82, ExerciseAngina='N', Oldpeak=-1.0, ST_Slope='Up', HeartDisease=1),\n",
              " Row(Age=38, Sex='M', ChestPainType='NAP', RestingBP=100, Cholesterol=0, FastingBS=0, RestingECG='Normal', MaxHR=179, ExerciseAngina='N', Oldpeak=-1.1, ST_Slope='Up', HeartDisease=0),\n",
              " Row(Age=40, Sex='M', ChestPainType='ASY', RestingBP=95, Cholesterol=0, FastingBS=1, RestingECG='ST', MaxHR=144, ExerciseAngina='N', Oldpeak=0.0, ST_Slope='Up', HeartDisease=1),\n",
              " Row(Age=51, Sex='M', ChestPainType='ASY', RestingBP=130, Cholesterol=0, FastingBS=1, RestingECG='Normal', MaxHR=170, ExerciseAngina='N', Oldpeak=-0.7, ST_Slope='Up', HeartDisease=1),\n",
              " Row(Age=62, Sex='M', ChestPainType='TA', RestingBP=120, Cholesterol=0, FastingBS=1, RestingECG='LVH', MaxHR=134, ExerciseAngina='N', Oldpeak=-0.8, ST_Slope='Flat', HeartDisease=1),\n",
              " Row(Age=72, Sex='M', ChestPainType='NAP', RestingBP=160, Cholesterol=0, FastingBS=0, RestingECG='LVH', MaxHR=114, ExerciseAngina='N', Oldpeak=1.6, ST_Slope='Flat', HeartDisease=0),\n",
              " Row(Age=63, Sex='M', ChestPainType='ASY', RestingBP=150, Cholesterol=0, FastingBS=1, RestingECG='ST', MaxHR=154, ExerciseAngina='N', Oldpeak=3.7, ST_Slope='Up', HeartDisease=1),\n",
              " Row(Age=63, Sex='M', ChestPainType='ASY', RestingBP=140, Cholesterol=0, FastingBS=1, RestingECG='LVH', MaxHR=149, ExerciseAngina='N', Oldpeak=2.0, ST_Slope='Up', HeartDisease=1),\n",
              " Row(Age=64, Sex='F', ChestPainType='ASY', RestingBP=95, Cholesterol=0, FastingBS=1, RestingECG='Normal', MaxHR=145, ExerciseAngina='N', Oldpeak=1.1, ST_Slope='Down', HeartDisease=1),\n",
              " Row(Age=43, Sex='M', ChestPainType='ASY', RestingBP=100, Cholesterol=0, FastingBS=1, RestingECG='Normal', MaxHR=122, ExerciseAngina='N', Oldpeak=1.5, ST_Slope='Down', HeartDisease=1),\n",
              " Row(Age=64, Sex='M', ChestPainType='ASY', RestingBP=110, Cholesterol=0, FastingBS=1, RestingECG='Normal', MaxHR=114, ExerciseAngina='Y', Oldpeak=1.3, ST_Slope='Down', HeartDisease=1),\n",
              " Row(Age=61, Sex='M', ChestPainType='ASY', RestingBP=110, Cholesterol=0, FastingBS=1, RestingECG='Normal', MaxHR=113, ExerciseAngina='N', Oldpeak=1.4, ST_Slope='Flat', HeartDisease=1),\n",
              " Row(Age=52, Sex='M', ChestPainType='ASY', RestingBP=130, Cholesterol=0, FastingBS=1, RestingECG='Normal', MaxHR=120, ExerciseAngina='N', Oldpeak=0.0, ST_Slope='Flat', HeartDisease=1),\n",
              " Row(Age=51, Sex='M', ChestPainType='ASY', RestingBP=120, Cholesterol=0, FastingBS=1, RestingECG='Normal', MaxHR=104, ExerciseAngina='N', Oldpeak=0.0, ST_Slope='Flat', HeartDisease=1),\n",
              " Row(Age=69, Sex='M', ChestPainType='ASY', RestingBP=135, Cholesterol=0, FastingBS=0, RestingECG='Normal', MaxHR=130, ExerciseAngina='N', Oldpeak=0.0, ST_Slope='Flat', HeartDisease=1),\n",
              " Row(Age=59, Sex='M', ChestPainType='ASY', RestingBP=120, Cholesterol=0, FastingBS=0, RestingECG='Normal', MaxHR=115, ExerciseAngina='N', Oldpeak=0.0, ST_Slope='Flat', HeartDisease=1),\n",
              " Row(Age=48, Sex='M', ChestPainType='ASY', RestingBP=115, Cholesterol=0, FastingBS=1, RestingECG='Normal', MaxHR=128, ExerciseAngina='N', Oldpeak=0.0, ST_Slope='Flat', HeartDisease=1),\n",
              " Row(Age=69, Sex='M', ChestPainType='ASY', RestingBP=137, Cholesterol=0, FastingBS=0, RestingECG='ST', MaxHR=104, ExerciseAngina='Y', Oldpeak=1.6, ST_Slope='Flat', HeartDisease=1),\n",
              " Row(Age=36, Sex='M', ChestPainType='ASY', RestingBP=110, Cholesterol=0, FastingBS=1, RestingECG='Normal', MaxHR=125, ExerciseAngina='Y', Oldpeak=1.0, ST_Slope='Flat', HeartDisease=1),\n",
              " Row(Age=53, Sex='M', ChestPainType='ASY', RestingBP=120, Cholesterol=0, FastingBS=1, RestingECG='Normal', MaxHR=120, ExerciseAngina='N', Oldpeak=0.0, ST_Slope='Flat', HeartDisease=1),\n",
              " Row(Age=43, Sex='M', ChestPainType='ASY', RestingBP=140, Cholesterol=0, FastingBS=0, RestingECG='ST', MaxHR=140, ExerciseAngina='Y', Oldpeak=0.5, ST_Slope='Up', HeartDisease=1),\n",
              " Row(Age=56, Sex='M', ChestPainType='ASY', RestingBP=120, Cholesterol=0, FastingBS=0, RestingECG='ST', MaxHR=100, ExerciseAngina='Y', Oldpeak=-1.0, ST_Slope='Down', HeartDisease=1),\n",
              " Row(Age=58, Sex='M', ChestPainType='ASY', RestingBP=130, Cholesterol=0, FastingBS=0, RestingECG='ST', MaxHR=100, ExerciseAngina='Y', Oldpeak=1.0, ST_Slope='Flat', HeartDisease=1),\n",
              " Row(Age=55, Sex='M', ChestPainType='ASY', RestingBP=120, Cholesterol=0, FastingBS=0, RestingECG='ST', MaxHR=92, ExerciseAngina='N', Oldpeak=0.3, ST_Slope='Up', HeartDisease=1),\n",
              " Row(Age=67, Sex='M', ChestPainType='TA', RestingBP=145, Cholesterol=0, FastingBS=0, RestingECG='LVH', MaxHR=125, ExerciseAngina='N', Oldpeak=0.0, ST_Slope='Flat', HeartDisease=1),\n",
              " Row(Age=46, Sex='M', ChestPainType='ASY', RestingBP=115, Cholesterol=0, FastingBS=0, RestingECG='Normal', MaxHR=113, ExerciseAngina='Y', Oldpeak=1.5, ST_Slope='Flat', HeartDisease=1),\n",
              " Row(Age=53, Sex='M', ChestPainType='ATA', RestingBP=120, Cholesterol=0, FastingBS=0, RestingECG='Normal', MaxHR=95, ExerciseAngina='N', Oldpeak=0.0, ST_Slope='Flat', HeartDisease=1),\n",
              " Row(Age=38, Sex='M', ChestPainType='NAP', RestingBP=115, Cholesterol=0, FastingBS=0, RestingECG='Normal', MaxHR=128, ExerciseAngina='Y', Oldpeak=0.0, ST_Slope='Flat', HeartDisease=1),\n",
              " Row(Age=53, Sex='M', ChestPainType='NAP', RestingBP=105, Cholesterol=0, FastingBS=0, RestingECG='Normal', MaxHR=115, ExerciseAngina='N', Oldpeak=0.0, ST_Slope='Flat', HeartDisease=1),\n",
              " Row(Age=62, Sex='M', ChestPainType='NAP', RestingBP=160, Cholesterol=0, FastingBS=0, RestingECG='Normal', MaxHR=72, ExerciseAngina='Y', Oldpeak=0.0, ST_Slope='Flat', HeartDisease=1),\n",
              " Row(Age=47, Sex='M', ChestPainType='ASY', RestingBP=160, Cholesterol=0, FastingBS=0, RestingECG='Normal', MaxHR=124, ExerciseAngina='Y', Oldpeak=0.0, ST_Slope='Flat', HeartDisease=1),\n",
              " Row(Age=56, Sex='M', ChestPainType='NAP', RestingBP=155, Cholesterol=0, FastingBS=0, RestingECG='ST', MaxHR=99, ExerciseAngina='N', Oldpeak=0.0, ST_Slope='Flat', HeartDisease=1),\n",
              " Row(Age=56, Sex='M', ChestPainType='ASY', RestingBP=120, Cholesterol=0, FastingBS=0, RestingECG='ST', MaxHR=148, ExerciseAngina='N', Oldpeak=0.0, ST_Slope='Flat', HeartDisease=1),\n",
              " Row(Age=56, Sex='M', ChestPainType='NAP', RestingBP=120, Cholesterol=0, FastingBS=0, RestingECG='Normal', MaxHR=97, ExerciseAngina='N', Oldpeak=0.0, ST_Slope='Flat', HeartDisease=0),\n",
              " Row(Age=64, Sex='F', ChestPainType='ASY', RestingBP=200, Cholesterol=0, FastingBS=0, RestingECG='Normal', MaxHR=140, ExerciseAngina='Y', Oldpeak=1.0, ST_Slope='Flat', HeartDisease=1),\n",
              " Row(Age=61, Sex='M', ChestPainType='ASY', RestingBP=150, Cholesterol=0, FastingBS=0, RestingECG='Normal', MaxHR=117, ExerciseAngina='Y', Oldpeak=2.0, ST_Slope='Flat', HeartDisease=1),\n",
              " Row(Age=68, Sex='M', ChestPainType='ASY', RestingBP=135, Cholesterol=0, FastingBS=0, RestingECG='ST', MaxHR=120, ExerciseAngina='Y', Oldpeak=0.0, ST_Slope='Up', HeartDisease=1),\n",
              " Row(Age=57, Sex='M', ChestPainType='ASY', RestingBP=140, Cholesterol=0, FastingBS=0, RestingECG='Normal', MaxHR=120, ExerciseAngina='Y', Oldpeak=2.0, ST_Slope='Flat', HeartDisease=1),\n",
              " Row(Age=63, Sex='M', ChestPainType='ASY', RestingBP=150, Cholesterol=0, FastingBS=0, RestingECG='Normal', MaxHR=86, ExerciseAngina='Y', Oldpeak=2.0, ST_Slope='Flat', HeartDisease=1),\n",
              " Row(Age=60, Sex='M', ChestPainType='ASY', RestingBP=135, Cholesterol=0, FastingBS=0, RestingECG='Normal', MaxHR=63, ExerciseAngina='Y', Oldpeak=0.5, ST_Slope='Up', HeartDisease=1),\n",
              " Row(Age=66, Sex='M', ChestPainType='ASY', RestingBP=150, Cholesterol=0, FastingBS=0, RestingECG='Normal', MaxHR=108, ExerciseAngina='Y', Oldpeak=2.0, ST_Slope='Flat', HeartDisease=1),\n",
              " Row(Age=63, Sex='M', ChestPainType='ASY', RestingBP=185, Cholesterol=0, FastingBS=0, RestingECG='Normal', MaxHR=98, ExerciseAngina='Y', Oldpeak=0.0, ST_Slope='Up', HeartDisease=1),\n",
              " Row(Age=59, Sex='M', ChestPainType='ASY', RestingBP=135, Cholesterol=0, FastingBS=0, RestingECG='Normal', MaxHR=115, ExerciseAngina='Y', Oldpeak=1.0, ST_Slope='Flat', HeartDisease=1),\n",
              " Row(Age=61, Sex='M', ChestPainType='ASY', RestingBP=125, Cholesterol=0, FastingBS=0, RestingECG='Normal', MaxHR=105, ExerciseAngina='Y', Oldpeak=0.0, ST_Slope='Down', HeartDisease=1),\n",
              " Row(Age=73, Sex='F', ChestPainType='NAP', RestingBP=160, Cholesterol=0, FastingBS=0, RestingECG='ST', MaxHR=121, ExerciseAngina='N', Oldpeak=0.0, ST_Slope='Up', HeartDisease=1),\n",
              " Row(Age=47, Sex='M', ChestPainType='NAP', RestingBP=155, Cholesterol=0, FastingBS=0, RestingECG='Normal', MaxHR=118, ExerciseAngina='Y', Oldpeak=1.0, ST_Slope='Flat', HeartDisease=1),\n",
              " Row(Age=65, Sex='M', ChestPainType='ASY', RestingBP=160, Cholesterol=0, FastingBS=1, RestingECG='ST', MaxHR=122, ExerciseAngina='N', Oldpeak=1.2, ST_Slope='Flat', HeartDisease=1),\n",
              " Row(Age=70, Sex='M', ChestPainType='ASY', RestingBP=140, Cholesterol=0, FastingBS=1, RestingECG='Normal', MaxHR=157, ExerciseAngina='Y', Oldpeak=2.0, ST_Slope='Flat', HeartDisease=1),\n",
              " Row(Age=50, Sex='M', ChestPainType='ASY', RestingBP=120, Cholesterol=0, FastingBS=0, RestingECG='ST', MaxHR=156, ExerciseAngina='Y', Oldpeak=0.0, ST_Slope='Up', HeartDisease=1),\n",
              " Row(Age=60, Sex='M', ChestPainType='ASY', RestingBP=160, Cholesterol=0, FastingBS=0, RestingECG='ST', MaxHR=99, ExerciseAngina='Y', Oldpeak=0.5, ST_Slope='Flat', HeartDisease=1),\n",
              " Row(Age=50, Sex='M', ChestPainType='ASY', RestingBP=115, Cholesterol=0, FastingBS=0, RestingECG='Normal', MaxHR=120, ExerciseAngina='Y', Oldpeak=0.5, ST_Slope='Flat', HeartDisease=1),\n",
              " Row(Age=43, Sex='M', ChestPainType='ASY', RestingBP=115, Cholesterol=0, FastingBS=0, RestingECG='Normal', MaxHR=145, ExerciseAngina='Y', Oldpeak=2.0, ST_Slope='Flat', HeartDisease=1),\n",
              " Row(Age=38, Sex='F', ChestPainType='ASY', RestingBP=110, Cholesterol=0, FastingBS=0, RestingECG='Normal', MaxHR=156, ExerciseAngina='N', Oldpeak=0.0, ST_Slope='Flat', HeartDisease=1),\n",
              " Row(Age=54, Sex='M', ChestPainType='ASY', RestingBP=120, Cholesterol=0, FastingBS=0, RestingECG='Normal', MaxHR=155, ExerciseAngina='N', Oldpeak=0.0, ST_Slope='Flat', HeartDisease=1),\n",
              " Row(Age=61, Sex='M', ChestPainType='ASY', RestingBP=150, Cholesterol=0, FastingBS=0, RestingECG='Normal', MaxHR=105, ExerciseAngina='Y', Oldpeak=0.0, ST_Slope='Flat', HeartDisease=1),\n",
              " Row(Age=42, Sex='M', ChestPainType='ASY', RestingBP=145, Cholesterol=0, FastingBS=0, RestingECG='Normal', MaxHR=99, ExerciseAngina='Y', Oldpeak=0.0, ST_Slope='Flat', HeartDisease=1),\n",
              " Row(Age=53, Sex='M', ChestPainType='ASY', RestingBP=130, Cholesterol=0, FastingBS=0, RestingECG='LVH', MaxHR=135, ExerciseAngina='Y', Oldpeak=1.0, ST_Slope='Flat', HeartDisease=1),\n",
              " Row(Age=55, Sex='M', ChestPainType='ASY', RestingBP=140, Cholesterol=0, FastingBS=0, RestingECG='Normal', MaxHR=83, ExerciseAngina='N', Oldpeak=0.0, ST_Slope='Flat', HeartDisease=1),\n",
              " Row(Age=61, Sex='M', ChestPainType='ASY', RestingBP=160, Cholesterol=0, FastingBS=1, RestingECG='ST', MaxHR=145, ExerciseAngina='N', Oldpeak=1.0, ST_Slope='Flat', HeartDisease=1),\n",
              " Row(Age=51, Sex='M', ChestPainType='ASY', RestingBP=140, Cholesterol=0, FastingBS=0, RestingECG='Normal', MaxHR=60, ExerciseAngina='N', Oldpeak=0.0, ST_Slope='Flat', HeartDisease=1),\n",
              " Row(Age=70, Sex='M', ChestPainType='ASY', RestingBP=115, Cholesterol=0, FastingBS=0, RestingECG='ST', MaxHR=92, ExerciseAngina='Y', Oldpeak=0.0, ST_Slope='Flat', HeartDisease=1),\n",
              " Row(Age=61, Sex='M', ChestPainType='ASY', RestingBP=130, Cholesterol=0, FastingBS=0, RestingECG='LVH', MaxHR=115, ExerciseAngina='N', Oldpeak=0.0, ST_Slope='Flat', HeartDisease=1),\n",
              " Row(Age=38, Sex='M', ChestPainType='ASY', RestingBP=150, Cholesterol=0, FastingBS=1, RestingECG='Normal', MaxHR=120, ExerciseAngina='Y', Oldpeak=0.7, ST_Slope='Flat', HeartDisease=1),\n",
              " Row(Age=57, Sex='M', ChestPainType='ASY', RestingBP=160, Cholesterol=0, FastingBS=1, RestingECG='Normal', MaxHR=98, ExerciseAngina='Y', Oldpeak=2.0, ST_Slope='Flat', HeartDisease=1),\n",
              " Row(Age=38, Sex='M', ChestPainType='ASY', RestingBP=135, Cholesterol=0, FastingBS=1, RestingECG='Normal', MaxHR=150, ExerciseAngina='N', Oldpeak=0.0, ST_Slope='Flat', HeartDisease=1),\n",
              " Row(Age=62, Sex='F', ChestPainType='TA', RestingBP=140, Cholesterol=0, FastingBS=1, RestingECG='Normal', MaxHR=143, ExerciseAngina='N', Oldpeak=0.0, ST_Slope='Flat', HeartDisease=1),\n",
              " Row(Age=58, Sex='M', ChestPainType='ASY', RestingBP=170, Cholesterol=0, FastingBS=1, RestingECG='ST', MaxHR=105, ExerciseAngina='Y', Oldpeak=0.0, ST_Slope='Flat', HeartDisease=1),\n",
              " Row(Age=52, Sex='M', ChestPainType='ASY', RestingBP=165, Cholesterol=0, FastingBS=1, RestingECG='Normal', MaxHR=122, ExerciseAngina='Y', Oldpeak=1.0, ST_Slope='Up', HeartDisease=1),\n",
              " Row(Age=61, Sex='M', ChestPainType='NAP', RestingBP=200, Cholesterol=0, FastingBS=1, RestingECG='ST', MaxHR=70, ExerciseAngina='N', Oldpeak=0.0, ST_Slope='Flat', HeartDisease=1),\n",
              " Row(Age=50, Sex='F', ChestPainType='ASY', RestingBP=160, Cholesterol=0, FastingBS=1, RestingECG='Normal', MaxHR=110, ExerciseAngina='N', Oldpeak=0.0, ST_Slope='Flat', HeartDisease=1),\n",
              " Row(Age=51, Sex='M', ChestPainType='ASY', RestingBP=130, Cholesterol=0, FastingBS=1, RestingECG='ST', MaxHR=163, ExerciseAngina='N', Oldpeak=0.0, ST_Slope='Flat', HeartDisease=1),\n",
              " Row(Age=65, Sex='M', ChestPainType='ASY', RestingBP=145, Cholesterol=0, FastingBS=1, RestingECG='ST', MaxHR=67, ExerciseAngina='N', Oldpeak=0.7, ST_Slope='Flat', HeartDisease=1),\n",
              " Row(Age=52, Sex='M', ChestPainType='ASY', RestingBP=135, Cholesterol=0, FastingBS=1, RestingECG='Normal', MaxHR=128, ExerciseAngina='Y', Oldpeak=2.0, ST_Slope='Flat', HeartDisease=1),\n",
              " Row(Age=47, Sex='M', ChestPainType='NAP', RestingBP=110, Cholesterol=0, FastingBS=1, RestingECG='Normal', MaxHR=120, ExerciseAngina='Y', Oldpeak=0.0, ST_Slope='Flat', HeartDisease=1),\n",
              " Row(Age=35, Sex='M', ChestPainType='ASY', RestingBP=120, Cholesterol=0, FastingBS=1, RestingECG='Normal', MaxHR=130, ExerciseAngina='Y', Oldpeak=1.2, ST_Slope='Flat', HeartDisease=1),\n",
              " Row(Age=57, Sex='M', ChestPainType='ASY', RestingBP=140, Cholesterol=0, FastingBS=1, RestingECG='Normal', MaxHR=100, ExerciseAngina='Y', Oldpeak=0.0, ST_Slope='Flat', HeartDisease=1),\n",
              " Row(Age=62, Sex='M', ChestPainType='ASY', RestingBP=115, Cholesterol=0, FastingBS=1, RestingECG='Normal', MaxHR=72, ExerciseAngina='Y', Oldpeak=-0.5, ST_Slope='Flat', HeartDisease=1),\n",
              " Row(Age=59, Sex='M', ChestPainType='ASY', RestingBP=110, Cholesterol=0, FastingBS=1, RestingECG='Normal', MaxHR=94, ExerciseAngina='N', Oldpeak=0.0, ST_Slope='Flat', HeartDisease=1),\n",
              " Row(Age=53, Sex='M', ChestPainType='NAP', RestingBP=160, Cholesterol=0, FastingBS=1, RestingECG='LVH', MaxHR=122, ExerciseAngina='Y', Oldpeak=0.0, ST_Slope='Flat', HeartDisease=1),\n",
              " Row(Age=62, Sex='M', ChestPainType='ASY', RestingBP=150, Cholesterol=0, FastingBS=1, RestingECG='ST', MaxHR=78, ExerciseAngina='N', Oldpeak=2.0, ST_Slope='Flat', HeartDisease=1),\n",
              " Row(Age=54, Sex='M', ChestPainType='ASY', RestingBP=180, Cholesterol=0, FastingBS=1, RestingECG='Normal', MaxHR=150, ExerciseAngina='N', Oldpeak=1.5, ST_Slope='Flat', HeartDisease=1),\n",
              " Row(Age=56, Sex='M', ChestPainType='ASY', RestingBP=125, Cholesterol=0, FastingBS=1, RestingECG='Normal', MaxHR=103, ExerciseAngina='Y', Oldpeak=1.0, ST_Slope='Flat', HeartDisease=1),\n",
              " Row(Age=56, Sex='M', ChestPainType='NAP', RestingBP=125, Cholesterol=0, FastingBS=1, RestingECG='Normal', MaxHR=98, ExerciseAngina='N', Oldpeak=-2.0, ST_Slope='Flat', HeartDisease=1),\n",
              " Row(Age=54, Sex='M', ChestPainType='ASY', RestingBP=130, Cholesterol=0, FastingBS=1, RestingECG='Normal', MaxHR=110, ExerciseAngina='Y', Oldpeak=3.0, ST_Slope='Flat', HeartDisease=1),\n",
              " Row(Age=66, Sex='F', ChestPainType='ASY', RestingBP=155, Cholesterol=0, FastingBS=1, RestingECG='Normal', MaxHR=90, ExerciseAngina='N', Oldpeak=0.0, ST_Slope='Flat', HeartDisease=1),\n",
              " Row(Age=63, Sex='M', ChestPainType='ASY', RestingBP=140, Cholesterol=260, FastingBS=0, RestingECG='ST', MaxHR=112, ExerciseAngina='Y', Oldpeak=3.0, ST_Slope='Flat', HeartDisease=1),\n",
              " Row(Age=44, Sex='M', ChestPainType='ASY', RestingBP=130, Cholesterol=209, FastingBS=0, RestingECG='ST', MaxHR=127, ExerciseAngina='N', Oldpeak=0.0, ST_Slope='Up', HeartDisease=0),\n",
              " Row(Age=60, Sex='M', ChestPainType='ASY', RestingBP=132, Cholesterol=218, FastingBS=0, RestingECG='ST', MaxHR=140, ExerciseAngina='Y', Oldpeak=1.5, ST_Slope='Down', HeartDisease=1),\n",
              " Row(Age=55, Sex='M', ChestPainType='ASY', RestingBP=142, Cholesterol=228, FastingBS=0, RestingECG='ST', MaxHR=149, ExerciseAngina='Y', Oldpeak=2.5, ST_Slope='Up', HeartDisease=1),\n",
              " Row(Age=66, Sex='M', ChestPainType='NAP', RestingBP=110, Cholesterol=213, FastingBS=1, RestingECG='LVH', MaxHR=99, ExerciseAngina='Y', Oldpeak=1.3, ST_Slope='Flat', HeartDisease=0),\n",
              " Row(Age=66, Sex='M', ChestPainType='NAP', RestingBP=120, Cholesterol=0, FastingBS=0, RestingECG='ST', MaxHR=120, ExerciseAngina='N', Oldpeak=-0.5, ST_Slope='Up', HeartDisease=0),\n",
              " Row(Age=65, Sex='M', ChestPainType='ASY', RestingBP=150, Cholesterol=236, FastingBS=1, RestingECG='ST', MaxHR=105, ExerciseAngina='Y', Oldpeak=0.0, ST_Slope='Flat', HeartDisease=1),\n",
              " Row(Age=60, Sex='M', ChestPainType='NAP', RestingBP=180, Cholesterol=0, FastingBS=0, RestingECG='ST', MaxHR=140, ExerciseAngina='Y', Oldpeak=1.5, ST_Slope='Flat', HeartDisease=0),\n",
              " Row(Age=60, Sex='M', ChestPainType='NAP', RestingBP=120, Cholesterol=0, FastingBS=1, RestingECG='Normal', MaxHR=141, ExerciseAngina='Y', Oldpeak=2.0, ST_Slope='Up', HeartDisease=1),\n",
              " Row(Age=60, Sex='M', ChestPainType='ATA', RestingBP=160, Cholesterol=267, FastingBS=1, RestingECG='ST', MaxHR=157, ExerciseAngina='N', Oldpeak=0.5, ST_Slope='Flat', HeartDisease=1),\n",
              " Row(Age=56, Sex='M', ChestPainType='ATA', RestingBP=126, Cholesterol=166, FastingBS=0, RestingECG='ST', MaxHR=140, ExerciseAngina='N', Oldpeak=0.0, ST_Slope='Up', HeartDisease=0),\n",
              " Row(Age=59, Sex='M', ChestPainType='ASY', RestingBP=140, Cholesterol=0, FastingBS=0, RestingECG='ST', MaxHR=117, ExerciseAngina='Y', Oldpeak=1.0, ST_Slope='Flat', HeartDisease=1),\n",
              " Row(Age=62, Sex='M', ChestPainType='ASY', RestingBP=110, Cholesterol=0, FastingBS=0, RestingECG='Normal', MaxHR=120, ExerciseAngina='Y', Oldpeak=0.5, ST_Slope='Flat', HeartDisease=1),\n",
              " Row(Age=63, Sex='M', ChestPainType='NAP', RestingBP=133, Cholesterol=0, FastingBS=0, RestingECG='LVH', MaxHR=120, ExerciseAngina='Y', Oldpeak=1.0, ST_Slope='Flat', HeartDisease=1),\n",
              " Row(Age=57, Sex='M', ChestPainType='ASY', RestingBP=128, Cholesterol=0, FastingBS=1, RestingECG='ST', MaxHR=148, ExerciseAngina='Y', Oldpeak=1.0, ST_Slope='Flat', HeartDisease=1),\n",
              " Row(Age=62, Sex='M', ChestPainType='ASY', RestingBP=120, Cholesterol=220, FastingBS=0, RestingECG='ST', MaxHR=86, ExerciseAngina='N', Oldpeak=0.0, ST_Slope='Up', HeartDisease=0),\n",
              " Row(Age=63, Sex='M', ChestPainType='ASY', RestingBP=170, Cholesterol=177, FastingBS=0, RestingECG='Normal', MaxHR=84, ExerciseAngina='Y', Oldpeak=2.5, ST_Slope='Down', HeartDisease=1),\n",
              " Row(Age=46, Sex='M', ChestPainType='ASY', RestingBP=110, Cholesterol=236, FastingBS=0, RestingECG='Normal', MaxHR=125, ExerciseAngina='Y', Oldpeak=2.0, ST_Slope='Flat', HeartDisease=1),\n",
              " Row(Age=63, Sex='M', ChestPainType='ASY', RestingBP=126, Cholesterol=0, FastingBS=0, RestingECG='ST', MaxHR=120, ExerciseAngina='N', Oldpeak=1.5, ST_Slope='Down', HeartDisease=0),\n",
              " Row(Age=60, Sex='M', ChestPainType='ASY', RestingBP=152, Cholesterol=0, FastingBS=0, RestingECG='ST', MaxHR=118, ExerciseAngina='Y', Oldpeak=0.0, ST_Slope='Up', HeartDisease=0),\n",
              " Row(Age=58, Sex='M', ChestPainType='ASY', RestingBP=116, Cholesterol=0, FastingBS=0, RestingECG='Normal', MaxHR=124, ExerciseAngina='N', Oldpeak=1.0, ST_Slope='Up', HeartDisease=1),\n",
              " Row(Age=64, Sex='M', ChestPainType='ASY', RestingBP=120, Cholesterol=0, FastingBS=1, RestingECG='ST', MaxHR=106, ExerciseAngina='N', Oldpeak=2.0, ST_Slope='Flat', HeartDisease=1),\n",
              " Row(Age=63, Sex='M', ChestPainType='NAP', RestingBP=130, Cholesterol=0, FastingBS=0, RestingECG='ST', MaxHR=111, ExerciseAngina='Y', Oldpeak=0.0, ST_Slope='Flat', HeartDisease=1),\n",
              " Row(Age=74, Sex='M', ChestPainType='NAP', RestingBP=138, Cholesterol=0, FastingBS=0, RestingECG='Normal', MaxHR=116, ExerciseAngina='N', Oldpeak=0.2, ST_Slope='Up', HeartDisease=0),\n",
              " Row(Age=52, Sex='M', ChestPainType='NAP', RestingBP=128, Cholesterol=0, FastingBS=0, RestingECG='ST', MaxHR=180, ExerciseAngina='N', Oldpeak=3.0, ST_Slope='Up', HeartDisease=1),\n",
              " Row(Age=69, Sex='M', ChestPainType='ASY', RestingBP=130, Cholesterol=0, FastingBS=1, RestingECG='ST', MaxHR=129, ExerciseAngina='N', Oldpeak=1.0, ST_Slope='Flat', HeartDisease=1),\n",
              " Row(Age=51, Sex='M', ChestPainType='ASY', RestingBP=128, Cholesterol=0, FastingBS=1, RestingECG='ST', MaxHR=125, ExerciseAngina='Y', Oldpeak=1.2, ST_Slope='Flat', HeartDisease=1),\n",
              " Row(Age=60, Sex='M', ChestPainType='ASY', RestingBP=130, Cholesterol=186, FastingBS=1, RestingECG='ST', MaxHR=140, ExerciseAngina='Y', Oldpeak=0.5, ST_Slope='Flat', HeartDisease=1),\n",
              " Row(Age=56, Sex='M', ChestPainType='ASY', RestingBP=120, Cholesterol=100, FastingBS=0, RestingECG='Normal', MaxHR=120, ExerciseAngina='Y', Oldpeak=1.5, ST_Slope='Flat', HeartDisease=1),\n",
              " Row(Age=55, Sex='M', ChestPainType='NAP', RestingBP=136, Cholesterol=228, FastingBS=0, RestingECG='ST', MaxHR=124, ExerciseAngina='Y', Oldpeak=1.6, ST_Slope='Flat', HeartDisease=1),\n",
              " Row(Age=54, Sex='M', ChestPainType='ASY', RestingBP=130, Cholesterol=0, FastingBS=0, RestingECG='ST', MaxHR=117, ExerciseAngina='Y', Oldpeak=1.4, ST_Slope='Flat', HeartDisease=1),\n",
              " Row(Age=77, Sex='M', ChestPainType='ASY', RestingBP=124, Cholesterol=171, FastingBS=0, RestingECG='ST', MaxHR=110, ExerciseAngina='Y', Oldpeak=2.0, ST_Slope='Up', HeartDisease=1),\n",
              " Row(Age=63, Sex='M', ChestPainType='ASY', RestingBP=160, Cholesterol=230, FastingBS=1, RestingECG='Normal', MaxHR=105, ExerciseAngina='Y', Oldpeak=1.0, ST_Slope='Flat', HeartDisease=1),\n",
              " Row(Age=55, Sex='M', ChestPainType='NAP', RestingBP=0, Cholesterol=0, FastingBS=0, RestingECG='Normal', MaxHR=155, ExerciseAngina='N', Oldpeak=1.5, ST_Slope='Flat', HeartDisease=1),\n",
              " Row(Age=52, Sex='M', ChestPainType='NAP', RestingBP=122, Cholesterol=0, FastingBS=0, RestingECG='Normal', MaxHR=110, ExerciseAngina='Y', Oldpeak=2.0, ST_Slope='Down', HeartDisease=1),\n",
              " Row(Age=64, Sex='M', ChestPainType='ASY', RestingBP=144, Cholesterol=0, FastingBS=0, RestingECG='ST', MaxHR=122, ExerciseAngina='Y', Oldpeak=1.0, ST_Slope='Flat', HeartDisease=1),\n",
              " Row(Age=60, Sex='M', ChestPainType='ASY', RestingBP=140, Cholesterol=281, FastingBS=0, RestingECG='ST', MaxHR=118, ExerciseAngina='Y', Oldpeak=1.5, ST_Slope='Flat', HeartDisease=1),\n",
              " Row(Age=60, Sex='M', ChestPainType='ASY', RestingBP=120, Cholesterol=0, FastingBS=0, RestingECG='Normal', MaxHR=133, ExerciseAngina='Y', Oldpeak=2.0, ST_Slope='Up', HeartDisease=0),\n",
              " Row(Age=58, Sex='M', ChestPainType='ASY', RestingBP=136, Cholesterol=203, FastingBS=1, RestingECG='Normal', MaxHR=123, ExerciseAngina='Y', Oldpeak=1.2, ST_Slope='Flat', HeartDisease=1),\n",
              " Row(Age=59, Sex='M', ChestPainType='ASY', RestingBP=154, Cholesterol=0, FastingBS=0, RestingECG='ST', MaxHR=131, ExerciseAngina='Y', Oldpeak=1.5, ST_Slope='Up', HeartDisease=0),\n",
              " Row(Age=61, Sex='M', ChestPainType='NAP', RestingBP=120, Cholesterol=0, FastingBS=0, RestingECG='Normal', MaxHR=80, ExerciseAngina='Y', Oldpeak=0.0, ST_Slope='Flat', HeartDisease=1),\n",
              " Row(Age=40, Sex='M', ChestPainType='ASY', RestingBP=125, Cholesterol=0, FastingBS=1, RestingECG='Normal', MaxHR=165, ExerciseAngina='N', Oldpeak=0.0, ST_Slope='Flat', HeartDisease=1),\n",
              " Row(Age=61, Sex='M', ChestPainType='ASY', RestingBP=134, Cholesterol=0, FastingBS=1, RestingECG='ST', MaxHR=86, ExerciseAngina='N', Oldpeak=1.5, ST_Slope='Flat', HeartDisease=1),\n",
              " Row(Age=41, Sex='M', ChestPainType='ASY', RestingBP=104, Cholesterol=0, FastingBS=0, RestingECG='ST', MaxHR=111, ExerciseAngina='N', Oldpeak=0.0, ST_Slope='Up', HeartDisease=0),\n",
              " Row(Age=57, Sex='M', ChestPainType='ASY', RestingBP=139, Cholesterol=277, FastingBS=1, RestingECG='ST', MaxHR=118, ExerciseAngina='Y', Oldpeak=1.9, ST_Slope='Flat', HeartDisease=1),\n",
              " Row(Age=63, Sex='M', ChestPainType='ASY', RestingBP=136, Cholesterol=0, FastingBS=0, RestingECG='Normal', MaxHR=84, ExerciseAngina='Y', Oldpeak=0.0, ST_Slope='Flat', HeartDisease=1),\n",
              " Row(Age=59, Sex='M', ChestPainType='ASY', RestingBP=122, Cholesterol=233, FastingBS=0, RestingECG='Normal', MaxHR=117, ExerciseAngina='Y', Oldpeak=1.3, ST_Slope='Down', HeartDisease=1),\n",
              " Row(Age=51, Sex='M', ChestPainType='ASY', RestingBP=128, Cholesterol=0, FastingBS=0, RestingECG='Normal', MaxHR=107, ExerciseAngina='N', Oldpeak=0.0, ST_Slope='Up', HeartDisease=0),\n",
              " Row(Age=59, Sex='M', ChestPainType='NAP', RestingBP=131, Cholesterol=0, FastingBS=0, RestingECG='Normal', MaxHR=128, ExerciseAngina='Y', Oldpeak=2.0, ST_Slope='Down', HeartDisease=1),\n",
              " Row(Age=42, Sex='M', ChestPainType='NAP', RestingBP=134, Cholesterol=240, FastingBS=0, RestingECG='Normal', MaxHR=160, ExerciseAngina='N', Oldpeak=0.0, ST_Slope='Up', HeartDisease=0),\n",
              " Row(Age=55, Sex='M', ChestPainType='NAP', RestingBP=120, Cholesterol=0, FastingBS=0, RestingECG='ST', MaxHR=125, ExerciseAngina='Y', Oldpeak=2.5, ST_Slope='Flat', HeartDisease=1),\n",
              " Row(Age=63, Sex='F', ChestPainType='ATA', RestingBP=132, Cholesterol=0, FastingBS=0, RestingECG='Normal', MaxHR=130, ExerciseAngina='N', Oldpeak=0.1, ST_Slope='Up', HeartDisease=0),\n",
              " Row(Age=62, Sex='M', ChestPainType='ASY', RestingBP=152, Cholesterol=153, FastingBS=0, RestingECG='ST', MaxHR=97, ExerciseAngina='Y', Oldpeak=1.6, ST_Slope='Up', HeartDisease=1),\n",
              " Row(Age=56, Sex='M', ChestPainType='ATA', RestingBP=124, Cholesterol=224, FastingBS=1, RestingECG='Normal', MaxHR=161, ExerciseAngina='N', Oldpeak=2.0, ST_Slope='Flat', HeartDisease=0),\n",
              " Row(Age=53, Sex='M', ChestPainType='ASY', RestingBP=126, Cholesterol=0, FastingBS=0, RestingECG='Normal', MaxHR=106, ExerciseAngina='N', Oldpeak=0.0, ST_Slope='Flat', HeartDisease=1),\n",
              " Row(Age=68, Sex='M', ChestPainType='ASY', RestingBP=138, Cholesterol=0, FastingBS=0, RestingECG='Normal', MaxHR=130, ExerciseAngina='Y', Oldpeak=3.0, ST_Slope='Flat', HeartDisease=1),\n",
              " Row(Age=53, Sex='M', ChestPainType='ASY', RestingBP=154, Cholesterol=0, FastingBS=1, RestingECG='ST', MaxHR=140, ExerciseAngina='Y', Oldpeak=1.5, ST_Slope='Flat', HeartDisease=1),\n",
              " Row(Age=60, Sex='M', ChestPainType='NAP', RestingBP=141, Cholesterol=316, FastingBS=1, RestingECG='ST', MaxHR=122, ExerciseAngina='Y', Oldpeak=1.7, ST_Slope='Flat', HeartDisease=1),\n",
              " Row(Age=62, Sex='M', ChestPainType='ATA', RestingBP=131, Cholesterol=0, FastingBS=0, RestingECG='Normal', MaxHR=130, ExerciseAngina='N', Oldpeak=0.1, ST_Slope='Up', HeartDisease=0),\n",
              " Row(Age=59, Sex='M', ChestPainType='ASY', RestingBP=178, Cholesterol=0, FastingBS=1, RestingECG='LVH', MaxHR=120, ExerciseAngina='Y', Oldpeak=0.0, ST_Slope='Flat', HeartDisease=1),\n",
              " Row(Age=51, Sex='M', ChestPainType='ASY', RestingBP=132, Cholesterol=218, FastingBS=1, RestingECG='LVH', MaxHR=139, ExerciseAngina='N', Oldpeak=0.1, ST_Slope='Up', HeartDisease=0),\n",
              " Row(Age=61, Sex='M', ChestPainType='ASY', RestingBP=110, Cholesterol=0, FastingBS=1, RestingECG='Normal', MaxHR=108, ExerciseAngina='Y', Oldpeak=2.0, ST_Slope='Down', HeartDisease=1),\n",
              " Row(Age=57, Sex='M', ChestPainType='ASY', RestingBP=130, Cholesterol=311, FastingBS=1, RestingECG='ST', MaxHR=148, ExerciseAngina='Y', Oldpeak=2.0, ST_Slope='Flat', HeartDisease=1),\n",
              " Row(Age=56, Sex='M', ChestPainType='NAP', RestingBP=170, Cholesterol=0, FastingBS=0, RestingECG='LVH', MaxHR=123, ExerciseAngina='Y', Oldpeak=2.5, ST_Slope='Flat', HeartDisease=1),\n",
              " Row(Age=58, Sex='M', ChestPainType='ATA', RestingBP=126, Cholesterol=0, FastingBS=1, RestingECG='Normal', MaxHR=110, ExerciseAngina='Y', Oldpeak=2.0, ST_Slope='Flat', HeartDisease=1),\n",
              " Row(Age=69, Sex='M', ChestPainType='NAP', RestingBP=140, Cholesterol=0, FastingBS=1, RestingECG='ST', MaxHR=118, ExerciseAngina='N', Oldpeak=2.5, ST_Slope='Down', HeartDisease=1),\n",
              " Row(Age=67, Sex='M', ChestPainType='TA', RestingBP=142, Cholesterol=270, FastingBS=1, RestingECG='Normal', MaxHR=125, ExerciseAngina='N', Oldpeak=2.5, ST_Slope='Up', HeartDisease=1),\n",
              " Row(Age=58, Sex='M', ChestPainType='ASY', RestingBP=120, Cholesterol=0, FastingBS=0, RestingECG='LVH', MaxHR=106, ExerciseAngina='Y', Oldpeak=1.5, ST_Slope='Down', HeartDisease=1),\n",
              " Row(Age=65, Sex='M', ChestPainType='ASY', RestingBP=134, Cholesterol=0, FastingBS=0, RestingECG='Normal', MaxHR=112, ExerciseAngina='Y', Oldpeak=1.1, ST_Slope='Flat', HeartDisease=1),\n",
              " Row(Age=63, Sex='M', ChestPainType='ATA', RestingBP=139, Cholesterol=217, FastingBS=1, RestingECG='ST', MaxHR=128, ExerciseAngina='Y', Oldpeak=1.2, ST_Slope='Flat', HeartDisease=1),\n",
              " Row(Age=55, Sex='M', ChestPainType='ATA', RestingBP=110, Cholesterol=214, FastingBS=1, RestingECG='ST', MaxHR=180, ExerciseAngina='N', Oldpeak=0.4, ST_Slope='Up', HeartDisease=0),\n",
              " Row(Age=57, Sex='M', ChestPainType='ASY', RestingBP=140, Cholesterol=214, FastingBS=0, RestingECG='ST', MaxHR=144, ExerciseAngina='Y', Oldpeak=2.0, ST_Slope='Flat', HeartDisease=1),\n",
              " Row(Age=65, Sex='M', ChestPainType='TA', RestingBP=140, Cholesterol=252, FastingBS=0, RestingECG='Normal', MaxHR=135, ExerciseAngina='N', Oldpeak=0.3, ST_Slope='Up', HeartDisease=0),\n",
              " Row(Age=54, Sex='M', ChestPainType='ASY', RestingBP=136, Cholesterol=220, FastingBS=0, RestingECG='Normal', MaxHR=140, ExerciseAngina='Y', Oldpeak=3.0, ST_Slope='Flat', HeartDisease=1),\n",
              " Row(Age=72, Sex='M', ChestPainType='NAP', RestingBP=120, Cholesterol=214, FastingBS=0, RestingECG='Normal', MaxHR=102, ExerciseAngina='Y', Oldpeak=1.0, ST_Slope='Flat', HeartDisease=1),\n",
              " Row(Age=75, Sex='M', ChestPainType='ASY', RestingBP=170, Cholesterol=203, FastingBS=1, RestingECG='ST', MaxHR=108, ExerciseAngina='N', Oldpeak=0.0, ST_Slope='Flat', HeartDisease=1),\n",
              " Row(Age=49, Sex='M', ChestPainType='TA', RestingBP=130, Cholesterol=0, FastingBS=0, RestingECG='ST', MaxHR=145, ExerciseAngina='N', Oldpeak=3.0, ST_Slope='Flat', HeartDisease=1),\n",
              " Row(Age=51, Sex='M', ChestPainType='NAP', RestingBP=137, Cholesterol=339, FastingBS=0, RestingECG='Normal', MaxHR=127, ExerciseAngina='Y', Oldpeak=1.7, ST_Slope='Flat', HeartDisease=1),\n",
              " Row(Age=60, Sex='M', ChestPainType='ASY', RestingBP=142, Cholesterol=216, FastingBS=0, RestingECG='Normal', MaxHR=110, ExerciseAngina='Y', Oldpeak=2.5, ST_Slope='Flat', HeartDisease=1),\n",
              " Row(Age=64, Sex='F', ChestPainType='ASY', RestingBP=142, Cholesterol=276, FastingBS=0, RestingECG='Normal', MaxHR=140, ExerciseAngina='Y', Oldpeak=1.0, ST_Slope='Flat', HeartDisease=1),\n",
              " Row(Age=58, Sex='M', ChestPainType='ASY', RestingBP=132, Cholesterol=458, FastingBS=1, RestingECG='Normal', MaxHR=69, ExerciseAngina='N', Oldpeak=1.0, ST_Slope='Down', HeartDisease=0),\n",
              " Row(Age=61, Sex='M', ChestPainType='ASY', RestingBP=146, Cholesterol=241, FastingBS=0, RestingECG='Normal', MaxHR=148, ExerciseAngina='Y', Oldpeak=3.0, ST_Slope='Down', HeartDisease=1),\n",
              " Row(Age=67, Sex='M', ChestPainType='ASY', RestingBP=160, Cholesterol=384, FastingBS=1, RestingECG='ST', MaxHR=130, ExerciseAngina='Y', Oldpeak=0.0, ST_Slope='Flat', HeartDisease=1),\n",
              " Row(Age=62, Sex='M', ChestPainType='ASY', RestingBP=135, Cholesterol=297, FastingBS=0, RestingECG='Normal', MaxHR=130, ExerciseAngina='Y', Oldpeak=1.0, ST_Slope='Flat', HeartDisease=1),\n",
              " Row(Age=65, Sex='M', ChestPainType='ASY', RestingBP=136, Cholesterol=248, FastingBS=0, RestingECG='Normal', MaxHR=140, ExerciseAngina='Y', Oldpeak=4.0, ST_Slope='Down', HeartDisease=1),\n",
              " Row(Age=63, Sex='M', ChestPainType='ASY', RestingBP=130, Cholesterol=308, FastingBS=0, RestingECG='Normal', MaxHR=138, ExerciseAngina='Y', Oldpeak=2.0, ST_Slope='Flat', HeartDisease=1),\n",
              " Row(Age=69, Sex='M', ChestPainType='ASY', RestingBP=140, Cholesterol=208, FastingBS=0, RestingECG='ST', MaxHR=140, ExerciseAngina='Y', Oldpeak=2.0, ST_Slope='Flat', HeartDisease=1),\n",
              " Row(Age=51, Sex='M', ChestPainType='ASY', RestingBP=132, Cholesterol=227, FastingBS=1, RestingECG='ST', MaxHR=138, ExerciseAngina='N', Oldpeak=0.2, ST_Slope='Up', HeartDisease=0),\n",
              " Row(Age=62, Sex='M', ChestPainType='ASY', RestingBP=158, Cholesterol=210, FastingBS=1, RestingECG='Normal', MaxHR=112, ExerciseAngina='Y', Oldpeak=3.0, ST_Slope='Down', HeartDisease=1),\n",
              " Row(Age=55, Sex='M', ChestPainType='NAP', RestingBP=136, Cholesterol=245, FastingBS=1, RestingECG='ST', MaxHR=131, ExerciseAngina='Y', Oldpeak=1.2, ST_Slope='Flat', HeartDisease=1),\n",
              " Row(Age=75, Sex='M', ChestPainType='ASY', RestingBP=136, Cholesterol=225, FastingBS=0, RestingECG='Normal', MaxHR=112, ExerciseAngina='Y', Oldpeak=3.0, ST_Slope='Flat', HeartDisease=1),\n",
              " Row(Age=40, Sex='M', ChestPainType='NAP', RestingBP=106, Cholesterol=240, FastingBS=0, RestingECG='Normal', MaxHR=80, ExerciseAngina='Y', Oldpeak=0.0, ST_Slope='Up', HeartDisease=0),\n",
              " Row(Age=67, Sex='M', ChestPainType='ASY', RestingBP=120, Cholesterol=0, FastingBS=1, RestingECG='Normal', MaxHR=150, ExerciseAngina='N', Oldpeak=1.5, ST_Slope='Down', HeartDisease=1),\n",
              " Row(Age=58, Sex='M', ChestPainType='ASY', RestingBP=110, Cholesterol=198, FastingBS=0, RestingECG='Normal', MaxHR=110, ExerciseAngina='N', Oldpeak=0.0, ST_Slope='Flat', HeartDisease=1),\n",
              " Row(Age=60, Sex='M', ChestPainType='ASY', RestingBP=136, Cholesterol=195, FastingBS=0, RestingECG='Normal', MaxHR=126, ExerciseAngina='N', Oldpeak=0.3, ST_Slope='Up', HeartDisease=0),\n",
              " Row(Age=63, Sex='M', ChestPainType='ASY', RestingBP=160, Cholesterol=267, FastingBS=1, RestingECG='ST', MaxHR=88, ExerciseAngina='Y', Oldpeak=2.0, ST_Slope='Flat', HeartDisease=1),\n",
              " Row(Age=35, Sex='M', ChestPainType='NAP', RestingBP=123, Cholesterol=161, FastingBS=0, RestingECG='ST', MaxHR=153, ExerciseAngina='N', Oldpeak=-0.1, ST_Slope='Up', HeartDisease=0),\n",
              " Row(Age=62, Sex='M', ChestPainType='TA', RestingBP=112, Cholesterol=258, FastingBS=0, RestingECG='ST', MaxHR=150, ExerciseAngina='Y', Oldpeak=1.3, ST_Slope='Flat', HeartDisease=1),\n",
              " Row(Age=43, Sex='M', ChestPainType='ASY', RestingBP=122, Cholesterol=0, FastingBS=0, RestingECG='Normal', MaxHR=120, ExerciseAngina='N', Oldpeak=0.5, ST_Slope='Up', HeartDisease=1),\n",
              " Row(Age=63, Sex='M', ChestPainType='NAP', RestingBP=130, Cholesterol=0, FastingBS=1, RestingECG='ST', MaxHR=160, ExerciseAngina='N', Oldpeak=3.0, ST_Slope='Flat', HeartDisease=0),\n",
              " Row(Age=68, Sex='M', ChestPainType='NAP', RestingBP=150, Cholesterol=195, FastingBS=1, RestingECG='Normal', MaxHR=132, ExerciseAngina='N', Oldpeak=0.0, ST_Slope='Flat', HeartDisease=1),\n",
              " Row(Age=65, Sex='M', ChestPainType='ASY', RestingBP=150, Cholesterol=235, FastingBS=0, RestingECG='Normal', MaxHR=120, ExerciseAngina='Y', Oldpeak=1.5, ST_Slope='Flat', HeartDisease=1),\n",
              " Row(Age=48, Sex='M', ChestPainType='NAP', RestingBP=102, Cholesterol=0, FastingBS=1, RestingECG='ST', MaxHR=110, ExerciseAngina='Y', Oldpeak=1.0, ST_Slope='Down', HeartDisease=1),\n",
              " Row(Age=63, Sex='M', ChestPainType='ASY', RestingBP=96, Cholesterol=305, FastingBS=0, RestingECG='ST', MaxHR=121, ExerciseAngina='Y', Oldpeak=1.0, ST_Slope='Up', HeartDisease=1),\n",
              " Row(Age=64, Sex='M', ChestPainType='ASY', RestingBP=130, Cholesterol=223, FastingBS=0, RestingECG='ST', MaxHR=128, ExerciseAngina='N', Oldpeak=0.5, ST_Slope='Flat', HeartDisease=0),\n",
              " Row(Age=61, Sex='M', ChestPainType='ASY', RestingBP=120, Cholesterol=282, FastingBS=0, RestingECG='ST', MaxHR=135, ExerciseAngina='Y', Oldpeak=4.0, ST_Slope='Down', HeartDisease=1),\n",
              " Row(Age=50, Sex='M', ChestPainType='ASY', RestingBP=144, Cholesterol=349, FastingBS=0, RestingECG='LVH', MaxHR=120, ExerciseAngina='Y', Oldpeak=1.0, ST_Slope='Up', HeartDisease=1),\n",
              " Row(Age=59, Sex='M', ChestPainType='ASY', RestingBP=124, Cholesterol=160, FastingBS=0, RestingECG='Normal', MaxHR=117, ExerciseAngina='Y', Oldpeak=1.0, ST_Slope='Flat', HeartDisease=1),\n",
              " Row(Age=55, Sex='M', ChestPainType='ASY', RestingBP=150, Cholesterol=160, FastingBS=0, RestingECG='ST', MaxHR=150, ExerciseAngina='N', Oldpeak=0.0, ST_Slope='Up', HeartDisease=0),\n",
              " Row(Age=45, Sex='M', ChestPainType='NAP', RestingBP=130, Cholesterol=236, FastingBS=0, RestingECG='Normal', MaxHR=144, ExerciseAngina='N', Oldpeak=0.1, ST_Slope='Up', HeartDisease=0),\n",
              " Row(Age=65, Sex='M', ChestPainType='ASY', RestingBP=144, Cholesterol=312, FastingBS=0, RestingECG='LVH', MaxHR=113, ExerciseAngina='Y', Oldpeak=1.7, ST_Slope='Flat', HeartDisease=1),\n",
              " Row(Age=61, Sex='M', ChestPainType='ATA', RestingBP=139, Cholesterol=283, FastingBS=0, RestingECG='Normal', MaxHR=135, ExerciseAngina='N', Oldpeak=0.3, ST_Slope='Up', HeartDisease=0),\n",
              " Row(Age=49, Sex='M', ChestPainType='NAP', RestingBP=131, Cholesterol=142, FastingBS=0, RestingECG='Normal', MaxHR=127, ExerciseAngina='Y', Oldpeak=1.5, ST_Slope='Flat', HeartDisease=1),\n",
              " Row(Age=72, Sex='M', ChestPainType='ASY', RestingBP=143, Cholesterol=211, FastingBS=0, RestingECG='Normal', MaxHR=109, ExerciseAngina='Y', Oldpeak=1.4, ST_Slope='Flat', HeartDisease=1),\n",
              " Row(Age=50, Sex='M', ChestPainType='ASY', RestingBP=133, Cholesterol=218, FastingBS=0, RestingECG='Normal', MaxHR=128, ExerciseAngina='Y', Oldpeak=1.1, ST_Slope='Flat', HeartDisease=1),\n",
              " Row(Age=64, Sex='M', ChestPainType='ASY', RestingBP=143, Cholesterol=306, FastingBS=1, RestingECG='ST', MaxHR=115, ExerciseAngina='Y', Oldpeak=1.8, ST_Slope='Flat', HeartDisease=1),\n",
              " Row(Age=55, Sex='M', ChestPainType='ASY', RestingBP=116, Cholesterol=186, FastingBS=1, RestingECG='ST', MaxHR=102, ExerciseAngina='N', Oldpeak=0.0, ST_Slope='Flat', HeartDisease=1),\n",
              " Row(Age=63, Sex='M', ChestPainType='ASY', RestingBP=110, Cholesterol=252, FastingBS=0, RestingECG='ST', MaxHR=140, ExerciseAngina='Y', Oldpeak=2.0, ST_Slope='Flat', HeartDisease=1),\n",
              " Row(Age=59, Sex='M', ChestPainType='ASY', RestingBP=125, Cholesterol=222, FastingBS=0, RestingECG='Normal', MaxHR=135, ExerciseAngina='Y', Oldpeak=2.5, ST_Slope='Down', HeartDisease=1),\n",
              " Row(Age=56, Sex='M', ChestPainType='ASY', RestingBP=130, Cholesterol=0, FastingBS=0, RestingECG='LVH', MaxHR=122, ExerciseAngina='Y', Oldpeak=1.0, ST_Slope='Flat', HeartDisease=1),\n",
              " Row(Age=62, Sex='M', ChestPainType='NAP', RestingBP=133, Cholesterol=0, FastingBS=1, RestingECG='ST', MaxHR=119, ExerciseAngina='Y', Oldpeak=1.2, ST_Slope='Flat', HeartDisease=1),\n",
              " Row(Age=74, Sex='M', ChestPainType='ASY', RestingBP=150, Cholesterol=258, FastingBS=1, RestingECG='ST', MaxHR=130, ExerciseAngina='Y', Oldpeak=4.0, ST_Slope='Down', HeartDisease=1),\n",
              " Row(Age=54, Sex='M', ChestPainType='ASY', RestingBP=130, Cholesterol=202, FastingBS=1, RestingECG='Normal', MaxHR=112, ExerciseAngina='Y', Oldpeak=2.0, ST_Slope='Flat', HeartDisease=1),\n",
              " Row(Age=57, Sex='M', ChestPainType='ASY', RestingBP=110, Cholesterol=197, FastingBS=0, RestingECG='LVH', MaxHR=100, ExerciseAngina='N', Oldpeak=0.0, ST_Slope='Up', HeartDisease=0),\n",
              " Row(Age=62, Sex='M', ChestPainType='NAP', RestingBP=138, Cholesterol=204, FastingBS=0, RestingECG='ST', MaxHR=122, ExerciseAngina='Y', Oldpeak=1.2, ST_Slope='Flat', HeartDisease=1),\n",
              " Row(Age=76, Sex='M', ChestPainType='NAP', RestingBP=104, Cholesterol=113, FastingBS=0, RestingECG='LVH', MaxHR=120, ExerciseAngina='N', Oldpeak=3.5, ST_Slope='Down', HeartDisease=1),\n",
              " Row(Age=54, Sex='F', ChestPainType='ASY', RestingBP=138, Cholesterol=274, FastingBS=0, RestingECG='Normal', MaxHR=105, ExerciseAngina='Y', Oldpeak=1.5, ST_Slope='Flat', HeartDisease=1),\n",
              " Row(Age=70, Sex='M', ChestPainType='ASY', RestingBP=170, Cholesterol=192, FastingBS=0, RestingECG='ST', MaxHR=129, ExerciseAngina='Y', Oldpeak=3.0, ST_Slope='Down', HeartDisease=1),\n",
              " Row(Age=61, Sex='F', ChestPainType='ATA', RestingBP=140, Cholesterol=298, FastingBS=1, RestingECG='Normal', MaxHR=120, ExerciseAngina='Y', Oldpeak=0.0, ST_Slope='Up', HeartDisease=0),\n",
              " Row(Age=48, Sex='M', ChestPainType='ASY', RestingBP=132, Cholesterol=272, FastingBS=0, RestingECG='ST', MaxHR=139, ExerciseAngina='N', Oldpeak=0.2, ST_Slope='Up', HeartDisease=0),\n",
              " Row(Age=48, Sex='M', ChestPainType='NAP', RestingBP=132, Cholesterol=220, FastingBS=1, RestingECG='ST', MaxHR=162, ExerciseAngina='N', Oldpeak=0.0, ST_Slope='Flat', HeartDisease=1),\n",
              " Row(Age=61, Sex='M', ChestPainType='TA', RestingBP=142, Cholesterol=200, FastingBS=1, RestingECG='ST', MaxHR=100, ExerciseAngina='N', Oldpeak=1.5, ST_Slope='Down', HeartDisease=1),\n",
              " Row(Age=66, Sex='M', ChestPainType='ASY', RestingBP=112, Cholesterol=261, FastingBS=0, RestingECG='Normal', MaxHR=140, ExerciseAngina='N', Oldpeak=1.5, ST_Slope='Up', HeartDisease=1),\n",
              " Row(Age=68, Sex='M', ChestPainType='TA', RestingBP=139, Cholesterol=181, FastingBS=1, RestingECG='ST', MaxHR=135, ExerciseAngina='N', Oldpeak=0.2, ST_Slope='Up', HeartDisease=0),\n",
              " Row(Age=55, Sex='M', ChestPainType='ASY', RestingBP=172, Cholesterol=260, FastingBS=0, RestingECG='Normal', MaxHR=73, ExerciseAngina='N', Oldpeak=2.0, ST_Slope='Flat', HeartDisease=1),\n",
              " Row(Age=62, Sex='M', ChestPainType='NAP', RestingBP=120, Cholesterol=220, FastingBS=0, RestingECG='LVH', MaxHR=86, ExerciseAngina='N', Oldpeak=0.0, ST_Slope='Up', HeartDisease=0),\n",
              " Row(Age=71, Sex='M', ChestPainType='NAP', RestingBP=144, Cholesterol=221, FastingBS=0, RestingECG='Normal', MaxHR=108, ExerciseAngina='Y', Oldpeak=1.8, ST_Slope='Flat', HeartDisease=1),\n",
              " Row(Age=74, Sex='M', ChestPainType='TA', RestingBP=145, Cholesterol=216, FastingBS=1, RestingECG='Normal', MaxHR=116, ExerciseAngina='Y', Oldpeak=1.8, ST_Slope='Flat', HeartDisease=1),\n",
              " Row(Age=53, Sex='M', ChestPainType='NAP', RestingBP=155, Cholesterol=175, FastingBS=1, RestingECG='ST', MaxHR=160, ExerciseAngina='N', Oldpeak=0.3, ST_Slope='Up', HeartDisease=0),\n",
              " Row(Age=58, Sex='M', ChestPainType='NAP', RestingBP=150, Cholesterol=219, FastingBS=0, RestingECG='ST', MaxHR=118, ExerciseAngina='Y', Oldpeak=0.0, ST_Slope='Flat', HeartDisease=1),\n",
              " Row(Age=75, Sex='M', ChestPainType='ASY', RestingBP=160, Cholesterol=310, FastingBS=1, RestingECG='Normal', MaxHR=112, ExerciseAngina='Y', Oldpeak=2.0, ST_Slope='Down', HeartDisease=0),\n",
              " Row(Age=56, Sex='M', ChestPainType='NAP', RestingBP=137, Cholesterol=208, FastingBS=1, RestingECG='ST', MaxHR=122, ExerciseAngina='Y', Oldpeak=1.8, ST_Slope='Flat', HeartDisease=1),\n",
              " Row(Age=58, Sex='M', ChestPainType='NAP', RestingBP=137, Cholesterol=232, FastingBS=0, RestingECG='ST', MaxHR=124, ExerciseAngina='Y', Oldpeak=1.4, ST_Slope='Flat', HeartDisease=1),\n",
              " Row(Age=64, Sex='M', ChestPainType='ASY', RestingBP=134, Cholesterol=273, FastingBS=0, RestingECG='Normal', MaxHR=102, ExerciseAngina='Y', Oldpeak=4.0, ST_Slope='Down', HeartDisease=1),\n",
              " Row(Age=54, Sex='M', ChestPainType='NAP', RestingBP=133, Cholesterol=203, FastingBS=0, RestingECG='ST', MaxHR=137, ExerciseAngina='N', Oldpeak=0.2, ST_Slope='Up', HeartDisease=0),\n",
              " Row(Age=54, Sex='M', ChestPainType='ATA', RestingBP=132, Cholesterol=182, FastingBS=0, RestingECG='ST', MaxHR=141, ExerciseAngina='N', Oldpeak=0.1, ST_Slope='Up', HeartDisease=0),\n",
              " Row(Age=59, Sex='M', ChestPainType='ASY', RestingBP=140, Cholesterol=274, FastingBS=0, RestingECG='Normal', MaxHR=154, ExerciseAngina='Y', Oldpeak=2.0, ST_Slope='Flat', HeartDisease=0),\n",
              " Row(Age=55, Sex='M', ChestPainType='ASY', RestingBP=135, Cholesterol=204, FastingBS=1, RestingECG='ST', MaxHR=126, ExerciseAngina='Y', Oldpeak=1.1, ST_Slope='Flat', HeartDisease=1),\n",
              " Row(Age=57, Sex='M', ChestPainType='ASY', RestingBP=144, Cholesterol=270, FastingBS=1, RestingECG='ST', MaxHR=160, ExerciseAngina='Y', Oldpeak=2.0, ST_Slope='Flat', HeartDisease=1),\n",
              " Row(Age=61, Sex='M', ChestPainType='ASY', RestingBP=141, Cholesterol=292, FastingBS=0, RestingECG='ST', MaxHR=115, ExerciseAngina='Y', Oldpeak=1.7, ST_Slope='Flat', HeartDisease=1),\n",
              " Row(Age=41, Sex='M', ChestPainType='ASY', RestingBP=150, Cholesterol=171, FastingBS=0, RestingECG='Normal', MaxHR=128, ExerciseAngina='Y', Oldpeak=1.5, ST_Slope='Flat', HeartDisease=0),\n",
              " Row(Age=71, Sex='M', ChestPainType='ASY', RestingBP=130, Cholesterol=221, FastingBS=0, RestingECG='ST', MaxHR=115, ExerciseAngina='Y', Oldpeak=0.0, ST_Slope='Flat', HeartDisease=1),\n",
              " Row(Age=38, Sex='M', ChestPainType='ASY', RestingBP=110, Cholesterol=289, FastingBS=0, RestingECG='Normal', MaxHR=105, ExerciseAngina='Y', Oldpeak=1.5, ST_Slope='Down', HeartDisease=1),\n",
              " Row(Age=55, Sex='M', ChestPainType='ASY', RestingBP=158, Cholesterol=217, FastingBS=0, RestingECG='Normal', MaxHR=110, ExerciseAngina='Y', Oldpeak=2.5, ST_Slope='Flat', HeartDisease=1),\n",
              " Row(Age=56, Sex='M', ChestPainType='ASY', RestingBP=128, Cholesterol=223, FastingBS=0, RestingECG='ST', MaxHR=119, ExerciseAngina='Y', Oldpeak=2.0, ST_Slope='Down', HeartDisease=1),\n",
              " Row(Age=69, Sex='M', ChestPainType='ASY', RestingBP=140, Cholesterol=110, FastingBS=1, RestingECG='Normal', MaxHR=109, ExerciseAngina='Y', Oldpeak=1.5, ST_Slope='Flat', HeartDisease=1),\n",
              " Row(Age=64, Sex='M', ChestPainType='ASY', RestingBP=150, Cholesterol=193, FastingBS=0, RestingECG='ST', MaxHR=135, ExerciseAngina='Y', Oldpeak=0.5, ST_Slope='Flat', HeartDisease=1),\n",
              " Row(Age=72, Sex='M', ChestPainType='ASY', RestingBP=160, Cholesterol=123, FastingBS=1, RestingECG='LVH', MaxHR=130, ExerciseAngina='N', Oldpeak=1.5, ST_Slope='Flat', HeartDisease=1),\n",
              " Row(Age=69, Sex='M', ChestPainType='ASY', RestingBP=142, Cholesterol=210, FastingBS=1, RestingECG='ST', MaxHR=112, ExerciseAngina='Y', Oldpeak=1.5, ST_Slope='Flat', HeartDisease=1),\n",
              " Row(Age=56, Sex='M', ChestPainType='ASY', RestingBP=137, Cholesterol=282, FastingBS=1, RestingECG='Normal', MaxHR=126, ExerciseAngina='Y', Oldpeak=1.2, ST_Slope='Flat', HeartDisease=1),\n",
              " Row(Age=62, Sex='M', ChestPainType='ASY', RestingBP=139, Cholesterol=170, FastingBS=0, RestingECG='ST', MaxHR=120, ExerciseAngina='Y', Oldpeak=3.0, ST_Slope='Flat', HeartDisease=1),\n",
              " Row(Age=67, Sex='M', ChestPainType='ASY', RestingBP=146, Cholesterol=369, FastingBS=0, RestingECG='Normal', MaxHR=110, ExerciseAngina='Y', Oldpeak=1.9, ST_Slope='Flat', HeartDisease=1),\n",
              " Row(Age=57, Sex='M', ChestPainType='ASY', RestingBP=156, Cholesterol=173, FastingBS=0, RestingECG='LVH', MaxHR=119, ExerciseAngina='Y', Oldpeak=3.0, ST_Slope='Down', HeartDisease=1),\n",
              " Row(Age=69, Sex='M', ChestPainType='ASY', RestingBP=145, Cholesterol=289, FastingBS=1, RestingECG='ST', MaxHR=110, ExerciseAngina='Y', Oldpeak=1.8, ST_Slope='Flat', HeartDisease=1),\n",
              " Row(Age=51, Sex='M', ChestPainType='ASY', RestingBP=131, Cholesterol=152, FastingBS=1, RestingECG='LVH', MaxHR=130, ExerciseAngina='Y', Oldpeak=1.0, ST_Slope='Flat', HeartDisease=1),\n",
              " Row(Age=48, Sex='M', ChestPainType='ASY', RestingBP=140, Cholesterol=208, FastingBS=0, RestingECG='Normal', MaxHR=159, ExerciseAngina='Y', Oldpeak=1.5, ST_Slope='Up', HeartDisease=1),\n",
              " Row(Age=69, Sex='M', ChestPainType='ASY', RestingBP=122, Cholesterol=216, FastingBS=1, RestingECG='LVH', MaxHR=84, ExerciseAngina='Y', Oldpeak=0.0, ST_Slope='Flat', HeartDisease=1),\n",
              " Row(Age=69, Sex='M', ChestPainType='NAP', RestingBP=142, Cholesterol=271, FastingBS=0, RestingECG='LVH', MaxHR=126, ExerciseAngina='N', Oldpeak=0.3, ST_Slope='Up', HeartDisease=0),\n",
              " Row(Age=64, Sex='M', ChestPainType='ASY', RestingBP=141, Cholesterol=244, FastingBS=1, RestingECG='ST', MaxHR=116, ExerciseAngina='Y', Oldpeak=1.5, ST_Slope='Flat', HeartDisease=1),\n",
              " Row(Age=57, Sex='M', ChestPainType='ATA', RestingBP=180, Cholesterol=285, FastingBS=1, RestingECG='ST', MaxHR=120, ExerciseAngina='N', Oldpeak=0.8, ST_Slope='Flat', HeartDisease=1),\n",
              " Row(Age=53, Sex='M', ChestPainType='ASY', RestingBP=124, Cholesterol=243, FastingBS=0, RestingECG='Normal', MaxHR=122, ExerciseAngina='Y', Oldpeak=2.0, ST_Slope='Flat', HeartDisease=1),\n",
              " Row(Age=37, Sex='M', ChestPainType='NAP', RestingBP=118, Cholesterol=240, FastingBS=0, RestingECG='LVH', MaxHR=165, ExerciseAngina='N', Oldpeak=1.0, ST_Slope='Flat', HeartDisease=0),\n",
              " Row(Age=67, Sex='M', ChestPainType='ASY', RestingBP=140, Cholesterol=219, FastingBS=0, RestingECG='ST', MaxHR=122, ExerciseAngina='Y', Oldpeak=2.0, ST_Slope='Flat', HeartDisease=1),\n",
              " Row(Age=74, Sex='M', ChestPainType='NAP', RestingBP=140, Cholesterol=237, FastingBS=1, RestingECG='Normal', MaxHR=94, ExerciseAngina='N', Oldpeak=0.0, ST_Slope='Flat', HeartDisease=1),\n",
              " Row(Age=63, Sex='M', ChestPainType='ATA', RestingBP=136, Cholesterol=165, FastingBS=0, RestingECG='ST', MaxHR=133, ExerciseAngina='N', Oldpeak=0.2, ST_Slope='Up', HeartDisease=0),\n",
              " Row(Age=58, Sex='M', ChestPainType='ASY', RestingBP=100, Cholesterol=213, FastingBS=0, RestingECG='ST', MaxHR=110, ExerciseAngina='N', Oldpeak=0.0, ST_Slope='Up', HeartDisease=0),\n",
              " Row(Age=61, Sex='M', ChestPainType='ASY', RestingBP=190, Cholesterol=287, FastingBS=1, RestingECG='LVH', MaxHR=150, ExerciseAngina='Y', Oldpeak=2.0, ST_Slope='Down', HeartDisease=1),\n",
              " Row(Age=64, Sex='M', ChestPainType='ASY', RestingBP=130, Cholesterol=258, FastingBS=1, RestingECG='LVH', MaxHR=130, ExerciseAngina='N', Oldpeak=0.0, ST_Slope='Flat', HeartDisease=1),\n",
              " Row(Age=58, Sex='M', ChestPainType='ASY', RestingBP=160, Cholesterol=256, FastingBS=1, RestingECG='LVH', MaxHR=113, ExerciseAngina='Y', Oldpeak=1.0, ST_Slope='Up', HeartDisease=1),\n",
              " Row(Age=60, Sex='M', ChestPainType='ASY', RestingBP=130, Cholesterol=186, FastingBS=1, RestingECG='LVH', MaxHR=140, ExerciseAngina='Y', Oldpeak=0.5, ST_Slope='Flat', HeartDisease=1),\n",
              " Row(Age=57, Sex='M', ChestPainType='ASY', RestingBP=122, Cholesterol=264, FastingBS=0, RestingECG='LVH', MaxHR=100, ExerciseAngina='N', Oldpeak=0.0, ST_Slope='Flat', HeartDisease=1),\n",
              " Row(Age=55, Sex='M', ChestPainType='NAP', RestingBP=133, Cholesterol=185, FastingBS=0, RestingECG='ST', MaxHR=136, ExerciseAngina='N', Oldpeak=0.2, ST_Slope='Up', HeartDisease=0),\n",
              " Row(Age=55, Sex='M', ChestPainType='ASY', RestingBP=120, Cholesterol=226, FastingBS=0, RestingECG='LVH', MaxHR=127, ExerciseAngina='Y', Oldpeak=1.7, ST_Slope='Down', HeartDisease=1),\n",
              " Row(Age=56, Sex='M', ChestPainType='ASY', RestingBP=130, Cholesterol=203, FastingBS=1, RestingECG='Normal', MaxHR=98, ExerciseAngina='N', Oldpeak=1.5, ST_Slope='Flat', HeartDisease=1),\n",
              " Row(Age=57, Sex='M', ChestPainType='ASY', RestingBP=130, Cholesterol=207, FastingBS=0, RestingECG='ST', MaxHR=96, ExerciseAngina='Y', Oldpeak=1.0, ST_Slope='Flat', HeartDisease=0),\n",
              " Row(Age=61, Sex='M', ChestPainType='NAP', RestingBP=140, Cholesterol=284, FastingBS=0, RestingECG='Normal', MaxHR=123, ExerciseAngina='Y', Oldpeak=1.3, ST_Slope='Flat', HeartDisease=1),\n",
              " Row(Age=61, Sex='M', ChestPainType='NAP', RestingBP=120, Cholesterol=337, FastingBS=0, RestingECG='Normal', MaxHR=98, ExerciseAngina='Y', Oldpeak=0.0, ST_Slope='Flat', HeartDisease=1),\n",
              " Row(Age=74, Sex='M', ChestPainType='ASY', RestingBP=155, Cholesterol=310, FastingBS=0, RestingECG='Normal', MaxHR=112, ExerciseAngina='Y', Oldpeak=1.5, ST_Slope='Down', HeartDisease=1),\n",
              " Row(Age=68, Sex='M', ChestPainType='NAP', RestingBP=134, Cholesterol=254, FastingBS=1, RestingECG='Normal', MaxHR=151, ExerciseAngina='Y', Oldpeak=0.0, ST_Slope='Up', HeartDisease=0),\n",
              " Row(Age=51, Sex='F', ChestPainType='ASY', RestingBP=114, Cholesterol=258, FastingBS=1, RestingECG='LVH', MaxHR=96, ExerciseAngina='N', Oldpeak=1.0, ST_Slope='Up', HeartDisease=0),\n",
              " Row(Age=62, Sex='M', ChestPainType='ASY', RestingBP=160, Cholesterol=254, FastingBS=1, RestingECG='ST', MaxHR=108, ExerciseAngina='Y', Oldpeak=3.0, ST_Slope='Flat', HeartDisease=1),\n",
              " Row(Age=53, Sex='M', ChestPainType='ASY', RestingBP=144, Cholesterol=300, FastingBS=1, RestingECG='ST', MaxHR=128, ExerciseAngina='Y', Oldpeak=1.5, ST_Slope='Flat', HeartDisease=1),\n",
              " Row(Age=62, Sex='M', ChestPainType='ASY', RestingBP=158, Cholesterol=170, FastingBS=0, RestingECG='ST', MaxHR=138, ExerciseAngina='Y', Oldpeak=0.0, ST_Slope='Flat', HeartDisease=1),\n",
              " Row(Age=46, Sex='M', ChestPainType='ASY', RestingBP=134, Cholesterol=310, FastingBS=0, RestingECG='Normal', MaxHR=126, ExerciseAngina='N', Oldpeak=0.0, ST_Slope='Flat', HeartDisease=1),\n",
              " Row(Age=54, Sex='F', ChestPainType='ASY', RestingBP=127, Cholesterol=333, FastingBS=1, RestingECG='ST', MaxHR=154, ExerciseAngina='N', Oldpeak=0.0, ST_Slope='Flat', HeartDisease=1),\n",
              " Row(Age=62, Sex='M', ChestPainType='TA', RestingBP=135, Cholesterol=139, FastingBS=0, RestingECG='ST', MaxHR=137, ExerciseAngina='N', Oldpeak=0.2, ST_Slope='Up', HeartDisease=0),\n",
              " Row(Age=55, Sex='M', ChestPainType='ASY', RestingBP=122, Cholesterol=223, FastingBS=1, RestingECG='ST', MaxHR=100, ExerciseAngina='N', Oldpeak=0.0, ST_Slope='Flat', HeartDisease=1),\n",
              " Row(Age=58, Sex='M', ChestPainType='ASY', RestingBP=140, Cholesterol=385, FastingBS=1, RestingECG='LVH', MaxHR=135, ExerciseAngina='N', Oldpeak=0.3, ST_Slope='Up', HeartDisease=0),\n",
              " Row(Age=62, Sex='M', ChestPainType='ATA', RestingBP=120, Cholesterol=254, FastingBS=0, RestingECG='LVH', MaxHR=93, ExerciseAngina='Y', Oldpeak=0.0, ST_Slope='Flat', HeartDisease=1),\n",
              " Row(Age=70, Sex='M', ChestPainType='ASY', RestingBP=130, Cholesterol=322, FastingBS=0, RestingECG='LVH', MaxHR=109, ExerciseAngina='N', Oldpeak=2.4, ST_Slope='Flat', HeartDisease=1),\n",
              " Row(Age=67, Sex='F', ChestPainType='NAP', RestingBP=115, Cholesterol=564, FastingBS=0, RestingECG='LVH', MaxHR=160, ExerciseAngina='N', Oldpeak=1.6, ST_Slope='Flat', HeartDisease=0),\n",
              " Row(Age=57, Sex='M', ChestPainType='ATA', RestingBP=124, Cholesterol=261, FastingBS=0, RestingECG='Normal', MaxHR=141, ExerciseAngina='N', Oldpeak=0.3, ST_Slope='Up', HeartDisease=1),\n",
              " Row(Age=64, Sex='M', ChestPainType='ASY', RestingBP=128, Cholesterol=263, FastingBS=0, RestingECG='Normal', MaxHR=105, ExerciseAngina='Y', Oldpeak=0.2, ST_Slope='Flat', HeartDisease=0),\n",
              " Row(Age=74, Sex='F', ChestPainType='ATA', RestingBP=120, Cholesterol=269, FastingBS=0, RestingECG='LVH', MaxHR=121, ExerciseAngina='Y', Oldpeak=0.2, ST_Slope='Up', HeartDisease=0),\n",
              " Row(Age=65, Sex='M', ChestPainType='ASY', RestingBP=120, Cholesterol=177, FastingBS=0, RestingECG='Normal', MaxHR=140, ExerciseAngina='N', Oldpeak=0.4, ST_Slope='Up', HeartDisease=0),\n",
              " Row(Age=56, Sex='M', ChestPainType='NAP', RestingBP=130, Cholesterol=256, FastingBS=1, RestingECG='LVH', MaxHR=142, ExerciseAngina='Y', Oldpeak=0.6, ST_Slope='Flat', HeartDisease=1),\n",
              " Row(Age=59, Sex='M', ChestPainType='ASY', RestingBP=110, Cholesterol=239, FastingBS=0, RestingECG='LVH', MaxHR=142, ExerciseAngina='Y', Oldpeak=1.2, ST_Slope='Flat', HeartDisease=1),\n",
              " Row(Age=60, Sex='M', ChestPainType='ASY', RestingBP=140, Cholesterol=293, FastingBS=0, RestingECG='LVH', MaxHR=170, ExerciseAngina='N', Oldpeak=1.2, ST_Slope='Flat', HeartDisease=1),\n",
              " Row(Age=63, Sex='F', ChestPainType='ASY', RestingBP=150, Cholesterol=407, FastingBS=0, RestingECG='LVH', MaxHR=154, ExerciseAngina='N', Oldpeak=4.0, ST_Slope='Flat', HeartDisease=1),\n",
              " Row(Age=59, Sex='M', ChestPainType='ASY', RestingBP=135, Cholesterol=234, FastingBS=0, RestingECG='Normal', MaxHR=161, ExerciseAngina='N', Oldpeak=0.5, ST_Slope='Flat', HeartDisease=0),\n",
              " Row(Age=53, Sex='M', ChestPainType='ASY', RestingBP=142, Cholesterol=226, FastingBS=0, RestingECG='LVH', MaxHR=111, ExerciseAngina='Y', Oldpeak=0.0, ST_Slope='Up', HeartDisease=0),\n",
              " Row(Age=44, Sex='M', ChestPainType='NAP', RestingBP=140, Cholesterol=235, FastingBS=0, RestingECG='LVH', MaxHR=180, ExerciseAngina='N', Oldpeak=0.0, ST_Slope='Up', HeartDisease=0),\n",
              " Row(Age=61, Sex='M', ChestPainType='TA', RestingBP=134, Cholesterol=234, FastingBS=0, RestingECG='Normal', MaxHR=145, ExerciseAngina='N', Oldpeak=2.6, ST_Slope='Flat', HeartDisease=1),\n",
              " Row(Age=57, Sex='F', ChestPainType='ASY', RestingBP=128, Cholesterol=303, FastingBS=0, RestingECG='LVH', MaxHR=159, ExerciseAngina='N', Oldpeak=0.0, ST_Slope='Up', HeartDisease=0),\n",
              " Row(Age=71, Sex='F', ChestPainType='ASY', RestingBP=112, Cholesterol=149, FastingBS=0, RestingECG='Normal', MaxHR=125, ExerciseAngina='N', Oldpeak=1.6, ST_Slope='Flat', HeartDisease=0),\n",
              " Row(Age=46, Sex='M', ChestPainType='ASY', RestingBP=140, Cholesterol=311, FastingBS=0, RestingECG='Normal', MaxHR=120, ExerciseAngina='Y', Oldpeak=1.8, ST_Slope='Flat', HeartDisease=1),\n",
              " Row(Age=53, Sex='M', ChestPainType='ASY', RestingBP=140, Cholesterol=203, FastingBS=1, RestingECG='LVH', MaxHR=155, ExerciseAngina='Y', Oldpeak=3.1, ST_Slope='Down', HeartDisease=1),\n",
              " Row(Age=64, Sex='M', ChestPainType='TA', RestingBP=110, Cholesterol=211, FastingBS=0, RestingECG='LVH', MaxHR=144, ExerciseAngina='Y', Oldpeak=1.8, ST_Slope='Flat', HeartDisease=0),\n",
              " Row(Age=40, Sex='M', ChestPainType='TA', RestingBP=140, Cholesterol=199, FastingBS=0, RestingECG='Normal', MaxHR=178, ExerciseAngina='Y', Oldpeak=1.4, ST_Slope='Up', HeartDisease=0),\n",
              " Row(Age=67, Sex='M', ChestPainType='ASY', RestingBP=120, Cholesterol=229, FastingBS=0, RestingECG='LVH', MaxHR=129, ExerciseAngina='Y', Oldpeak=2.6, ST_Slope='Flat', HeartDisease=1),\n",
              " Row(Age=48, Sex='M', ChestPainType='ATA', RestingBP=130, Cholesterol=245, FastingBS=0, RestingECG='LVH', MaxHR=180, ExerciseAngina='N', Oldpeak=0.2, ST_Slope='Flat', HeartDisease=0),\n",
              " Row(Age=43, Sex='M', ChestPainType='ASY', RestingBP=115, Cholesterol=303, FastingBS=0, RestingECG='Normal', MaxHR=181, ExerciseAngina='N', Oldpeak=1.2, ST_Slope='Flat', HeartDisease=0),\n",
              " Row(Age=47, Sex='M', ChestPainType='ASY', RestingBP=112, Cholesterol=204, FastingBS=0, RestingECG='Normal', MaxHR=143, ExerciseAngina='N', Oldpeak=0.1, ST_Slope='Up', HeartDisease=0),\n",
              " Row(Age=54, Sex='F', ChestPainType='ATA', RestingBP=132, Cholesterol=288, FastingBS=1, RestingECG='LVH', MaxHR=159, ExerciseAngina='Y', Oldpeak=0.0, ST_Slope='Up', HeartDisease=0),\n",
              " Row(Age=48, Sex='F', ChestPainType='NAP', RestingBP=130, Cholesterol=275, FastingBS=0, RestingECG='Normal', MaxHR=139, ExerciseAngina='N', Oldpeak=0.2, ST_Slope='Up', HeartDisease=0),\n",
              " Row(Age=46, Sex='F', ChestPainType='ASY', RestingBP=138, Cholesterol=243, FastingBS=0, RestingECG='LVH', MaxHR=152, ExerciseAngina='Y', Oldpeak=0.0, ST_Slope='Flat', HeartDisease=0),\n",
              " Row(Age=51, Sex='F', ChestPainType='NAP', RestingBP=120, Cholesterol=295, FastingBS=0, RestingECG='LVH', MaxHR=157, ExerciseAngina='N', Oldpeak=0.6, ST_Slope='Up', HeartDisease=0),\n",
              " Row(Age=58, Sex='M', ChestPainType='NAP', RestingBP=112, Cholesterol=230, FastingBS=0, RestingECG='LVH', MaxHR=165, ExerciseAngina='N', Oldpeak=2.5, ST_Slope='Flat', HeartDisease=1),\n",
              " Row(Age=71, Sex='F', ChestPainType='NAP', RestingBP=110, Cholesterol=265, FastingBS=1, RestingECG='LVH', MaxHR=130, ExerciseAngina='N', Oldpeak=0.0, ST_Slope='Up', HeartDisease=0),\n",
              " Row(Age=57, Sex='M', ChestPainType='NAP', RestingBP=128, Cholesterol=229, FastingBS=0, RestingECG='LVH', MaxHR=150, ExerciseAngina='N', Oldpeak=0.4, ST_Slope='Flat', HeartDisease=1),\n",
              " Row(Age=66, Sex='M', ChestPainType='ASY', RestingBP=160, Cholesterol=228, FastingBS=0, RestingECG='LVH', MaxHR=138, ExerciseAngina='N', Oldpeak=2.3, ST_Slope='Up', HeartDisease=0),\n",
              " Row(Age=37, Sex='F', ChestPainType='NAP', RestingBP=120, Cholesterol=215, FastingBS=0, RestingECG='Normal', MaxHR=170, ExerciseAngina='N', Oldpeak=0.0, ST_Slope='Up', HeartDisease=0),\n",
              " Row(Age=59, Sex='M', ChestPainType='ASY', RestingBP=170, Cholesterol=326, FastingBS=0, RestingECG='LVH', MaxHR=140, ExerciseAngina='Y', Oldpeak=3.4, ST_Slope='Down', HeartDisease=1),\n",
              " Row(Age=50, Sex='M', ChestPainType='ASY', RestingBP=144, Cholesterol=200, FastingBS=0, RestingECG='LVH', MaxHR=126, ExerciseAngina='Y', Oldpeak=0.9, ST_Slope='Flat', HeartDisease=1),\n",
              " Row(Age=48, Sex='M', ChestPainType='ASY', RestingBP=130, Cholesterol=256, FastingBS=1, RestingECG='LVH', MaxHR=150, ExerciseAngina='Y', Oldpeak=0.0, ST_Slope='Up', HeartDisease=1),\n",
              " Row(Age=61, Sex='M', ChestPainType='ASY', RestingBP=140, Cholesterol=207, FastingBS=0, RestingECG='LVH', MaxHR=138, ExerciseAngina='Y', Oldpeak=1.9, ST_Slope='Up', HeartDisease=1),\n",
              " Row(Age=59, Sex='M', ChestPainType='TA', RestingBP=160, Cholesterol=273, FastingBS=0, RestingECG='LVH', MaxHR=125, ExerciseAngina='N', Oldpeak=0.0, ST_Slope='Up', HeartDisease=1),\n",
              " Row(Age=42, Sex='M', ChestPainType='NAP', RestingBP=130, Cholesterol=180, FastingBS=0, RestingECG='Normal', MaxHR=150, ExerciseAngina='N', Oldpeak=0.0, ST_Slope='Up', HeartDisease=0),\n",
              " Row(Age=48, Sex='M', ChestPainType='ASY', RestingBP=122, Cholesterol=222, FastingBS=0, RestingECG='LVH', MaxHR=186, ExerciseAngina='N', Oldpeak=0.0, ST_Slope='Up', HeartDisease=0),\n",
              " Row(Age=40, Sex='M', ChestPainType='ASY', RestingBP=152, Cholesterol=223, FastingBS=0, RestingECG='Normal', MaxHR=181, ExerciseAngina='N', Oldpeak=0.0, ST_Slope='Up', HeartDisease=1),\n",
              " Row(Age=62, Sex='F', ChestPainType='ASY', RestingBP=124, Cholesterol=209, FastingBS=0, RestingECG='Normal', MaxHR=163, ExerciseAngina='N', Oldpeak=0.0, ST_Slope='Up', HeartDisease=0),\n",
              " Row(Age=44, Sex='M', ChestPainType='NAP', RestingBP=130, Cholesterol=233, FastingBS=0, RestingECG='Normal', MaxHR=179, ExerciseAngina='Y', Oldpeak=0.4, ST_Slope='Up', HeartDisease=0),\n",
              " Row(Age=46, Sex='M', ChestPainType='ATA', RestingBP=101, Cholesterol=197, FastingBS=1, RestingECG='Normal', MaxHR=156, ExerciseAngina='N', Oldpeak=0.0, ST_Slope='Up', HeartDisease=0),\n",
              " Row(Age=59, Sex='M', ChestPainType='NAP', RestingBP=126, Cholesterol=218, FastingBS=1, RestingECG='Normal', MaxHR=134, ExerciseAngina='N', Oldpeak=2.2, ST_Slope='Flat', HeartDisease=1),\n",
              " Row(Age=58, Sex='M', ChestPainType='NAP', RestingBP=140, Cholesterol=211, FastingBS=1, RestingECG='LVH', MaxHR=165, ExerciseAngina='N', Oldpeak=0.0, ST_Slope='Up', HeartDisease=0),\n",
              " Row(Age=49, Sex='M', ChestPainType='NAP', RestingBP=118, Cholesterol=149, FastingBS=0, RestingECG='LVH', MaxHR=126, ExerciseAngina='N', Oldpeak=0.8, ST_Slope='Up', HeartDisease=1),\n",
              " Row(Age=44, Sex='M', ChestPainType='ASY', RestingBP=110, Cholesterol=197, FastingBS=0, RestingECG='LVH', MaxHR=177, ExerciseAngina='N', Oldpeak=0.0, ST_Slope='Up', HeartDisease=1),\n",
              " Row(Age=66, Sex='M', ChestPainType='ATA', RestingBP=160, Cholesterol=246, FastingBS=0, RestingECG='Normal', MaxHR=120, ExerciseAngina='Y', Oldpeak=0.0, ST_Slope='Flat', HeartDisease=1),\n",
              " Row(Age=65, Sex='F', ChestPainType='ASY', RestingBP=150, Cholesterol=225, FastingBS=0, RestingECG='LVH', MaxHR=114, ExerciseAngina='N', Oldpeak=1.0, ST_Slope='Flat', HeartDisease=1),\n",
              " Row(Age=42, Sex='M', ChestPainType='ASY', RestingBP=136, Cholesterol=315, FastingBS=0, RestingECG='Normal', MaxHR=125, ExerciseAngina='Y', Oldpeak=1.8, ST_Slope='Flat', HeartDisease=1),\n",
              " Row(Age=52, Sex='M', ChestPainType='ATA', RestingBP=128, Cholesterol=205, FastingBS=1, RestingECG='Normal', MaxHR=184, ExerciseAngina='N', Oldpeak=0.0, ST_Slope='Up', HeartDisease=0),\n",
              " Row(Age=65, Sex='F', ChestPainType='NAP', RestingBP=140, Cholesterol=417, FastingBS=1, RestingECG='LVH', MaxHR=157, ExerciseAngina='N', Oldpeak=0.8, ST_Slope='Up', HeartDisease=0),\n",
              " Row(Age=63, Sex='F', ChestPainType='ATA', RestingBP=140, Cholesterol=195, FastingBS=0, RestingECG='Normal', MaxHR=179, ExerciseAngina='N', Oldpeak=0.0, ST_Slope='Up', HeartDisease=0),\n",
              " Row(Age=45, Sex='F', ChestPainType='ATA', RestingBP=130, Cholesterol=234, FastingBS=0, RestingECG='LVH', MaxHR=175, ExerciseAngina='N', Oldpeak=0.6, ST_Slope='Flat', HeartDisease=0),\n",
              " Row(Age=41, Sex='F', ChestPainType='ATA', RestingBP=105, Cholesterol=198, FastingBS=0, RestingECG='Normal', MaxHR=168, ExerciseAngina='N', Oldpeak=0.0, ST_Slope='Up', HeartDisease=0),\n",
              " Row(Age=61, Sex='M', ChestPainType='ASY', RestingBP=138, Cholesterol=166, FastingBS=0, RestingECG='LVH', MaxHR=125, ExerciseAngina='Y', Oldpeak=3.6, ST_Slope='Flat', HeartDisease=1),\n",
              " Row(Age=60, Sex='F', ChestPainType='NAP', RestingBP=120, Cholesterol=178, FastingBS=1, RestingECG='Normal', MaxHR=96, ExerciseAngina='N', Oldpeak=0.0, ST_Slope='Up', HeartDisease=0),\n",
              " Row(Age=59, Sex='F', ChestPainType='ASY', RestingBP=174, Cholesterol=249, FastingBS=0, RestingECG='Normal', MaxHR=143, ExerciseAngina='Y', Oldpeak=0.0, ST_Slope='Flat', HeartDisease=1),\n",
              " Row(Age=62, Sex='M', ChestPainType='ATA', RestingBP=120, Cholesterol=281, FastingBS=0, RestingECG='LVH', MaxHR=103, ExerciseAngina='N', Oldpeak=1.4, ST_Slope='Flat', HeartDisease=1),\n",
              " Row(Age=57, Sex='M', ChestPainType='NAP', RestingBP=150, Cholesterol=126, FastingBS=1, RestingECG='Normal', MaxHR=173, ExerciseAngina='N', Oldpeak=0.2, ST_Slope='Up', HeartDisease=0),\n",
              " Row(Age=51, Sex='F', ChestPainType='ASY', RestingBP=130, Cholesterol=305, FastingBS=0, RestingECG='Normal', MaxHR=142, ExerciseAngina='Y', Oldpeak=1.2, ST_Slope='Flat', HeartDisease=1),\n",
              " Row(Age=44, Sex='M', ChestPainType='NAP', RestingBP=120, Cholesterol=226, FastingBS=0, RestingECG='Normal', MaxHR=169, ExerciseAngina='N', Oldpeak=0.0, ST_Slope='Up', HeartDisease=0),\n",
              " Row(Age=60, Sex='F', ChestPainType='TA', RestingBP=150, Cholesterol=240, FastingBS=0, RestingECG='Normal', MaxHR=171, ExerciseAngina='N', Oldpeak=0.9, ST_Slope='Up', HeartDisease=0),\n",
              " Row(Age=63, Sex='M', ChestPainType='TA', RestingBP=145, Cholesterol=233, FastingBS=1, RestingECG='LVH', MaxHR=150, ExerciseAngina='N', Oldpeak=2.3, ST_Slope='Down', HeartDisease=0),\n",
              " Row(Age=57, Sex='M', ChestPainType='ASY', RestingBP=150, Cholesterol=276, FastingBS=0, RestingECG='LVH', MaxHR=112, ExerciseAngina='Y', Oldpeak=0.6, ST_Slope='Flat', HeartDisease=1),\n",
              " Row(Age=51, Sex='M', ChestPainType='ASY', RestingBP=140, Cholesterol=261, FastingBS=0, RestingECG='LVH', MaxHR=186, ExerciseAngina='Y', Oldpeak=0.0, ST_Slope='Up', HeartDisease=0),\n",
              " Row(Age=58, Sex='F', ChestPainType='ATA', RestingBP=136, Cholesterol=319, FastingBS=1, RestingECG='LVH', MaxHR=152, ExerciseAngina='N', Oldpeak=0.0, ST_Slope='Up', HeartDisease=1),\n",
              " Row(Age=44, Sex='F', ChestPainType='NAP', RestingBP=118, Cholesterol=242, FastingBS=0, RestingECG='Normal', MaxHR=149, ExerciseAngina='N', Oldpeak=0.3, ST_Slope='Flat', HeartDisease=0),\n",
              " Row(Age=47, Sex='M', ChestPainType='NAP', RestingBP=108, Cholesterol=243, FastingBS=0, RestingECG='Normal', MaxHR=152, ExerciseAngina='N', Oldpeak=0.0, ST_Slope='Up', HeartDisease=1),\n",
              " Row(Age=61, Sex='M', ChestPainType='ASY', RestingBP=120, Cholesterol=260, FastingBS=0, RestingECG='Normal', MaxHR=140, ExerciseAngina='Y', Oldpeak=3.6, ST_Slope='Flat', HeartDisease=1),\n",
              " Row(Age=57, Sex='F', ChestPainType='ASY', RestingBP=120, Cholesterol=354, FastingBS=0, RestingECG='Normal', MaxHR=163, ExerciseAngina='Y', Oldpeak=0.6, ST_Slope='Up', HeartDisease=0),\n",
              " Row(Age=70, Sex='M', ChestPainType='ATA', RestingBP=156, Cholesterol=245, FastingBS=0, RestingECG='LVH', MaxHR=143, ExerciseAngina='N', Oldpeak=0.0, ST_Slope='Up', HeartDisease=0),\n",
              " Row(Age=76, Sex='F', ChestPainType='NAP', RestingBP=140, Cholesterol=197, FastingBS=0, RestingECG='ST', MaxHR=116, ExerciseAngina='N', Oldpeak=1.1, ST_Slope='Flat', HeartDisease=0),\n",
              " Row(Age=67, Sex='F', ChestPainType='ASY', RestingBP=106, Cholesterol=223, FastingBS=0, RestingECG='Normal', MaxHR=142, ExerciseAngina='N', Oldpeak=0.3, ST_Slope='Up', HeartDisease=0),\n",
              " Row(Age=45, Sex='M', ChestPainType='ASY', RestingBP=142, Cholesterol=309, FastingBS=0, RestingECG='LVH', MaxHR=147, ExerciseAngina='Y', Oldpeak=0.0, ST_Slope='Flat', HeartDisease=1),\n",
              " Row(Age=45, Sex='M', ChestPainType='ASY', RestingBP=104, Cholesterol=208, FastingBS=0, RestingECG='LVH', MaxHR=148, ExerciseAngina='Y', Oldpeak=3.0, ST_Slope='Flat', HeartDisease=0),\n",
              " Row(Age=39, Sex='F', ChestPainType='NAP', RestingBP=94, Cholesterol=199, FastingBS=0, RestingECG='Normal', MaxHR=179, ExerciseAngina='N', Oldpeak=0.0, ST_Slope='Up', HeartDisease=0),\n",
              " Row(Age=42, Sex='F', ChestPainType='NAP', RestingBP=120, Cholesterol=209, FastingBS=0, RestingECG='Normal', MaxHR=173, ExerciseAngina='N', Oldpeak=0.0, ST_Slope='Flat', HeartDisease=0),\n",
              " Row(Age=56, Sex='M', ChestPainType='ATA', RestingBP=120, Cholesterol=236, FastingBS=0, RestingECG='Normal', MaxHR=178, ExerciseAngina='N', Oldpeak=0.8, ST_Slope='Up', HeartDisease=0),\n",
              " Row(Age=58, Sex='M', ChestPainType='ASY', RestingBP=146, Cholesterol=218, FastingBS=0, RestingECG='Normal', MaxHR=105, ExerciseAngina='N', Oldpeak=2.0, ST_Slope='Flat', HeartDisease=1),\n",
              " Row(Age=35, Sex='M', ChestPainType='ASY', RestingBP=120, Cholesterol=198, FastingBS=0, RestingECG='Normal', MaxHR=130, ExerciseAngina='Y', Oldpeak=1.6, ST_Slope='Flat', HeartDisease=1),\n",
              " Row(Age=58, Sex='M', ChestPainType='ASY', RestingBP=150, Cholesterol=270, FastingBS=0, RestingECG='LVH', MaxHR=111, ExerciseAngina='Y', Oldpeak=0.8, ST_Slope='Up', HeartDisease=1),\n",
              " Row(Age=41, Sex='M', ChestPainType='NAP', RestingBP=130, Cholesterol=214, FastingBS=0, RestingECG='LVH', MaxHR=168, ExerciseAngina='N', Oldpeak=2.0, ST_Slope='Flat', HeartDisease=0),\n",
              " Row(Age=57, Sex='M', ChestPainType='ASY', RestingBP=110, Cholesterol=201, FastingBS=0, RestingECG='Normal', MaxHR=126, ExerciseAngina='Y', Oldpeak=1.5, ST_Slope='Flat', HeartDisease=0),\n",
              " Row(Age=42, Sex='M', ChestPainType='TA', RestingBP=148, Cholesterol=244, FastingBS=0, RestingECG='LVH', MaxHR=178, ExerciseAngina='N', Oldpeak=0.8, ST_Slope='Up', HeartDisease=0),\n",
              " Row(Age=62, Sex='M', ChestPainType='ATA', RestingBP=128, Cholesterol=208, FastingBS=1, RestingECG='LVH', MaxHR=140, ExerciseAngina='N', Oldpeak=0.0, ST_Slope='Up', HeartDisease=0),\n",
              " Row(Age=59, Sex='M', ChestPainType='TA', RestingBP=178, Cholesterol=270, FastingBS=0, RestingECG='LVH', MaxHR=145, ExerciseAngina='N', Oldpeak=4.2, ST_Slope='Down', HeartDisease=0),\n",
              " Row(Age=41, Sex='F', ChestPainType='ATA', RestingBP=126, Cholesterol=306, FastingBS=0, RestingECG='Normal', MaxHR=163, ExerciseAngina='N', Oldpeak=0.0, ST_Slope='Up', HeartDisease=0),\n",
              " Row(Age=50, Sex='M', ChestPainType='ASY', RestingBP=150, Cholesterol=243, FastingBS=0, RestingECG='LVH', MaxHR=128, ExerciseAngina='N', Oldpeak=2.6, ST_Slope='Flat', HeartDisease=1),\n",
              " Row(Age=59, Sex='M', ChestPainType='ATA', RestingBP=140, Cholesterol=221, FastingBS=0, RestingECG='Normal', MaxHR=164, ExerciseAngina='Y', Oldpeak=0.0, ST_Slope='Up', HeartDisease=0),\n",
              " Row(Age=61, Sex='F', ChestPainType='ASY', RestingBP=130, Cholesterol=330, FastingBS=0, RestingECG='LVH', MaxHR=169, ExerciseAngina='N', Oldpeak=0.0, ST_Slope='Up', HeartDisease=1),\n",
              " Row(Age=54, Sex='M', ChestPainType='ASY', RestingBP=124, Cholesterol=266, FastingBS=0, RestingECG='LVH', MaxHR=109, ExerciseAngina='Y', Oldpeak=2.2, ST_Slope='Flat', HeartDisease=1),\n",
              " Row(Age=54, Sex='M', ChestPainType='ASY', RestingBP=110, Cholesterol=206, FastingBS=0, RestingECG='LVH', MaxHR=108, ExerciseAngina='Y', Oldpeak=0.0, ST_Slope='Flat', HeartDisease=1),\n",
              " Row(Age=52, Sex='M', ChestPainType='ASY', RestingBP=125, Cholesterol=212, FastingBS=0, RestingECG='Normal', MaxHR=168, ExerciseAngina='N', Oldpeak=1.0, ST_Slope='Up', HeartDisease=1),\n",
              " Row(Age=47, Sex='M', ChestPainType='ASY', RestingBP=110, Cholesterol=275, FastingBS=0, RestingECG='LVH', MaxHR=118, ExerciseAngina='Y', Oldpeak=1.0, ST_Slope='Flat', HeartDisease=1),\n",
              " Row(Age=66, Sex='M', ChestPainType='ASY', RestingBP=120, Cholesterol=302, FastingBS=0, RestingECG='LVH', MaxHR=151, ExerciseAngina='N', Oldpeak=0.4, ST_Slope='Flat', HeartDisease=0),\n",
              " Row(Age=58, Sex='M', ChestPainType='ASY', RestingBP=100, Cholesterol=234, FastingBS=0, RestingECG='Normal', MaxHR=156, ExerciseAngina='N', Oldpeak=0.1, ST_Slope='Up', HeartDisease=1),\n",
              " Row(Age=64, Sex='F', ChestPainType='NAP', RestingBP=140, Cholesterol=313, FastingBS=0, RestingECG='Normal', MaxHR=133, ExerciseAngina='N', Oldpeak=0.2, ST_Slope='Up', HeartDisease=0),\n",
              " Row(Age=50, Sex='F', ChestPainType='ATA', RestingBP=120, Cholesterol=244, FastingBS=0, RestingECG='Normal', MaxHR=162, ExerciseAngina='N', Oldpeak=1.1, ST_Slope='Up', HeartDisease=0),\n",
              " Row(Age=44, Sex='F', ChestPainType='NAP', RestingBP=108, Cholesterol=141, FastingBS=0, RestingECG='Normal', MaxHR=175, ExerciseAngina='N', Oldpeak=0.6, ST_Slope='Flat', HeartDisease=0),\n",
              " Row(Age=67, Sex='M', ChestPainType='ASY', RestingBP=120, Cholesterol=237, FastingBS=0, RestingECG='Normal', MaxHR=71, ExerciseAngina='N', Oldpeak=1.0, ST_Slope='Flat', HeartDisease=1),\n",
              " Row(Age=49, Sex='F', ChestPainType='ASY', RestingBP=130, Cholesterol=269, FastingBS=0, RestingECG='Normal', MaxHR=163, ExerciseAngina='N', Oldpeak=0.0, ST_Slope='Up', HeartDisease=0),\n",
              " Row(Age=57, Sex='M', ChestPainType='ASY', RestingBP=165, Cholesterol=289, FastingBS=1, RestingECG='LVH', MaxHR=124, ExerciseAngina='N', Oldpeak=1.0, ST_Slope='Flat', HeartDisease=1),\n",
              " Row(Age=63, Sex='M', ChestPainType='ASY', RestingBP=130, Cholesterol=254, FastingBS=0, RestingECG='LVH', MaxHR=147, ExerciseAngina='N', Oldpeak=1.4, ST_Slope='Flat', HeartDisease=1),\n",
              " Row(Age=48, Sex='M', ChestPainType='ASY', RestingBP=124, Cholesterol=274, FastingBS=0, RestingECG='LVH', MaxHR=166, ExerciseAngina='N', Oldpeak=0.5, ST_Slope='Flat', HeartDisease=1),\n",
              " Row(Age=51, Sex='M', ChestPainType='NAP', RestingBP=100, Cholesterol=222, FastingBS=0, RestingECG='Normal', MaxHR=143, ExerciseAngina='Y', Oldpeak=1.2, ST_Slope='Flat', HeartDisease=0),\n",
              " Row(Age=60, Sex='F', ChestPainType='ASY', RestingBP=150, Cholesterol=258, FastingBS=0, RestingECG='LVH', MaxHR=157, ExerciseAngina='N', Oldpeak=2.6, ST_Slope='Flat', HeartDisease=1),\n",
              " Row(Age=59, Sex='M', ChestPainType='ASY', RestingBP=140, Cholesterol=177, FastingBS=0, RestingECG='Normal', MaxHR=162, ExerciseAngina='Y', Oldpeak=0.0, ST_Slope='Up', HeartDisease=1),\n",
              " Row(Age=45, Sex='F', ChestPainType='ATA', RestingBP=112, Cholesterol=160, FastingBS=0, RestingECG='Normal', MaxHR=138, ExerciseAngina='N', Oldpeak=0.0, ST_Slope='Flat', HeartDisease=0),\n",
              " Row(Age=55, Sex='F', ChestPainType='ASY', RestingBP=180, Cholesterol=327, FastingBS=0, RestingECG='ST', MaxHR=117, ExerciseAngina='Y', Oldpeak=3.4, ST_Slope='Flat', HeartDisease=1),\n",
              " Row(Age=41, Sex='M', ChestPainType='ATA', RestingBP=110, Cholesterol=235, FastingBS=0, RestingECG='Normal', MaxHR=153, ExerciseAngina='N', Oldpeak=0.0, ST_Slope='Up', HeartDisease=0),\n",
              " Row(Age=60, Sex='F', ChestPainType='ASY', RestingBP=158, Cholesterol=305, FastingBS=0, RestingECG='LVH', MaxHR=161, ExerciseAngina='N', Oldpeak=0.0, ST_Slope='Up', HeartDisease=1),\n",
              " Row(Age=54, Sex='F', ChestPainType='NAP', RestingBP=135, Cholesterol=304, FastingBS=1, RestingECG='Normal', MaxHR=170, ExerciseAngina='N', Oldpeak=0.0, ST_Slope='Up', HeartDisease=0),\n",
              " Row(Age=42, Sex='M', ChestPainType='ATA', RestingBP=120, Cholesterol=295, FastingBS=0, RestingECG='Normal', MaxHR=162, ExerciseAngina='N', Oldpeak=0.0, ST_Slope='Up', HeartDisease=0),\n",
              " Row(Age=49, Sex='F', ChestPainType='ATA', RestingBP=134, Cholesterol=271, FastingBS=0, RestingECG='Normal', MaxHR=162, ExerciseAngina='N', Oldpeak=0.0, ST_Slope='Flat', HeartDisease=0),\n",
              " Row(Age=46, Sex='M', ChestPainType='ASY', RestingBP=120, Cholesterol=249, FastingBS=0, RestingECG='LVH', MaxHR=144, ExerciseAngina='N', Oldpeak=0.8, ST_Slope='Up', HeartDisease=1),\n",
              " Row(Age=56, Sex='F', ChestPainType='ASY', RestingBP=200, Cholesterol=288, FastingBS=1, RestingECG='LVH', MaxHR=133, ExerciseAngina='Y', Oldpeak=4.0, ST_Slope='Down', HeartDisease=1),\n",
              " Row(Age=66, Sex='F', ChestPainType='TA', RestingBP=150, Cholesterol=226, FastingBS=0, RestingECG='Normal', MaxHR=114, ExerciseAngina='N', Oldpeak=2.6, ST_Slope='Down', HeartDisease=0),\n",
              " Row(Age=56, Sex='M', ChestPainType='ASY', RestingBP=130, Cholesterol=283, FastingBS=1, RestingECG='LVH', MaxHR=103, ExerciseAngina='Y', Oldpeak=1.6, ST_Slope='Down', HeartDisease=1),\n",
              " Row(Age=49, Sex='M', ChestPainType='NAP', RestingBP=120, Cholesterol=188, FastingBS=0, RestingECG='Normal', MaxHR=139, ExerciseAngina='N', Oldpeak=2.0, ST_Slope='Flat', HeartDisease=1),\n",
              " Row(Age=54, Sex='M', ChestPainType='ASY', RestingBP=122, Cholesterol=286, FastingBS=0, RestingECG='LVH', MaxHR=116, ExerciseAngina='Y', Oldpeak=3.2, ST_Slope='Flat', HeartDisease=1),\n",
              " Row(Age=57, Sex='M', ChestPainType='ASY', RestingBP=152, Cholesterol=274, FastingBS=0, RestingECG='Normal', MaxHR=88, ExerciseAngina='Y', Oldpeak=1.2, ST_Slope='Flat', HeartDisease=1),\n",
              " Row(Age=65, Sex='F', ChestPainType='NAP', RestingBP=160, Cholesterol=360, FastingBS=0, RestingECG='LVH', MaxHR=151, ExerciseAngina='N', Oldpeak=0.8, ST_Slope='Up', HeartDisease=0),\n",
              " Row(Age=54, Sex='M', ChestPainType='NAP', RestingBP=125, Cholesterol=273, FastingBS=0, RestingECG='LVH', MaxHR=152, ExerciseAngina='N', Oldpeak=0.5, ST_Slope='Down', HeartDisease=0),\n",
              " Row(Age=54, Sex='F', ChestPainType='NAP', RestingBP=160, Cholesterol=201, FastingBS=0, RestingECG='Normal', MaxHR=163, ExerciseAngina='N', Oldpeak=0.0, ST_Slope='Up', HeartDisease=0),\n",
              " Row(Age=62, Sex='M', ChestPainType='ASY', RestingBP=120, Cholesterol=267, FastingBS=0, RestingECG='Normal', MaxHR=99, ExerciseAngina='Y', Oldpeak=1.8, ST_Slope='Flat', HeartDisease=1),\n",
              " Row(Age=52, Sex='F', ChestPainType='NAP', RestingBP=136, Cholesterol=196, FastingBS=0, RestingECG='LVH', MaxHR=169, ExerciseAngina='N', Oldpeak=0.1, ST_Slope='Flat', HeartDisease=0),\n",
              " Row(Age=52, Sex='M', ChestPainType='ATA', RestingBP=134, Cholesterol=201, FastingBS=0, RestingECG='Normal', MaxHR=158, ExerciseAngina='N', Oldpeak=0.8, ST_Slope='Up', HeartDisease=0),\n",
              " Row(Age=60, Sex='M', ChestPainType='ASY', RestingBP=117, Cholesterol=230, FastingBS=1, RestingECG='Normal', MaxHR=160, ExerciseAngina='Y', Oldpeak=1.4, ST_Slope='Up', HeartDisease=1),\n",
              " Row(Age=63, Sex='F', ChestPainType='ASY', RestingBP=108, Cholesterol=269, FastingBS=0, RestingECG='Normal', MaxHR=169, ExerciseAngina='Y', Oldpeak=1.8, ST_Slope='Flat', HeartDisease=1),\n",
              " Row(Age=66, Sex='M', ChestPainType='ASY', RestingBP=112, Cholesterol=212, FastingBS=0, RestingECG='LVH', MaxHR=132, ExerciseAngina='Y', Oldpeak=0.1, ST_Slope='Up', HeartDisease=1),\n",
              " Row(Age=42, Sex='M', ChestPainType='ASY', RestingBP=140, Cholesterol=226, FastingBS=0, RestingECG='Normal', MaxHR=178, ExerciseAngina='N', Oldpeak=0.0, ST_Slope='Up', HeartDisease=0),\n",
              " Row(Age=64, Sex='M', ChestPainType='ASY', RestingBP=120, Cholesterol=246, FastingBS=0, RestingECG='LVH', MaxHR=96, ExerciseAngina='Y', Oldpeak=2.2, ST_Slope='Down', HeartDisease=1),\n",
              " Row(Age=54, Sex='M', ChestPainType='NAP', RestingBP=150, Cholesterol=232, FastingBS=0, RestingECG='LVH', MaxHR=165, ExerciseAngina='N', Oldpeak=1.6, ST_Slope='Up', HeartDisease=0),\n",
              " Row(Age=46, Sex='F', ChestPainType='NAP', RestingBP=142, Cholesterol=177, FastingBS=0, RestingECG='LVH', MaxHR=160, ExerciseAngina='Y', Oldpeak=1.4, ST_Slope='Down', HeartDisease=0),\n",
              " Row(Age=67, Sex='F', ChestPainType='NAP', RestingBP=152, Cholesterol=277, FastingBS=0, RestingECG='Normal', MaxHR=172, ExerciseAngina='N', Oldpeak=0.0, ST_Slope='Up', HeartDisease=0),\n",
              " Row(Age=56, Sex='M', ChestPainType='ASY', RestingBP=125, Cholesterol=249, FastingBS=1, RestingECG='LVH', MaxHR=144, ExerciseAngina='Y', Oldpeak=1.2, ST_Slope='Flat', HeartDisease=1),\n",
              " Row(Age=34, Sex='F', ChestPainType='ATA', RestingBP=118, Cholesterol=210, FastingBS=0, RestingECG='Normal', MaxHR=192, ExerciseAngina='N', Oldpeak=0.7, ST_Slope='Up', HeartDisease=0),\n",
              " Row(Age=57, Sex='M', ChestPainType='ASY', RestingBP=132, Cholesterol=207, FastingBS=0, RestingECG='Normal', MaxHR=168, ExerciseAngina='Y', Oldpeak=0.0, ST_Slope='Up', HeartDisease=0),\n",
              " Row(Age=64, Sex='M', ChestPainType='ASY', RestingBP=145, Cholesterol=212, FastingBS=0, RestingECG='LVH', MaxHR=132, ExerciseAngina='N', Oldpeak=2.0, ST_Slope='Flat', HeartDisease=1),\n",
              " Row(Age=59, Sex='M', ChestPainType='ASY', RestingBP=138, Cholesterol=271, FastingBS=0, RestingECG='LVH', MaxHR=182, ExerciseAngina='N', Oldpeak=0.0, ST_Slope='Up', HeartDisease=0),\n",
              " Row(Age=50, Sex='M', ChestPainType='NAP', RestingBP=140, Cholesterol=233, FastingBS=0, RestingECG='Normal', MaxHR=163, ExerciseAngina='N', Oldpeak=0.6, ST_Slope='Flat', HeartDisease=1),\n",
              " Row(Age=51, Sex='M', ChestPainType='TA', RestingBP=125, Cholesterol=213, FastingBS=0, RestingECG='LVH', MaxHR=125, ExerciseAngina='Y', Oldpeak=1.4, ST_Slope='Up', HeartDisease=0),\n",
              " Row(Age=54, Sex='M', ChestPainType='ATA', RestingBP=192, Cholesterol=283, FastingBS=0, RestingECG='LVH', MaxHR=195, ExerciseAngina='N', Oldpeak=0.0, ST_Slope='Up', HeartDisease=1),\n",
              " Row(Age=53, Sex='M', ChestPainType='ASY', RestingBP=123, Cholesterol=282, FastingBS=0, RestingECG='Normal', MaxHR=95, ExerciseAngina='Y', Oldpeak=2.0, ST_Slope='Flat', HeartDisease=1),\n",
              " Row(Age=52, Sex='M', ChestPainType='ASY', RestingBP=112, Cholesterol=230, FastingBS=0, RestingECG='Normal', MaxHR=160, ExerciseAngina='N', Oldpeak=0.0, ST_Slope='Up', HeartDisease=1),\n",
              " Row(Age=40, Sex='M', ChestPainType='ASY', RestingBP=110, Cholesterol=167, FastingBS=0, RestingECG='LVH', MaxHR=114, ExerciseAngina='Y', Oldpeak=2.0, ST_Slope='Flat', HeartDisease=1),\n",
              " Row(Age=58, Sex='M', ChestPainType='NAP', RestingBP=132, Cholesterol=224, FastingBS=0, RestingECG='LVH', MaxHR=173, ExerciseAngina='N', Oldpeak=3.2, ST_Slope='Up', HeartDisease=1),\n",
              " Row(Age=41, Sex='F', ChestPainType='NAP', RestingBP=112, Cholesterol=268, FastingBS=0, RestingECG='LVH', MaxHR=172, ExerciseAngina='Y', Oldpeak=0.0, ST_Slope='Up', HeartDisease=0),\n",
              " Row(Age=41, Sex='M', ChestPainType='NAP', RestingBP=112, Cholesterol=250, FastingBS=0, RestingECG='Normal', MaxHR=179, ExerciseAngina='N', Oldpeak=0.0, ST_Slope='Up', HeartDisease=0),\n",
              " Row(Age=50, Sex='F', ChestPainType='NAP', RestingBP=120, Cholesterol=219, FastingBS=0, RestingECG='Normal', MaxHR=158, ExerciseAngina='N', Oldpeak=1.6, ST_Slope='Flat', HeartDisease=0),\n",
              " Row(Age=54, Sex='F', ChestPainType='NAP', RestingBP=108, Cholesterol=267, FastingBS=0, RestingECG='LVH', MaxHR=167, ExerciseAngina='N', Oldpeak=0.0, ST_Slope='Up', HeartDisease=0),\n",
              " Row(Age=64, Sex='F', ChestPainType='ASY', RestingBP=130, Cholesterol=303, FastingBS=0, RestingECG='Normal', MaxHR=122, ExerciseAngina='N', Oldpeak=2.0, ST_Slope='Flat', HeartDisease=0),\n",
              " Row(Age=51, Sex='F', ChestPainType='NAP', RestingBP=130, Cholesterol=256, FastingBS=0, RestingECG='LVH', MaxHR=149, ExerciseAngina='N', Oldpeak=0.5, ST_Slope='Up', HeartDisease=0),\n",
              " Row(Age=46, Sex='F', ChestPainType='ATA', RestingBP=105, Cholesterol=204, FastingBS=0, RestingECG='Normal', MaxHR=172, ExerciseAngina='N', Oldpeak=0.0, ST_Slope='Up', HeartDisease=0),\n",
              " Row(Age=55, Sex='M', ChestPainType='ASY', RestingBP=140, Cholesterol=217, FastingBS=0, RestingECG='Normal', MaxHR=111, ExerciseAngina='Y', Oldpeak=5.6, ST_Slope='Down', HeartDisease=1),\n",
              " Row(Age=45, Sex='M', ChestPainType='ATA', RestingBP=128, Cholesterol=308, FastingBS=0, RestingECG='LVH', MaxHR=170, ExerciseAngina='N', Oldpeak=0.0, ST_Slope='Up', HeartDisease=0),\n",
              " Row(Age=56, Sex='M', ChestPainType='TA', RestingBP=120, Cholesterol=193, FastingBS=0, RestingECG='LVH', MaxHR=162, ExerciseAngina='N', Oldpeak=1.9, ST_Slope='Flat', HeartDisease=0),\n",
              " Row(Age=66, Sex='F', ChestPainType='ASY', RestingBP=178, Cholesterol=228, FastingBS=1, RestingECG='Normal', MaxHR=165, ExerciseAngina='Y', Oldpeak=1.0, ST_Slope='Flat', HeartDisease=1),\n",
              " Row(Age=38, Sex='M', ChestPainType='TA', RestingBP=120, Cholesterol=231, FastingBS=0, RestingECG='Normal', MaxHR=182, ExerciseAngina='Y', Oldpeak=3.8, ST_Slope='Flat', HeartDisease=1),\n",
              " Row(Age=62, Sex='F', ChestPainType='ASY', RestingBP=150, Cholesterol=244, FastingBS=0, RestingECG='Normal', MaxHR=154, ExerciseAngina='Y', Oldpeak=1.4, ST_Slope='Flat', HeartDisease=1),\n",
              " Row(Age=55, Sex='M', ChestPainType='ATA', RestingBP=130, Cholesterol=262, FastingBS=0, RestingECG='Normal', MaxHR=155, ExerciseAngina='N', Oldpeak=0.0, ST_Slope='Up', HeartDisease=0),\n",
              " Row(Age=58, Sex='M', ChestPainType='ASY', RestingBP=128, Cholesterol=259, FastingBS=0, RestingECG='LVH', MaxHR=130, ExerciseAngina='Y', Oldpeak=3.0, ST_Slope='Flat', HeartDisease=1),\n",
              " Row(Age=43, Sex='M', ChestPainType='ASY', RestingBP=110, Cholesterol=211, FastingBS=0, RestingECG='Normal', MaxHR=161, ExerciseAngina='N', Oldpeak=0.0, ST_Slope='Up', HeartDisease=0),\n",
              " Row(Age=64, Sex='F', ChestPainType='ASY', RestingBP=180, Cholesterol=325, FastingBS=0, RestingECG='Normal', MaxHR=154, ExerciseAngina='Y', Oldpeak=0.0, ST_Slope='Up', HeartDisease=0),\n",
              " Row(Age=50, Sex='F', ChestPainType='ASY', RestingBP=110, Cholesterol=254, FastingBS=0, RestingECG='LVH', MaxHR=159, ExerciseAngina='N', Oldpeak=0.0, ST_Slope='Up', HeartDisease=0),\n",
              " Row(Age=53, Sex='M', ChestPainType='NAP', RestingBP=130, Cholesterol=197, FastingBS=1, RestingECG='LVH', MaxHR=152, ExerciseAngina='N', Oldpeak=1.2, ST_Slope='Down', HeartDisease=0),\n",
              " Row(Age=45, Sex='F', ChestPainType='ASY', RestingBP=138, Cholesterol=236, FastingBS=0, RestingECG='LVH', MaxHR=152, ExerciseAngina='Y', Oldpeak=0.2, ST_Slope='Flat', HeartDisease=0),\n",
              " Row(Age=65, Sex='M', ChestPainType='TA', RestingBP=138, Cholesterol=282, FastingBS=1, RestingECG='LVH', MaxHR=174, ExerciseAngina='N', Oldpeak=1.4, ST_Slope='Flat', HeartDisease=1),\n",
              " Row(Age=69, Sex='M', ChestPainType='TA', RestingBP=160, Cholesterol=234, FastingBS=1, RestingECG='LVH', MaxHR=131, ExerciseAngina='N', Oldpeak=0.1, ST_Slope='Flat', HeartDisease=0),\n",
              " Row(Age=69, Sex='M', ChestPainType='NAP', RestingBP=140, Cholesterol=254, FastingBS=0, RestingECG='LVH', MaxHR=146, ExerciseAngina='N', Oldpeak=2.0, ST_Slope='Flat', HeartDisease=1),\n",
              " Row(Age=67, Sex='M', ChestPainType='ASY', RestingBP=100, Cholesterol=299, FastingBS=0, RestingECG='LVH', MaxHR=125, ExerciseAngina='Y', Oldpeak=0.9, ST_Slope='Flat', HeartDisease=1),\n",
              " Row(Age=68, Sex='F', ChestPainType='NAP', RestingBP=120, Cholesterol=211, FastingBS=0, RestingECG='LVH', MaxHR=115, ExerciseAngina='N', Oldpeak=1.5, ST_Slope='Flat', HeartDisease=0),\n",
              " Row(Age=34, Sex='M', ChestPainType='TA', RestingBP=118, Cholesterol=182, FastingBS=0, RestingECG='LVH', MaxHR=174, ExerciseAngina='N', Oldpeak=0.0, ST_Slope='Up', HeartDisease=0),\n",
              " Row(Age=62, Sex='F', ChestPainType='ASY', RestingBP=138, Cholesterol=294, FastingBS=1, RestingECG='Normal', MaxHR=106, ExerciseAngina='N', Oldpeak=1.9, ST_Slope='Flat', HeartDisease=1),\n",
              " Row(Age=51, Sex='M', ChestPainType='ASY', RestingBP=140, Cholesterol=298, FastingBS=0, RestingECG='Normal', MaxHR=122, ExerciseAngina='Y', Oldpeak=4.2, ST_Slope='Flat', HeartDisease=1),\n",
              " Row(Age=46, Sex='M', ChestPainType='NAP', RestingBP=150, Cholesterol=231, FastingBS=0, RestingECG='Normal', MaxHR=147, ExerciseAngina='N', Oldpeak=3.6, ST_Slope='Flat', HeartDisease=1),\n",
              " Row(Age=67, Sex='M', ChestPainType='ASY', RestingBP=125, Cholesterol=254, FastingBS=1, RestingECG='Normal', MaxHR=163, ExerciseAngina='N', Oldpeak=0.2, ST_Slope='Flat', HeartDisease=1),\n",
              " Row(Age=50, Sex='M', ChestPainType='NAP', RestingBP=129, Cholesterol=196, FastingBS=0, RestingECG='Normal', MaxHR=163, ExerciseAngina='N', Oldpeak=0.0, ST_Slope='Up', HeartDisease=0),\n",
              " Row(Age=42, Sex='M', ChestPainType='NAP', RestingBP=120, Cholesterol=240, FastingBS=1, RestingECG='Normal', MaxHR=194, ExerciseAngina='N', Oldpeak=0.8, ST_Slope='Down', HeartDisease=0),\n",
              " Row(Age=56, Sex='F', ChestPainType='ASY', RestingBP=134, Cholesterol=409, FastingBS=0, RestingECG='LVH', MaxHR=150, ExerciseAngina='Y', Oldpeak=1.9, ST_Slope='Flat', HeartDisease=1),\n",
              " Row(Age=41, Sex='M', ChestPainType='ASY', RestingBP=110, Cholesterol=172, FastingBS=0, RestingECG='LVH', MaxHR=158, ExerciseAngina='N', Oldpeak=0.0, ST_Slope='Up', HeartDisease=1),\n",
              " Row(Age=42, Sex='F', ChestPainType='ASY', RestingBP=102, Cholesterol=265, FastingBS=0, RestingECG='LVH', MaxHR=122, ExerciseAngina='N', Oldpeak=0.6, ST_Slope='Flat', HeartDisease=0),\n",
              " Row(Age=53, Sex='M', ChestPainType='NAP', RestingBP=130, Cholesterol=246, FastingBS=1, RestingECG='LVH', MaxHR=173, ExerciseAngina='N', Oldpeak=0.0, ST_Slope='Up', HeartDisease=0),\n",
              " Row(Age=43, Sex='M', ChestPainType='NAP', RestingBP=130, Cholesterol=315, FastingBS=0, RestingECG='Normal', MaxHR=162, ExerciseAngina='N', Oldpeak=1.9, ST_Slope='Up', HeartDisease=0),\n",
              " Row(Age=56, Sex='M', ChestPainType='ASY', RestingBP=132, Cholesterol=184, FastingBS=0, RestingECG='LVH', MaxHR=105, ExerciseAngina='Y', Oldpeak=2.1, ST_Slope='Flat', HeartDisease=1),\n",
              " Row(Age=52, Sex='M', ChestPainType='ASY', RestingBP=108, Cholesterol=233, FastingBS=1, RestingECG='Normal', MaxHR=147, ExerciseAngina='N', Oldpeak=0.1, ST_Slope='Up', HeartDisease=0),\n",
              " Row(Age=62, Sex='F', ChestPainType='ASY', RestingBP=140, Cholesterol=394, FastingBS=0, RestingECG='LVH', MaxHR=157, ExerciseAngina='N', Oldpeak=1.2, ST_Slope='Flat', HeartDisease=0),\n",
              " Row(Age=70, Sex='M', ChestPainType='NAP', RestingBP=160, Cholesterol=269, FastingBS=0, RestingECG='Normal', MaxHR=112, ExerciseAngina='Y', Oldpeak=2.9, ST_Slope='Flat', HeartDisease=1),\n",
              " Row(Age=54, Sex='M', ChestPainType='ASY', RestingBP=140, Cholesterol=239, FastingBS=0, RestingECG='Normal', MaxHR=160, ExerciseAngina='N', Oldpeak=1.2, ST_Slope='Up', HeartDisease=0),\n",
              " Row(Age=70, Sex='M', ChestPainType='ASY', RestingBP=145, Cholesterol=174, FastingBS=0, RestingECG='Normal', MaxHR=125, ExerciseAngina='Y', Oldpeak=2.6, ST_Slope='Down', HeartDisease=1),\n",
              " Row(Age=54, Sex='M', ChestPainType='ATA', RestingBP=108, Cholesterol=309, FastingBS=0, RestingECG='Normal', MaxHR=156, ExerciseAngina='N', Oldpeak=0.0, ST_Slope='Up', HeartDisease=0),\n",
              " Row(Age=35, Sex='M', ChestPainType='ASY', RestingBP=126, Cholesterol=282, FastingBS=0, RestingECG='LVH', MaxHR=156, ExerciseAngina='Y', Oldpeak=0.0, ST_Slope='Up', HeartDisease=1),\n",
              " Row(Age=48, Sex='M', ChestPainType='NAP', RestingBP=124, Cholesterol=255, FastingBS=1, RestingECG='Normal', MaxHR=175, ExerciseAngina='N', Oldpeak=0.0, ST_Slope='Up', HeartDisease=0),\n",
              " Row(Age=55, Sex='F', ChestPainType='ATA', RestingBP=135, Cholesterol=250, FastingBS=0, RestingECG='LVH', MaxHR=161, ExerciseAngina='N', Oldpeak=1.4, ST_Slope='Flat', HeartDisease=0),\n",
              " Row(Age=58, Sex='F', ChestPainType='ASY', RestingBP=100, Cholesterol=248, FastingBS=0, RestingECG='LVH', MaxHR=122, ExerciseAngina='N', Oldpeak=1.0, ST_Slope='Flat', HeartDisease=0),\n",
              " Row(Age=54, Sex='F', ChestPainType='NAP', RestingBP=110, Cholesterol=214, FastingBS=0, RestingECG='Normal', MaxHR=158, ExerciseAngina='N', Oldpeak=1.6, ST_Slope='Flat', HeartDisease=0),\n",
              " Row(Age=69, Sex='F', ChestPainType='TA', RestingBP=140, Cholesterol=239, FastingBS=0, RestingECG='Normal', MaxHR=151, ExerciseAngina='N', Oldpeak=1.8, ST_Slope='Up', HeartDisease=0),\n",
              " Row(Age=77, Sex='M', ChestPainType='ASY', RestingBP=125, Cholesterol=304, FastingBS=0, RestingECG='LVH', MaxHR=162, ExerciseAngina='Y', Oldpeak=0.0, ST_Slope='Up', HeartDisease=1),\n",
              " Row(Age=68, Sex='M', ChestPainType='NAP', RestingBP=118, Cholesterol=277, FastingBS=0, RestingECG='Normal', MaxHR=151, ExerciseAngina='N', Oldpeak=1.0, ST_Slope='Up', HeartDisease=0),\n",
              " Row(Age=58, Sex='M', ChestPainType='ASY', RestingBP=125, Cholesterol=300, FastingBS=0, RestingECG='LVH', MaxHR=171, ExerciseAngina='N', Oldpeak=0.0, ST_Slope='Up', HeartDisease=1),\n",
              " Row(Age=60, Sex='M', ChestPainType='ASY', RestingBP=125, Cholesterol=258, FastingBS=0, RestingECG='LVH', MaxHR=141, ExerciseAngina='Y', Oldpeak=2.8, ST_Slope='Flat', HeartDisease=1),\n",
              " Row(Age=51, Sex='M', ChestPainType='ASY', RestingBP=140, Cholesterol=299, FastingBS=0, RestingECG='Normal', MaxHR=173, ExerciseAngina='Y', Oldpeak=1.6, ST_Slope='Up', HeartDisease=1),\n",
              " Row(Age=55, Sex='M', ChestPainType='ASY', RestingBP=160, Cholesterol=289, FastingBS=0, RestingECG='LVH', MaxHR=145, ExerciseAngina='Y', Oldpeak=0.8, ST_Slope='Flat', HeartDisease=1),\n",
              " Row(Age=52, Sex='M', ChestPainType='TA', RestingBP=152, Cholesterol=298, FastingBS=1, RestingECG='Normal', MaxHR=178, ExerciseAngina='N', Oldpeak=1.2, ST_Slope='Flat', HeartDisease=0),\n",
              " Row(Age=60, Sex='F', ChestPainType='NAP', RestingBP=102, Cholesterol=318, FastingBS=0, RestingECG='Normal', MaxHR=160, ExerciseAngina='N', Oldpeak=0.0, ST_Slope='Up', HeartDisease=0),\n",
              " Row(Age=58, Sex='M', ChestPainType='NAP', RestingBP=105, Cholesterol=240, FastingBS=0, RestingECG='LVH', MaxHR=154, ExerciseAngina='Y', Oldpeak=0.6, ST_Slope='Flat', HeartDisease=0),\n",
              " Row(Age=64, Sex='M', ChestPainType='NAP', RestingBP=125, Cholesterol=309, FastingBS=0, RestingECG='Normal', MaxHR=131, ExerciseAngina='Y', Oldpeak=1.8, ST_Slope='Flat', HeartDisease=1),\n",
              " Row(Age=37, Sex='M', ChestPainType='NAP', RestingBP=130, Cholesterol=250, FastingBS=0, RestingECG='Normal', MaxHR=187, ExerciseAngina='N', Oldpeak=3.5, ST_Slope='Down', HeartDisease=0),\n",
              " Row(Age=59, Sex='M', ChestPainType='TA', RestingBP=170, Cholesterol=288, FastingBS=0, RestingECG='LVH', MaxHR=159, ExerciseAngina='N', Oldpeak=0.2, ST_Slope='Flat', HeartDisease=1),\n",
              " Row(Age=51, Sex='M', ChestPainType='NAP', RestingBP=125, Cholesterol=245, FastingBS=1, RestingECG='LVH', MaxHR=166, ExerciseAngina='N', Oldpeak=2.4, ST_Slope='Flat', HeartDisease=0),\n",
              " Row(Age=43, Sex='F', ChestPainType='NAP', RestingBP=122, Cholesterol=213, FastingBS=0, RestingECG='Normal', MaxHR=165, ExerciseAngina='N', Oldpeak=0.2, ST_Slope='Flat', HeartDisease=0),\n",
              " Row(Age=58, Sex='M', ChestPainType='ASY', RestingBP=128, Cholesterol=216, FastingBS=0, RestingECG='LVH', MaxHR=131, ExerciseAngina='Y', Oldpeak=2.2, ST_Slope='Flat', HeartDisease=1),\n",
              " Row(Age=29, Sex='M', ChestPainType='ATA', RestingBP=130, Cholesterol=204, FastingBS=0, RestingECG='LVH', MaxHR=202, ExerciseAngina='N', Oldpeak=0.0, ST_Slope='Up', HeartDisease=0),\n",
              " Row(Age=41, Sex='F', ChestPainType='ATA', RestingBP=130, Cholesterol=204, FastingBS=0, RestingECG='LVH', MaxHR=172, ExerciseAngina='N', Oldpeak=1.4, ST_Slope='Up', HeartDisease=0),\n",
              " Row(Age=63, Sex='F', ChestPainType='NAP', RestingBP=135, Cholesterol=252, FastingBS=0, RestingECG='LVH', MaxHR=172, ExerciseAngina='N', Oldpeak=0.0, ST_Slope='Up', HeartDisease=0),\n",
              " Row(Age=51, Sex='M', ChestPainType='NAP', RestingBP=94, Cholesterol=227, FastingBS=0, RestingECG='Normal', MaxHR=154, ExerciseAngina='Y', Oldpeak=0.0, ST_Slope='Up', HeartDisease=0),\n",
              " Row(Age=54, Sex='M', ChestPainType='NAP', RestingBP=120, Cholesterol=258, FastingBS=0, RestingECG='LVH', MaxHR=147, ExerciseAngina='N', Oldpeak=0.4, ST_Slope='Flat', HeartDisease=0),\n",
              " Row(Age=44, Sex='M', ChestPainType='ATA', RestingBP=120, Cholesterol=220, FastingBS=0, RestingECG='Normal', MaxHR=170, ExerciseAngina='N', Oldpeak=0.0, ST_Slope='Up', HeartDisease=0),\n",
              " Row(Age=54, Sex='M', ChestPainType='ASY', RestingBP=110, Cholesterol=239, FastingBS=0, RestingECG='Normal', MaxHR=126, ExerciseAngina='Y', Oldpeak=2.8, ST_Slope='Flat', HeartDisease=1),\n",
              " Row(Age=65, Sex='M', ChestPainType='ASY', RestingBP=135, Cholesterol=254, FastingBS=0, RestingECG='LVH', MaxHR=127, ExerciseAngina='N', Oldpeak=2.8, ST_Slope='Flat', HeartDisease=1),\n",
              " Row(Age=57, Sex='M', ChestPainType='NAP', RestingBP=150, Cholesterol=168, FastingBS=0, RestingECG='Normal', MaxHR=174, ExerciseAngina='N', Oldpeak=1.6, ST_Slope='Up', HeartDisease=0),\n",
              " Row(Age=63, Sex='M', ChestPainType='ASY', RestingBP=130, Cholesterol=330, FastingBS=1, RestingECG='LVH', MaxHR=132, ExerciseAngina='Y', Oldpeak=1.8, ST_Slope='Up', HeartDisease=1),\n",
              " Row(Age=35, Sex='F', ChestPainType='ASY', RestingBP=138, Cholesterol=183, FastingBS=0, RestingECG='Normal', MaxHR=182, ExerciseAngina='N', Oldpeak=1.4, ST_Slope='Up', HeartDisease=0),\n",
              " Row(Age=41, Sex='M', ChestPainType='ATA', RestingBP=135, Cholesterol=203, FastingBS=0, RestingECG='Normal', MaxHR=132, ExerciseAngina='N', Oldpeak=0.0, ST_Slope='Flat', HeartDisease=0),\n",
              " Row(Age=62, Sex='F', ChestPainType='NAP', RestingBP=130, Cholesterol=263, FastingBS=0, RestingECG='Normal', MaxHR=97, ExerciseAngina='N', Oldpeak=1.2, ST_Slope='Flat', HeartDisease=1),\n",
              " Row(Age=43, Sex='F', ChestPainType='ASY', RestingBP=132, Cholesterol=341, FastingBS=1, RestingECG='LVH', MaxHR=136, ExerciseAngina='Y', Oldpeak=3.0, ST_Slope='Flat', HeartDisease=1),\n",
              " Row(Age=58, Sex='F', ChestPainType='TA', RestingBP=150, Cholesterol=283, FastingBS=1, RestingECG='LVH', MaxHR=162, ExerciseAngina='N', Oldpeak=1.0, ST_Slope='Up', HeartDisease=0),\n",
              " Row(Age=52, Sex='M', ChestPainType='TA', RestingBP=118, Cholesterol=186, FastingBS=0, RestingECG='LVH', MaxHR=190, ExerciseAngina='N', Oldpeak=0.0, ST_Slope='Flat', HeartDisease=0),\n",
              " Row(Age=61, Sex='F', ChestPainType='ASY', RestingBP=145, Cholesterol=307, FastingBS=0, RestingECG='LVH', MaxHR=146, ExerciseAngina='Y', Oldpeak=1.0, ST_Slope='Flat', HeartDisease=1),\n",
              " Row(Age=39, Sex='M', ChestPainType='ASY', RestingBP=118, Cholesterol=219, FastingBS=0, RestingECG='Normal', MaxHR=140, ExerciseAngina='N', Oldpeak=1.2, ST_Slope='Flat', HeartDisease=1),\n",
              " Row(Age=45, Sex='M', ChestPainType='ASY', RestingBP=115, Cholesterol=260, FastingBS=0, RestingECG='LVH', MaxHR=185, ExerciseAngina='N', Oldpeak=0.0, ST_Slope='Up', HeartDisease=0),\n",
              " Row(Age=52, Sex='M', ChestPainType='ASY', RestingBP=128, Cholesterol=255, FastingBS=0, RestingECG='Normal', MaxHR=161, ExerciseAngina='Y', Oldpeak=0.0, ST_Slope='Up', HeartDisease=1),\n",
              " Row(Age=62, Sex='M', ChestPainType='NAP', RestingBP=130, Cholesterol=231, FastingBS=0, RestingECG='Normal', MaxHR=146, ExerciseAngina='N', Oldpeak=1.8, ST_Slope='Flat', HeartDisease=0),\n",
              " Row(Age=62, Sex='F', ChestPainType='ASY', RestingBP=160, Cholesterol=164, FastingBS=0, RestingECG='LVH', MaxHR=145, ExerciseAngina='N', Oldpeak=6.2, ST_Slope='Down', HeartDisease=1),\n",
              " Row(Age=53, Sex='F', ChestPainType='ASY', RestingBP=138, Cholesterol=234, FastingBS=0, RestingECG='LVH', MaxHR=160, ExerciseAngina='N', Oldpeak=0.0, ST_Slope='Up', HeartDisease=0),\n",
              " Row(Age=43, Sex='M', ChestPainType='ASY', RestingBP=120, Cholesterol=177, FastingBS=0, RestingECG='LVH', MaxHR=120, ExerciseAngina='Y', Oldpeak=2.5, ST_Slope='Flat', HeartDisease=1),\n",
              " Row(Age=47, Sex='M', ChestPainType='NAP', RestingBP=138, Cholesterol=257, FastingBS=0, RestingECG='LVH', MaxHR=156, ExerciseAngina='N', Oldpeak=0.0, ST_Slope='Up', HeartDisease=0),\n",
              " Row(Age=52, Sex='M', ChestPainType='ATA', RestingBP=120, Cholesterol=325, FastingBS=0, RestingECG='Normal', MaxHR=172, ExerciseAngina='N', Oldpeak=0.2, ST_Slope='Up', HeartDisease=0),\n",
              " Row(Age=68, Sex='M', ChestPainType='NAP', RestingBP=180, Cholesterol=274, FastingBS=1, RestingECG='LVH', MaxHR=150, ExerciseAngina='Y', Oldpeak=1.6, ST_Slope='Flat', HeartDisease=1),\n",
              " Row(Age=39, Sex='M', ChestPainType='NAP', RestingBP=140, Cholesterol=321, FastingBS=0, RestingECG='LVH', MaxHR=182, ExerciseAngina='N', Oldpeak=0.0, ST_Slope='Up', HeartDisease=0),\n",
              " Row(Age=53, Sex='F', ChestPainType='ASY', RestingBP=130, Cholesterol=264, FastingBS=0, RestingECG='LVH', MaxHR=143, ExerciseAngina='N', Oldpeak=0.4, ST_Slope='Flat', HeartDisease=0),\n",
              " Row(Age=62, Sex='F', ChestPainType='ASY', RestingBP=140, Cholesterol=268, FastingBS=0, RestingECG='LVH', MaxHR=160, ExerciseAngina='N', Oldpeak=3.6, ST_Slope='Down', HeartDisease=1),\n",
              " Row(Age=51, Sex='F', ChestPainType='NAP', RestingBP=140, Cholesterol=308, FastingBS=0, RestingECG='LVH', MaxHR=142, ExerciseAngina='N', Oldpeak=1.5, ST_Slope='Up', HeartDisease=0),\n",
              " Row(Age=60, Sex='M', ChestPainType='ASY', RestingBP=130, Cholesterol=253, FastingBS=0, RestingECG='Normal', MaxHR=144, ExerciseAngina='Y', Oldpeak=1.4, ST_Slope='Up', HeartDisease=1),\n",
              " Row(Age=65, Sex='M', ChestPainType='ASY', RestingBP=110, Cholesterol=248, FastingBS=0, RestingECG='LVH', MaxHR=158, ExerciseAngina='N', Oldpeak=0.6, ST_Slope='Up', HeartDisease=1),\n",
              " Row(Age=65, Sex='F', ChestPainType='NAP', RestingBP=155, Cholesterol=269, FastingBS=0, RestingECG='Normal', MaxHR=148, ExerciseAngina='N', Oldpeak=0.8, ST_Slope='Up', HeartDisease=0),\n",
              " Row(Age=60, Sex='M', ChestPainType='NAP', RestingBP=140, Cholesterol=185, FastingBS=0, RestingECG='LVH', MaxHR=155, ExerciseAngina='N', Oldpeak=3.0, ST_Slope='Flat', HeartDisease=1),\n",
              " Row(Age=60, Sex='M', ChestPainType='ASY', RestingBP=145, Cholesterol=282, FastingBS=0, RestingECG='LVH', MaxHR=142, ExerciseAngina='Y', Oldpeak=2.8, ST_Slope='Flat', HeartDisease=1),\n",
              " Row(Age=54, Sex='M', ChestPainType='ASY', RestingBP=120, Cholesterol=188, FastingBS=0, RestingECG='Normal', MaxHR=113, ExerciseAngina='N', Oldpeak=1.4, ST_Slope='Flat', HeartDisease=1),\n",
              " Row(Age=44, Sex='M', ChestPainType='ATA', RestingBP=130, Cholesterol=219, FastingBS=0, RestingECG='LVH', MaxHR=188, ExerciseAngina='N', Oldpeak=0.0, ST_Slope='Up', HeartDisease=0),\n",
              " Row(Age=44, Sex='M', ChestPainType='ASY', RestingBP=112, Cholesterol=290, FastingBS=0, RestingECG='LVH', MaxHR=153, ExerciseAngina='N', Oldpeak=0.0, ST_Slope='Up', HeartDisease=1),\n",
              " Row(Age=51, Sex='M', ChestPainType='NAP', RestingBP=110, Cholesterol=175, FastingBS=0, RestingECG='Normal', MaxHR=123, ExerciseAngina='N', Oldpeak=0.6, ST_Slope='Up', HeartDisease=0),\n",
              " Row(Age=59, Sex='M', ChestPainType='NAP', RestingBP=150, Cholesterol=212, FastingBS=1, RestingECG='Normal', MaxHR=157, ExerciseAngina='N', Oldpeak=1.6, ST_Slope='Up', HeartDisease=0),\n",
              " Row(Age=71, Sex='F', ChestPainType='ATA', RestingBP=160, Cholesterol=302, FastingBS=0, RestingECG='Normal', MaxHR=162, ExerciseAngina='N', Oldpeak=0.4, ST_Slope='Up', HeartDisease=0),\n",
              " Row(Age=61, Sex='M', ChestPainType='NAP', RestingBP=150, Cholesterol=243, FastingBS=1, RestingECG='Normal', MaxHR=137, ExerciseAngina='Y', Oldpeak=1.0, ST_Slope='Flat', HeartDisease=0),\n",
              " Row(Age=55, Sex='M', ChestPainType='ASY', RestingBP=132, Cholesterol=353, FastingBS=0, RestingECG='Normal', MaxHR=132, ExerciseAngina='Y', Oldpeak=1.2, ST_Slope='Flat', HeartDisease=1),\n",
              " Row(Age=64, Sex='M', ChestPainType='NAP', RestingBP=140, Cholesterol=335, FastingBS=0, RestingECG='Normal', MaxHR=158, ExerciseAngina='N', Oldpeak=0.0, ST_Slope='Up', HeartDisease=1),\n",
              " Row(Age=43, Sex='M', ChestPainType='ASY', RestingBP=150, Cholesterol=247, FastingBS=0, RestingECG='Normal', MaxHR=171, ExerciseAngina='N', Oldpeak=1.5, ST_Slope='Up', HeartDisease=0),\n",
              " Row(Age=58, Sex='F', ChestPainType='NAP', RestingBP=120, Cholesterol=340, FastingBS=0, RestingECG='Normal', MaxHR=172, ExerciseAngina='N', Oldpeak=0.0, ST_Slope='Up', HeartDisease=0),\n",
              " Row(Age=60, Sex='M', ChestPainType='ASY', RestingBP=130, Cholesterol=206, FastingBS=0, RestingECG='LVH', MaxHR=132, ExerciseAngina='Y', Oldpeak=2.4, ST_Slope='Flat', HeartDisease=1),\n",
              " Row(Age=58, Sex='M', ChestPainType='ATA', RestingBP=120, Cholesterol=284, FastingBS=0, RestingECG='LVH', MaxHR=160, ExerciseAngina='N', Oldpeak=1.8, ST_Slope='Flat', HeartDisease=1),\n",
              " Row(Age=49, Sex='M', ChestPainType='ATA', RestingBP=130, Cholesterol=266, FastingBS=0, RestingECG='Normal', MaxHR=171, ExerciseAngina='N', Oldpeak=0.6, ST_Slope='Up', HeartDisease=0),\n",
              " Row(Age=48, Sex='M', ChestPainType='ATA', RestingBP=110, Cholesterol=229, FastingBS=0, RestingECG='Normal', MaxHR=168, ExerciseAngina='N', Oldpeak=1.0, ST_Slope='Down', HeartDisease=1),\n",
              " Row(Age=52, Sex='M', ChestPainType='NAP', RestingBP=172, Cholesterol=199, FastingBS=1, RestingECG='Normal', MaxHR=162, ExerciseAngina='N', Oldpeak=0.5, ST_Slope='Up', HeartDisease=0),\n",
              " Row(Age=44, Sex='M', ChestPainType='ATA', RestingBP=120, Cholesterol=263, FastingBS=0, RestingECG='Normal', MaxHR=173, ExerciseAngina='N', Oldpeak=0.0, ST_Slope='Up', HeartDisease=0),\n",
              " Row(Age=56, Sex='F', ChestPainType='ATA', RestingBP=140, Cholesterol=294, FastingBS=0, RestingECG='LVH', MaxHR=153, ExerciseAngina='N', Oldpeak=1.3, ST_Slope='Flat', HeartDisease=0),\n",
              " Row(Age=57, Sex='M', ChestPainType='ASY', RestingBP=140, Cholesterol=192, FastingBS=0, RestingECG='Normal', MaxHR=148, ExerciseAngina='N', Oldpeak=0.4, ST_Slope='Flat', HeartDisease=0),\n",
              " Row(Age=67, Sex='M', ChestPainType='ASY', RestingBP=160, Cholesterol=286, FastingBS=0, RestingECG='LVH', MaxHR=108, ExerciseAngina='Y', Oldpeak=1.5, ST_Slope='Flat', HeartDisease=1),\n",
              " Row(Age=53, Sex='F', ChestPainType='NAP', RestingBP=128, Cholesterol=216, FastingBS=0, RestingECG='LVH', MaxHR=115, ExerciseAngina='N', Oldpeak=0.0, ST_Slope='Up', HeartDisease=0),\n",
              " Row(Age=52, Sex='M', ChestPainType='NAP', RestingBP=138, Cholesterol=223, FastingBS=0, RestingECG='Normal', MaxHR=169, ExerciseAngina='N', Oldpeak=0.0, ST_Slope='Up', HeartDisease=0),\n",
              " Row(Age=43, Sex='M', ChestPainType='ASY', RestingBP=132, Cholesterol=247, FastingBS=1, RestingECG='LVH', MaxHR=143, ExerciseAngina='Y', Oldpeak=0.1, ST_Slope='Flat', HeartDisease=1),\n",
              " Row(Age=52, Sex='M', ChestPainType='ASY', RestingBP=128, Cholesterol=204, FastingBS=1, RestingECG='Normal', MaxHR=156, ExerciseAngina='Y', Oldpeak=1.0, ST_Slope='Flat', HeartDisease=1),\n",
              " Row(Age=59, Sex='M', ChestPainType='TA', RestingBP=134, Cholesterol=204, FastingBS=0, RestingECG='Normal', MaxHR=162, ExerciseAngina='N', Oldpeak=0.8, ST_Slope='Up', HeartDisease=1),\n",
              " Row(Age=64, Sex='M', ChestPainType='TA', RestingBP=170, Cholesterol=227, FastingBS=0, RestingECG='LVH', MaxHR=155, ExerciseAngina='N', Oldpeak=0.6, ST_Slope='Flat', HeartDisease=0),\n",
              " Row(Age=66, Sex='F', ChestPainType='NAP', RestingBP=146, Cholesterol=278, FastingBS=0, RestingECG='LVH', MaxHR=152, ExerciseAngina='N', Oldpeak=0.0, ST_Slope='Flat', HeartDisease=0),\n",
              " Row(Age=39, Sex='F', ChestPainType='NAP', RestingBP=138, Cholesterol=220, FastingBS=0, RestingECG='Normal', MaxHR=152, ExerciseAngina='N', Oldpeak=0.0, ST_Slope='Flat', HeartDisease=0),\n",
              " Row(Age=57, Sex='M', ChestPainType='ATA', RestingBP=154, Cholesterol=232, FastingBS=0, RestingECG='LVH', MaxHR=164, ExerciseAngina='N', Oldpeak=0.0, ST_Slope='Up', HeartDisease=1),\n",
              " Row(Age=58, Sex='F', ChestPainType='ASY', RestingBP=130, Cholesterol=197, FastingBS=0, RestingECG='Normal', MaxHR=131, ExerciseAngina='N', Oldpeak=0.6, ST_Slope='Flat', HeartDisease=0),\n",
              " Row(Age=57, Sex='M', ChestPainType='ASY', RestingBP=110, Cholesterol=335, FastingBS=0, RestingECG='Normal', MaxHR=143, ExerciseAngina='Y', Oldpeak=3.0, ST_Slope='Flat', HeartDisease=1),\n",
              " Row(Age=47, Sex='M', ChestPainType='NAP', RestingBP=130, Cholesterol=253, FastingBS=0, RestingECG='Normal', MaxHR=179, ExerciseAngina='N', Oldpeak=0.0, ST_Slope='Up', HeartDisease=0),\n",
              " Row(Age=55, Sex='F', ChestPainType='ASY', RestingBP=128, Cholesterol=205, FastingBS=0, RestingECG='ST', MaxHR=130, ExerciseAngina='Y', Oldpeak=2.0, ST_Slope='Flat', HeartDisease=1),\n",
              " Row(Age=35, Sex='M', ChestPainType='ATA', RestingBP=122, Cholesterol=192, FastingBS=0, RestingECG='Normal', MaxHR=174, ExerciseAngina='N', Oldpeak=0.0, ST_Slope='Up', HeartDisease=0),\n",
              " Row(Age=61, Sex='M', ChestPainType='ASY', RestingBP=148, Cholesterol=203, FastingBS=0, RestingECG='Normal', MaxHR=161, ExerciseAngina='N', Oldpeak=0.0, ST_Slope='Up', HeartDisease=1),\n",
              " Row(Age=58, Sex='M', ChestPainType='ASY', RestingBP=114, Cholesterol=318, FastingBS=0, RestingECG='ST', MaxHR=140, ExerciseAngina='N', Oldpeak=4.4, ST_Slope='Down', HeartDisease=1),\n",
              " Row(Age=58, Sex='F', ChestPainType='ASY', RestingBP=170, Cholesterol=225, FastingBS=1, RestingECG='LVH', MaxHR=146, ExerciseAngina='Y', Oldpeak=2.8, ST_Slope='Flat', HeartDisease=1),\n",
              " Row(Age=58, Sex='M', ChestPainType='ATA', RestingBP=125, Cholesterol=220, FastingBS=0, RestingECG='Normal', MaxHR=144, ExerciseAngina='N', Oldpeak=0.4, ST_Slope='Flat', HeartDisease=0),\n",
              " Row(Age=56, Sex='M', ChestPainType='ATA', RestingBP=130, Cholesterol=221, FastingBS=0, RestingECG='LVH', MaxHR=163, ExerciseAngina='N', Oldpeak=0.0, ST_Slope='Up', HeartDisease=0),\n",
              " Row(Age=56, Sex='M', ChestPainType='ATA', RestingBP=120, Cholesterol=240, FastingBS=0, RestingECG='Normal', MaxHR=169, ExerciseAngina='N', Oldpeak=0.0, ST_Slope='Down', HeartDisease=0),\n",
              " Row(Age=67, Sex='M', ChestPainType='NAP', RestingBP=152, Cholesterol=212, FastingBS=0, RestingECG='LVH', MaxHR=150, ExerciseAngina='N', Oldpeak=0.8, ST_Slope='Flat', HeartDisease=1),\n",
              " Row(Age=55, Sex='F', ChestPainType='ATA', RestingBP=132, Cholesterol=342, FastingBS=0, RestingECG='Normal', MaxHR=166, ExerciseAngina='N', Oldpeak=1.2, ST_Slope='Up', HeartDisease=0),\n",
              " Row(Age=44, Sex='M', ChestPainType='ASY', RestingBP=120, Cholesterol=169, FastingBS=0, RestingECG='Normal', MaxHR=144, ExerciseAngina='Y', Oldpeak=2.8, ST_Slope='Down', HeartDisease=1),\n",
              " Row(Age=63, Sex='M', ChestPainType='ASY', RestingBP=140, Cholesterol=187, FastingBS=0, RestingECG='LVH', MaxHR=144, ExerciseAngina='Y', Oldpeak=4.0, ST_Slope='Up', HeartDisease=1),\n",
              " Row(Age=63, Sex='F', ChestPainType='ASY', RestingBP=124, Cholesterol=197, FastingBS=0, RestingECG='Normal', MaxHR=136, ExerciseAngina='Y', Oldpeak=0.0, ST_Slope='Flat', HeartDisease=1),\n",
              " Row(Age=41, Sex='M', ChestPainType='ATA', RestingBP=120, Cholesterol=157, FastingBS=0, RestingECG='Normal', MaxHR=182, ExerciseAngina='N', Oldpeak=0.0, ST_Slope='Up', HeartDisease=0),\n",
              " Row(Age=59, Sex='M', ChestPainType='ASY', RestingBP=164, Cholesterol=176, FastingBS=1, RestingECG='LVH', MaxHR=90, ExerciseAngina='N', Oldpeak=1.0, ST_Slope='Flat', HeartDisease=1),\n",
              " Row(Age=57, Sex='F', ChestPainType='ASY', RestingBP=140, Cholesterol=241, FastingBS=0, RestingECG='Normal', MaxHR=123, ExerciseAngina='Y', Oldpeak=0.2, ST_Slope='Flat', HeartDisease=1),\n",
              " Row(Age=45, Sex='M', ChestPainType='TA', RestingBP=110, Cholesterol=264, FastingBS=0, RestingECG='Normal', MaxHR=132, ExerciseAngina='N', Oldpeak=1.2, ST_Slope='Flat', HeartDisease=1),\n",
              " Row(Age=68, Sex='M', ChestPainType='ASY', RestingBP=144, Cholesterol=193, FastingBS=1, RestingECG='Normal', MaxHR=141, ExerciseAngina='N', Oldpeak=3.4, ST_Slope='Flat', HeartDisease=1),\n",
              " Row(Age=57, Sex='M', ChestPainType='ASY', RestingBP=130, Cholesterol=131, FastingBS=0, RestingECG='Normal', MaxHR=115, ExerciseAngina='Y', Oldpeak=1.2, ST_Slope='Flat', HeartDisease=1),\n",
              " Row(Age=57, Sex='F', ChestPainType='ATA', RestingBP=130, Cholesterol=236, FastingBS=0, RestingECG='LVH', MaxHR=174, ExerciseAngina='N', Oldpeak=0.0, ST_Slope='Flat', HeartDisease=1),\n",
              " Row(Age=38, Sex='M', ChestPainType='NAP', RestingBP=138, Cholesterol=175, FastingBS=0, RestingECG='Normal', MaxHR=173, ExerciseAngina='N', Oldpeak=0.0, ST_Slope='Up', HeartDisease=0)]"
            ]
          },
          "metadata": {},
          "execution_count": 58
        }
      ]
    },
    {
      "cell_type": "code",
      "source": [
        "py_df = df.toPandas()"
      ],
      "metadata": {
        "id": "Pld6WcFuWLNT"
      },
      "execution_count": 59,
      "outputs": []
    },
    {
      "cell_type": "code",
      "source": [
        "type(py_df)"
      ],
      "metadata": {
        "colab": {
          "base_uri": "https://localhost:8080/"
        },
        "id": "5T-nS7OfWjLg",
        "outputId": "08aab79f-8ab5-454b-a17b-b9782a90a060"
      },
      "execution_count": 60,
      "outputs": [
        {
          "output_type": "execute_result",
          "data": {
            "text/plain": [
              "pandas.core.frame.DataFrame"
            ]
          },
          "metadata": {},
          "execution_count": 60
        }
      ]
    },
    {
      "cell_type": "code",
      "source": [
        "type(df)"
      ],
      "metadata": {
        "colab": {
          "base_uri": "https://localhost:8080/"
        },
        "id": "OXrPZpr4WoJp",
        "outputId": "0d0cd215-e283-42c9-c78c-5df66408bc7c"
      },
      "execution_count": 61,
      "outputs": [
        {
          "output_type": "execute_result",
          "data": {
            "text/plain": [
              "pyspark.sql.dataframe.DataFrame"
            ]
          },
          "metadata": {},
          "execution_count": 61
        }
      ]
    },
    {
      "cell_type": "code",
      "source": [
        "df.printSchema()"
      ],
      "metadata": {
        "colab": {
          "base_uri": "https://localhost:8080/"
        },
        "id": "FxoI8Z-iWsgx",
        "outputId": "5a199763-1ca7-4b33-e655-54f521c07fae"
      },
      "execution_count": 62,
      "outputs": [
        {
          "output_type": "stream",
          "name": "stdout",
          "text": [
            "root\n",
            " |-- Age: integer (nullable = true)\n",
            " |-- Sex: string (nullable = true)\n",
            " |-- ChestPainType: string (nullable = true)\n",
            " |-- RestingBP: integer (nullable = true)\n",
            " |-- Cholesterol: integer (nullable = true)\n",
            " |-- FastingBS: integer (nullable = true)\n",
            " |-- RestingECG: string (nullable = true)\n",
            " |-- MaxHR: integer (nullable = true)\n",
            " |-- ExerciseAngina: string (nullable = true)\n",
            " |-- Oldpeak: double (nullable = true)\n",
            " |-- ST_Slope: string (nullable = true)\n",
            " |-- HeartDisease: integer (nullable = true)\n",
            "\n"
          ]
        }
      ]
    },
    {
      "cell_type": "code",
      "source": [
        "df.dtypes"
      ],
      "metadata": {
        "colab": {
          "base_uri": "https://localhost:8080/"
        },
        "id": "jrYsl1XAW4KG",
        "outputId": "903be818-3fd6-47c8-8615-fa9a4d95c64f"
      },
      "execution_count": 63,
      "outputs": [
        {
          "output_type": "execute_result",
          "data": {
            "text/plain": [
              "[('Age', 'int'),\n",
              " ('Sex', 'string'),\n",
              " ('ChestPainType', 'string'),\n",
              " ('RestingBP', 'int'),\n",
              " ('Cholesterol', 'int'),\n",
              " ('FastingBS', 'int'),\n",
              " ('RestingECG', 'string'),\n",
              " ('MaxHR', 'int'),\n",
              " ('ExerciseAngina', 'string'),\n",
              " ('Oldpeak', 'double'),\n",
              " ('ST_Slope', 'string'),\n",
              " ('HeartDisease', 'int')]"
            ]
          },
          "metadata": {},
          "execution_count": 63
        }
      ]
    },
    {
      "cell_type": "code",
      "source": [
        "from pyspark.sql.types import FloatType\n",
        "df =df.withColumn(\"Age\",df.Age.cast(FloatType()))\n",
        "df =df.withColumn(\"RestingBP\",df.RestingBP.cast(FloatType()))\n"
      ],
      "metadata": {
        "id": "lSvGqwpQXEHe"
      },
      "execution_count": 64,
      "outputs": []
    },
    {
      "cell_type": "code",
      "source": [
        "df.dtypes"
      ],
      "metadata": {
        "colab": {
          "base_uri": "https://localhost:8080/"
        },
        "id": "IE3HZHiHXnql",
        "outputId": "0ebcd857-a06f-4f0f-bf1b-fb59670bc555"
      },
      "execution_count": 65,
      "outputs": [
        {
          "output_type": "execute_result",
          "data": {
            "text/plain": [
              "[('Age', 'float'),\n",
              " ('Sex', 'string'),\n",
              " ('ChestPainType', 'string'),\n",
              " ('RestingBP', 'float'),\n",
              " ('Cholesterol', 'int'),\n",
              " ('FastingBS', 'int'),\n",
              " ('RestingECG', 'string'),\n",
              " ('MaxHR', 'int'),\n",
              " ('ExerciseAngina', 'string'),\n",
              " ('Oldpeak', 'double'),\n",
              " ('ST_Slope', 'string'),\n",
              " ('HeartDisease', 'int')]"
            ]
          },
          "metadata": {},
          "execution_count": 65
        }
      ]
    },
    {
      "cell_type": "code",
      "source": [
        "df.select(['Age','RestingBP']).describe().show()"
      ],
      "metadata": {
        "colab": {
          "base_uri": "https://localhost:8080/"
        },
        "id": "T49S9Vn3YHM1",
        "outputId": "d819ef64-2d9a-4a67-ed23-c8517df7f623"
      },
      "execution_count": 66,
      "outputs": [
        {
          "output_type": "stream",
          "name": "stdout",
          "text": [
            "+-------+------------------+------------------+\n",
            "|summary|               Age|         RestingBP|\n",
            "+-------+------------------+------------------+\n",
            "|  count|               918|               918|\n",
            "|   mean|53.510893246187365|132.39651416122004|\n",
            "| stddev|  9.43261650673202|18.514154119907808|\n",
            "|    min|              28.0|               0.0|\n",
            "|    max|              77.0|             200.0|\n",
            "+-------+------------------+------------------+\n",
            "\n"
          ]
        }
      ]
    },
    {
      "cell_type": "code",
      "source": [
        "AgeFixed = df['Age']+1\n",
        "df = df.withColumn('AgeFixed',AgeFixed)"
      ],
      "metadata": {
        "id": "ELN2ekSAYpmV"
      },
      "execution_count": 67,
      "outputs": []
    },
    {
      "cell_type": "code",
      "source": [
        "df.show()"
      ],
      "metadata": {
        "colab": {
          "base_uri": "https://localhost:8080/"
        },
        "id": "o1J9tlu-ZWEZ",
        "outputId": "c3c103e9-edfc-44da-acd9-e1bdf37a6c90"
      },
      "execution_count": 68,
      "outputs": [
        {
          "output_type": "stream",
          "name": "stdout",
          "text": [
            "+----+---+-------------+---------+-----------+---------+----------+-----+--------------+-------+--------+------------+--------+\n",
            "| Age|Sex|ChestPainType|RestingBP|Cholesterol|FastingBS|RestingECG|MaxHR|ExerciseAngina|Oldpeak|ST_Slope|HeartDisease|AgeFixed|\n",
            "+----+---+-------------+---------+-----------+---------+----------+-----+--------------+-------+--------+------------+--------+\n",
            "|40.0|  M|          ATA|    140.0|        289|        0|    Normal|  172|             N|    0.0|      Up|           0|    41.0|\n",
            "|49.0|  F|          NAP|    160.0|        180|        0|    Normal|  156|             N|    1.0|    Flat|           1|    50.0|\n",
            "|37.0|  M|          ATA|    130.0|        283|        0|        ST|   98|             N|    0.0|      Up|           0|    38.0|\n",
            "|48.0|  F|          ASY|    138.0|        214|        0|    Normal|  108|             Y|    1.5|    Flat|           1|    49.0|\n",
            "|54.0|  M|          NAP|    150.0|        195|        0|    Normal|  122|             N|    0.0|      Up|           0|    55.0|\n",
            "|39.0|  M|          NAP|    120.0|        339|        0|    Normal|  170|             N|    0.0|      Up|           0|    40.0|\n",
            "|45.0|  F|          ATA|    130.0|        237|        0|    Normal|  170|             N|    0.0|      Up|           0|    46.0|\n",
            "|54.0|  M|          ATA|    110.0|        208|        0|    Normal|  142|             N|    0.0|      Up|           0|    55.0|\n",
            "|37.0|  M|          ASY|    140.0|        207|        0|    Normal|  130|             Y|    1.5|    Flat|           1|    38.0|\n",
            "|48.0|  F|          ATA|    120.0|        284|        0|    Normal|  120|             N|    0.0|      Up|           0|    49.0|\n",
            "|37.0|  F|          NAP|    130.0|        211|        0|    Normal|  142|             N|    0.0|      Up|           0|    38.0|\n",
            "|58.0|  M|          ATA|    136.0|        164|        0|        ST|   99|             Y|    2.0|    Flat|           1|    59.0|\n",
            "|39.0|  M|          ATA|    120.0|        204|        0|    Normal|  145|             N|    0.0|      Up|           0|    40.0|\n",
            "|49.0|  M|          ASY|    140.0|        234|        0|    Normal|  140|             Y|    1.0|    Flat|           1|    50.0|\n",
            "|42.0|  F|          NAP|    115.0|        211|        0|        ST|  137|             N|    0.0|      Up|           0|    43.0|\n",
            "|54.0|  F|          ATA|    120.0|        273|        0|    Normal|  150|             N|    1.5|    Flat|           0|    55.0|\n",
            "|38.0|  M|          ASY|    110.0|        196|        0|    Normal|  166|             N|    0.0|    Flat|           1|    39.0|\n",
            "|43.0|  F|          ATA|    120.0|        201|        0|    Normal|  165|             N|    0.0|      Up|           0|    44.0|\n",
            "|60.0|  M|          ASY|    100.0|        248|        0|    Normal|  125|             N|    1.0|    Flat|           1|    61.0|\n",
            "|36.0|  M|          ATA|    120.0|        267|        0|    Normal|  160|             N|    3.0|    Flat|           1|    37.0|\n",
            "+----+---+-------------+---------+-----------+---------+----------+-----+--------------+-------+--------+------------+--------+\n",
            "only showing top 20 rows\n",
            "\n"
          ]
        }
      ]
    },
    {
      "cell_type": "code",
      "source": [
        "df.select(['AgeFixed','Age']).describe().show()"
      ],
      "metadata": {
        "colab": {
          "base_uri": "https://localhost:8080/"
        },
        "id": "T0DsipDaZXiz",
        "outputId": "32d1b007-3992-48a3-8c06-afea978ca80f"
      },
      "execution_count": 69,
      "outputs": [
        {
          "output_type": "stream",
          "name": "stdout",
          "text": [
            "+-------+------------------+------------------+\n",
            "|summary|          AgeFixed|               Age|\n",
            "+-------+------------------+------------------+\n",
            "|  count|               918|               918|\n",
            "|   mean|54.510893246187365|53.510893246187365|\n",
            "| stddev|  9.43261650673202|  9.43261650673202|\n",
            "|    min|              29.0|              28.0|\n",
            "|    max|              78.0|              77.0|\n",
            "+-------+------------------+------------------+\n",
            "\n"
          ]
        }
      ]
    },
    {
      "cell_type": "code",
      "source": [
        "df.show()"
      ],
      "metadata": {
        "colab": {
          "base_uri": "https://localhost:8080/"
        },
        "id": "KPzhg0iBZmZI",
        "outputId": "11fcd7e2-6a3b-4f60-f7f1-dd9d6e2eeaf1"
      },
      "execution_count": 70,
      "outputs": [
        {
          "output_type": "stream",
          "name": "stdout",
          "text": [
            "+----+---+-------------+---------+-----------+---------+----------+-----+--------------+-------+--------+------------+--------+\n",
            "| Age|Sex|ChestPainType|RestingBP|Cholesterol|FastingBS|RestingECG|MaxHR|ExerciseAngina|Oldpeak|ST_Slope|HeartDisease|AgeFixed|\n",
            "+----+---+-------------+---------+-----------+---------+----------+-----+--------------+-------+--------+------------+--------+\n",
            "|40.0|  M|          ATA|    140.0|        289|        0|    Normal|  172|             N|    0.0|      Up|           0|    41.0|\n",
            "|49.0|  F|          NAP|    160.0|        180|        0|    Normal|  156|             N|    1.0|    Flat|           1|    50.0|\n",
            "|37.0|  M|          ATA|    130.0|        283|        0|        ST|   98|             N|    0.0|      Up|           0|    38.0|\n",
            "|48.0|  F|          ASY|    138.0|        214|        0|    Normal|  108|             Y|    1.5|    Flat|           1|    49.0|\n",
            "|54.0|  M|          NAP|    150.0|        195|        0|    Normal|  122|             N|    0.0|      Up|           0|    55.0|\n",
            "|39.0|  M|          NAP|    120.0|        339|        0|    Normal|  170|             N|    0.0|      Up|           0|    40.0|\n",
            "|45.0|  F|          ATA|    130.0|        237|        0|    Normal|  170|             N|    0.0|      Up|           0|    46.0|\n",
            "|54.0|  M|          ATA|    110.0|        208|        0|    Normal|  142|             N|    0.0|      Up|           0|    55.0|\n",
            "|37.0|  M|          ASY|    140.0|        207|        0|    Normal|  130|             Y|    1.5|    Flat|           1|    38.0|\n",
            "|48.0|  F|          ATA|    120.0|        284|        0|    Normal|  120|             N|    0.0|      Up|           0|    49.0|\n",
            "|37.0|  F|          NAP|    130.0|        211|        0|    Normal|  142|             N|    0.0|      Up|           0|    38.0|\n",
            "|58.0|  M|          ATA|    136.0|        164|        0|        ST|   99|             Y|    2.0|    Flat|           1|    59.0|\n",
            "|39.0|  M|          ATA|    120.0|        204|        0|    Normal|  145|             N|    0.0|      Up|           0|    40.0|\n",
            "|49.0|  M|          ASY|    140.0|        234|        0|    Normal|  140|             Y|    1.0|    Flat|           1|    50.0|\n",
            "|42.0|  F|          NAP|    115.0|        211|        0|        ST|  137|             N|    0.0|      Up|           0|    43.0|\n",
            "|54.0|  F|          ATA|    120.0|        273|        0|    Normal|  150|             N|    1.5|    Flat|           0|    55.0|\n",
            "|38.0|  M|          ASY|    110.0|        196|        0|    Normal|  166|             N|    0.0|    Flat|           1|    39.0|\n",
            "|43.0|  F|          ATA|    120.0|        201|        0|    Normal|  165|             N|    0.0|      Up|           0|    44.0|\n",
            "|60.0|  M|          ASY|    100.0|        248|        0|    Normal|  125|             N|    1.0|    Flat|           1|    61.0|\n",
            "|36.0|  M|          ATA|    120.0|        267|        0|    Normal|  160|             N|    3.0|    Flat|           1|    37.0|\n",
            "+----+---+-------------+---------+-----------+---------+----------+-----+--------------+-------+--------+------------+--------+\n",
            "only showing top 20 rows\n",
            "\n"
          ]
        }
      ]
    },
    {
      "cell_type": "code",
      "source": [
        "df.where('Age=45').show()"
      ],
      "metadata": {
        "colab": {
          "base_uri": "https://localhost:8080/"
        },
        "id": "Mk8W6dgxZx-T",
        "outputId": "58fc52a3-05f7-4c0e-f840-c1b89d2fb4f1"
      },
      "execution_count": 71,
      "outputs": [
        {
          "output_type": "stream",
          "name": "stdout",
          "text": [
            "+----+---+-------------+---------+-----------+---------+----------+-----+--------------+-------+--------+------------+--------+\n",
            "| Age|Sex|ChestPainType|RestingBP|Cholesterol|FastingBS|RestingECG|MaxHR|ExerciseAngina|Oldpeak|ST_Slope|HeartDisease|AgeFixed|\n",
            "+----+---+-------------+---------+-----------+---------+----------+-----+--------------+-------+--------+------------+--------+\n",
            "|45.0|  F|          ATA|    130.0|        237|        0|    Normal|  170|             N|    0.0|      Up|           0|    46.0|\n",
            "|45.0|  M|          ATA|    140.0|        224|        1|    Normal|  122|             N|    0.0|      Up|           0|    46.0|\n",
            "|45.0|  M|          ASY|    140.0|        224|        0|    Normal|  144|             N|    0.0|      Up|           0|    46.0|\n",
            "|45.0|  F|          ASY|    132.0|        297|        0|    Normal|  144|             N|    0.0|      Up|           0|    46.0|\n",
            "|45.0|  M|          NAP|    135.0|        192|        0|    Normal|  110|             N|    0.0|      Up|           0|    46.0|\n",
            "|45.0|  M|          ASY|    130.0|        219|        0|        ST|  130|             Y|    1.0|    Flat|           1|    46.0|\n",
            "|45.0|  M|          ASY|    120.0|        225|        0|    Normal|  140|             N|    0.0|      Up|           0|    46.0|\n",
            "|45.0|  F|          ATA|    180.0|        295|        0|    Normal|  180|             N|    0.0|      Up|           0|    46.0|\n",
            "|45.0|  M|          NAP|    110.0|          0|        0|    Normal|  138|             N|   -0.1|      Up|           0|    46.0|\n",
            "|45.0|  M|          NAP|    130.0|        236|        0|    Normal|  144|             N|    0.1|      Up|           0|    46.0|\n",
            "|45.0|  F|          ATA|    130.0|        234|        0|       LVH|  175|             N|    0.6|    Flat|           0|    46.0|\n",
            "|45.0|  M|          ASY|    142.0|        309|        0|       LVH|  147|             Y|    0.0|    Flat|           1|    46.0|\n",
            "|45.0|  M|          ASY|    104.0|        208|        0|       LVH|  148|             Y|    3.0|    Flat|           0|    46.0|\n",
            "|45.0|  F|          ATA|    112.0|        160|        0|    Normal|  138|             N|    0.0|    Flat|           0|    46.0|\n",
            "|45.0|  M|          ATA|    128.0|        308|        0|       LVH|  170|             N|    0.0|      Up|           0|    46.0|\n",
            "|45.0|  F|          ASY|    138.0|        236|        0|       LVH|  152|             Y|    0.2|    Flat|           0|    46.0|\n",
            "|45.0|  M|          ASY|    115.0|        260|        0|       LVH|  185|             N|    0.0|      Up|           0|    46.0|\n",
            "|45.0|  M|           TA|    110.0|        264|        0|    Normal|  132|             N|    1.2|    Flat|           1|    46.0|\n",
            "+----+---+-------------+---------+-----------+---------+----------+-----+--------------+-------+--------+------------+--------+\n",
            "\n"
          ]
        }
      ]
    },
    {
      "cell_type": "code",
      "source": [
        "df.where(df['RestingBP']>120).select('Age').count()"
      ],
      "metadata": {
        "colab": {
          "base_uri": "https://localhost:8080/"
        },
        "id": "RIdcklMEZ7rh",
        "outputId": "b9262c68-fd92-469b-d060-464678d1948d"
      },
      "execution_count": 74,
      "outputs": [
        {
          "output_type": "execute_result",
          "data": {
            "text/plain": [
              "625"
            ]
          },
          "metadata": {},
          "execution_count": 74
        }
      ]
    },
    {
      "cell_type": "code",
      "source": [
        "df.where(df['HeartDisease']==1).count()"
      ],
      "metadata": {
        "colab": {
          "base_uri": "https://localhost:8080/"
        },
        "id": "jqtz3hAFbHe8",
        "outputId": "ce9c4588-a103-48a5-a29b-47dbb9d4e3a2"
      },
      "execution_count": 75,
      "outputs": [
        {
          "output_type": "execute_result",
          "data": {
            "text/plain": [
              "508"
            ]
          },
          "metadata": {},
          "execution_count": 75
        }
      ]
    },
    {
      "cell_type": "code",
      "source": [
        "df.filter('age>18').show()"
      ],
      "metadata": {
        "colab": {
          "base_uri": "https://localhost:8080/"
        },
        "id": "hs-JTakZbm-c",
        "outputId": "4fcb1eb3-9bc1-4c29-acbe-1e0f3ae9df73"
      },
      "execution_count": 76,
      "outputs": [
        {
          "output_type": "stream",
          "name": "stdout",
          "text": [
            "+----+---+-------------+---------+-----------+---------+----------+-----+--------------+-------+--------+------------+--------+\n",
            "| Age|Sex|ChestPainType|RestingBP|Cholesterol|FastingBS|RestingECG|MaxHR|ExerciseAngina|Oldpeak|ST_Slope|HeartDisease|AgeFixed|\n",
            "+----+---+-------------+---------+-----------+---------+----------+-----+--------------+-------+--------+------------+--------+\n",
            "|40.0|  M|          ATA|    140.0|        289|        0|    Normal|  172|             N|    0.0|      Up|           0|    41.0|\n",
            "|49.0|  F|          NAP|    160.0|        180|        0|    Normal|  156|             N|    1.0|    Flat|           1|    50.0|\n",
            "|37.0|  M|          ATA|    130.0|        283|        0|        ST|   98|             N|    0.0|      Up|           0|    38.0|\n",
            "|48.0|  F|          ASY|    138.0|        214|        0|    Normal|  108|             Y|    1.5|    Flat|           1|    49.0|\n",
            "|54.0|  M|          NAP|    150.0|        195|        0|    Normal|  122|             N|    0.0|      Up|           0|    55.0|\n",
            "|39.0|  M|          NAP|    120.0|        339|        0|    Normal|  170|             N|    0.0|      Up|           0|    40.0|\n",
            "|45.0|  F|          ATA|    130.0|        237|        0|    Normal|  170|             N|    0.0|      Up|           0|    46.0|\n",
            "|54.0|  M|          ATA|    110.0|        208|        0|    Normal|  142|             N|    0.0|      Up|           0|    55.0|\n",
            "|37.0|  M|          ASY|    140.0|        207|        0|    Normal|  130|             Y|    1.5|    Flat|           1|    38.0|\n",
            "|48.0|  F|          ATA|    120.0|        284|        0|    Normal|  120|             N|    0.0|      Up|           0|    49.0|\n",
            "|37.0|  F|          NAP|    130.0|        211|        0|    Normal|  142|             N|    0.0|      Up|           0|    38.0|\n",
            "|58.0|  M|          ATA|    136.0|        164|        0|        ST|   99|             Y|    2.0|    Flat|           1|    59.0|\n",
            "|39.0|  M|          ATA|    120.0|        204|        0|    Normal|  145|             N|    0.0|      Up|           0|    40.0|\n",
            "|49.0|  M|          ASY|    140.0|        234|        0|    Normal|  140|             Y|    1.0|    Flat|           1|    50.0|\n",
            "|42.0|  F|          NAP|    115.0|        211|        0|        ST|  137|             N|    0.0|      Up|           0|    43.0|\n",
            "|54.0|  F|          ATA|    120.0|        273|        0|    Normal|  150|             N|    1.5|    Flat|           0|    55.0|\n",
            "|38.0|  M|          ASY|    110.0|        196|        0|    Normal|  166|             N|    0.0|    Flat|           1|    39.0|\n",
            "|43.0|  F|          ATA|    120.0|        201|        0|    Normal|  165|             N|    0.0|      Up|           0|    44.0|\n",
            "|60.0|  M|          ASY|    100.0|        248|        0|    Normal|  125|             N|    1.0|    Flat|           1|    61.0|\n",
            "|36.0|  M|          ATA|    120.0|        267|        0|    Normal|  160|             N|    3.0|    Flat|           1|    37.0|\n",
            "+----+---+-------------+---------+-----------+---------+----------+-----+--------------+-------+--------+------------+--------+\n",
            "only showing top 20 rows\n",
            "\n"
          ]
        }
      ]
    },
    {
      "cell_type": "code",
      "source": [
        "#groupby by age\n",
        "disease_by_age =df.groupBy('Age').mean().select(['Age','avg(HeartDisease)'])"
      ],
      "metadata": {
        "id": "N4KgAP6Pb4k-"
      },
      "execution_count": 77,
      "outputs": []
    },
    {
      "cell_type": "code",
      "source": [
        "disease_by_age.show()"
      ],
      "metadata": {
        "colab": {
          "base_uri": "https://localhost:8080/"
        },
        "id": "ZVe1YVivcmNC",
        "outputId": "5b9581ab-65ae-49f8-8837-e1d014f41e19"
      },
      "execution_count": 80,
      "outputs": [
        {
          "output_type": "stream",
          "name": "stdout",
          "text": [
            "+----+-------------------+\n",
            "| Age|  avg(HeartDisease)|\n",
            "+----+-------------------+\n",
            "|64.0| 0.6818181818181818|\n",
            "|47.0| 0.5789473684210527|\n",
            "|58.0| 0.6666666666666666|\n",
            "|39.0|0.13333333333333333|\n",
            "|30.0|                0.0|\n",
            "|41.0|               0.25|\n",
            "|29.0|                0.0|\n",
            "|67.0|                0.8|\n",
            "|49.0| 0.5238095238095238|\n",
            "|56.0| 0.6578947368421053|\n",
            "|54.0|0.45098039215686275|\n",
            "|55.0| 0.5853658536585366|\n",
            "|38.0|             0.6875|\n",
            "|51.0|0.42857142857142855|\n",
            "|48.0| 0.4838709677419355|\n",
            "|66.0| 0.5384615384615384|\n",
            "|72.0|               0.75|\n",
            "|70.0| 0.8571428571428571|\n",
            "|65.0| 0.7142857142857143|\n",
            "|43.0| 0.4583333333333333|\n",
            "+----+-------------------+\n",
            "only showing top 20 rows\n",
            "\n"
          ]
        }
      ]
    },
    {
      "cell_type": "code",
      "source": [
        "from pyspark.sql.functions import desc\n",
        "\n",
        "disease_by_age.orderBy(desc('Age')).show()"
      ],
      "metadata": {
        "colab": {
          "base_uri": "https://localhost:8080/"
        },
        "id": "dQrwhgQmcoYz",
        "outputId": "064e966b-3bad-44d8-9f2d-3ee7c240f36f"
      },
      "execution_count": 81,
      "outputs": [
        {
          "output_type": "stream",
          "name": "stdout",
          "text": [
            "+----+------------------+\n",
            "| Age| avg(HeartDisease)|\n",
            "+----+------------------+\n",
            "|77.0|               1.0|\n",
            "|76.0|               0.5|\n",
            "|75.0|0.6666666666666666|\n",
            "|74.0|0.7142857142857143|\n",
            "|73.0|               1.0|\n",
            "|72.0|              0.75|\n",
            "|71.0|               0.4|\n",
            "|70.0|0.8571428571428571|\n",
            "|69.0|0.7692307692307693|\n",
            "|68.0|               0.6|\n",
            "|67.0|               0.8|\n",
            "|66.0|0.5384615384615384|\n",
            "|65.0|0.7142857142857143|\n",
            "|64.0|0.6818181818181818|\n",
            "|63.0|0.7666666666666667|\n",
            "|62.0|0.7142857142857143|\n",
            "|61.0|0.8387096774193549|\n",
            "|60.0|              0.75|\n",
            "|59.0|0.6571428571428571|\n",
            "|58.0|0.6666666666666666|\n",
            "+----+------------------+\n",
            "only showing top 20 rows\n",
            "\n"
          ]
        }
      ]
    },
    {
      "cell_type": "code",
      "source": [
        "from pyspark.sql.functions import asc\n"
      ],
      "metadata": {
        "id": "icoVHJE2dGU6"
      },
      "execution_count": 82,
      "outputs": []
    },
    {
      "cell_type": "code",
      "source": [
        "disease_by_age.orderBy(asc('Age')).show()"
      ],
      "metadata": {
        "colab": {
          "base_uri": "https://localhost:8080/"
        },
        "id": "Utgeb888dS7Y",
        "outputId": "9c546090-6f3b-45ed-b0aa-601277171e88"
      },
      "execution_count": 83,
      "outputs": [
        {
          "output_type": "stream",
          "name": "stdout",
          "text": [
            "+----+-------------------+\n",
            "| Age|  avg(HeartDisease)|\n",
            "+----+-------------------+\n",
            "|28.0|                0.0|\n",
            "|29.0|                0.0|\n",
            "|30.0|                0.0|\n",
            "|31.0|                0.5|\n",
            "|32.0|                0.4|\n",
            "|33.0|                0.5|\n",
            "|34.0| 0.2857142857142857|\n",
            "|35.0|0.36363636363636365|\n",
            "|36.0| 0.3333333333333333|\n",
            "|37.0|0.09090909090909091|\n",
            "|38.0|             0.6875|\n",
            "|39.0|0.13333333333333333|\n",
            "|40.0|0.46153846153846156|\n",
            "|41.0|               0.25|\n",
            "|42.0|0.16666666666666666|\n",
            "|43.0| 0.4583333333333333|\n",
            "|44.0| 0.3157894736842105|\n",
            "|45.0|0.16666666666666666|\n",
            "|46.0| 0.5416666666666666|\n",
            "|47.0| 0.5789473684210527|\n",
            "+----+-------------------+\n",
            "only showing top 20 rows\n",
            "\n"
          ]
        }
      ]
    },
    {
      "cell_type": "code",
      "source": [
        "df.createOrReplaceTempView('df')"
      ],
      "metadata": {
        "id": "hXNweNpydYaj"
      },
      "execution_count": 88,
      "outputs": []
    },
    {
      "cell_type": "code",
      "source": [
        "df1= spark.sql(\"Select * from df \")"
      ],
      "metadata": {
        "id": "cgrv1hfCdsZI"
      },
      "execution_count": 99,
      "outputs": []
    },
    {
      "cell_type": "code",
      "source": [
        "df.show()"
      ],
      "metadata": {
        "colab": {
          "base_uri": "https://localhost:8080/"
        },
        "id": "Wu4TdRIMeBM9",
        "outputId": "26d9ef90-550a-4ea3-e2b8-dcba77a26214"
      },
      "execution_count": 100,
      "outputs": [
        {
          "output_type": "stream",
          "name": "stdout",
          "text": [
            "+---+\n",
            "|Sex|\n",
            "+---+\n",
            "|  F|\n",
            "|  M|\n",
            "|  M|\n",
            "|  F|\n",
            "|  M|\n",
            "|  M|\n",
            "|  M|\n",
            "|  F|\n",
            "|  M|\n",
            "|  M|\n",
            "|  F|\n",
            "|  M|\n",
            "|  M|\n",
            "|  F|\n",
            "|  M|\n",
            "|  F|\n",
            "|  M|\n",
            "|  M|\n",
            "+---+\n",
            "\n"
          ]
        }
      ]
    },
    {
      "cell_type": "code",
      "source": [],
      "metadata": {
        "id": "qtScb8a5evE9"
      },
      "execution_count": null,
      "outputs": []
    }
  ]
}