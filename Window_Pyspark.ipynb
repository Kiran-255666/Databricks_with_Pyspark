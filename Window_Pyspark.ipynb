{
  "nbformat": 4,
  "nbformat_minor": 0,
  "metadata": {
    "colab": {
      "provenance": []
    },
    "kernelspec": {
      "name": "python3",
      "display_name": "Python 3"
    },
    "language_info": {
      "name": "python"
    }
  },
  "cells": [
    {
      "cell_type": "code",
      "execution_count": 1,
      "metadata": {
        "colab": {
          "base_uri": "https://localhost:8080/"
        },
        "id": "5SnD31mYMp9v",
        "outputId": "e277a3c4-74b6-490e-cff3-54dcc5115301"
      },
      "outputs": [
        {
          "output_type": "stream",
          "name": "stdout",
          "text": [
            "Looking in indexes: https://pypi.org/simple, https://us-python.pkg.dev/colab-wheels/public/simple/\n",
            "Collecting pyspark\n",
            "  Downloading pyspark-3.3.1.tar.gz (281.4 MB)\n",
            "\u001b[K     |████████████████████████████████| 281.4 MB 45 kB/s \n",
            "\u001b[?25hCollecting py4j==0.10.9.5\n",
            "  Downloading py4j-0.10.9.5-py2.py3-none-any.whl (199 kB)\n",
            "\u001b[K     |████████████████████████████████| 199 kB 52.9 MB/s \n",
            "\u001b[?25hBuilding wheels for collected packages: pyspark\n",
            "  Building wheel for pyspark (setup.py) ... \u001b[?25l\u001b[?25hdone\n",
            "  Created wheel for pyspark: filename=pyspark-3.3.1-py2.py3-none-any.whl size=281845512 sha256=8cf81ecebe849e8add2e3065f769ba33acee1d6c2372672091587bd8f9369a14\n",
            "  Stored in directory: /root/.cache/pip/wheels/43/dc/11/ec201cd671da62fa9c5cc77078235e40722170ceba231d7598\n",
            "Successfully built pyspark\n",
            "Installing collected packages: py4j, pyspark\n",
            "Successfully installed py4j-0.10.9.5 pyspark-3.3.1\n"
          ]
        }
      ],
      "source": [
        "!pip install pyspark"
      ]
    },
    {
      "cell_type": "code",
      "source": [
        "import pyspark\n",
        "import pandas as pd\n",
        "import numpy as np\n",
        "import time\n",
        "from datetime import date , timedelta, datetime"
      ],
      "metadata": {
        "id": "QxlTOrm6My_w"
      },
      "execution_count": 2,
      "outputs": []
    },
    {
      "cell_type": "code",
      "source": [
        "from pyspark.sql import SparkSession, SQLContext\n",
        "from pyspark.sql.functions import *\n",
        "from pyspark.sql.types import *"
      ],
      "metadata": {
        "id": "h7lmv5w9NGSE"
      },
      "execution_count": 3,
      "outputs": []
    },
    {
      "cell_type": "code",
      "source": [
        "#start the spark session\n",
        "\n",
        "spark=SparkSession.builder.appName('Covid').getOrCreate()"
      ],
      "metadata": {
        "id": "lSCyKgs9Ndf-"
      },
      "execution_count": 4,
      "outputs": []
    },
    {
      "cell_type": "code",
      "source": [
        "spark"
      ],
      "metadata": {
        "colab": {
          "base_uri": "https://localhost:8080/",
          "height": 219
        },
        "id": "hcFrJYVQNrbP",
        "outputId": "7200d54c-4be7-4dd8-b2b4-e1d497b8bb94"
      },
      "execution_count": 5,
      "outputs": [
        {
          "output_type": "execute_result",
          "data": {
            "text/plain": [
              "<pyspark.sql.session.SparkSession at 0x7f4cb2c59250>"
            ],
            "text/html": [
              "\n",
              "            <div>\n",
              "                <p><b>SparkSession - in-memory</b></p>\n",
              "                \n",
              "        <div>\n",
              "            <p><b>SparkContext</b></p>\n",
              "\n",
              "            <p><a href=\"http://1a5fa5549391:4040\">Spark UI</a></p>\n",
              "\n",
              "            <dl>\n",
              "              <dt>Version</dt>\n",
              "                <dd><code>v3.3.1</code></dd>\n",
              "              <dt>Master</dt>\n",
              "                <dd><code>local[*]</code></dd>\n",
              "              <dt>AppName</dt>\n",
              "                <dd><code>Covid</code></dd>\n",
              "            </dl>\n",
              "        </div>\n",
              "        \n",
              "            </div>\n",
              "        "
            ]
          },
          "metadata": {},
          "execution_count": 5
        }
      ]
    },
    {
      "cell_type": "code",
      "source": [
        "#Read the data\n",
        "\n",
        "cases = spark.read.load('Case.csv', format=\"csv\",inferSchema=True,header=True)"
      ],
      "metadata": {
        "id": "ImWoapcLNtvV"
      },
      "execution_count": 49,
      "outputs": []
    },
    {
      "cell_type": "code",
      "source": [
        "cases.show(5)"
      ],
      "metadata": {
        "colab": {
          "base_uri": "https://localhost:8080/"
        },
        "id": "OWEyxhhVOFWJ",
        "outputId": "d6bae290-d377-428d-d92b-059b17683785"
      },
      "execution_count": 7,
      "outputs": [
        {
          "output_type": "stream",
          "name": "stdout",
          "text": [
            "+--------+--------+------------+-----+--------------------+---------+---------+----------+\n",
            "| case_id|province|        city|group|      infection_case|confirmed| latitude| longitude|\n",
            "+--------+--------+------------+-----+--------------------+---------+---------+----------+\n",
            "| 1000001|   Seoul|  Yongsan-gu| true|       Itaewon Clubs|      139|37.538621|126.992652|\n",
            "| 1000002|   Seoul|   Gwanak-gu| true|             Richway|      119| 37.48208|126.901384|\n",
            "| 1000003|   Seoul|     Guro-gu| true| Guro-gu Call Center|       95|37.508163|126.884387|\n",
            "| 1000004|   Seoul|Yangcheon-gu| true|Yangcheon Table T...|       43|37.546061|126.874209|\n",
            "| 1000005|   Seoul|   Dobong-gu| true|     Day Care Center|       43|37.679422|127.044374|\n",
            "+--------+--------+------------+-----+--------------------+---------+---------+----------+\n",
            "only showing top 5 rows\n",
            "\n"
          ]
        }
      ]
    },
    {
      "cell_type": "code",
      "source": [
        "cases.printSchema()"
      ],
      "metadata": {
        "colab": {
          "base_uri": "https://localhost:8080/"
        },
        "id": "6HCM1FRCOIOX",
        "outputId": "a4385983-12ad-45f9-969b-40d54fb8d64d"
      },
      "execution_count": 8,
      "outputs": [
        {
          "output_type": "stream",
          "name": "stdout",
          "text": [
            "root\n",
            " |--  case_id: integer (nullable = true)\n",
            " |-- province: string (nullable = true)\n",
            " |-- city: string (nullable = true)\n",
            " |-- group: boolean (nullable = true)\n",
            " |-- infection_case: string (nullable = true)\n",
            " |-- confirmed: integer (nullable = true)\n",
            " |-- latitude: string (nullable = true)\n",
            " |-- longitude: string (nullable = true)\n",
            "\n"
          ]
        }
      ]
    },
    {
      "cell_type": "code",
      "source": [
        "cases.limit(10).toPandas()"
      ],
      "metadata": {
        "colab": {
          "base_uri": "https://localhost:8080/",
          "height": 363
        },
        "id": "F74sZ6IlOOri",
        "outputId": "1b07f330-c2e7-4069-83d1-3a09198d6a5b"
      },
      "execution_count": 9,
      "outputs": [
        {
          "output_type": "execute_result",
          "data": {
            "text/plain": [
              "    case_id province             city  group  \\\n",
              "0   1000001    Seoul       Yongsan-gu   True   \n",
              "1   1000002    Seoul        Gwanak-gu   True   \n",
              "2   1000003    Seoul          Guro-gu   True   \n",
              "3   1000004    Seoul     Yangcheon-gu   True   \n",
              "4   1000005    Seoul        Dobong-gu   True   \n",
              "5   1000006    Seoul          Guro-gu   True   \n",
              "6   1000007    Seoul  from other city   True   \n",
              "7   1000008    Seoul    Dongdaemun-gu   True   \n",
              "8   1000009    Seoul  from other city   True   \n",
              "9   1000010    Seoul        Gwanak-gu   True   \n",
              "\n",
              "                     infection_case  confirmed   latitude   longitude  \n",
              "0                     Itaewon Clubs        139  37.538621  126.992652  \n",
              "1                           Richway        119   37.48208  126.901384  \n",
              "2               Guro-gu Call Center         95  37.508163  126.884387  \n",
              "3       Yangcheon Table Tennis Club         43  37.546061  126.874209  \n",
              "4                   Day Care Center         43  37.679422  127.044374  \n",
              "5             Manmin Central Church         41  37.481059  126.894343  \n",
              "6  SMR Newly Planted Churches Group         36          -           -  \n",
              "7                     Dongan Church         17  37.592888  127.056766  \n",
              "8          Coupang Logistics Center         25          -           -  \n",
              "9                   Wangsung Church         30  37.481735  126.930121  "
            ],
            "text/html": [
              "\n",
              "  <div id=\"df-9ec5593e-a7f1-4050-8d57-9c1ad40bb8fd\">\n",
              "    <div class=\"colab-df-container\">\n",
              "      <div>\n",
              "<style scoped>\n",
              "    .dataframe tbody tr th:only-of-type {\n",
              "        vertical-align: middle;\n",
              "    }\n",
              "\n",
              "    .dataframe tbody tr th {\n",
              "        vertical-align: top;\n",
              "    }\n",
              "\n",
              "    .dataframe thead th {\n",
              "        text-align: right;\n",
              "    }\n",
              "</style>\n",
              "<table border=\"1\" class=\"dataframe\">\n",
              "  <thead>\n",
              "    <tr style=\"text-align: right;\">\n",
              "      <th></th>\n",
              "      <th>case_id</th>\n",
              "      <th>province</th>\n",
              "      <th>city</th>\n",
              "      <th>group</th>\n",
              "      <th>infection_case</th>\n",
              "      <th>confirmed</th>\n",
              "      <th>latitude</th>\n",
              "      <th>longitude</th>\n",
              "    </tr>\n",
              "  </thead>\n",
              "  <tbody>\n",
              "    <tr>\n",
              "      <th>0</th>\n",
              "      <td>1000001</td>\n",
              "      <td>Seoul</td>\n",
              "      <td>Yongsan-gu</td>\n",
              "      <td>True</td>\n",
              "      <td>Itaewon Clubs</td>\n",
              "      <td>139</td>\n",
              "      <td>37.538621</td>\n",
              "      <td>126.992652</td>\n",
              "    </tr>\n",
              "    <tr>\n",
              "      <th>1</th>\n",
              "      <td>1000002</td>\n",
              "      <td>Seoul</td>\n",
              "      <td>Gwanak-gu</td>\n",
              "      <td>True</td>\n",
              "      <td>Richway</td>\n",
              "      <td>119</td>\n",
              "      <td>37.48208</td>\n",
              "      <td>126.901384</td>\n",
              "    </tr>\n",
              "    <tr>\n",
              "      <th>2</th>\n",
              "      <td>1000003</td>\n",
              "      <td>Seoul</td>\n",
              "      <td>Guro-gu</td>\n",
              "      <td>True</td>\n",
              "      <td>Guro-gu Call Center</td>\n",
              "      <td>95</td>\n",
              "      <td>37.508163</td>\n",
              "      <td>126.884387</td>\n",
              "    </tr>\n",
              "    <tr>\n",
              "      <th>3</th>\n",
              "      <td>1000004</td>\n",
              "      <td>Seoul</td>\n",
              "      <td>Yangcheon-gu</td>\n",
              "      <td>True</td>\n",
              "      <td>Yangcheon Table Tennis Club</td>\n",
              "      <td>43</td>\n",
              "      <td>37.546061</td>\n",
              "      <td>126.874209</td>\n",
              "    </tr>\n",
              "    <tr>\n",
              "      <th>4</th>\n",
              "      <td>1000005</td>\n",
              "      <td>Seoul</td>\n",
              "      <td>Dobong-gu</td>\n",
              "      <td>True</td>\n",
              "      <td>Day Care Center</td>\n",
              "      <td>43</td>\n",
              "      <td>37.679422</td>\n",
              "      <td>127.044374</td>\n",
              "    </tr>\n",
              "    <tr>\n",
              "      <th>5</th>\n",
              "      <td>1000006</td>\n",
              "      <td>Seoul</td>\n",
              "      <td>Guro-gu</td>\n",
              "      <td>True</td>\n",
              "      <td>Manmin Central Church</td>\n",
              "      <td>41</td>\n",
              "      <td>37.481059</td>\n",
              "      <td>126.894343</td>\n",
              "    </tr>\n",
              "    <tr>\n",
              "      <th>6</th>\n",
              "      <td>1000007</td>\n",
              "      <td>Seoul</td>\n",
              "      <td>from other city</td>\n",
              "      <td>True</td>\n",
              "      <td>SMR Newly Planted Churches Group</td>\n",
              "      <td>36</td>\n",
              "      <td>-</td>\n",
              "      <td>-</td>\n",
              "    </tr>\n",
              "    <tr>\n",
              "      <th>7</th>\n",
              "      <td>1000008</td>\n",
              "      <td>Seoul</td>\n",
              "      <td>Dongdaemun-gu</td>\n",
              "      <td>True</td>\n",
              "      <td>Dongan Church</td>\n",
              "      <td>17</td>\n",
              "      <td>37.592888</td>\n",
              "      <td>127.056766</td>\n",
              "    </tr>\n",
              "    <tr>\n",
              "      <th>8</th>\n",
              "      <td>1000009</td>\n",
              "      <td>Seoul</td>\n",
              "      <td>from other city</td>\n",
              "      <td>True</td>\n",
              "      <td>Coupang Logistics Center</td>\n",
              "      <td>25</td>\n",
              "      <td>-</td>\n",
              "      <td>-</td>\n",
              "    </tr>\n",
              "    <tr>\n",
              "      <th>9</th>\n",
              "      <td>1000010</td>\n",
              "      <td>Seoul</td>\n",
              "      <td>Gwanak-gu</td>\n",
              "      <td>True</td>\n",
              "      <td>Wangsung Church</td>\n",
              "      <td>30</td>\n",
              "      <td>37.481735</td>\n",
              "      <td>126.930121</td>\n",
              "    </tr>\n",
              "  </tbody>\n",
              "</table>\n",
              "</div>\n",
              "      <button class=\"colab-df-convert\" onclick=\"convertToInteractive('df-9ec5593e-a7f1-4050-8d57-9c1ad40bb8fd')\"\n",
              "              title=\"Convert this dataframe to an interactive table.\"\n",
              "              style=\"display:none;\">\n",
              "        \n",
              "  <svg xmlns=\"http://www.w3.org/2000/svg\" height=\"24px\"viewBox=\"0 0 24 24\"\n",
              "       width=\"24px\">\n",
              "    <path d=\"M0 0h24v24H0V0z\" fill=\"none\"/>\n",
              "    <path d=\"M18.56 5.44l.94 2.06.94-2.06 2.06-.94-2.06-.94-.94-2.06-.94 2.06-2.06.94zm-11 1L8.5 8.5l.94-2.06 2.06-.94-2.06-.94L8.5 2.5l-.94 2.06-2.06.94zm10 10l.94 2.06.94-2.06 2.06-.94-2.06-.94-.94-2.06-.94 2.06-2.06.94z\"/><path d=\"M17.41 7.96l-1.37-1.37c-.4-.4-.92-.59-1.43-.59-.52 0-1.04.2-1.43.59L10.3 9.45l-7.72 7.72c-.78.78-.78 2.05 0 2.83L4 21.41c.39.39.9.59 1.41.59.51 0 1.02-.2 1.41-.59l7.78-7.78 2.81-2.81c.8-.78.8-2.07 0-2.86zM5.41 20L4 18.59l7.72-7.72 1.47 1.35L5.41 20z\"/>\n",
              "  </svg>\n",
              "      </button>\n",
              "      \n",
              "  <style>\n",
              "    .colab-df-container {\n",
              "      display:flex;\n",
              "      flex-wrap:wrap;\n",
              "      gap: 12px;\n",
              "    }\n",
              "\n",
              "    .colab-df-convert {\n",
              "      background-color: #E8F0FE;\n",
              "      border: none;\n",
              "      border-radius: 50%;\n",
              "      cursor: pointer;\n",
              "      display: none;\n",
              "      fill: #1967D2;\n",
              "      height: 32px;\n",
              "      padding: 0 0 0 0;\n",
              "      width: 32px;\n",
              "    }\n",
              "\n",
              "    .colab-df-convert:hover {\n",
              "      background-color: #E2EBFA;\n",
              "      box-shadow: 0px 1px 2px rgba(60, 64, 67, 0.3), 0px 1px 3px 1px rgba(60, 64, 67, 0.15);\n",
              "      fill: #174EA6;\n",
              "    }\n",
              "\n",
              "    [theme=dark] .colab-df-convert {\n",
              "      background-color: #3B4455;\n",
              "      fill: #D2E3FC;\n",
              "    }\n",
              "\n",
              "    [theme=dark] .colab-df-convert:hover {\n",
              "      background-color: #434B5C;\n",
              "      box-shadow: 0px 1px 3px 1px rgba(0, 0, 0, 0.15);\n",
              "      filter: drop-shadow(0px 1px 2px rgba(0, 0, 0, 0.3));\n",
              "      fill: #FFFFFF;\n",
              "    }\n",
              "  </style>\n",
              "\n",
              "      <script>\n",
              "        const buttonEl =\n",
              "          document.querySelector('#df-9ec5593e-a7f1-4050-8d57-9c1ad40bb8fd button.colab-df-convert');\n",
              "        buttonEl.style.display =\n",
              "          google.colab.kernel.accessAllowed ? 'block' : 'none';\n",
              "\n",
              "        async function convertToInteractive(key) {\n",
              "          const element = document.querySelector('#df-9ec5593e-a7f1-4050-8d57-9c1ad40bb8fd');\n",
              "          const dataTable =\n",
              "            await google.colab.kernel.invokeFunction('convertToInteractive',\n",
              "                                                     [key], {});\n",
              "          if (!dataTable) return;\n",
              "\n",
              "          const docLinkHtml = 'Like what you see? Visit the ' +\n",
              "            '<a target=\"_blank\" href=https://colab.research.google.com/notebooks/data_table.ipynb>data table notebook</a>'\n",
              "            + ' to learn more about interactive tables.';\n",
              "          element.innerHTML = '';\n",
              "          dataTable['output_type'] = 'display_data';\n",
              "          await google.colab.output.renderOutput(dataTable, element);\n",
              "          const docLink = document.createElement('div');\n",
              "          docLink.innerHTML = docLinkHtml;\n",
              "          element.appendChild(docLink);\n",
              "        }\n",
              "      </script>\n",
              "    </div>\n",
              "  </div>\n",
              "  "
            ]
          },
          "metadata": {},
          "execution_count": 9
        }
      ]
    },
    {
      "cell_type": "code",
      "source": [
        "#change the columns name\n",
        "\n",
        "cases = cases.withColumnRenamed('infection_case','infection_source')"
      ],
      "metadata": {
        "id": "Yx_6WQNtOa0G"
      },
      "execution_count": 12,
      "outputs": []
    },
    {
      "cell_type": "code",
      "source": [
        "cases.show(5)"
      ],
      "metadata": {
        "colab": {
          "base_uri": "https://localhost:8080/"
        },
        "id": "4kBhV0eZOzR_",
        "outputId": "3447d9ff-f7da-4f6e-c6e9-3fc9612b33d8"
      },
      "execution_count": 13,
      "outputs": [
        {
          "output_type": "stream",
          "name": "stdout",
          "text": [
            "+--------+--------+------------+-----+--------------------+---------+---------+----------+\n",
            "| case_id|province|        city|group|    infection_source|confirmed| latitude| longitude|\n",
            "+--------+--------+------------+-----+--------------------+---------+---------+----------+\n",
            "| 1000001|   Seoul|  Yongsan-gu| true|       Itaewon Clubs|      139|37.538621|126.992652|\n",
            "| 1000002|   Seoul|   Gwanak-gu| true|             Richway|      119| 37.48208|126.901384|\n",
            "| 1000003|   Seoul|     Guro-gu| true| Guro-gu Call Center|       95|37.508163|126.884387|\n",
            "| 1000004|   Seoul|Yangcheon-gu| true|Yangcheon Table T...|       43|37.546061|126.874209|\n",
            "| 1000005|   Seoul|   Dobong-gu| true|     Day Care Center|       43|37.679422|127.044374|\n",
            "+--------+--------+------------+-----+--------------------+---------+---------+----------+\n",
            "only showing top 5 rows\n",
            "\n"
          ]
        }
      ]
    },
    {
      "cell_type": "code",
      "source": [
        "#Select\n",
        "\n",
        "cases = cases.select('province','city','infection_source','confirmed')\n",
        "\n",
        "cases.show(5)"
      ],
      "metadata": {
        "colab": {
          "base_uri": "https://localhost:8080/"
        },
        "id": "EeOciCbFO--H",
        "outputId": "d6a65d0b-3c9b-42ee-fc95-a90c9984309f"
      },
      "execution_count": 14,
      "outputs": [
        {
          "output_type": "stream",
          "name": "stdout",
          "text": [
            "+--------+------------+--------------------+---------+\n",
            "|province|        city|    infection_source|confirmed|\n",
            "+--------+------------+--------------------+---------+\n",
            "|   Seoul|  Yongsan-gu|       Itaewon Clubs|      139|\n",
            "|   Seoul|   Gwanak-gu|             Richway|      119|\n",
            "|   Seoul|     Guro-gu| Guro-gu Call Center|       95|\n",
            "|   Seoul|Yangcheon-gu|Yangcheon Table T...|       43|\n",
            "|   Seoul|   Dobong-gu|     Day Care Center|       43|\n",
            "+--------+------------+--------------------+---------+\n",
            "only showing top 5 rows\n",
            "\n"
          ]
        }
      ]
    },
    {
      "cell_type": "code",
      "source": [
        "#Sorting\n",
        "\n",
        "cases.sort(\"confirmed\").show()"
      ],
      "metadata": {
        "colab": {
          "base_uri": "https://localhost:8080/"
        },
        "id": "Ma6QS14sPbsb",
        "outputId": "cfa9984a-3d1c-4e45-ba77-ad3c9d612858"
      },
      "execution_count": 20,
      "outputs": [
        {
          "output_type": "stream",
          "name": "stdout",
          "text": [
            "+-----------------+---------------+--------------------+---------+\n",
            "|         province|           city|    infection_source|confirmed|\n",
            "+-----------------+---------------+--------------------+---------+\n",
            "|          Jeju-do|              -|contact with patient|        0|\n",
            "|       Gangwon-do|              -|contact with patient|        0|\n",
            "|            Seoul|     Gangseo-gu|SJ Investment Cal...|        0|\n",
            "|            Busan|from other city|Cheongdo Daenam H...|        1|\n",
            "|     Jeollabuk-do|from other city|  Shincheonji Church|        1|\n",
            "|            Seoul|from other city|Anyang Gunpo Past...|        1|\n",
            "|            Seoul|     Gangnam-gu|Gangnam Dongin Ch...|        1|\n",
            "|           Sejong|from other city|  Shincheonji Church|        1|\n",
            "|     Jeollanam-do|from other city|  Shincheonji Church|        1|\n",
            "|          Jeju-do|from other city|       Itaewon Clubs|        1|\n",
            "|            Seoul|from other city|Daejeon door-to-d...|        1|\n",
            "|            Seoul|              -|         Orange Life|        1|\n",
            "|           Sejong|              -|                 etc|        1|\n",
            "|          Gwangju|              -|                 etc|        1|\n",
            "|            Daegu|from other city|       Itaewon Clubs|        2|\n",
            "|            Daegu|from other city|Cheongdo Daenam H...|        2|\n",
            "|          Incheon|from other city|  Shincheonji Church|        2|\n",
            "|            Seoul|from other city|Uiwang Logistics ...|        2|\n",
            "|          Daejeon|from other city|  Shincheonji Church|        2|\n",
            "|Chungcheongbuk-do|from other city| Guro-gu Call Center|        2|\n",
            "+-----------------+---------------+--------------------+---------+\n",
            "only showing top 20 rows\n",
            "\n"
          ]
        }
      ]
    },
    {
      "cell_type": "code",
      "source": [
        "#Descending sort\n",
        "\n",
        "from pyspark.sql import functions as F\n",
        "\n",
        "cases.sort(F.desc('confirmed')).show()"
      ],
      "metadata": {
        "colab": {
          "base_uri": "https://localhost:8080/"
        },
        "id": "2y-rnJAVPqK0",
        "outputId": "bb2daf8c-b271-4f52-8f27-274537cc6e06"
      },
      "execution_count": 17,
      "outputs": [
        {
          "output_type": "stream",
          "name": "stdout",
          "text": [
            "+-----------------+---------------+--------------------+---------+\n",
            "|         province|           city|    infection_source|confirmed|\n",
            "+-----------------+---------------+--------------------+---------+\n",
            "|            Daegu|         Nam-gu|  Shincheonji Church|     4511|\n",
            "|            Daegu|              -|contact with patient|      917|\n",
            "|            Daegu|              -|                 etc|      747|\n",
            "| Gyeongsangbuk-do|from other city|  Shincheonji Church|      566|\n",
            "|      Gyeonggi-do|              -|     overseas inflow|      305|\n",
            "|            Seoul|              -|     overseas inflow|      298|\n",
            "|            Daegu|   Dalseong-gun|Second Mi-Ju Hosp...|      196|\n",
            "| Gyeongsangbuk-do|              -|contact with patient|      190|\n",
            "|            Seoul|              -|contact with patient|      162|\n",
            "|            Seoul|     Yongsan-gu|       Itaewon Clubs|      139|\n",
            "| Gyeongsangbuk-do|              -|                 etc|      133|\n",
            "|            Daegu|         Seo-gu|Hansarang Convale...|      124|\n",
            "|            Seoul|      Gwanak-gu|             Richway|      119|\n",
            "| Gyeongsangbuk-do|   Cheongdo-gun|Cheongdo Daenam H...|      119|\n",
            "|Chungcheongnam-do|     Cheonan-si|gym facility in C...|      103|\n",
            "|            Daegu|   Dalseong-gun|Daesil Convalesce...|      101|\n",
            "|            Seoul|              -|                 etc|      100|\n",
            "|            Seoul|        Guro-gu| Guro-gu Call Center|       95|\n",
            "|      Gyeonggi-do|              -|                 etc|       84|\n",
            "|          Incheon|              -|     overseas inflow|       68|\n",
            "+-----------------+---------------+--------------------+---------+\n",
            "only showing top 20 rows\n",
            "\n"
          ]
        }
      ]
    },
    {
      "cell_type": "code",
      "source": [
        "#Column type\n",
        "\n",
        "cases =  cases.withColumn('confirmed', F.col('confirmed').cast(IntegerType()))\n",
        "cases =  cases.withColumn('city', F.col('city').cast(StringType()))\n"
      ],
      "metadata": {
        "id": "lCkYOwnQP7Jt"
      },
      "execution_count": 24,
      "outputs": []
    },
    {
      "cell_type": "code",
      "source": [
        "cases.dtypes"
      ],
      "metadata": {
        "colab": {
          "base_uri": "https://localhost:8080/"
        },
        "id": "bois-xlWQpYe",
        "outputId": "b0009be4-1ce1-455f-f865-4dabd4515fb4"
      },
      "execution_count": 25,
      "outputs": [
        {
          "output_type": "execute_result",
          "data": {
            "text/plain": [
              "[('province', 'string'),\n",
              " ('city', 'string'),\n",
              " ('infection_source', 'string'),\n",
              " ('confirmed', 'int')]"
            ]
          },
          "metadata": {},
          "execution_count": 25
        }
      ]
    },
    {
      "cell_type": "code",
      "source": [
        "#filter\n",
        "# &, |, ~\n",
        "\n",
        "cases.filter((cases.confirmed>10) & (cases.province=='Daegu')).show()"
      ],
      "metadata": {
        "colab": {
          "base_uri": "https://localhost:8080/"
        },
        "id": "yIIKp7HARD4E",
        "outputId": "77472504-386d-4c49-814f-698d5563eec2"
      },
      "execution_count": 28,
      "outputs": [
        {
          "output_type": "stream",
          "name": "stdout",
          "text": [
            "+--------+------------+--------------------+---------+\n",
            "|province|        city|    infection_source|confirmed|\n",
            "+--------+------------+--------------------+---------+\n",
            "|   Daegu|      Nam-gu|  Shincheonji Church|     4511|\n",
            "|   Daegu|Dalseong-gun|Second Mi-Ju Hosp...|      196|\n",
            "|   Daegu|      Seo-gu|Hansarang Convale...|      124|\n",
            "|   Daegu|Dalseong-gun|Daesil Convalesce...|      101|\n",
            "|   Daegu|     Dong-gu|     Fatima Hospital|       39|\n",
            "|   Daegu|           -|     overseas inflow|       41|\n",
            "|   Daegu|           -|contact with patient|      917|\n",
            "|   Daegu|           -|                 etc|      747|\n",
            "+--------+------------+--------------------+---------+\n",
            "\n"
          ]
        }
      ]
    },
    {
      "cell_type": "code",
      "source": [
        "#Groupby\n",
        "\n",
        "cases.groupby(['province','city']).agg(F.sum('confirmed'),F.max('confirmed')).show()"
      ],
      "metadata": {
        "colab": {
          "base_uri": "https://localhost:8080/"
        },
        "id": "4dorK5kQRzLU",
        "outputId": "272427e1-25d7-41f5-eb74-c65224905ef1"
      },
      "execution_count": 30,
      "outputs": [
        {
          "output_type": "stream",
          "name": "stdout",
          "text": [
            "+----------------+---------------+--------------+--------------+\n",
            "|        province|           city|sum(confirmed)|max(confirmed)|\n",
            "+----------------+---------------+--------------+--------------+\n",
            "|Gyeongsangnam-do|       Jinju-si|             9|             9|\n",
            "|           Seoul|        Guro-gu|           139|            95|\n",
            "|           Seoul|     Gangnam-gu|            18|             7|\n",
            "|         Daejeon|              -|           100|            55|\n",
            "|    Jeollabuk-do|from other city|             6|             3|\n",
            "|Gyeongsangnam-do|Changnyeong-gun|             7|             7|\n",
            "|           Seoul|              -|           561|           298|\n",
            "|         Jeju-do|from other city|             1|             1|\n",
            "|Gyeongsangbuk-do|              -|           345|           190|\n",
            "|Gyeongsangnam-do|   Geochang-gun|            18|            10|\n",
            "|Gyeongsangbuk-do|        Gumi-si|            10|            10|\n",
            "|         Incheon|from other city|           117|            53|\n",
            "|           Busan|              -|            85|            36|\n",
            "|           Daegu|         Seo-gu|           124|           124|\n",
            "|           Busan|     Suyeong-gu|             5|             5|\n",
            "|     Gyeonggi-do|   Uijeongbu-si|            50|            50|\n",
            "|           Seoul|     Yongsan-gu|           139|           139|\n",
            "|           Daegu|              -|          1705|           917|\n",
            "|           Seoul|   Seodaemun-gu|             5|             5|\n",
            "|     Gyeonggi-do|    Seongnam-si|            94|            67|\n",
            "+----------------+---------------+--------------+--------------+\n",
            "only showing top 20 rows\n",
            "\n"
          ]
        }
      ]
    },
    {
      "cell_type": "code",
      "source": [
        "cases.groupby(['province','city']).agg(F.sum('confirmed').alias(('TotalConfirmed')),F.max('confirmed').alias('MaxfromOneConfirmedCase')).show()"
      ],
      "metadata": {
        "colab": {
          "base_uri": "https://localhost:8080/"
        },
        "id": "okfvi38tSqZq",
        "outputId": "3c8f97dd-6226-4f4d-91be-966ecd032465"
      },
      "execution_count": 31,
      "outputs": [
        {
          "output_type": "stream",
          "name": "stdout",
          "text": [
            "+----------------+---------------+--------------+-----------------------+\n",
            "|        province|           city|TotalConfirmed|MaxfromOneConfirmedCase|\n",
            "+----------------+---------------+--------------+-----------------------+\n",
            "|Gyeongsangnam-do|       Jinju-si|             9|                      9|\n",
            "|           Seoul|        Guro-gu|           139|                     95|\n",
            "|           Seoul|     Gangnam-gu|            18|                      7|\n",
            "|         Daejeon|              -|           100|                     55|\n",
            "|    Jeollabuk-do|from other city|             6|                      3|\n",
            "|Gyeongsangnam-do|Changnyeong-gun|             7|                      7|\n",
            "|           Seoul|              -|           561|                    298|\n",
            "|         Jeju-do|from other city|             1|                      1|\n",
            "|Gyeongsangbuk-do|              -|           345|                    190|\n",
            "|Gyeongsangnam-do|   Geochang-gun|            18|                     10|\n",
            "|Gyeongsangbuk-do|        Gumi-si|            10|                     10|\n",
            "|         Incheon|from other city|           117|                     53|\n",
            "|           Busan|              -|            85|                     36|\n",
            "|           Daegu|         Seo-gu|           124|                    124|\n",
            "|           Busan|     Suyeong-gu|             5|                      5|\n",
            "|     Gyeonggi-do|   Uijeongbu-si|            50|                     50|\n",
            "|           Seoul|     Yongsan-gu|           139|                    139|\n",
            "|           Daegu|              -|          1705|                    917|\n",
            "|           Seoul|   Seodaemun-gu|             5|                      5|\n",
            "|     Gyeonggi-do|    Seongnam-si|            94|                     67|\n",
            "+----------------+---------------+--------------+-----------------------+\n",
            "only showing top 20 rows\n",
            "\n"
          ]
        }
      ]
    },
    {
      "cell_type": "code",
      "source": [
        "# join\n",
        "\n",
        "regions = spark.read.load('Region.csv',format='csv',inferSchema=True,header=True)"
      ],
      "metadata": {
        "id": "y7cByFk_TYIH"
      },
      "execution_count": 32,
      "outputs": []
    },
    {
      "cell_type": "code",
      "source": [
        "regions.show()"
      ],
      "metadata": {
        "colab": {
          "base_uri": "https://localhost:8080/"
        },
        "id": "tUbyXS1ITwwp",
        "outputId": "0b67012e-e469-427d-d6dd-85017e1b75e0"
      },
      "execution_count": 33,
      "outputs": [
        {
          "output_type": "stream",
          "name": "stdout",
          "text": [
            "+-----+--------+-------------+---------+----------+-----------------------+------------------+----------------+-------------+------------------------+-------------------+------------------+\n",
            "| code|province|         city| latitude| longitude|elementary_school_count|kindergarten_count|university_count|academy_ratio|elderly_population_ratio|elderly_alone_ratio|nursing_home_count|\n",
            "+-----+--------+-------------+---------+----------+-----------------------+------------------+----------------+-------------+------------------------+-------------------+------------------+\n",
            "|10000|   Seoul|        Seoul|37.566953|126.977977|                    607|               830|              48|         1.44|                   15.38|                5.8|             22739|\n",
            "|10010|   Seoul|   Gangnam-gu|37.518421|127.047222|                     33|                38|               0|         4.18|                   13.17|                4.3|              3088|\n",
            "|10020|   Seoul|  Gangdong-gu|37.530492|127.123837|                     27|                32|               0|         1.54|                   14.55|                5.4|              1023|\n",
            "|10030|   Seoul|   Gangbuk-gu|37.639938|127.025508|                     14|                21|               0|         0.67|                   19.49|                8.5|               628|\n",
            "|10040|   Seoul|   Gangseo-gu|37.551166|126.849506|                     36|                56|               1|         1.17|                   14.39|                5.7|              1080|\n",
            "|10050|   Seoul|    Gwanak-gu| 37.47829|126.951502|                     22|                33|               1|         0.89|                   15.12|                4.9|               909|\n",
            "|10060|   Seoul|  Gwangjin-gu|37.538712|127.082366|                     22|                33|               3|         1.16|                   13.75|                4.8|               723|\n",
            "|10070|   Seoul|      Guro-gu|37.495632| 126.88765|                     26|                34|               3|          1.0|                   16.21|                5.7|               741|\n",
            "|10080|   Seoul| Geumcheon-gu|37.456852|126.895229|                     18|                19|               0|         0.96|                   16.15|                6.7|               475|\n",
            "|10090|   Seoul|     Nowon-gu|37.654259|127.056294|                     42|                66|               6|         1.39|                    15.4|                7.4|               952|\n",
            "|10100|   Seoul|    Dobong-gu|37.668952|127.047082|                     23|                26|               1|         0.95|                   17.89|                7.2|               485|\n",
            "|10110|   Seoul|Dongdaemun-gu|37.574552|127.039721|                     21|                31|               4|         1.06|                   17.26|                6.7|               832|\n",
            "|10120|   Seoul|   Dongjak-gu|37.510571|126.963604|                     21|                34|               3|         1.17|                   15.85|                5.2|               762|\n",
            "|10130|   Seoul|      Mapo-gu|37.566283|126.901644|                     22|                24|               2|         1.83|                   14.05|                4.9|               929|\n",
            "|10140|   Seoul| Seodaemun-gu|37.579428|126.936771|                     19|                25|               6|         1.12|                   16.77|                6.2|               587|\n",
            "|10150|   Seoul|    Seocho-gu|37.483804|127.032693|                     24|                27|               1|          2.6|                   13.39|                3.8|              1465|\n",
            "|10160|   Seoul| Seongdong-gu|37.563277|127.036647|                     21|                30|               2|         0.97|                   14.76|                5.3|               593|\n",
            "|10170|   Seoul|  Seongbuk-gu|37.589562|  127.0167|                     29|                49|               6|         1.02|                   16.15|                6.0|               729|\n",
            "|10180|   Seoul|    Songpa-gu| 37.51462|127.106141|                     40|                51|               1|         1.65|                    13.1|                4.1|              1527|\n",
            "|10190|   Seoul| Yangcheon-gu|37.517189|126.866618|                     30|                43|               0|         2.26|                   13.55|                5.5|               816|\n",
            "+-----+--------+-------------+---------+----------+-----------------------+------------------+----------------+-------------+------------------------+-------------------+------------------+\n",
            "only showing top 20 rows\n",
            "\n"
          ]
        }
      ]
    },
    {
      "cell_type": "code",
      "source": [
        "regions.limit(10).toPandas()"
      ],
      "metadata": {
        "colab": {
          "base_uri": "https://localhost:8080/",
          "height": 389
        },
        "id": "0XgncIp3T0BV",
        "outputId": "0f7149e9-38ba-44b0-cb77-a421ec4ea30a"
      },
      "execution_count": 34,
      "outputs": [
        {
          "output_type": "execute_result",
          "data": {
            "text/plain": [
              "    code province          city   latitude   longitude  \\\n",
              "0  10000    Seoul         Seoul  37.566953  126.977977   \n",
              "1  10010    Seoul    Gangnam-gu  37.518421  127.047222   \n",
              "2  10020    Seoul   Gangdong-gu  37.530492  127.123837   \n",
              "3  10030    Seoul    Gangbuk-gu  37.639938  127.025508   \n",
              "4  10040    Seoul    Gangseo-gu  37.551166  126.849506   \n",
              "5  10050    Seoul     Gwanak-gu  37.478290  126.951502   \n",
              "6  10060    Seoul   Gwangjin-gu  37.538712  127.082366   \n",
              "7  10070    Seoul       Guro-gu  37.495632  126.887650   \n",
              "8  10080    Seoul  Geumcheon-gu  37.456852  126.895229   \n",
              "9  10090    Seoul      Nowon-gu  37.654259  127.056294   \n",
              "\n",
              "   elementary_school_count  kindergarten_count  university_count  \\\n",
              "0                      607                 830                48   \n",
              "1                       33                  38                 0   \n",
              "2                       27                  32                 0   \n",
              "3                       14                  21                 0   \n",
              "4                       36                  56                 1   \n",
              "5                       22                  33                 1   \n",
              "6                       22                  33                 3   \n",
              "7                       26                  34                 3   \n",
              "8                       18                  19                 0   \n",
              "9                       42                  66                 6   \n",
              "\n",
              "   academy_ratio  elderly_population_ratio  elderly_alone_ratio  \\\n",
              "0           1.44                     15.38                  5.8   \n",
              "1           4.18                     13.17                  4.3   \n",
              "2           1.54                     14.55                  5.4   \n",
              "3           0.67                     19.49                  8.5   \n",
              "4           1.17                     14.39                  5.7   \n",
              "5           0.89                     15.12                  4.9   \n",
              "6           1.16                     13.75                  4.8   \n",
              "7           1.00                     16.21                  5.7   \n",
              "8           0.96                     16.15                  6.7   \n",
              "9           1.39                     15.40                  7.4   \n",
              "\n",
              "   nursing_home_count  \n",
              "0               22739  \n",
              "1                3088  \n",
              "2                1023  \n",
              "3                 628  \n",
              "4                1080  \n",
              "5                 909  \n",
              "6                 723  \n",
              "7                 741  \n",
              "8                 475  \n",
              "9                 952  "
            ],
            "text/html": [
              "\n",
              "  <div id=\"df-9f6fc5f7-c512-478a-9965-820450cad65d\">\n",
              "    <div class=\"colab-df-container\">\n",
              "      <div>\n",
              "<style scoped>\n",
              "    .dataframe tbody tr th:only-of-type {\n",
              "        vertical-align: middle;\n",
              "    }\n",
              "\n",
              "    .dataframe tbody tr th {\n",
              "        vertical-align: top;\n",
              "    }\n",
              "\n",
              "    .dataframe thead th {\n",
              "        text-align: right;\n",
              "    }\n",
              "</style>\n",
              "<table border=\"1\" class=\"dataframe\">\n",
              "  <thead>\n",
              "    <tr style=\"text-align: right;\">\n",
              "      <th></th>\n",
              "      <th>code</th>\n",
              "      <th>province</th>\n",
              "      <th>city</th>\n",
              "      <th>latitude</th>\n",
              "      <th>longitude</th>\n",
              "      <th>elementary_school_count</th>\n",
              "      <th>kindergarten_count</th>\n",
              "      <th>university_count</th>\n",
              "      <th>academy_ratio</th>\n",
              "      <th>elderly_population_ratio</th>\n",
              "      <th>elderly_alone_ratio</th>\n",
              "      <th>nursing_home_count</th>\n",
              "    </tr>\n",
              "  </thead>\n",
              "  <tbody>\n",
              "    <tr>\n",
              "      <th>0</th>\n",
              "      <td>10000</td>\n",
              "      <td>Seoul</td>\n",
              "      <td>Seoul</td>\n",
              "      <td>37.566953</td>\n",
              "      <td>126.977977</td>\n",
              "      <td>607</td>\n",
              "      <td>830</td>\n",
              "      <td>48</td>\n",
              "      <td>1.44</td>\n",
              "      <td>15.38</td>\n",
              "      <td>5.8</td>\n",
              "      <td>22739</td>\n",
              "    </tr>\n",
              "    <tr>\n",
              "      <th>1</th>\n",
              "      <td>10010</td>\n",
              "      <td>Seoul</td>\n",
              "      <td>Gangnam-gu</td>\n",
              "      <td>37.518421</td>\n",
              "      <td>127.047222</td>\n",
              "      <td>33</td>\n",
              "      <td>38</td>\n",
              "      <td>0</td>\n",
              "      <td>4.18</td>\n",
              "      <td>13.17</td>\n",
              "      <td>4.3</td>\n",
              "      <td>3088</td>\n",
              "    </tr>\n",
              "    <tr>\n",
              "      <th>2</th>\n",
              "      <td>10020</td>\n",
              "      <td>Seoul</td>\n",
              "      <td>Gangdong-gu</td>\n",
              "      <td>37.530492</td>\n",
              "      <td>127.123837</td>\n",
              "      <td>27</td>\n",
              "      <td>32</td>\n",
              "      <td>0</td>\n",
              "      <td>1.54</td>\n",
              "      <td>14.55</td>\n",
              "      <td>5.4</td>\n",
              "      <td>1023</td>\n",
              "    </tr>\n",
              "    <tr>\n",
              "      <th>3</th>\n",
              "      <td>10030</td>\n",
              "      <td>Seoul</td>\n",
              "      <td>Gangbuk-gu</td>\n",
              "      <td>37.639938</td>\n",
              "      <td>127.025508</td>\n",
              "      <td>14</td>\n",
              "      <td>21</td>\n",
              "      <td>0</td>\n",
              "      <td>0.67</td>\n",
              "      <td>19.49</td>\n",
              "      <td>8.5</td>\n",
              "      <td>628</td>\n",
              "    </tr>\n",
              "    <tr>\n",
              "      <th>4</th>\n",
              "      <td>10040</td>\n",
              "      <td>Seoul</td>\n",
              "      <td>Gangseo-gu</td>\n",
              "      <td>37.551166</td>\n",
              "      <td>126.849506</td>\n",
              "      <td>36</td>\n",
              "      <td>56</td>\n",
              "      <td>1</td>\n",
              "      <td>1.17</td>\n",
              "      <td>14.39</td>\n",
              "      <td>5.7</td>\n",
              "      <td>1080</td>\n",
              "    </tr>\n",
              "    <tr>\n",
              "      <th>5</th>\n",
              "      <td>10050</td>\n",
              "      <td>Seoul</td>\n",
              "      <td>Gwanak-gu</td>\n",
              "      <td>37.478290</td>\n",
              "      <td>126.951502</td>\n",
              "      <td>22</td>\n",
              "      <td>33</td>\n",
              "      <td>1</td>\n",
              "      <td>0.89</td>\n",
              "      <td>15.12</td>\n",
              "      <td>4.9</td>\n",
              "      <td>909</td>\n",
              "    </tr>\n",
              "    <tr>\n",
              "      <th>6</th>\n",
              "      <td>10060</td>\n",
              "      <td>Seoul</td>\n",
              "      <td>Gwangjin-gu</td>\n",
              "      <td>37.538712</td>\n",
              "      <td>127.082366</td>\n",
              "      <td>22</td>\n",
              "      <td>33</td>\n",
              "      <td>3</td>\n",
              "      <td>1.16</td>\n",
              "      <td>13.75</td>\n",
              "      <td>4.8</td>\n",
              "      <td>723</td>\n",
              "    </tr>\n",
              "    <tr>\n",
              "      <th>7</th>\n",
              "      <td>10070</td>\n",
              "      <td>Seoul</td>\n",
              "      <td>Guro-gu</td>\n",
              "      <td>37.495632</td>\n",
              "      <td>126.887650</td>\n",
              "      <td>26</td>\n",
              "      <td>34</td>\n",
              "      <td>3</td>\n",
              "      <td>1.00</td>\n",
              "      <td>16.21</td>\n",
              "      <td>5.7</td>\n",
              "      <td>741</td>\n",
              "    </tr>\n",
              "    <tr>\n",
              "      <th>8</th>\n",
              "      <td>10080</td>\n",
              "      <td>Seoul</td>\n",
              "      <td>Geumcheon-gu</td>\n",
              "      <td>37.456852</td>\n",
              "      <td>126.895229</td>\n",
              "      <td>18</td>\n",
              "      <td>19</td>\n",
              "      <td>0</td>\n",
              "      <td>0.96</td>\n",
              "      <td>16.15</td>\n",
              "      <td>6.7</td>\n",
              "      <td>475</td>\n",
              "    </tr>\n",
              "    <tr>\n",
              "      <th>9</th>\n",
              "      <td>10090</td>\n",
              "      <td>Seoul</td>\n",
              "      <td>Nowon-gu</td>\n",
              "      <td>37.654259</td>\n",
              "      <td>127.056294</td>\n",
              "      <td>42</td>\n",
              "      <td>66</td>\n",
              "      <td>6</td>\n",
              "      <td>1.39</td>\n",
              "      <td>15.40</td>\n",
              "      <td>7.4</td>\n",
              "      <td>952</td>\n",
              "    </tr>\n",
              "  </tbody>\n",
              "</table>\n",
              "</div>\n",
              "      <button class=\"colab-df-convert\" onclick=\"convertToInteractive('df-9f6fc5f7-c512-478a-9965-820450cad65d')\"\n",
              "              title=\"Convert this dataframe to an interactive table.\"\n",
              "              style=\"display:none;\">\n",
              "        \n",
              "  <svg xmlns=\"http://www.w3.org/2000/svg\" height=\"24px\"viewBox=\"0 0 24 24\"\n",
              "       width=\"24px\">\n",
              "    <path d=\"M0 0h24v24H0V0z\" fill=\"none\"/>\n",
              "    <path d=\"M18.56 5.44l.94 2.06.94-2.06 2.06-.94-2.06-.94-.94-2.06-.94 2.06-2.06.94zm-11 1L8.5 8.5l.94-2.06 2.06-.94-2.06-.94L8.5 2.5l-.94 2.06-2.06.94zm10 10l.94 2.06.94-2.06 2.06-.94-2.06-.94-.94-2.06-.94 2.06-2.06.94z\"/><path d=\"M17.41 7.96l-1.37-1.37c-.4-.4-.92-.59-1.43-.59-.52 0-1.04.2-1.43.59L10.3 9.45l-7.72 7.72c-.78.78-.78 2.05 0 2.83L4 21.41c.39.39.9.59 1.41.59.51 0 1.02-.2 1.41-.59l7.78-7.78 2.81-2.81c.8-.78.8-2.07 0-2.86zM5.41 20L4 18.59l7.72-7.72 1.47 1.35L5.41 20z\"/>\n",
              "  </svg>\n",
              "      </button>\n",
              "      \n",
              "  <style>\n",
              "    .colab-df-container {\n",
              "      display:flex;\n",
              "      flex-wrap:wrap;\n",
              "      gap: 12px;\n",
              "    }\n",
              "\n",
              "    .colab-df-convert {\n",
              "      background-color: #E8F0FE;\n",
              "      border: none;\n",
              "      border-radius: 50%;\n",
              "      cursor: pointer;\n",
              "      display: none;\n",
              "      fill: #1967D2;\n",
              "      height: 32px;\n",
              "      padding: 0 0 0 0;\n",
              "      width: 32px;\n",
              "    }\n",
              "\n",
              "    .colab-df-convert:hover {\n",
              "      background-color: #E2EBFA;\n",
              "      box-shadow: 0px 1px 2px rgba(60, 64, 67, 0.3), 0px 1px 3px 1px rgba(60, 64, 67, 0.15);\n",
              "      fill: #174EA6;\n",
              "    }\n",
              "\n",
              "    [theme=dark] .colab-df-convert {\n",
              "      background-color: #3B4455;\n",
              "      fill: #D2E3FC;\n",
              "    }\n",
              "\n",
              "    [theme=dark] .colab-df-convert:hover {\n",
              "      background-color: #434B5C;\n",
              "      box-shadow: 0px 1px 3px 1px rgba(0, 0, 0, 0.15);\n",
              "      filter: drop-shadow(0px 1px 2px rgba(0, 0, 0, 0.3));\n",
              "      fill: #FFFFFF;\n",
              "    }\n",
              "  </style>\n",
              "\n",
              "      <script>\n",
              "        const buttonEl =\n",
              "          document.querySelector('#df-9f6fc5f7-c512-478a-9965-820450cad65d button.colab-df-convert');\n",
              "        buttonEl.style.display =\n",
              "          google.colab.kernel.accessAllowed ? 'block' : 'none';\n",
              "\n",
              "        async function convertToInteractive(key) {\n",
              "          const element = document.querySelector('#df-9f6fc5f7-c512-478a-9965-820450cad65d');\n",
              "          const dataTable =\n",
              "            await google.colab.kernel.invokeFunction('convertToInteractive',\n",
              "                                                     [key], {});\n",
              "          if (!dataTable) return;\n",
              "\n",
              "          const docLinkHtml = 'Like what you see? Visit the ' +\n",
              "            '<a target=\"_blank\" href=https://colab.research.google.com/notebooks/data_table.ipynb>data table notebook</a>'\n",
              "            + ' to learn more about interactive tables.';\n",
              "          element.innerHTML = '';\n",
              "          dataTable['output_type'] = 'display_data';\n",
              "          await google.colab.output.renderOutput(dataTable, element);\n",
              "          const docLink = document.createElement('div');\n",
              "          docLink.innerHTML = docLinkHtml;\n",
              "          element.appendChild(docLink);\n",
              "        }\n",
              "      </script>\n",
              "    </div>\n",
              "  </div>\n",
              "  "
            ]
          },
          "metadata": {},
          "execution_count": 34
        }
      ]
    },
    {
      "cell_type": "code",
      "source": [
        "# Join\n",
        "\n",
        "cases = cases.join(regions,['province','city'],how='left')\n",
        "\n",
        "cases.show()"
      ],
      "metadata": {
        "colab": {
          "base_uri": "https://localhost:8080/"
        },
        "id": "YW14wgSdT7mI",
        "outputId": "3b345e4a-4989-4e7b-9827-6d70356a9c2f"
      },
      "execution_count": 71,
      "outputs": [
        {
          "output_type": "stream",
          "name": "stdout",
          "text": [
            "+--------+---------------+--------+-----+--------------------+---------+---------+----------+-----+---------+----------+-----------------------+------------------+----------------+-------------+------------------------+-------------------+------------------+\n",
            "|province|           city| case_id|group|      infection_case|confirmed| latitude| longitude| code| latitude| longitude|elementary_school_count|kindergarten_count|university_count|academy_ratio|elderly_population_ratio|elderly_alone_ratio|nursing_home_count|\n",
            "+--------+---------------+--------+-----+--------------------+---------+---------+----------+-----+---------+----------+-----------------------+------------------+----------------+-------------+------------------------+-------------------+------------------+\n",
            "|   Seoul|     Yongsan-gu| 1000001| true|       Itaewon Clubs|      139|37.538621|126.992652|10210|37.532768|126.990021|                     15|                13|               1|         0.68|                   16.87|                6.5|               435|\n",
            "|   Seoul|      Gwanak-gu| 1000002| true|             Richway|      119| 37.48208|126.901384|10050| 37.47829|126.951502|                     22|                33|               1|         0.89|                   15.12|                4.9|               909|\n",
            "|   Seoul|        Guro-gu| 1000003| true| Guro-gu Call Center|       95|37.508163|126.884387|10070|37.495632| 126.88765|                     26|                34|               3|          1.0|                   16.21|                5.7|               741|\n",
            "|   Seoul|   Yangcheon-gu| 1000004| true|Yangcheon Table T...|       43|37.546061|126.874209|10190|37.517189|126.866618|                     30|                43|               0|         2.26|                   13.55|                5.5|               816|\n",
            "|   Seoul|      Dobong-gu| 1000005| true|     Day Care Center|       43|37.679422|127.044374|10100|37.668952|127.047082|                     23|                26|               1|         0.95|                   17.89|                7.2|               485|\n",
            "|   Seoul|        Guro-gu| 1000006| true|Manmin Central Ch...|       41|37.481059|126.894343|10070|37.495632| 126.88765|                     26|                34|               3|          1.0|                   16.21|                5.7|               741|\n",
            "|   Seoul|from other city| 1000007| true|SMR Newly Planted...|       36|        -|         -| null|     null|      null|                   null|              null|            null|         null|                    null|               null|              null|\n",
            "|   Seoul|  Dongdaemun-gu| 1000008| true|       Dongan Church|       17|37.592888|127.056766|10110|37.574552|127.039721|                     21|                31|               4|         1.06|                   17.26|                6.7|               832|\n",
            "|   Seoul|from other city| 1000009| true|Coupang Logistics...|       25|        -|         -| null|     null|      null|                   null|              null|            null|         null|                    null|               null|              null|\n",
            "|   Seoul|      Gwanak-gu| 1000010| true|     Wangsung Church|       30|37.481735|126.930121|10050| 37.47829|126.951502|                     22|                33|               1|         0.89|                   15.12|                4.9|               909|\n",
            "|   Seoul|   Eunpyeong-gu| 1000011| true|Eunpyeong St. Mar...|       14| 37.63369|  126.9165|10220|37.603481|126.929173|                     31|                44|               1|         1.09|                    17.0|                6.5|               874|\n",
            "|   Seoul|   Seongdong-gu| 1000012| true|    Seongdong-gu APT|       13| 37.55713|  127.0403|10160|37.563277|127.036647|                     21|                30|               2|         0.97|                   14.76|                5.3|               593|\n",
            "|   Seoul|      Jongno-gu| 1000013| true|Jongno Community ...|       10| 37.57681|   127.006|10230|37.572999|126.979189|                     13|                17|               3|         1.71|                   18.27|                6.8|               668|\n",
            "|   Seoul|     Gangnam-gu| 1000014| true|Samsung Medical C...|        7| 37.48825| 127.08559|10010|37.518421|127.047222|                     33|                38|               0|         4.18|                   13.17|                4.3|              3088|\n",
            "|   Seoul|        Jung-gu| 1000015| true|Jung-gu Fashion C...|        7|37.562405|126.984377|10240|37.563988| 126.99753|                     12|                14|               2|         0.94|                   18.42|                7.4|               728|\n",
            "|   Seoul|   Seodaemun-gu| 1000016| true|  Yeonana News Class|        5|37.558147|126.943799|10140|37.579428|126.936771|                     19|                25|               6|         1.12|                   16.77|                6.2|               587|\n",
            "|   Seoul|      Jongno-gu| 1000017| true|Korea Campus Crus...|        7|37.594782|126.968022|10230|37.572999|126.979189|                     13|                17|               3|         1.71|                   18.27|                6.8|               668|\n",
            "|   Seoul|     Gangnam-gu| 1000018| true|Gangnam Yeoksam-d...|        6|        -|         -|10010|37.518421|127.047222|                     33|                38|               0|         4.18|                   13.17|                4.3|              3088|\n",
            "|   Seoul|from other city| 1000019| true|Daejeon door-to-d...|        1|        -|         -| null|     null|      null|                   null|              null|            null|         null|                    null|               null|              null|\n",
            "|   Seoul|   Geumcheon-gu| 1000020| true|Geumcheon-gu rice...|        6|        -|         -|10080|37.456852|126.895229|                     18|                19|               0|         0.96|                   16.15|                6.7|               475|\n",
            "+--------+---------------+--------+-----+--------------------+---------+---------+----------+-----+---------+----------+-----------------------+------------------+----------------+-------------+------------------------+-------------------+------------------+\n",
            "only showing top 20 rows\n",
            "\n"
          ]
        }
      ]
    },
    {
      "cell_type": "code",
      "source": [
        "#SQL with dataframes\n",
        "\n",
        "cases_table=cases.registerTempTable('cases_table')"
      ],
      "metadata": {
        "colab": {
          "base_uri": "https://localhost:8080/"
        },
        "id": "bBmVSQQqUcSz",
        "outputId": "0bc2143d-140d-42d5-c6a5-3afcdf7aebb7"
      },
      "execution_count": 41,
      "outputs": [
        {
          "output_type": "stream",
          "name": "stderr",
          "text": [
            "/usr/local/lib/python3.8/dist-packages/pyspark/sql/dataframe.py:229: FutureWarning: Deprecated in 2.0, use createOrReplaceTempView instead.\n",
            "  warnings.warn(\"Deprecated in 2.0, use createOrReplaceTempView instead.\", FutureWarning)\n"
          ]
        }
      ]
    },
    {
      "cell_type": "code",
      "source": [
        "newDF = spark.sql(\"select * from cases_table where confirmed > 100\")"
      ],
      "metadata": {
        "id": "xfKX2bOxU8dX"
      },
      "execution_count": 44,
      "outputs": []
    },
    {
      "cell_type": "code",
      "source": [
        "newDF.show()"
      ],
      "metadata": {
        "colab": {
          "base_uri": "https://localhost:8080/"
        },
        "id": "R-PWmLR8VM1b",
        "outputId": "09725481-b2d8-4293-a3ef-eaf198743cf6"
      },
      "execution_count": 45,
      "outputs": [
        {
          "output_type": "stream",
          "name": "stdout",
          "text": [
            "+-----------------+---------------+--------------------+---------+-----+---------+----------+-----------------------+------------------+----------------+-------------+------------------------+-------------------+------------------+-----+---------+----------+-----------------------+------------------+----------------+-------------+------------------------+-------------------+------------------+\n",
            "|         province|           city|    infection_source|confirmed| code| latitude| longitude|elementary_school_count|kindergarten_count|university_count|academy_ratio|elderly_population_ratio|elderly_alone_ratio|nursing_home_count| code| latitude| longitude|elementary_school_count|kindergarten_count|university_count|academy_ratio|elderly_population_ratio|elderly_alone_ratio|nursing_home_count|\n",
            "+-----------------+---------------+--------------------+---------+-----+---------+----------+-----------------------+------------------+----------------+-------------+------------------------+-------------------+------------------+-----+---------+----------+-----------------------+------------------+----------------+-------------+------------------------+-------------------+------------------+\n",
            "|            Seoul|     Yongsan-gu|       Itaewon Clubs|      139|10210|37.532768|126.990021|                     15|                13|               1|         0.68|                   16.87|                6.5|               435|10210|37.532768|126.990021|                     15|                13|               1|         0.68|                   16.87|                6.5|               435|\n",
            "|            Seoul|      Gwanak-gu|             Richway|      119|10050| 37.47829|126.951502|                     22|                33|               1|         0.89|                   15.12|                4.9|               909|10050| 37.47829|126.951502|                     22|                33|               1|         0.89|                   15.12|                4.9|               909|\n",
            "|            Seoul|              -|     overseas inflow|      298| null|     null|      null|                   null|              null|            null|         null|                    null|               null|              null| null|     null|      null|                   null|              null|            null|         null|                    null|               null|              null|\n",
            "|            Seoul|              -|contact with patient|      162| null|     null|      null|                   null|              null|            null|         null|                    null|               null|              null| null|     null|      null|                   null|              null|            null|         null|                    null|               null|              null|\n",
            "|            Daegu|         Nam-gu|  Shincheonji Church|     4511|12010|  35.8463|128.597723|                     11|                15|               2|         0.85|                   22.49|               10.4|               345|12010|  35.8463|128.597723|                     11|                15|               2|         0.85|                   22.49|               10.4|               345|\n",
            "|            Daegu|   Dalseong-gun|Second Mi-Ju Hosp...|      196|12030| 35.77475|128.431314|                     32|                47|               1|         1.51|                   12.11|                5.4|               361|12030| 35.77475|128.431314|                     32|                47|               1|         1.51|                   12.11|                5.4|               361|\n",
            "|            Daegu|         Seo-gu|Hansarang Convale...|      124|12060|35.871993|128.559182|                     17|                23|               0|         0.83|                   21.29|               10.1|               374|12060|35.871993|128.559182|                     17|                23|               0|         0.83|                   21.29|               10.1|               374|\n",
            "|            Daegu|   Dalseong-gun|Daesil Convalesce...|      101|12030| 35.77475|128.431314|                     32|                47|               1|         1.51|                   12.11|                5.4|               361|12030| 35.77475|128.431314|                     32|                47|               1|         1.51|                   12.11|                5.4|               361|\n",
            "|            Daegu|              -|contact with patient|      917| null|     null|      null|                   null|              null|            null|         null|                    null|               null|              null| null|     null|      null|                   null|              null|            null|         null|                    null|               null|              null|\n",
            "|            Daegu|              -|                 etc|      747| null|     null|      null|                   null|              null|            null|         null|                    null|               null|              null| null|     null|      null|                   null|              null|            null|         null|                    null|               null|              null|\n",
            "|      Gyeonggi-do|              -|     overseas inflow|      305| null|     null|      null|                   null|              null|            null|         null|                    null|               null|              null| null|     null|      null|                   null|              null|            null|         null|                    null|               null|              null|\n",
            "|Chungcheongnam-do|     Cheonan-si|gym facility in C...|      103|41120| 36.81498|127.113868|                     75|               112|               6|         1.91|                   10.42|                4.5|              1069|41120| 36.81498|127.113868|                     75|               112|               6|         1.91|                   10.42|                4.5|              1069|\n",
            "| Gyeongsangbuk-do|from other city|  Shincheonji Church|      566| null|     null|      null|                   null|              null|            null|         null|                    null|               null|              null| null|     null|      null|                   null|              null|            null|         null|                    null|               null|              null|\n",
            "| Gyeongsangbuk-do|   Cheongdo-gun|Cheongdo Daenam H...|      119|60200|35.647361|128.734382|                     11|                14|               0|         0.63|                   36.55|               21.0|                85|60200|35.647361|128.734382|                     11|                14|               0|         0.63|                   36.55|               21.0|                85|\n",
            "| Gyeongsangbuk-do|              -|contact with patient|      190| null|     null|      null|                   null|              null|            null|         null|                    null|               null|              null| null|     null|      null|                   null|              null|            null|         null|                    null|               null|              null|\n",
            "| Gyeongsangbuk-do|              -|                 etc|      133| null|     null|      null|                   null|              null|            null|         null|                    null|               null|              null| null|     null|      null|                   null|              null|            null|         null|                    null|               null|              null|\n",
            "+-----------------+---------------+--------------------+---------+-----+---------+----------+-----------------------+------------------+----------------+-------------+------------------------+-------------------+------------------+-----+---------+----------+-----------------------+------------------+----------------+-------------+------------------------+-------------------+------------------+\n",
            "\n"
          ]
        }
      ]
    },
    {
      "cell_type": "code",
      "source": [
        "#create a New Column\n",
        "\n",
        "caseswithNewConfirmed = cases.withColumn('NewConfirmed',100+F.col('confirmed'))\n",
        "\n",
        "\n",
        "caseswithNewConfirmed.show()"
      ],
      "metadata": {
        "colab": {
          "base_uri": "https://localhost:8080/"
        },
        "id": "1ker3M5iV9eJ",
        "outputId": "1245371e-9a7f-49a7-a88d-13a6cda9ae69"
      },
      "execution_count": 46,
      "outputs": [
        {
          "output_type": "stream",
          "name": "stdout",
          "text": [
            "+--------+---------------+--------------------+---------+-----+---------+----------+-----------------------+------------------+----------------+-------------+------------------------+-------------------+------------------+-----+---------+----------+-----------------------+------------------+----------------+-------------+------------------------+-------------------+------------------+------------+\n",
            "|province|           city|    infection_source|confirmed| code| latitude| longitude|elementary_school_count|kindergarten_count|university_count|academy_ratio|elderly_population_ratio|elderly_alone_ratio|nursing_home_count| code| latitude| longitude|elementary_school_count|kindergarten_count|university_count|academy_ratio|elderly_population_ratio|elderly_alone_ratio|nursing_home_count|NewConfirmed|\n",
            "+--------+---------------+--------------------+---------+-----+---------+----------+-----------------------+------------------+----------------+-------------+------------------------+-------------------+------------------+-----+---------+----------+-----------------------+------------------+----------------+-------------+------------------------+-------------------+------------------+------------+\n",
            "|   Seoul|     Yongsan-gu|       Itaewon Clubs|      139|10210|37.532768|126.990021|                     15|                13|               1|         0.68|                   16.87|                6.5|               435|10210|37.532768|126.990021|                     15|                13|               1|         0.68|                   16.87|                6.5|               435|         239|\n",
            "|   Seoul|      Gwanak-gu|             Richway|      119|10050| 37.47829|126.951502|                     22|                33|               1|         0.89|                   15.12|                4.9|               909|10050| 37.47829|126.951502|                     22|                33|               1|         0.89|                   15.12|                4.9|               909|         219|\n",
            "|   Seoul|        Guro-gu| Guro-gu Call Center|       95|10070|37.495632| 126.88765|                     26|                34|               3|          1.0|                   16.21|                5.7|               741|10070|37.495632| 126.88765|                     26|                34|               3|          1.0|                   16.21|                5.7|               741|         195|\n",
            "|   Seoul|   Yangcheon-gu|Yangcheon Table T...|       43|10190|37.517189|126.866618|                     30|                43|               0|         2.26|                   13.55|                5.5|               816|10190|37.517189|126.866618|                     30|                43|               0|         2.26|                   13.55|                5.5|               816|         143|\n",
            "|   Seoul|      Dobong-gu|     Day Care Center|       43|10100|37.668952|127.047082|                     23|                26|               1|         0.95|                   17.89|                7.2|               485|10100|37.668952|127.047082|                     23|                26|               1|         0.95|                   17.89|                7.2|               485|         143|\n",
            "|   Seoul|        Guro-gu|Manmin Central Ch...|       41|10070|37.495632| 126.88765|                     26|                34|               3|          1.0|                   16.21|                5.7|               741|10070|37.495632| 126.88765|                     26|                34|               3|          1.0|                   16.21|                5.7|               741|         141|\n",
            "|   Seoul|from other city|SMR Newly Planted...|       36| null|     null|      null|                   null|              null|            null|         null|                    null|               null|              null| null|     null|      null|                   null|              null|            null|         null|                    null|               null|              null|         136|\n",
            "|   Seoul|  Dongdaemun-gu|       Dongan Church|       17|10110|37.574552|127.039721|                     21|                31|               4|         1.06|                   17.26|                6.7|               832|10110|37.574552|127.039721|                     21|                31|               4|         1.06|                   17.26|                6.7|               832|         117|\n",
            "|   Seoul|from other city|Coupang Logistics...|       25| null|     null|      null|                   null|              null|            null|         null|                    null|               null|              null| null|     null|      null|                   null|              null|            null|         null|                    null|               null|              null|         125|\n",
            "|   Seoul|      Gwanak-gu|     Wangsung Church|       30|10050| 37.47829|126.951502|                     22|                33|               1|         0.89|                   15.12|                4.9|               909|10050| 37.47829|126.951502|                     22|                33|               1|         0.89|                   15.12|                4.9|               909|         130|\n",
            "|   Seoul|   Eunpyeong-gu|Eunpyeong St. Mar...|       14|10220|37.603481|126.929173|                     31|                44|               1|         1.09|                    17.0|                6.5|               874|10220|37.603481|126.929173|                     31|                44|               1|         1.09|                    17.0|                6.5|               874|         114|\n",
            "|   Seoul|   Seongdong-gu|    Seongdong-gu APT|       13|10160|37.563277|127.036647|                     21|                30|               2|         0.97|                   14.76|                5.3|               593|10160|37.563277|127.036647|                     21|                30|               2|         0.97|                   14.76|                5.3|               593|         113|\n",
            "|   Seoul|      Jongno-gu|Jongno Community ...|       10|10230|37.572999|126.979189|                     13|                17|               3|         1.71|                   18.27|                6.8|               668|10230|37.572999|126.979189|                     13|                17|               3|         1.71|                   18.27|                6.8|               668|         110|\n",
            "|   Seoul|     Gangnam-gu|Samsung Medical C...|        7|10010|37.518421|127.047222|                     33|                38|               0|         4.18|                   13.17|                4.3|              3088|10010|37.518421|127.047222|                     33|                38|               0|         4.18|                   13.17|                4.3|              3088|         107|\n",
            "|   Seoul|        Jung-gu|Jung-gu Fashion C...|        7|10240|37.563988| 126.99753|                     12|                14|               2|         0.94|                   18.42|                7.4|               728|10240|37.563988| 126.99753|                     12|                14|               2|         0.94|                   18.42|                7.4|               728|         107|\n",
            "|   Seoul|   Seodaemun-gu|  Yeonana News Class|        5|10140|37.579428|126.936771|                     19|                25|               6|         1.12|                   16.77|                6.2|               587|10140|37.579428|126.936771|                     19|                25|               6|         1.12|                   16.77|                6.2|               587|         105|\n",
            "|   Seoul|      Jongno-gu|Korea Campus Crus...|        7|10230|37.572999|126.979189|                     13|                17|               3|         1.71|                   18.27|                6.8|               668|10230|37.572999|126.979189|                     13|                17|               3|         1.71|                   18.27|                6.8|               668|         107|\n",
            "|   Seoul|     Gangnam-gu|Gangnam Yeoksam-d...|        6|10010|37.518421|127.047222|                     33|                38|               0|         4.18|                   13.17|                4.3|              3088|10010|37.518421|127.047222|                     33|                38|               0|         4.18|                   13.17|                4.3|              3088|         106|\n",
            "|   Seoul|from other city|Daejeon door-to-d...|        1| null|     null|      null|                   null|              null|            null|         null|                    null|               null|              null| null|     null|      null|                   null|              null|            null|         null|                    null|               null|              null|         101|\n",
            "|   Seoul|   Geumcheon-gu|Geumcheon-gu rice...|        6|10080|37.456852|126.895229|                     18|                19|               0|         0.96|                   16.15|                6.7|               475|10080|37.456852|126.895229|                     18|                19|               0|         0.96|                   16.15|                6.7|               475|         106|\n",
            "+--------+---------------+--------------------+---------+-----+---------+----------+-----------------------+------------------+----------------+-------------+------------------------+-------------------+------------------+-----+---------+----------+-----------------------+------------------+----------------+-------------+------------------------+-------------------+------------------+------------+\n",
            "only showing top 20 rows\n",
            "\n"
          ]
        }
      ]
    },
    {
      "cell_type": "code",
      "source": [
        "cases.printSchema()"
      ],
      "metadata": {
        "colab": {
          "base_uri": "https://localhost:8080/"
        },
        "id": "KwWKp1UrWjhg",
        "outputId": "073c4884-ec70-4b86-fdb2-ae968a2004bc"
      },
      "execution_count": 72,
      "outputs": [
        {
          "output_type": "stream",
          "name": "stdout",
          "text": [
            "root\n",
            " |-- province: string (nullable = true)\n",
            " |-- city: string (nullable = true)\n",
            " |--  case_id: integer (nullable = true)\n",
            " |-- group: boolean (nullable = true)\n",
            " |-- infection_case: string (nullable = true)\n",
            " |-- confirmed: integer (nullable = true)\n",
            " |-- latitude: string (nullable = true)\n",
            " |-- longitude: string (nullable = true)\n",
            " |-- code: integer (nullable = true)\n",
            " |-- latitude: double (nullable = true)\n",
            " |-- longitude: double (nullable = true)\n",
            " |-- elementary_school_count: integer (nullable = true)\n",
            " |-- kindergarten_count: integer (nullable = true)\n",
            " |-- university_count: integer (nullable = true)\n",
            " |-- academy_ratio: double (nullable = true)\n",
            " |-- elderly_population_ratio: double (nullable = true)\n",
            " |-- elderly_alone_ratio: double (nullable = true)\n",
            " |-- nursing_home_count: integer (nullable = true)\n",
            "\n"
          ]
        }
      ]
    },
    {
      "cell_type": "code",
      "source": [
        "#Window Functions"
      ],
      "metadata": {
        "id": "Gjox9cqqa991"
      },
      "execution_count": 70,
      "outputs": []
    },
    {
      "cell_type": "code",
      "source": [
        "timeprovince =spark.read.load(\"TimeProvince.csv\",format=\"csv\",inferSchema=True,header=True)"
      ],
      "metadata": {
        "id": "vH-Nb0KWqf-w"
      },
      "execution_count": 74,
      "outputs": []
    },
    {
      "cell_type": "code",
      "source": [
        "timeprovince.show()"
      ],
      "metadata": {
        "colab": {
          "base_uri": "https://localhost:8080/"
        },
        "id": "gg4vmGo4u_Mb",
        "outputId": "6d2e00e0-a427-40a2-e5ff-394775fb7bdc"
      },
      "execution_count": 75,
      "outputs": [
        {
          "output_type": "stream",
          "name": "stdout",
          "text": [
            "+-------------------+----+-----------------+---------+--------+--------+\n",
            "|               date|time|         province|confirmed|released|deceased|\n",
            "+-------------------+----+-----------------+---------+--------+--------+\n",
            "|2020-01-20 00:00:00|  16|            Seoul|        0|       0|       0|\n",
            "|2020-01-20 00:00:00|  16|            Busan|        0|       0|       0|\n",
            "|2020-01-20 00:00:00|  16|            Daegu|        0|       0|       0|\n",
            "|2020-01-20 00:00:00|  16|          Incheon|        1|       0|       0|\n",
            "|2020-01-20 00:00:00|  16|          Gwangju|        0|       0|       0|\n",
            "|2020-01-20 00:00:00|  16|          Daejeon|        0|       0|       0|\n",
            "|2020-01-20 00:00:00|  16|            Ulsan|        0|       0|       0|\n",
            "|2020-01-20 00:00:00|  16|           Sejong|        0|       0|       0|\n",
            "|2020-01-20 00:00:00|  16|      Gyeonggi-do|        0|       0|       0|\n",
            "|2020-01-20 00:00:00|  16|       Gangwon-do|        0|       0|       0|\n",
            "|2020-01-20 00:00:00|  16|Chungcheongbuk-do|        0|       0|       0|\n",
            "|2020-01-20 00:00:00|  16|Chungcheongnam-do|        0|       0|       0|\n",
            "|2020-01-20 00:00:00|  16|     Jeollabuk-do|        0|       0|       0|\n",
            "|2020-01-20 00:00:00|  16|     Jeollanam-do|        0|       0|       0|\n",
            "|2020-01-20 00:00:00|  16| Gyeongsangbuk-do|        0|       0|       0|\n",
            "|2020-01-20 00:00:00|  16| Gyeongsangnam-do|        0|       0|       0|\n",
            "|2020-01-20 00:00:00|  16|          Jeju-do|        0|       0|       0|\n",
            "|2020-01-21 00:00:00|  16|            Seoul|        0|       0|       0|\n",
            "|2020-01-21 00:00:00|  16|            Busan|        0|       0|       0|\n",
            "|2020-01-21 00:00:00|  16|            Daegu|        0|       0|       0|\n",
            "+-------------------+----+-----------------+---------+--------+--------+\n",
            "only showing top 20 rows\n",
            "\n"
          ]
        }
      ]
    },
    {
      "cell_type": "code",
      "source": [
        "from pyspark.sql.window import Window"
      ],
      "metadata": {
        "id": "jw6vfNkqvIMo"
      },
      "execution_count": 76,
      "outputs": []
    },
    {
      "cell_type": "markdown",
      "source": [
        "**Ranking**"
      ],
      "metadata": {
        "id": "KajtD68FvkeY"
      }
    },
    {
      "cell_type": "code",
      "source": [
        "WindowSpec = Window().partitionBy(['province']).orderBy(F.desc('confirmed'))\n",
        "cases.withColumn('rank',F.rank().over(WindowSpec)).show()"
      ],
      "metadata": {
        "colab": {
          "base_uri": "https://localhost:8080/"
        },
        "id": "NqF9Kq2evWmz",
        "outputId": "43af0607-32d4-4dec-ceab-84bb4f6ac778"
      },
      "execution_count": 77,
      "outputs": [
        {
          "output_type": "stream",
          "name": "stdout",
          "text": [
            "+-----------------+---------------+--------+-----+--------------------+---------+--------+---------+-----+---------+----------+-----------------------+------------------+----------------+-------------+------------------------+-------------------+------------------+----+\n",
            "|         province|           city| case_id|group|      infection_case|confirmed|latitude|longitude| code| latitude| longitude|elementary_school_count|kindergarten_count|university_count|academy_ratio|elderly_population_ratio|elderly_alone_ratio|nursing_home_count|rank|\n",
            "+-----------------+---------------+--------+-----+--------------------+---------+--------+---------+-----+---------+----------+-----------------------+------------------+----------------+-------------+------------------------+-------------------+------------------+----+\n",
            "|            Busan|     Dongnae-gu| 1100001| true|       Onchun Church|       39|35.21628| 129.0771|11060| 35.20506|129.083673|                     22|                31|               0|         1.98|                   17.53|                7.7|               608|   1|\n",
            "|            Busan|              -| 1100008|false|     overseas inflow|       36|       -|        -| null|     null|      null|                   null|              null|            null|         null|                    null|               null|              null|   2|\n",
            "|            Busan|              -| 1100010|false|                 etc|       30|       -|        -| null|     null|      null|                   null|              null|            null|         null|                    null|               null|              null|   3|\n",
            "|            Busan|              -| 1100009|false|contact with patient|       19|       -|        -| null|     null|      null|                   null|              null|            null|         null|                    null|               null|              null|   4|\n",
            "|            Busan|from other city| 1100002| true|  Shincheonji Church|       12|       -|        -| null|     null|      null|                   null|              null|            null|         null|                    null|               null|              null|   5|\n",
            "|            Busan|    Haeundae-gu| 1100004| true|Haeundae-gu Catho...|        6|35.20599| 129.1256|11160| 35.16336|129.163594|                     33|                39|               1|         1.63|                   16.53|                7.9|               814|   6|\n",
            "|            Busan|     Suyeong-gu| 1100003| true|Suyeong-gu Kinder...|        5|35.16708| 129.1124|11120|35.145805|129.113194|                     10|                22|               0|         1.56|                    20.4|                8.2|               395|   7|\n",
            "|            Busan|         Jin-gu| 1100005| true|      Jin-gu Academy|        4|35.17371| 129.0633| null|     null|      null|                   null|              null|            null|         null|                    null|               null|              null|   8|\n",
            "|            Busan|from other city| 1100006| true|       Itaewon Clubs|        4|       -|        -| null|     null|      null|                   null|              null|            null|         null|                    null|               null|              null|   8|\n",
            "|            Busan|from other city| 1100007| true|Cheongdo Daenam H...|        1|       -|        -| null|     null|      null|                   null|              null|            null|         null|                    null|               null|              null|  10|\n",
            "|Chungcheongbuk-do|              -| 4000005|false|     overseas inflow|       13|       -|        -| null|     null|      null|                   null|              null|            null|         null|                    null|               null|              null|   1|\n",
            "|Chungcheongbuk-do|     Goesan-gun| 4000001| true|Goesan-gun Jangye...|       11|36.82422| 127.9552|40010| 36.81534|127.786651|                     14|                15|               1|         0.36|                   33.01|               16.5|                64|   2|\n",
            "|Chungcheongbuk-do|              -| 4000007|false|                 etc|       11|       -|        -| null|     null|      null|                   null|              null|            null|         null|                    null|               null|              null|   2|\n",
            "|Chungcheongbuk-do|from other city| 4000002| true|       Itaewon Clubs|        9|       -|        -| null|     null|      null|                   null|              null|            null|         null|                    null|               null|              null|   4|\n",
            "|Chungcheongbuk-do|              -| 4000006|false|contact with patient|        8|       -|        -| null|     null|      null|                   null|              null|            null|         null|                    null|               null|              null|   5|\n",
            "|Chungcheongbuk-do|from other city| 4000004| true|  Shincheonji Church|        6|       -|        -| null|     null|      null|                   null|              null|            null|         null|                    null|               null|              null|   6|\n",
            "|Chungcheongbuk-do|from other city| 4000003| true| Guro-gu Call Center|        2|       -|        -| null|     null|      null|                   null|              null|            null|         null|                    null|               null|              null|   7|\n",
            "|Chungcheongnam-do|     Cheonan-si| 4100001| true|gym facility in C...|      103|36.81503| 127.1139|41120| 36.81498|127.113868|                     75|               112|               6|         1.91|                   10.42|                4.5|              1069|   1|\n",
            "|Chungcheongnam-do|              -| 4100006|false|     overseas inflow|       16|       -|        -| null|     null|      null|                   null|              null|            null|         null|                    null|               null|              null|   2|\n",
            "|Chungcheongnam-do|              -| 4100008|false|                 etc|       12|       -|        -| null|     null|      null|                   null|              null|            null|         null|                    null|               null|              null|   3|\n",
            "+-----------------+---------------+--------+-----+--------------------+---------+--------+---------+-----+---------+----------+-----------------------+------------------+----------------+-------------+------------------------+-------------------+------------------+----+\n",
            "only showing top 20 rows\n",
            "\n"
          ]
        }
      ]
    },
    {
      "cell_type": "code",
      "source": [
        "cases.printSchema()"
      ],
      "metadata": {
        "colab": {
          "base_uri": "https://localhost:8080/"
        },
        "id": "t1jdQGjYyS8V",
        "outputId": "400faa10-c1b3-42af-e669-be90f91289ac"
      },
      "execution_count": 78,
      "outputs": [
        {
          "output_type": "stream",
          "name": "stdout",
          "text": [
            "root\n",
            " |-- province: string (nullable = true)\n",
            " |-- city: string (nullable = true)\n",
            " |--  case_id: integer (nullable = true)\n",
            " |-- group: boolean (nullable = true)\n",
            " |-- infection_case: string (nullable = true)\n",
            " |-- confirmed: integer (nullable = true)\n",
            " |-- latitude: string (nullable = true)\n",
            " |-- longitude: string (nullable = true)\n",
            " |-- code: integer (nullable = true)\n",
            " |-- latitude: double (nullable = true)\n",
            " |-- longitude: double (nullable = true)\n",
            " |-- elementary_school_count: integer (nullable = true)\n",
            " |-- kindergarten_count: integer (nullable = true)\n",
            " |-- university_count: integer (nullable = true)\n",
            " |-- academy_ratio: double (nullable = true)\n",
            " |-- elderly_population_ratio: double (nullable = true)\n",
            " |-- elderly_alone_ratio: double (nullable = true)\n",
            " |-- nursing_home_count: integer (nullable = true)\n",
            "\n"
          ]
        }
      ]
    },
    {
      "cell_type": "code",
      "source": [
        "timeprovince.printSchema()"
      ],
      "metadata": {
        "colab": {
          "base_uri": "https://localhost:8080/"
        },
        "id": "KwJTUn0-yf4J",
        "outputId": "6bfb7cea-d883-46b3-e355-108754d479b8"
      },
      "execution_count": 79,
      "outputs": [
        {
          "output_type": "stream",
          "name": "stdout",
          "text": [
            "root\n",
            " |-- date: timestamp (nullable = true)\n",
            " |-- time: integer (nullable = true)\n",
            " |-- province: string (nullable = true)\n",
            " |-- confirmed: integer (nullable = true)\n",
            " |-- released: integer (nullable = true)\n",
            " |-- deceased: integer (nullable = true)\n",
            "\n"
          ]
        }
      ]
    },
    {
      "cell_type": "code",
      "source": [
        "WindowSpec = Window().partitionBy(['province']).orderBy('date')\n",
        "timeprovinceWithLag = timeprovince.withColumn(\"lag_7\",F.lag('confirmed',7).over(WindowSpec))"
      ],
      "metadata": {
        "id": "gDIYYDScwi4u"
      },
      "execution_count": 86,
      "outputs": []
    },
    {
      "cell_type": "code",
      "source": [
        "timeprovinceWithLag.show()"
      ],
      "metadata": {
        "colab": {
          "base_uri": "https://localhost:8080/"
        },
        "id": "EXXXKFXvzaq6",
        "outputId": "1caa258c-bc94-429a-8c36-148dd24ee1c6"
      },
      "execution_count": 87,
      "outputs": [
        {
          "output_type": "stream",
          "name": "stdout",
          "text": [
            "+-------------------+----+--------+---------+--------+--------+-----+\n",
            "|               date|time|province|confirmed|released|deceased|lag_7|\n",
            "+-------------------+----+--------+---------+--------+--------+-----+\n",
            "|2020-01-20 00:00:00|  16|   Busan|        0|       0|       0| null|\n",
            "|2020-01-21 00:00:00|  16|   Busan|        0|       0|       0| null|\n",
            "|2020-01-22 00:00:00|  16|   Busan|        0|       0|       0| null|\n",
            "|2020-01-23 00:00:00|  16|   Busan|        0|       0|       0| null|\n",
            "|2020-01-24 00:00:00|  16|   Busan|        0|       0|       0| null|\n",
            "|2020-01-25 00:00:00|  16|   Busan|        0|       0|       0| null|\n",
            "|2020-01-26 00:00:00|  16|   Busan|        0|       0|       0| null|\n",
            "|2020-01-27 00:00:00|  16|   Busan|        0|       0|       0|    0|\n",
            "|2020-01-28 00:00:00|  16|   Busan|        0|       0|       0|    0|\n",
            "|2020-01-29 00:00:00|  16|   Busan|        0|       0|       0|    0|\n",
            "|2020-01-30 00:00:00|  16|   Busan|        0|       0|       0|    0|\n",
            "|2020-01-31 00:00:00|  16|   Busan|        0|       0|       0|    0|\n",
            "|2020-02-01 00:00:00|  16|   Busan|        0|       0|       0|    0|\n",
            "|2020-02-02 00:00:00|  16|   Busan|        0|       0|       0|    0|\n",
            "|2020-02-03 00:00:00|  16|   Busan|        0|       0|       0|    0|\n",
            "|2020-02-04 00:00:00|  16|   Busan|        0|       0|       0|    0|\n",
            "|2020-02-05 00:00:00|  16|   Busan|        0|       0|       0|    0|\n",
            "|2020-02-06 00:00:00|  16|   Busan|        0|       0|       0|    0|\n",
            "|2020-02-07 00:00:00|  16|   Busan|        0|       0|       0|    0|\n",
            "|2020-02-08 00:00:00|  16|   Busan|        0|       0|       0|    0|\n",
            "+-------------------+----+--------+---------+--------+--------+-----+\n",
            "only showing top 20 rows\n",
            "\n"
          ]
        }
      ]
    },
    {
      "cell_type": "code",
      "source": [
        "timeprovinceWithLag.filter(timeprovinceWithLag.date>'2020-03-10').show()"
      ],
      "metadata": {
        "colab": {
          "base_uri": "https://localhost:8080/"
        },
        "id": "sZfphSVNzmyQ",
        "outputId": "cad87228-8ea1-45b1-c47c-5f4ea2c7c8f1"
      },
      "execution_count": 88,
      "outputs": [
        {
          "output_type": "stream",
          "name": "stdout",
          "text": [
            "+-------------------+----+--------+---------+--------+--------+-----+\n",
            "|               date|time|province|confirmed|released|deceased|lag_7|\n",
            "+-------------------+----+--------+---------+--------+--------+-----+\n",
            "|2020-03-11 00:00:00|   0|   Busan|       98|      21|       0|   92|\n",
            "|2020-03-12 00:00:00|   0|   Busan|       99|      29|       0|   92|\n",
            "|2020-03-13 00:00:00|   0|   Busan|      100|      36|       0|   95|\n",
            "|2020-03-14 00:00:00|   0|   Busan|      103|      40|       0|   96|\n",
            "|2020-03-15 00:00:00|   0|   Busan|      106|      52|       1|   96|\n",
            "|2020-03-16 00:00:00|   0|   Busan|      107|      53|       1|   96|\n",
            "|2020-03-17 00:00:00|   0|   Busan|      107|      54|       1|   96|\n",
            "|2020-03-18 00:00:00|   0|   Busan|      107|      58|       1|   98|\n",
            "|2020-03-19 00:00:00|   0|   Busan|      107|      58|       1|   99|\n",
            "|2020-03-20 00:00:00|   0|   Busan|      108|      60|       1|  100|\n",
            "|2020-03-21 00:00:00|   0|   Busan|      108|      67|       1|  103|\n",
            "|2020-03-22 00:00:00|   0|   Busan|      108|      69|       1|  106|\n",
            "|2020-03-23 00:00:00|   0|   Busan|      109|      71|       1|  107|\n",
            "|2020-03-24 00:00:00|   0|   Busan|      111|      71|       1|  107|\n",
            "|2020-03-25 00:00:00|   0|   Busan|      112|      73|       1|  107|\n",
            "|2020-03-26 00:00:00|   0|   Busan|      112|      75|       2|  107|\n",
            "|2020-03-27 00:00:00|   0|   Busan|      113|      81|       2|  108|\n",
            "|2020-03-28 00:00:00|   0|   Busan|      114|      81|       2|  108|\n",
            "|2020-03-29 00:00:00|   0|   Busan|      117|      85|       3|  108|\n",
            "|2020-03-30 00:00:00|   0|   Busan|      118|      87|       3|  109|\n",
            "+-------------------+----+--------+---------+--------+--------+-----+\n",
            "only showing top 20 rows\n",
            "\n"
          ]
        }
      ]
    },
    {
      "cell_type": "code",
      "source": [],
      "metadata": {
        "id": "IVkEgEIg0EU0"
      },
      "execution_count": null,
      "outputs": []
    },
    {
      "cell_type": "markdown",
      "source": [
        "Lead"
      ],
      "metadata": {
        "id": "rn13e0H21BI4"
      }
    },
    {
      "cell_type": "code",
      "source": [
        "WindowSpec = Window().partitionBy(['province']).orderBy('date')\n",
        "timeprovinceWithLead = timeprovince.withColumn(\"lead_7\",F.lead('confirmed',7).over(WindowSpec))"
      ],
      "metadata": {
        "id": "h3Iq0MwG1B_A"
      },
      "execution_count": 89,
      "outputs": []
    },
    {
      "cell_type": "code",
      "source": [
        "timeprovinceWithLead.filter(timeprovinceWithLead.date>\"2020-03-10\").show(30)"
      ],
      "metadata": {
        "colab": {
          "base_uri": "https://localhost:8080/"
        },
        "id": "XsfFs1Ph1bg9",
        "outputId": "51614ac6-0795-4d5f-d115-749ca2c58b65"
      },
      "execution_count": 92,
      "outputs": [
        {
          "output_type": "stream",
          "name": "stdout",
          "text": [
            "+-------------------+----+--------+---------+--------+--------+------+\n",
            "|               date|time|province|confirmed|released|deceased|lead_7|\n",
            "+-------------------+----+--------+---------+--------+--------+------+\n",
            "|2020-03-11 00:00:00|   0|   Busan|       98|      21|       0|   107|\n",
            "|2020-03-12 00:00:00|   0|   Busan|       99|      29|       0|   107|\n",
            "|2020-03-13 00:00:00|   0|   Busan|      100|      36|       0|   108|\n",
            "|2020-03-14 00:00:00|   0|   Busan|      103|      40|       0|   108|\n",
            "|2020-03-15 00:00:00|   0|   Busan|      106|      52|       1|   108|\n",
            "|2020-03-16 00:00:00|   0|   Busan|      107|      53|       1|   109|\n",
            "|2020-03-17 00:00:00|   0|   Busan|      107|      54|       1|   111|\n",
            "|2020-03-18 00:00:00|   0|   Busan|      107|      58|       1|   112|\n",
            "|2020-03-19 00:00:00|   0|   Busan|      107|      58|       1|   112|\n",
            "|2020-03-20 00:00:00|   0|   Busan|      108|      60|       1|   113|\n",
            "|2020-03-21 00:00:00|   0|   Busan|      108|      67|       1|   114|\n",
            "|2020-03-22 00:00:00|   0|   Busan|      108|      69|       1|   117|\n",
            "|2020-03-23 00:00:00|   0|   Busan|      109|      71|       1|   118|\n",
            "|2020-03-24 00:00:00|   0|   Busan|      111|      71|       1|   119|\n",
            "|2020-03-25 00:00:00|   0|   Busan|      112|      73|       1|   122|\n",
            "|2020-03-26 00:00:00|   0|   Busan|      112|      75|       2|   122|\n",
            "|2020-03-27 00:00:00|   0|   Busan|      113|      81|       2|   122|\n",
            "|2020-03-28 00:00:00|   0|   Busan|      114|      81|       2|   122|\n",
            "|2020-03-29 00:00:00|   0|   Busan|      117|      85|       3|   122|\n",
            "|2020-03-30 00:00:00|   0|   Busan|      118|      87|       3|   122|\n",
            "|2020-03-31 00:00:00|   0|   Busan|      119|      87|       3|   123|\n",
            "|2020-04-01 00:00:00|   0|   Busan|      122|      87|       3|   125|\n",
            "|2020-04-02 00:00:00|   0|   Busan|      122|      87|       3|   125|\n",
            "|2020-04-03 00:00:00|   0|   Busan|      122|      88|       3|   126|\n",
            "|2020-04-04 00:00:00|   0|   Busan|      122|      90|       3|   126|\n",
            "|2020-04-05 00:00:00|   0|   Busan|      122|      90|       3|   126|\n",
            "|2020-04-06 00:00:00|   0|   Busan|      122|      91|       3|   126|\n",
            "|2020-04-07 00:00:00|   0|   Busan|      123|      91|       3|   126|\n",
            "|2020-04-08 00:00:00|   0|   Busan|      125|      94|       3|   127|\n",
            "|2020-04-09 00:00:00|   0|   Busan|      125|      97|       3|   130|\n",
            "+-------------------+----+--------+---------+--------+--------+------+\n",
            "only showing top 30 rows\n",
            "\n"
          ]
        }
      ]
    },
    {
      "cell_type": "code",
      "source": [
        "simpleData = ((\"James\", \"Sales\", 3000), \\\n",
        "    (\"Michael\", \"Sales\", 4600),  \\\n",
        "    (\"Robert\", \"Sales\", 4100),   \\\n",
        "    (\"Maria\", \"Finance\", 3000),  \\\n",
        "    (\"James\", \"Sales\", 3000),    \\\n",
        "    (\"Scott\", \"Finance\", 3300),  \\\n",
        "    (\"Jen\", \"Finance\", 3900),    \\\n",
        "    (\"Jeff\", \"Marketing\", 3000), \\\n",
        "    (\"Kumar\", \"Marketing\", 2000),\\\n",
        "    (\"Saif\", \"Sales\", 4100) \\\n",
        "  )\n",
        " \n",
        "columns= [\"employee_name\", \"department\", \"salary\"]"
      ],
      "metadata": {
        "id": "uTFNYC0M1nvQ"
      },
      "execution_count": 93,
      "outputs": []
    },
    {
      "cell_type": "code",
      "source": [
        "df = spark.createDataFrame(data =simpleData, schema=columns)"
      ],
      "metadata": {
        "id": "BG84U5np3FV7"
      },
      "execution_count": 94,
      "outputs": []
    },
    {
      "cell_type": "code",
      "source": [
        "df.printSchema()"
      ],
      "metadata": {
        "colab": {
          "base_uri": "https://localhost:8080/"
        },
        "id": "vHsgMz_J3RBr",
        "outputId": "ddb09888-c01c-4f49-c565-546eb071558e"
      },
      "execution_count": 95,
      "outputs": [
        {
          "output_type": "stream",
          "name": "stdout",
          "text": [
            "root\n",
            " |-- employee_name: string (nullable = true)\n",
            " |-- department: string (nullable = true)\n",
            " |-- salary: long (nullable = true)\n",
            "\n"
          ]
        }
      ]
    },
    {
      "cell_type": "code",
      "source": [
        "df.show()"
      ],
      "metadata": {
        "colab": {
          "base_uri": "https://localhost:8080/"
        },
        "id": "6xFg3fsi3zr6",
        "outputId": "a01c7991-c487-4570-833c-9392b752f00c"
      },
      "execution_count": 97,
      "outputs": [
        {
          "output_type": "stream",
          "name": "stdout",
          "text": [
            "+-------------+----------+------+\n",
            "|employee_name|department|salary|\n",
            "+-------------+----------+------+\n",
            "|        James|     Sales|  3000|\n",
            "|      Michael|     Sales|  4600|\n",
            "|       Robert|     Sales|  4100|\n",
            "|        Maria|   Finance|  3000|\n",
            "|        James|     Sales|  3000|\n",
            "|        Scott|   Finance|  3300|\n",
            "|          Jen|   Finance|  3900|\n",
            "|         Jeff| Marketing|  3000|\n",
            "|        Kumar| Marketing|  2000|\n",
            "|         Saif|     Sales|  4100|\n",
            "+-------------+----------+------+\n",
            "\n"
          ]
        }
      ]
    },
    {
      "cell_type": "code",
      "source": [
        "from pyspark.sql.functions import row_number"
      ],
      "metadata": {
        "id": "ovkKNjUO3VDq"
      },
      "execution_count": 96,
      "outputs": []
    },
    {
      "cell_type": "code",
      "source": [
        "WindowSpec = Window().partitionBy('department').orderBy('salary')\n",
        "\n",
        "df.withColumn(\"row_number\", row_number().over(WindowSpec)).show(truncate=False)\n",
        "df.withColumn(\"rank\", rank().over(WindowSpec)).show(truncate=False)"
      ],
      "metadata": {
        "colab": {
          "base_uri": "https://localhost:8080/"
        },
        "id": "YFC29iKF3ud3",
        "outputId": "088ff557-2b5a-4020-a495-b7196f32ec13"
      },
      "execution_count": 101,
      "outputs": [
        {
          "output_type": "stream",
          "name": "stdout",
          "text": [
            "+-------------+----------+------+----------+\n",
            "|employee_name|department|salary|row_number|\n",
            "+-------------+----------+------+----------+\n",
            "|Maria        |Finance   |3000  |1         |\n",
            "|Scott        |Finance   |3300  |2         |\n",
            "|Jen          |Finance   |3900  |3         |\n",
            "|Kumar        |Marketing |2000  |1         |\n",
            "|Jeff         |Marketing |3000  |2         |\n",
            "|James        |Sales     |3000  |1         |\n",
            "|James        |Sales     |3000  |2         |\n",
            "|Robert       |Sales     |4100  |3         |\n",
            "|Saif         |Sales     |4100  |4         |\n",
            "|Michael      |Sales     |4600  |5         |\n",
            "+-------------+----------+------+----------+\n",
            "\n",
            "+-------------+----------+------+----+\n",
            "|employee_name|department|salary|rank|\n",
            "+-------------+----------+------+----+\n",
            "|Maria        |Finance   |3000  |1   |\n",
            "|Scott        |Finance   |3300  |2   |\n",
            "|Jen          |Finance   |3900  |3   |\n",
            "|Kumar        |Marketing |2000  |1   |\n",
            "|Jeff         |Marketing |3000  |2   |\n",
            "|James        |Sales     |3000  |1   |\n",
            "|James        |Sales     |3000  |1   |\n",
            "|Robert       |Sales     |4100  |3   |\n",
            "|Saif         |Sales     |4100  |3   |\n",
            "|Michael      |Sales     |4600  |5   |\n",
            "+-------------+----------+------+----+\n",
            "\n"
          ]
        }
      ]
    },
    {
      "cell_type": "code",
      "source": [
        "from pyspark.sql.functions import dense_rank\n",
        "WindowSpec = Window().partitionBy('department').orderBy('salary')\n",
        "df.withColumn(\"rank\", rank().over(WindowSpec)).show(truncate=False)\n",
        "df.withColumn(\"dense_Rank\", dense_rank().over(WindowSpec)).show(truncate=False)"
      ],
      "metadata": {
        "colab": {
          "base_uri": "https://localhost:8080/"
        },
        "id": "c5SYyCe04PoS",
        "outputId": "c3ba39b5-1e16-4e34-8582-01b43708cb72"
      },
      "execution_count": 103,
      "outputs": [
        {
          "output_type": "stream",
          "name": "stdout",
          "text": [
            "+-------------+----------+------+----+\n",
            "|employee_name|department|salary|rank|\n",
            "+-------------+----------+------+----+\n",
            "|Maria        |Finance   |3000  |1   |\n",
            "|Scott        |Finance   |3300  |2   |\n",
            "|Jen          |Finance   |3900  |3   |\n",
            "|Kumar        |Marketing |2000  |1   |\n",
            "|Jeff         |Marketing |3000  |2   |\n",
            "|James        |Sales     |3000  |1   |\n",
            "|James        |Sales     |3000  |1   |\n",
            "|Robert       |Sales     |4100  |3   |\n",
            "|Saif         |Sales     |4100  |3   |\n",
            "|Michael      |Sales     |4600  |5   |\n",
            "+-------------+----------+------+----+\n",
            "\n",
            "+-------------+----------+------+----------+\n",
            "|employee_name|department|salary|dense_Rank|\n",
            "+-------------+----------+------+----------+\n",
            "|Maria        |Finance   |3000  |1         |\n",
            "|Scott        |Finance   |3300  |2         |\n",
            "|Jen          |Finance   |3900  |3         |\n",
            "|Kumar        |Marketing |2000  |1         |\n",
            "|Jeff         |Marketing |3000  |2         |\n",
            "|James        |Sales     |3000  |1         |\n",
            "|James        |Sales     |3000  |1         |\n",
            "|Robert       |Sales     |4100  |2         |\n",
            "|Saif         |Sales     |4100  |2         |\n",
            "|Michael      |Sales     |4600  |3         |\n",
            "+-------------+----------+------+----------+\n",
            "\n"
          ]
        }
      ]
    },
    {
      "cell_type": "code",
      "source": [
        "from pyspark.sql.functions import percent_rank\n",
        "WindowSpec = Window().partitionBy('department').orderBy('salary')\n",
        "df.withColumn(\"PErcent_rank\", percent_rank().over(WindowSpec)).show(truncate=False)"
      ],
      "metadata": {
        "colab": {
          "base_uri": "https://localhost:8080/"
        },
        "id": "BPNQbfbX5Zwm",
        "outputId": "d87e3f30-e295-4a87-cc99-26ec0827fb2a"
      },
      "execution_count": 104,
      "outputs": [
        {
          "output_type": "stream",
          "name": "stdout",
          "text": [
            "+-------------+----------+------+------------+\n",
            "|employee_name|department|salary|PErcent_rank|\n",
            "+-------------+----------+------+------------+\n",
            "|Maria        |Finance   |3000  |0.0         |\n",
            "|Scott        |Finance   |3300  |0.5         |\n",
            "|Jen          |Finance   |3900  |1.0         |\n",
            "|Kumar        |Marketing |2000  |0.0         |\n",
            "|Jeff         |Marketing |3000  |1.0         |\n",
            "|James        |Sales     |3000  |0.0         |\n",
            "|James        |Sales     |3000  |0.0         |\n",
            "|Robert       |Sales     |4100  |0.5         |\n",
            "|Saif         |Sales     |4100  |0.5         |\n",
            "|Michael      |Sales     |4600  |1.0         |\n",
            "+-------------+----------+------+------------+\n",
            "\n"
          ]
        }
      ]
    },
    {
      "cell_type": "code",
      "source": [
        "from pyspark.sql.functions import ntile\n",
        "WindowSpec = Window().partitionBy('department').orderBy('salary')\n",
        "df.withColumn(\"N_tile\", ntile(2).over(WindowSpec)).show(truncate=False)"
      ],
      "metadata": {
        "colab": {
          "base_uri": "https://localhost:8080/"
        },
        "id": "tL1629O_6dui",
        "outputId": "a5f87389-2159-499b-de8a-b6856934383a"
      },
      "execution_count": 109,
      "outputs": [
        {
          "output_type": "stream",
          "name": "stdout",
          "text": [
            "+-------------+----------+------+------+\n",
            "|employee_name|department|salary|N_tile|\n",
            "+-------------+----------+------+------+\n",
            "|Maria        |Finance   |3000  |1     |\n",
            "|Scott        |Finance   |3300  |1     |\n",
            "|Jen          |Finance   |3900  |2     |\n",
            "|Kumar        |Marketing |2000  |1     |\n",
            "|Jeff         |Marketing |3000  |2     |\n",
            "|James        |Sales     |3000  |1     |\n",
            "|James        |Sales     |3000  |1     |\n",
            "|Robert       |Sales     |4100  |1     |\n",
            "|Saif         |Sales     |4100  |2     |\n",
            "|Michael      |Sales     |4600  |2     |\n",
            "+-------------+----------+------+------+\n",
            "\n"
          ]
        }
      ]
    },
    {
      "cell_type": "code",
      "source": [
        "from pyspark.sql.functions import cume_dist\n",
        "df.withColumn(\"PErcent_rank\", percent_rank().over(WindowSpec)).show(truncate=False)\n",
        "df.withColumn(\"CUME_DIST\", cume_dist().over(WindowSpec)).show(truncate=False)"
      ],
      "metadata": {
        "colab": {
          "base_uri": "https://localhost:8080/"
        },
        "id": "ebnOZSfx7H5p",
        "outputId": "8d327dc9-ed8e-4119-de61-c70687998f9a"
      },
      "execution_count": 112,
      "outputs": [
        {
          "output_type": "stream",
          "name": "stdout",
          "text": [
            "+-------------+----------+------+------------+\n",
            "|employee_name|department|salary|PErcent_rank|\n",
            "+-------------+----------+------+------------+\n",
            "|Maria        |Finance   |3000  |0.0         |\n",
            "|Scott        |Finance   |3300  |0.5         |\n",
            "|Jen          |Finance   |3900  |1.0         |\n",
            "|Kumar        |Marketing |2000  |0.0         |\n",
            "|Jeff         |Marketing |3000  |1.0         |\n",
            "|James        |Sales     |3000  |0.0         |\n",
            "|James        |Sales     |3000  |0.0         |\n",
            "|Robert       |Sales     |4100  |0.5         |\n",
            "|Saif         |Sales     |4100  |0.5         |\n",
            "|Michael      |Sales     |4600  |1.0         |\n",
            "+-------------+----------+------+------------+\n",
            "\n",
            "+-------------+----------+------+------------------+\n",
            "|employee_name|department|salary|CUME_DIST         |\n",
            "+-------------+----------+------+------------------+\n",
            "|Maria        |Finance   |3000  |0.3333333333333333|\n",
            "|Scott        |Finance   |3300  |0.6666666666666666|\n",
            "|Jen          |Finance   |3900  |1.0               |\n",
            "|Kumar        |Marketing |2000  |0.5               |\n",
            "|Jeff         |Marketing |3000  |1.0               |\n",
            "|James        |Sales     |3000  |0.4               |\n",
            "|James        |Sales     |3000  |0.4               |\n",
            "|Robert       |Sales     |4100  |0.8               |\n",
            "|Saif         |Sales     |4100  |0.8               |\n",
            "|Michael      |Sales     |4600  |1.0               |\n",
            "+-------------+----------+------+------------------+\n",
            "\n"
          ]
        }
      ]
    },
    {
      "cell_type": "code",
      "source": [
        "df.withColumn(\"Lag\",lag('salary',2).over(WindowSpec)).show(truncate=False)"
      ],
      "metadata": {
        "colab": {
          "base_uri": "https://localhost:8080/"
        },
        "id": "ylVQA21s8Hya",
        "outputId": "9071706f-76fe-4271-a5e9-5c16c4646e07"
      },
      "execution_count": 114,
      "outputs": [
        {
          "output_type": "stream",
          "name": "stdout",
          "text": [
            "+-------------+----------+------+----+\n",
            "|employee_name|department|salary|Lag |\n",
            "+-------------+----------+------+----+\n",
            "|Maria        |Finance   |3000  |null|\n",
            "|Scott        |Finance   |3300  |null|\n",
            "|Jen          |Finance   |3900  |3000|\n",
            "|Kumar        |Marketing |2000  |null|\n",
            "|Jeff         |Marketing |3000  |null|\n",
            "|James        |Sales     |3000  |null|\n",
            "|James        |Sales     |3000  |null|\n",
            "|Robert       |Sales     |4100  |3000|\n",
            "|Saif         |Sales     |4100  |3000|\n",
            "|Michael      |Sales     |4600  |4100|\n",
            "+-------------+----------+------+----+\n",
            "\n"
          ]
        }
      ]
    },
    {
      "cell_type": "code",
      "source": [
        "df.withColumn(\"Lead\",lead('salary',2).over(WindowSpec)).show()"
      ],
      "metadata": {
        "colab": {
          "base_uri": "https://localhost:8080/"
        },
        "id": "KjOsfarM9PfL",
        "outputId": "da79361f-b43e-4dc6-abfb-d2422441a27d"
      },
      "execution_count": 117,
      "outputs": [
        {
          "output_type": "stream",
          "name": "stdout",
          "text": [
            "+-------------+----------+------+----+\n",
            "|employee_name|department|salary|Lead|\n",
            "+-------------+----------+------+----+\n",
            "|        Maria|   Finance|  3000|3900|\n",
            "|        Scott|   Finance|  3300|null|\n",
            "|          Jen|   Finance|  3900|null|\n",
            "|        Kumar| Marketing|  2000|null|\n",
            "|         Jeff| Marketing|  3000|null|\n",
            "|        James|     Sales|  3000|4100|\n",
            "|        James|     Sales|  3000|4100|\n",
            "|       Robert|     Sales|  4100|4600|\n",
            "|         Saif|     Sales|  4100|null|\n",
            "|      Michael|     Sales|  4600|null|\n",
            "+-------------+----------+------+----+\n",
            "\n"
          ]
        }
      ]
    },
    {
      "cell_type": "code",
      "source": [
        "from pyspark.sql.functions import col,avg,sum,min,max,row_number,rank,dense_rank\n",
        "\n",
        "df.withColumn('row',row_number().over(WindowSpec)) \\\n",
        "  .withColumn('avg',avg(col(\"salary\")).over(WindowSpec)) \\\n",
        "  .withColumn('sum',sum(col('salary')).over(WindowSpec)) \\\n",
        "  .withColumn('min',min(col(\"salary\")).over(WindowSpec)) \\\n",
        "  .withColumn('max',max(col('salary')).over(WindowSpec)) \\\n",
        "  .withColumn('rank',rank().over(WindowSpec)) \\\n",
        "  .withColumn(\"Lag\",lag('salary',2).over(WindowSpec))\\\n",
        "  .withColumn(\"Lead\",lead('salary',2).over(WindowSpec))\\\n",
        "  .withColumn('dense_rank',dense_rank().over(WindowSpec)).show()"
      ],
      "metadata": {
        "colab": {
          "base_uri": "https://localhost:8080/"
        },
        "id": "UgXVnoXZ9zBw",
        "outputId": "0c090b6c-ee92-4aa6-e5b2-454d467cf287"
      },
      "execution_count": 127,
      "outputs": [
        {
          "output_type": "stream",
          "name": "stdout",
          "text": [
            "+-------------+----------+------+---+------+-----+----+----+----+----+----+----------+\n",
            "|employee_name|department|salary|row|   avg|  sum| min| max|rank| Lag|Lead|dense_rank|\n",
            "+-------------+----------+------+---+------+-----+----+----+----+----+----+----------+\n",
            "|        Maria|   Finance|  3000|  1|3000.0| 3000|3000|3000|   1|null|3900|         1|\n",
            "|        Scott|   Finance|  3300|  2|3150.0| 6300|3000|3300|   2|null|null|         2|\n",
            "|          Jen|   Finance|  3900|  3|3400.0|10200|3000|3900|   3|3000|null|         3|\n",
            "|        Kumar| Marketing|  2000|  1|2000.0| 2000|2000|2000|   1|null|null|         1|\n",
            "|         Jeff| Marketing|  3000|  2|2500.0| 5000|2000|3000|   2|null|null|         2|\n",
            "|        James|     Sales|  3000|  1|3000.0| 6000|3000|3000|   1|null|4100|         1|\n",
            "|        James|     Sales|  3000|  2|3000.0| 6000|3000|3000|   1|null|4100|         1|\n",
            "|       Robert|     Sales|  4100|  3|3550.0|14200|3000|4100|   3|3000|4600|         2|\n",
            "|         Saif|     Sales|  4100|  4|3550.0|14200|3000|4100|   3|3000|null|         2|\n",
            "|      Michael|     Sales|  4600|  5|3760.0|18800|3000|4600|   5|4100|null|         3|\n",
            "+-------------+----------+------+---+------+-----+----+----+----+----+----+----------+\n",
            "\n"
          ]
        }
      ]
    },
    {
      "cell_type": "code",
      "source": [
        "."
      ],
      "metadata": {
        "id": "DqcWpou8-84V"
      },
      "execution_count": null,
      "outputs": []
    }
  ]
}