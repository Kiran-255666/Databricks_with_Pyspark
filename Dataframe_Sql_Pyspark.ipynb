{
  "nbformat": 4,
  "nbformat_minor": 0,
  "metadata": {
    "colab": {
      "provenance": []
    },
    "kernelspec": {
      "name": "python3",
      "display_name": "Python 3"
    },
    "language_info": {
      "name": "python"
    }
  },
  "cells": [
    {
      "cell_type": "code",
      "execution_count": 1,
      "metadata": {
        "colab": {
          "base_uri": "https://localhost:8080/"
        },
        "id": "OoPPlguziBbm",
        "outputId": "8d0fe9c2-7e37-488f-8455-d8599ae18999"
      },
      "outputs": [
        {
          "output_type": "stream",
          "name": "stdout",
          "text": [
            "Looking in indexes: https://pypi.org/simple, https://us-python.pkg.dev/colab-wheels/public/simple/\n",
            "Collecting pyspark\n",
            "  Downloading pyspark-3.3.1.tar.gz (281.4 MB)\n",
            "\u001b[K     |████████████████████████████████| 281.4 MB 44 kB/s \n",
            "\u001b[?25hCollecting py4j==0.10.9.5\n",
            "  Downloading py4j-0.10.9.5-py2.py3-none-any.whl (199 kB)\n",
            "\u001b[K     |████████████████████████████████| 199 kB 49.0 MB/s \n",
            "\u001b[?25hBuilding wheels for collected packages: pyspark\n",
            "  Building wheel for pyspark (setup.py) ... \u001b[?25l\u001b[?25hdone\n",
            "  Created wheel for pyspark: filename=pyspark-3.3.1-py2.py3-none-any.whl size=281845512 sha256=daac84d234ee64a2ca8ff9df6565408bf1f2ed69699e4ba5bc96ed5a1d027515\n",
            "  Stored in directory: /root/.cache/pip/wheels/43/dc/11/ec201cd671da62fa9c5cc77078235e40722170ceba231d7598\n",
            "Successfully built pyspark\n",
            "Installing collected packages: py4j, pyspark\n",
            "Successfully installed py4j-0.10.9.5 pyspark-3.3.1\n"
          ]
        }
      ],
      "source": [
        "!pip install pyspark\n"
      ]
    },
    {
      "cell_type": "code",
      "source": [
        "import pyspark\n",
        "import pandas as pd\n",
        "import numpy as np\n",
        "from datetime import date,timedelta, datetime"
      ],
      "metadata": {
        "id": "KP0NJw0FjIVS"
      },
      "execution_count": 6,
      "outputs": []
    },
    {
      "cell_type": "code",
      "source": [
        "from pyspark.sql import SparkSession, SQLContext\n",
        "\n",
        "from pyspark.sql.functions import *\n",
        "from pyspark.sql.types import *\n"
      ],
      "metadata": {
        "id": "JdRASnvQjbKv"
      },
      "execution_count": 10,
      "outputs": []
    },
    {
      "cell_type": "code",
      "source": [
        "sc = SparkSession.builder.appName('Pyspark').config(\"spark.sql.shuffle.partitions\",\"50\").config(\"spark.driver.maxResults\",\"5g\").getOrCreate()"
      ],
      "metadata": {
        "id": "Rbac2ftNkU-G"
      },
      "execution_count": 13,
      "outputs": []
    },
    {
      "cell_type": "code",
      "source": [
        "sc"
      ],
      "metadata": {
        "colab": {
          "base_uri": "https://localhost:8080/",
          "height": 219
        },
        "id": "Bz90g9-RlJK0",
        "outputId": "c6373e4d-4122-447c-a96c-c2a52b1ea40f"
      },
      "execution_count": 14,
      "outputs": [
        {
          "output_type": "execute_result",
          "data": {
            "text/plain": [
              "<pyspark.sql.session.SparkSession at 0x7f39d3509490>"
            ],
            "text/html": [
              "\n",
              "            <div>\n",
              "                <p><b>SparkSession - in-memory</b></p>\n",
              "                \n",
              "        <div>\n",
              "            <p><b>SparkContext</b></p>\n",
              "\n",
              "            <p><a href=\"http://c1c1ddc35c52:4040\">Spark UI</a></p>\n",
              "\n",
              "            <dl>\n",
              "              <dt>Version</dt>\n",
              "                <dd><code>v3.3.1</code></dd>\n",
              "              <dt>Master</dt>\n",
              "                <dd><code>local[*]</code></dd>\n",
              "              <dt>AppName</dt>\n",
              "                <dd><code>Pyspark</code></dd>\n",
              "            </dl>\n",
              "        </div>\n",
              "        \n",
              "            </div>\n",
              "        "
            ]
          },
          "metadata": {},
          "execution_count": 14
        }
      ]
    },
    {
      "cell_type": "code",
      "source": [
        "#reading json file\n",
        "dataframe = sc.read.json('nyt2.json')"
      ],
      "metadata": {
        "id": "wfhA1lsQlNf7"
      },
      "execution_count": 16,
      "outputs": []
    },
    {
      "cell_type": "code",
      "source": [
        "# Look at the data\n",
        "\n",
        "dataframe.show(10)"
      ],
      "metadata": {
        "colab": {
          "base_uri": "https://localhost:8080/"
        },
        "id": "NzPt9N9llcLu",
        "outputId": "f04cc1ab-82f7-47f6-bc12-e6897c2e4371"
      },
      "execution_count": 17,
      "outputs": [
        {
          "output_type": "stream",
          "name": "stdout",
          "text": [
            "+--------------------+--------------------+--------------------+-----------------+--------------------+-------------+-----------------+-------------+----+--------------+--------------------+-------------+\n",
            "|                 _id|  amazon_product_url|              author| bestsellers_date|         description|        price|   published_date|    publisher|rank|rank_last_week|               title|weeks_on_list|\n",
            "+--------------------+--------------------+--------------------+-----------------+--------------------+-------------+-----------------+-------------+----+--------------+--------------------+-------------+\n",
            "|{5b4aa4ead3089013...|http://www.amazon...|       Dean R Koontz|{{1211587200000}}|Odd Thomas, who c...|   {null, 27}|{{1212883200000}}|       Bantam| {1}|           {0}|           ODD HOURS|          {1}|\n",
            "|{5b4aa4ead3089013...|http://www.amazon...|     Stephenie Meyer|{{1211587200000}}|Aliens have taken...|{25.99, null}|{{1212883200000}}|Little, Brown| {2}|           {1}|            THE HOST|          {3}|\n",
            "|{5b4aa4ead3089013...|http://www.amazon...|        Emily Giffin|{{1211587200000}}|A woman's happy m...|{24.95, null}|{{1212883200000}}| St. Martin's| {3}|           {2}|LOVE THE ONE YOU'...|          {2}|\n",
            "|{5b4aa4ead3089013...|http://www.amazon...|   Patricia Cornwell|{{1211587200000}}|A Massachusetts s...|{22.95, null}|{{1212883200000}}|       Putnam| {4}|           {0}|           THE FRONT|          {1}|\n",
            "|{5b4aa4ead3089013...|http://www.amazon...|     Chuck Palahniuk|{{1211587200000}}|An aging porn que...|{24.95, null}|{{1212883200000}}|    Doubleday| {5}|           {0}|               SNUFF|          {1}|\n",
            "|{5b4aa4ead3089013...|http://www.amazon...|James Patterson a...|{{1211587200000}}|A woman finds an ...|{24.99, null}|{{1212883200000}}|Little, Brown| {6}|           {3}|SUNDAYS AT TIFFANY’S|          {4}|\n",
            "|{5b4aa4ead3089013...|http://www.amazon...|       John Sandford|{{1211587200000}}|The Minneapolis d...|{26.95, null}|{{1212883200000}}|       Putnam| {7}|           {4}|        PHANTOM PREY|          {3}|\n",
            "|{5b4aa4ead3089013...|http://www.amazon...|       Jimmy Buffett|{{1211587200000}}|A Southern family...|{21.99, null}|{{1212883200000}}|Little, Brown| {8}|           {6}|          SWINE NOT?|          {2}|\n",
            "|{5b4aa4ead3089013...|http://www.amazon...|    Elizabeth George|{{1211587200000}}|In Cornwall, tryi...|{27.95, null}|{{1212883200000}}|       Harper| {9}|           {8}|     CARELESS IN RED|          {3}|\n",
            "|{5b4aa4ead3089013...|http://www.amazon...|      David Baldacci|{{1211587200000}}|An intelligence a...|{26.99, null}|{{1212883200000}}|Grand Central|{10}|           {7}|     THE WHOLE TRUTH|          {5}|\n",
            "+--------------------+--------------------+--------------------+-----------------+--------------------+-------------+-----------------+-------------+----+--------------+--------------------+-------------+\n",
            "only showing top 10 rows\n",
            "\n"
          ]
        }
      ]
    },
    {
      "cell_type": "code",
      "source": [
        "#simple data inspection"
      ],
      "metadata": {
        "id": "pGHnLcXylo92"
      },
      "execution_count": 18,
      "outputs": []
    },
    {
      "cell_type": "code",
      "source": [
        "#Returns the columnname and Datatypes\n",
        "\n",
        "dataframe.dtypes"
      ],
      "metadata": {
        "colab": {
          "base_uri": "https://localhost:8080/"
        },
        "id": "6Bmw5cX-l1zj",
        "outputId": "7df35149-0bcd-4b10-c147-b2d84413e433"
      },
      "execution_count": 19,
      "outputs": [
        {
          "output_type": "execute_result",
          "data": {
            "text/plain": [
              "[('_id', 'struct<$oid:string>'),\n",
              " ('amazon_product_url', 'string'),\n",
              " ('author', 'string'),\n",
              " ('bestsellers_date', 'struct<$date:struct<$numberLong:string>>'),\n",
              " ('description', 'string'),\n",
              " ('price', 'struct<$numberDouble:string,$numberInt:string>'),\n",
              " ('published_date', 'struct<$date:struct<$numberLong:string>>'),\n",
              " ('publisher', 'string'),\n",
              " ('rank', 'struct<$numberInt:string>'),\n",
              " ('rank_last_week', 'struct<$numberInt:string>'),\n",
              " ('title', 'string'),\n",
              " ('weeks_on_list', 'struct<$numberInt:string>')]"
            ]
          },
          "metadata": {},
          "execution_count": 19
        }
      ]
    },
    {
      "cell_type": "code",
      "source": [
        "#display whole data\n",
        "\n",
        "dataframe.show()"
      ],
      "metadata": {
        "colab": {
          "base_uri": "https://localhost:8080/"
        },
        "id": "J-73xKxVmB6N",
        "outputId": "f34627b0-f0e2-4833-f169-36e1e31a9593"
      },
      "execution_count": 20,
      "outputs": [
        {
          "output_type": "stream",
          "name": "stdout",
          "text": [
            "+--------------------+--------------------+--------------------+-----------------+--------------------+-------------+-----------------+--------------------+----+--------------+--------------------+-------------+\n",
            "|                 _id|  amazon_product_url|              author| bestsellers_date|         description|        price|   published_date|           publisher|rank|rank_last_week|               title|weeks_on_list|\n",
            "+--------------------+--------------------+--------------------+-----------------+--------------------+-------------+-----------------+--------------------+----+--------------+--------------------+-------------+\n",
            "|{5b4aa4ead3089013...|http://www.amazon...|       Dean R Koontz|{{1211587200000}}|Odd Thomas, who c...|   {null, 27}|{{1212883200000}}|              Bantam| {1}|           {0}|           ODD HOURS|          {1}|\n",
            "|{5b4aa4ead3089013...|http://www.amazon...|     Stephenie Meyer|{{1211587200000}}|Aliens have taken...|{25.99, null}|{{1212883200000}}|       Little, Brown| {2}|           {1}|            THE HOST|          {3}|\n",
            "|{5b4aa4ead3089013...|http://www.amazon...|        Emily Giffin|{{1211587200000}}|A woman's happy m...|{24.95, null}|{{1212883200000}}|        St. Martin's| {3}|           {2}|LOVE THE ONE YOU'...|          {2}|\n",
            "|{5b4aa4ead3089013...|http://www.amazon...|   Patricia Cornwell|{{1211587200000}}|A Massachusetts s...|{22.95, null}|{{1212883200000}}|              Putnam| {4}|           {0}|           THE FRONT|          {1}|\n",
            "|{5b4aa4ead3089013...|http://www.amazon...|     Chuck Palahniuk|{{1211587200000}}|An aging porn que...|{24.95, null}|{{1212883200000}}|           Doubleday| {5}|           {0}|               SNUFF|          {1}|\n",
            "|{5b4aa4ead3089013...|http://www.amazon...|James Patterson a...|{{1211587200000}}|A woman finds an ...|{24.99, null}|{{1212883200000}}|       Little, Brown| {6}|           {3}|SUNDAYS AT TIFFANY’S|          {4}|\n",
            "|{5b4aa4ead3089013...|http://www.amazon...|       John Sandford|{{1211587200000}}|The Minneapolis d...|{26.95, null}|{{1212883200000}}|              Putnam| {7}|           {4}|        PHANTOM PREY|          {3}|\n",
            "|{5b4aa4ead3089013...|http://www.amazon...|       Jimmy Buffett|{{1211587200000}}|A Southern family...|{21.99, null}|{{1212883200000}}|       Little, Brown| {8}|           {6}|          SWINE NOT?|          {2}|\n",
            "|{5b4aa4ead3089013...|http://www.amazon...|    Elizabeth George|{{1211587200000}}|In Cornwall, tryi...|{27.95, null}|{{1212883200000}}|              Harper| {9}|           {8}|     CARELESS IN RED|          {3}|\n",
            "|{5b4aa4ead3089013...|http://www.amazon...|      David Baldacci|{{1211587200000}}|An intelligence a...|{26.99, null}|{{1212883200000}}|       Grand Central|{10}|           {7}|     THE WHOLE TRUTH|          {5}|\n",
            "|{5b4aa4ead3089013...|http://www.amazon...|        Troy Denning|{{1211587200000}}|The New Jedi orde...|   {null, 27}|{{1212883200000}}|  Del Rey/Ballantine|{11}|           {5}|          INVINCIBLE|          {2}|\n",
            "|{5b4aa4ead3089013...|http://www.amazon...|          James Frey|{{1211587200000}}|A novel, set in L...|{26.95, null}|{{1212883200000}}|              Harper|{12}|           {9}|BRIGHT SHINY MORNING|          {2}|\n",
            "|{5b4aa4ead3089013...|http://www.amazon...|         Garth Stein|{{1211587200000}}|A Lab-terrier mix...|{23.95, null}|{{1212883200000}}|              Harper|{13}|           {0}|THE ART OF RACING...|          {1}|\n",
            "|{5b4aa4ead3089013...|http://www.amazon...|     Debbie Macomber|{{1211587200000}}|A widow who owns ...|{24.95, null}|{{1212883200000}}|                Mira|{14}|          {10}|       TWENTY WISHES|          {4}|\n",
            "|{5b4aa4ead3089013...|http://www.amazon...|         Jeff Shaara|{{1211587200000}}|A novel about the...|   {null, 28}|{{1212883200000}}|          Ballantine|{15}|          {11}|      THE STEEL WAVE|          {2}|\n",
            "|{5b4aa4ead3089013...|http://www.amazon...|    Phillip Margolin|{{1211587200000}}|                    |    {null, 0}|{{1212883200000}}|HarperCollins Pub...|{16}|           {0}| EXECUTIVE PRIVILEGE|          {0}|\n",
            "|{5b4aa4ead3089013...|http://www.amazon...|       Jhumpa Lahiri|{{1211587200000}}|Stories of the an...|    {null, 0}|{{1212883200000}}|               Knopf|{17}|           {0}|  UNACCUSTOMED EARTH|          {0}|\n",
            "|{5b4aa4ead3089013...|http://www.amazon...|      Joseph O'Neill|{{1211587200000}}|A Dutchman desert...|    {null, 0}|{{1212883200000}}|Knopf Publishing ...|{18}|           {0}|          NETHERLAND|          {0}|\n",
            "|{5b4aa4ead3089013...|http://www.amazon...|        John Grisham|{{1211587200000}}|Political and leg...|    {null, 0}|{{1212883200000}}|Doubleday Publishing|{19}|           {0}|          THE APPEAL|          {0}|\n",
            "|{5b4aa4ead3089013...|http://www.amazon...|       James Rollins|{{1211587200000}}|                    |    {null, 0}|{{1212883200000}}|Random House Publ...|{20}|           {0}|INDIANA JONES AND...|          {0}|\n",
            "+--------------------+--------------------+--------------------+-----------------+--------------------+-------------+-----------------+--------------------+----+--------------+--------------------+-------------+\n",
            "only showing top 20 rows\n",
            "\n"
          ]
        }
      ]
    },
    {
      "cell_type": "code",
      "source": [
        "#Returns first n rows\n",
        "\n",
        "dataframe.head()"
      ],
      "metadata": {
        "colab": {
          "base_uri": "https://localhost:8080/"
        },
        "id": "ubOQbj6ImN4T",
        "outputId": "6478201f-24fa-4418-b8c4-cb142957652b"
      },
      "execution_count": 21,
      "outputs": [
        {
          "output_type": "execute_result",
          "data": {
            "text/plain": [
              "Row(_id=Row($oid='5b4aa4ead3089013507db18b'), amazon_product_url='http://www.amazon.com/Odd-Hours-Dean-Koontz/dp/0553807056?tag=NYTBS-20', author='Dean R Koontz', bestsellers_date=Row($date=Row($numberLong='1211587200000')), description='Odd Thomas, who can communicate with the dead, confronts evil forces in a California coastal town.', price=Row($numberDouble=None, $numberInt='27'), published_date=Row($date=Row($numberLong='1212883200000')), publisher='Bantam', rank=Row($numberInt='1'), rank_last_week=Row($numberInt='0'), title='ODD HOURS', weeks_on_list=Row($numberInt='1'))"
            ]
          },
          "metadata": {},
          "execution_count": 21
        }
      ]
    },
    {
      "cell_type": "code",
      "source": [
        "#Returns first Row\n",
        "\n",
        "dataframe.first()"
      ],
      "metadata": {
        "colab": {
          "base_uri": "https://localhost:8080/"
        },
        "id": "Ni3NWa3imXTh",
        "outputId": "0bca3af8-4ef4-4ccc-cc53-a96f5f6dcd0a"
      },
      "execution_count": 24,
      "outputs": [
        {
          "output_type": "execute_result",
          "data": {
            "text/plain": [
              "Row(_id=Row($oid='5b4aa4ead3089013507db18b'), amazon_product_url='http://www.amazon.com/Odd-Hours-Dean-Koontz/dp/0553807056?tag=NYTBS-20', author='Dean R Koontz', bestsellers_date=Row($date=Row($numberLong='1211587200000')), description='Odd Thomas, who can communicate with the dead, confronts evil forces in a California coastal town.', price=Row($numberDouble=None, $numberInt='27'), published_date=Row($date=Row($numberLong='1212883200000')), publisher='Bantam', rank=Row($numberInt='1'), rank_last_week=Row($numberInt='0'), title='ODD HOURS', weeks_on_list=Row($numberInt='1'))"
            ]
          },
          "metadata": {},
          "execution_count": 24
        }
      ]
    },
    {
      "cell_type": "code",
      "source": [
        "#Returns frist n rows\n",
        "\n",
        "dataframe.take(5)"
      ],
      "metadata": {
        "colab": {
          "base_uri": "https://localhost:8080/"
        },
        "id": "y8uwquhkmh1m",
        "outputId": "ab6fe9d8-0a72-4918-cae2-9674dee8f1f2"
      },
      "execution_count": 26,
      "outputs": [
        {
          "output_type": "execute_result",
          "data": {
            "text/plain": [
              "[Row(_id=Row($oid='5b4aa4ead3089013507db18b'), amazon_product_url='http://www.amazon.com/Odd-Hours-Dean-Koontz/dp/0553807056?tag=NYTBS-20', author='Dean R Koontz', bestsellers_date=Row($date=Row($numberLong='1211587200000')), description='Odd Thomas, who can communicate with the dead, confronts evil forces in a California coastal town.', price=Row($numberDouble=None, $numberInt='27'), published_date=Row($date=Row($numberLong='1212883200000')), publisher='Bantam', rank=Row($numberInt='1'), rank_last_week=Row($numberInt='0'), title='ODD HOURS', weeks_on_list=Row($numberInt='1')),\n",
              " Row(_id=Row($oid='5b4aa4ead3089013507db18c'), amazon_product_url='http://www.amazon.com/The-Host-Novel-Stephenie-Meyer/dp/0316218502?tag=NYTBS-20', author='Stephenie Meyer', bestsellers_date=Row($date=Row($numberLong='1211587200000')), description='Aliens have taken control of the minds and bodies of most humans, but one woman won’t surrender.', price=Row($numberDouble='25.99', $numberInt=None), published_date=Row($date=Row($numberLong='1212883200000')), publisher='Little, Brown', rank=Row($numberInt='2'), rank_last_week=Row($numberInt='1'), title='THE HOST', weeks_on_list=Row($numberInt='3')),\n",
              " Row(_id=Row($oid='5b4aa4ead3089013507db18d'), amazon_product_url='http://www.amazon.com/Love-Youre-With-Emily-Giffin/dp/0312348665?tag=NYTBS-20', author='Emily Giffin', bestsellers_date=Row($date=Row($numberLong='1211587200000')), description=\"A woman's happy marriage is shaken when she encounters an old boyfriend.\", price=Row($numberDouble='24.95', $numberInt=None), published_date=Row($date=Row($numberLong='1212883200000')), publisher=\"St. Martin's\", rank=Row($numberInt='3'), rank_last_week=Row($numberInt='2'), title=\"LOVE THE ONE YOU'RE WITH\", weeks_on_list=Row($numberInt='2')),\n",
              " Row(_id=Row($oid='5b4aa4ead3089013507db18e'), amazon_product_url='http://www.amazon.com/The-Front-Garano-Patricia-Cornwell-ebook/dp/B0017T0C9M?tag=NYTBS-20', author='Patricia Cornwell', bestsellers_date=Row($date=Row($numberLong='1211587200000')), description='A Massachusetts state investigator and his team from \"At Risk\" confront a rogue association of municipal police departments.', price=Row($numberDouble='22.95', $numberInt=None), published_date=Row($date=Row($numberLong='1212883200000')), publisher='Putnam', rank=Row($numberInt='4'), rank_last_week=Row($numberInt='0'), title='THE FRONT', weeks_on_list=Row($numberInt='1')),\n",
              " Row(_id=Row($oid='5b4aa4ead3089013507db18f'), amazon_product_url='http://www.amazon.com/Snuff-Chuck-Palahniuk/dp/0385517882?tag=NYTBS-20', author='Chuck Palahniuk', bestsellers_date=Row($date=Row($numberLong='1211587200000')), description='An aging porn queens aims to cap her career by having sex on film with 600 men in one day.', price=Row($numberDouble='24.95', $numberInt=None), published_date=Row($date=Row($numberLong='1212883200000')), publisher='Doubleday', rank=Row($numberInt='5'), rank_last_week=Row($numberInt='0'), title='SNUFF', weeks_on_list=Row($numberInt='1'))]"
            ]
          },
          "metadata": {},
          "execution_count": 26
        }
      ]
    },
    {
      "cell_type": "code",
      "source": [
        "#display statistics\n",
        "\n",
        "dataframe.describe().show()"
      ],
      "metadata": {
        "colab": {
          "base_uri": "https://localhost:8080/"
        },
        "id": "dCQppg7Imw4g",
        "outputId": "87d830b3-35b7-4464-d2c5-016dd0eda355"
      },
      "execution_count": 27,
      "outputs": [
        {
          "output_type": "stream",
          "name": "stdout",
          "text": [
            "+-------+--------------------+---------------+--------------------+---------+------------------+\n",
            "|summary|  amazon_product_url|         author|         description|publisher|             title|\n",
            "+-------+--------------------+---------------+--------------------+---------+------------------+\n",
            "|  count|               10195|          10195|               10195|    10195|             10195|\n",
            "|   mean|                null|           null|                null|     null|1877.7142857142858|\n",
            "| stddev|                null|           null|                null|     null| 370.9760613506458|\n",
            "|    min|http://www.amazon...|        AJ Finn|                    |      ACE|  10TH ANNIVERSARY|\n",
            "|    max|https://www.amazo...|various authors|’Tis for the Rebe...|allantine|               ZOO|\n",
            "+-------+--------------------+---------------+--------------------+---------+------------------+\n",
            "\n"
          ]
        }
      ]
    },
    {
      "cell_type": "code",
      "source": [
        "#returns columns as a list\n",
        "\n",
        "dataframe.columns"
      ],
      "metadata": {
        "colab": {
          "base_uri": "https://localhost:8080/"
        },
        "id": "rHtJT_W5nDEV",
        "outputId": "d30c931b-5239-44c3-ecf4-a4e2fa4c6f11"
      },
      "execution_count": 29,
      "outputs": [
        {
          "output_type": "execute_result",
          "data": {
            "text/plain": [
              "['_id',\n",
              " 'amazon_product_url',\n",
              " 'author',\n",
              " 'bestsellers_date',\n",
              " 'description',\n",
              " 'price',\n",
              " 'published_date',\n",
              " 'publisher',\n",
              " 'rank',\n",
              " 'rank_last_week',\n",
              " 'title',\n",
              " 'weeks_on_list']"
            ]
          },
          "metadata": {},
          "execution_count": 29
        }
      ]
    },
    {
      "cell_type": "code",
      "source": [
        "#Count the number of records\n",
        "\n",
        "dataframe.count()"
      ],
      "metadata": {
        "colab": {
          "base_uri": "https://localhost:8080/"
        },
        "id": "aQ-ISh5yndd7",
        "outputId": "cb136ad3-8331-44bb-accd-d423791ffb43"
      },
      "execution_count": 30,
      "outputs": [
        {
          "output_type": "execute_result",
          "data": {
            "text/plain": [
              "10195"
            ]
          },
          "metadata": {},
          "execution_count": 30
        }
      ]
    },
    {
      "cell_type": "code",
      "source": [
        "#count the number of records excluding duplicates\n",
        "\n",
        "dataframe.distinct().count()"
      ],
      "metadata": {
        "colab": {
          "base_uri": "https://localhost:8080/"
        },
        "id": "cfSX2Onwnowa",
        "outputId": "0da6b6b3-c210-42cb-b55b-dcbc2718ecb8"
      },
      "execution_count": 31,
      "outputs": [
        {
          "output_type": "execute_result",
          "data": {
            "text/plain": [
              "10195"
            ]
          },
          "metadata": {},
          "execution_count": 31
        }
      ]
    },
    {
      "cell_type": "code",
      "source": [
        "#print physical plans \n",
        "\n",
        "dataframe.explain('simple')"
      ],
      "metadata": {
        "colab": {
          "base_uri": "https://localhost:8080/"
        },
        "id": "_rqmBCTXn2I8",
        "outputId": "88929f58-66a1-4818-8435-c2a036a410be"
      },
      "execution_count": 32,
      "outputs": [
        {
          "output_type": "stream",
          "name": "stdout",
          "text": [
            "== Physical Plan ==\n",
            "FileScan json [_id#40,amazon_product_url#41,author#42,bestsellers_date#43,description#44,price#45,published_date#46,publisher#47,rank#48,rank_last_week#49,title#50,weeks_on_list#51] Batched: false, DataFilters: [], Format: JSON, Location: InMemoryFileIndex(1 paths)[file:/content/nyt2.json], PartitionFilters: [], PushedFilters: [], ReadSchema: struct<_id:struct<$oid:string>,amazon_product_url:string,author:string,bestsellers_date:struct<$d...\n",
            "\n",
            "\n"
          ]
        }
      ]
    },
    {
      "cell_type": "code",
      "source": [
        "#prints all the plans\n",
        "\n",
        "dataframe.explain('extended')"
      ],
      "metadata": {
        "colab": {
          "base_uri": "https://localhost:8080/"
        },
        "id": "TIjyAzw6oQ2a",
        "outputId": "df9a20b2-1465-43fe-94e4-e6c6d97a325b"
      },
      "execution_count": 34,
      "outputs": [
        {
          "output_type": "stream",
          "name": "stdout",
          "text": [
            "== Parsed Logical Plan ==\n",
            "Relation [_id#40,amazon_product_url#41,author#42,bestsellers_date#43,description#44,price#45,published_date#46,publisher#47,rank#48,rank_last_week#49,title#50,weeks_on_list#51] json\n",
            "\n",
            "== Analyzed Logical Plan ==\n",
            "_id: struct<$oid:string>, amazon_product_url: string, author: string, bestsellers_date: struct<$date:struct<$numberLong:string>>, description: string, price: struct<$numberDouble:string,$numberInt:string>, published_date: struct<$date:struct<$numberLong:string>>, publisher: string, rank: struct<$numberInt:string>, rank_last_week: struct<$numberInt:string>, title: string, weeks_on_list: struct<$numberInt:string>\n",
            "Relation [_id#40,amazon_product_url#41,author#42,bestsellers_date#43,description#44,price#45,published_date#46,publisher#47,rank#48,rank_last_week#49,title#50,weeks_on_list#51] json\n",
            "\n",
            "== Optimized Logical Plan ==\n",
            "Relation [_id#40,amazon_product_url#41,author#42,bestsellers_date#43,description#44,price#45,published_date#46,publisher#47,rank#48,rank_last_week#49,title#50,weeks_on_list#51] json\n",
            "\n",
            "== Physical Plan ==\n",
            "FileScan json [_id#40,amazon_product_url#41,author#42,bestsellers_date#43,description#44,price#45,published_date#46,publisher#47,rank#48,rank_last_week#49,title#50,weeks_on_list#51] Batched: false, DataFilters: [], Format: JSON, Location: InMemoryFileIndex(1 paths)[file:/content/nyt2.json], PartitionFilters: [], PushedFilters: [], ReadSchema: struct<_id:struct<$oid:string>,amazon_product_url:string,author:string,bestsellers_date:struct<$d...\n",
            "\n"
          ]
        }
      ]
    },
    {
      "cell_type": "code",
      "source": [
        "dataframe.explain('codegen')"
      ],
      "metadata": {
        "colab": {
          "base_uri": "https://localhost:8080/"
        },
        "id": "EjcY4BPJob4H",
        "outputId": "ce0e994a-10c1-4e5d-ea47-eaadcd7dbad3"
      },
      "execution_count": 35,
      "outputs": [
        {
          "output_type": "stream",
          "name": "stdout",
          "text": [
            "Found 0 WholeStageCodegen subtrees.\n",
            "\n"
          ]
        }
      ]
    },
    {
      "cell_type": "code",
      "source": [
        "dataframe.explain('cost')"
      ],
      "metadata": {
        "colab": {
          "base_uri": "https://localhost:8080/"
        },
        "id": "UuW07ZsHoqDg",
        "outputId": "10236e31-7d32-4449-87a2-d61c998650fe"
      },
      "execution_count": 36,
      "outputs": [
        {
          "output_type": "stream",
          "name": "stdout",
          "text": [
            "== Optimized Logical Plan ==\n",
            "Relation [_id#40,amazon_product_url#41,author#42,bestsellers_date#43,description#44,price#45,published_date#46,publisher#47,rank#48,rank_last_week#49,title#50,weeks_on_list#51] json, Statistics(sizeInBytes=5.8 MiB)\n",
            "\n",
            "== Physical Plan ==\n",
            "FileScan json [_id#40,amazon_product_url#41,author#42,bestsellers_date#43,description#44,price#45,published_date#46,publisher#47,rank#48,rank_last_week#49,title#50,weeks_on_list#51] Batched: false, DataFilters: [], Format: JSON, Location: InMemoryFileIndex(1 paths)[file:/content/nyt2.json], PartitionFilters: [], PushedFilters: [], ReadSchema: struct<_id:struct<$oid:string>,amazon_product_url:string,author:string,bestsellers_date:struct<$d...\n",
            "\n",
            "\n"
          ]
        }
      ]
    },
    {
      "cell_type": "code",
      "source": [
        "dataframe.explain('formatted')"
      ],
      "metadata": {
        "colab": {
          "base_uri": "https://localhost:8080/"
        },
        "id": "NvPmfMV2owfT",
        "outputId": "c64148ef-0be8-403c-a698-3cb9dbc77f42"
      },
      "execution_count": 37,
      "outputs": [
        {
          "output_type": "stream",
          "name": "stdout",
          "text": [
            "== Physical Plan ==\n",
            "Scan json  (1)\n",
            "\n",
            "\n",
            "(1) Scan json \n",
            "Output [12]: [_id#40, amazon_product_url#41, author#42, bestsellers_date#43, description#44, price#45, published_date#46, publisher#47, rank#48, rank_last_week#49, title#50, weeks_on_list#51]\n",
            "Batched: false\n",
            "Location: InMemoryFileIndex [file:/content/nyt2.json]\n",
            "ReadSchema: struct<_id:struct<$oid:string>,amazon_product_url:string,author:string,bestsellers_date:struct<$date:struct<$numberLong:string>>,description:string,price:struct<$numberDouble:string,$numberInt:string>,published_date:struct<$date:struct<$numberLong:string>>,publisher:string,rank:struct<$numberInt:string>,rank_last_week:struct<$numberInt:string>,title:string,weeks_on_list:struct<$numberInt:string>>\n",
            "\n",
            "\n"
          ]
        }
      ]
    },
    {
      "cell_type": "code",
      "source": [
        "# Common functions\n",
        "\n",
        "#Removing the duplicates\n",
        "\n",
        "dataframe_dropdup = dataframe.dropDuplicates()"
      ],
      "metadata": {
        "id": "ZwOo3tJGo99p"
      },
      "execution_count": 39,
      "outputs": []
    },
    {
      "cell_type": "code",
      "source": [
        "dataframe_dropdup.show(10)"
      ],
      "metadata": {
        "colab": {
          "base_uri": "https://localhost:8080/"
        },
        "id": "A6LyuuRypjKF",
        "outputId": "87e35fa0-2fbe-4491-ed23-87ca8f46f380"
      },
      "execution_count": 40,
      "outputs": [
        {
          "output_type": "stream",
          "name": "stdout",
          "text": [
            "+--------------------+--------------------+--------------------+-----------------+--------------------+-------------+-----------------+----------------+----+--------------+--------------------+-------------+\n",
            "|                 _id|  amazon_product_url|              author| bestsellers_date|         description|        price|   published_date|       publisher|rank|rank_last_week|               title|weeks_on_list|\n",
            "+--------------------+--------------------+--------------------+-----------------+--------------------+-------------+-----------------+----------------+----+--------------+--------------------+-------------+\n",
            "|{5b4aa4ead3089013...|http://www.amazon...|Clive Cussler wit...|{{1213401600000}}|Juan Cabrillo and...|{26.95, null}|{{1214697600000}}|          Putnam| {4}|           {3}|         PLAGUE SHIP|          {2}|\n",
            "|{5b4aa4ead3089013...|http://www.amazon...|      Jeffery Deaver|{{1215820800000}}|Detectives Lincol...|    {null, 0}|{{1217116800000}}|Simon & Schuster|{20}|           {0}|   THE BROKEN WINDOW|          {0}|\n",
            "|{5b4aa4ead3089013...|http://www.amazon...|        Daniel Silva|{{1217030400000}}|Gabriel Allon, an...|{26.95, null}|{{1218326400000}}|          Putnam| {1}|           {0}|  THE SECRET SERVANT|          {1}|\n",
            "|{5b4aa4ead3089013...|http://www.amazon...|     Janet Evanovich|{{1217030400000}}|Stephanie Plum an...|{27.95, null}|{{1218326400000}}|    St. Martin’s| {9}|           {7}|   FEARLESS FOURTEEN|          {6}|\n",
            "|{5b4aa4ead3089013...|http://www.amazon...|          Jane Green|{{1218240000000}}|A woman’s life ch...|    {null, 0}|{{1219536000000}}|          Viking|{18}|           {0}|     THE BEACH HOUSE|          {0}|\n",
            "|{5b4aa4ead3089013...|http://www.amazon...|      Brunonia Barry|{{1220054400000}}|Secrets of a fami...|{24.95, null}|{{1221350400000}}|          Morrow|{13}|          {10}|     THE LACE READER|          {5}|\n",
            "|{5b4aa4ead3089013...|http://www.amazon...|    David Wroblewski|{{1221264000000}}|A mute takes refu...|{25.95, null}|{{1222560000000}}|            Ecco| {9}|           {9}|THE STORY OF EDGA...|         {14}|\n",
            "|{5b4aa4ead3089013...|http://www.amazon...|       John Sandford|{{1225497600000}}|Virgil Flowers in...|    {null, 0}|{{1226793600000}}|          Putnam|{20}|           {0}|      HEAT LIGHTNING|          {0}|\n",
            "|{5b4aa4ead3089013...|http://www.amazon...|            J D Robb|{{1226102400000}}|Lt. Eve Dallas in...|{25.95, null}|{{1227398400000}}|          Putnam| {2}|           {0}|  SALVATION IN DEATH|          {1}|\n",
            "|{5b4aa4ead3089013...|http://www.amazon...|       Toni Morrison|{{1226707200000}}|In 17th-century A...|{23.95, null}|{{1228003200000}}|           Knopf| {5}|           {0}|             A MERCY|          {1}|\n",
            "+--------------------+--------------------+--------------------+-----------------+--------------------+-------------+-----------------+----------------+----+--------------+--------------------+-------------+\n",
            "only showing top 10 rows\n",
            "\n"
          ]
        }
      ]
    },
    {
      "cell_type": "code",
      "source": [
        "dataframe.show()"
      ],
      "metadata": {
        "colab": {
          "base_uri": "https://localhost:8080/"
        },
        "id": "CRXhkfzDp2Yd",
        "outputId": "eba0cdaf-d77f-4184-d018-694fd2612200"
      },
      "execution_count": 41,
      "outputs": [
        {
          "output_type": "stream",
          "name": "stdout",
          "text": [
            "+--------------------+--------------------+--------------------+-----------------+--------------------+-------------+-----------------+--------------------+----+--------------+--------------------+-------------+\n",
            "|                 _id|  amazon_product_url|              author| bestsellers_date|         description|        price|   published_date|           publisher|rank|rank_last_week|               title|weeks_on_list|\n",
            "+--------------------+--------------------+--------------------+-----------------+--------------------+-------------+-----------------+--------------------+----+--------------+--------------------+-------------+\n",
            "|{5b4aa4ead3089013...|http://www.amazon...|       Dean R Koontz|{{1211587200000}}|Odd Thomas, who c...|   {null, 27}|{{1212883200000}}|              Bantam| {1}|           {0}|           ODD HOURS|          {1}|\n",
            "|{5b4aa4ead3089013...|http://www.amazon...|     Stephenie Meyer|{{1211587200000}}|Aliens have taken...|{25.99, null}|{{1212883200000}}|       Little, Brown| {2}|           {1}|            THE HOST|          {3}|\n",
            "|{5b4aa4ead3089013...|http://www.amazon...|        Emily Giffin|{{1211587200000}}|A woman's happy m...|{24.95, null}|{{1212883200000}}|        St. Martin's| {3}|           {2}|LOVE THE ONE YOU'...|          {2}|\n",
            "|{5b4aa4ead3089013...|http://www.amazon...|   Patricia Cornwell|{{1211587200000}}|A Massachusetts s...|{22.95, null}|{{1212883200000}}|              Putnam| {4}|           {0}|           THE FRONT|          {1}|\n",
            "|{5b4aa4ead3089013...|http://www.amazon...|     Chuck Palahniuk|{{1211587200000}}|An aging porn que...|{24.95, null}|{{1212883200000}}|           Doubleday| {5}|           {0}|               SNUFF|          {1}|\n",
            "|{5b4aa4ead3089013...|http://www.amazon...|James Patterson a...|{{1211587200000}}|A woman finds an ...|{24.99, null}|{{1212883200000}}|       Little, Brown| {6}|           {3}|SUNDAYS AT TIFFANY’S|          {4}|\n",
            "|{5b4aa4ead3089013...|http://www.amazon...|       John Sandford|{{1211587200000}}|The Minneapolis d...|{26.95, null}|{{1212883200000}}|              Putnam| {7}|           {4}|        PHANTOM PREY|          {3}|\n",
            "|{5b4aa4ead3089013...|http://www.amazon...|       Jimmy Buffett|{{1211587200000}}|A Southern family...|{21.99, null}|{{1212883200000}}|       Little, Brown| {8}|           {6}|          SWINE NOT?|          {2}|\n",
            "|{5b4aa4ead3089013...|http://www.amazon...|    Elizabeth George|{{1211587200000}}|In Cornwall, tryi...|{27.95, null}|{{1212883200000}}|              Harper| {9}|           {8}|     CARELESS IN RED|          {3}|\n",
            "|{5b4aa4ead3089013...|http://www.amazon...|      David Baldacci|{{1211587200000}}|An intelligence a...|{26.99, null}|{{1212883200000}}|       Grand Central|{10}|           {7}|     THE WHOLE TRUTH|          {5}|\n",
            "|{5b4aa4ead3089013...|http://www.amazon...|        Troy Denning|{{1211587200000}}|The New Jedi orde...|   {null, 27}|{{1212883200000}}|  Del Rey/Ballantine|{11}|           {5}|          INVINCIBLE|          {2}|\n",
            "|{5b4aa4ead3089013...|http://www.amazon...|          James Frey|{{1211587200000}}|A novel, set in L...|{26.95, null}|{{1212883200000}}|              Harper|{12}|           {9}|BRIGHT SHINY MORNING|          {2}|\n",
            "|{5b4aa4ead3089013...|http://www.amazon...|         Garth Stein|{{1211587200000}}|A Lab-terrier mix...|{23.95, null}|{{1212883200000}}|              Harper|{13}|           {0}|THE ART OF RACING...|          {1}|\n",
            "|{5b4aa4ead3089013...|http://www.amazon...|     Debbie Macomber|{{1211587200000}}|A widow who owns ...|{24.95, null}|{{1212883200000}}|                Mira|{14}|          {10}|       TWENTY WISHES|          {4}|\n",
            "|{5b4aa4ead3089013...|http://www.amazon...|         Jeff Shaara|{{1211587200000}}|A novel about the...|   {null, 28}|{{1212883200000}}|          Ballantine|{15}|          {11}|      THE STEEL WAVE|          {2}|\n",
            "|{5b4aa4ead3089013...|http://www.amazon...|    Phillip Margolin|{{1211587200000}}|                    |    {null, 0}|{{1212883200000}}|HarperCollins Pub...|{16}|           {0}| EXECUTIVE PRIVILEGE|          {0}|\n",
            "|{5b4aa4ead3089013...|http://www.amazon...|       Jhumpa Lahiri|{{1211587200000}}|Stories of the an...|    {null, 0}|{{1212883200000}}|               Knopf|{17}|           {0}|  UNACCUSTOMED EARTH|          {0}|\n",
            "|{5b4aa4ead3089013...|http://www.amazon...|      Joseph O'Neill|{{1211587200000}}|A Dutchman desert...|    {null, 0}|{{1212883200000}}|Knopf Publishing ...|{18}|           {0}|          NETHERLAND|          {0}|\n",
            "|{5b4aa4ead3089013...|http://www.amazon...|        John Grisham|{{1211587200000}}|Political and leg...|    {null, 0}|{{1212883200000}}|Doubleday Publishing|{19}|           {0}|          THE APPEAL|          {0}|\n",
            "|{5b4aa4ead3089013...|http://www.amazon...|       James Rollins|{{1211587200000}}|                    |    {null, 0}|{{1212883200000}}|Random House Publ...|{20}|           {0}|INDIANA JONES AND...|          {0}|\n",
            "+--------------------+--------------------+--------------------+-----------------+--------------------+-------------+-----------------+--------------------+----+--------------+--------------------+-------------+\n",
            "only showing top 20 rows\n",
            "\n"
          ]
        }
      ]
    },
    {
      "cell_type": "code",
      "source": [
        "#Select\n",
        "\n",
        "#show all the entires in author column\n",
        "dataframe.select('author').show(10)\n",
        "\n",
        "#Show all the entries in author, title,rank,price column\n",
        "\n",
        "dataframe.select(\"author\",\"title\",\"rank\",\"price\").show(10)\n"
      ],
      "metadata": {
        "colab": {
          "base_uri": "https://localhost:8080/"
        },
        "id": "n-o8n_XXpo4X",
        "outputId": "0074510c-6542-4341-fd49-227bcb3e7273"
      },
      "execution_count": 43,
      "outputs": [
        {
          "output_type": "stream",
          "name": "stdout",
          "text": [
            "+--------------------+\n",
            "|              author|\n",
            "+--------------------+\n",
            "|       Dean R Koontz|\n",
            "|     Stephenie Meyer|\n",
            "|        Emily Giffin|\n",
            "|   Patricia Cornwell|\n",
            "|     Chuck Palahniuk|\n",
            "|James Patterson a...|\n",
            "|       John Sandford|\n",
            "|       Jimmy Buffett|\n",
            "|    Elizabeth George|\n",
            "|      David Baldacci|\n",
            "+--------------------+\n",
            "only showing top 10 rows\n",
            "\n",
            "+--------------------+--------------------+----+-------------+\n",
            "|              author|               title|rank|        price|\n",
            "+--------------------+--------------------+----+-------------+\n",
            "|       Dean R Koontz|           ODD HOURS| {1}|   {null, 27}|\n",
            "|     Stephenie Meyer|            THE HOST| {2}|{25.99, null}|\n",
            "|        Emily Giffin|LOVE THE ONE YOU'...| {3}|{24.95, null}|\n",
            "|   Patricia Cornwell|           THE FRONT| {4}|{22.95, null}|\n",
            "|     Chuck Palahniuk|               SNUFF| {5}|{24.95, null}|\n",
            "|James Patterson a...|SUNDAYS AT TIFFANY’S| {6}|{24.99, null}|\n",
            "|       John Sandford|        PHANTOM PREY| {7}|{26.95, null}|\n",
            "|       Jimmy Buffett|          SWINE NOT?| {8}|{21.99, null}|\n",
            "|    Elizabeth George|     CARELESS IN RED| {9}|{27.95, null}|\n",
            "|      David Baldacci|     THE WHOLE TRUTH|{10}|{26.99, null}|\n",
            "+--------------------+--------------------+----+-------------+\n",
            "only showing top 10 rows\n",
            "\n"
          ]
        }
      ]
    },
    {
      "cell_type": "code",
      "source": [
        "#when operation\n",
        "#show title and assign 0 or 1 depending on title\n",
        "\n",
        "dataframe.select(\"title\", when(dataframe.title != 'ODD HOURS',1).otherwise(0)).show()"
      ],
      "metadata": {
        "colab": {
          "base_uri": "https://localhost:8080/"
        },
        "id": "c5lcRsvJqLRv",
        "outputId": "02fbc344-4ba2-4d08-9354-d1607142daa4"
      },
      "execution_count": 46,
      "outputs": [
        {
          "output_type": "stream",
          "name": "stdout",
          "text": [
            "+--------------------+-----------------------------------------------------+\n",
            "|               title|CASE WHEN (NOT (title = ODD HOURS)) THEN 1 ELSE 0 END|\n",
            "+--------------------+-----------------------------------------------------+\n",
            "|           ODD HOURS|                                                    0|\n",
            "|            THE HOST|                                                    1|\n",
            "|LOVE THE ONE YOU'...|                                                    1|\n",
            "|           THE FRONT|                                                    1|\n",
            "|               SNUFF|                                                    1|\n",
            "|SUNDAYS AT TIFFANY’S|                                                    1|\n",
            "|        PHANTOM PREY|                                                    1|\n",
            "|          SWINE NOT?|                                                    1|\n",
            "|     CARELESS IN RED|                                                    1|\n",
            "|     THE WHOLE TRUTH|                                                    1|\n",
            "|          INVINCIBLE|                                                    1|\n",
            "|BRIGHT SHINY MORNING|                                                    1|\n",
            "|THE ART OF RACING...|                                                    1|\n",
            "|       TWENTY WISHES|                                                    1|\n",
            "|      THE STEEL WAVE|                                                    1|\n",
            "| EXECUTIVE PRIVILEGE|                                                    1|\n",
            "|  UNACCUSTOMED EARTH|                                                    1|\n",
            "|          NETHERLAND|                                                    1|\n",
            "|          THE APPEAL|                                                    1|\n",
            "|INDIANA JONES AND...|                                                    1|\n",
            "+--------------------+-----------------------------------------------------+\n",
            "only showing top 20 rows\n",
            "\n"
          ]
        }
      ]
    },
    {
      "cell_type": "code",
      "source": [
        "#isin operation\n",
        "\n",
        "#show rows with specified authors if in the given options\n",
        "\n",
        "dataframe[dataframe.author.isin(\"John Sandford\",\"Emily Giffin\")].show(5)"
      ],
      "metadata": {
        "colab": {
          "base_uri": "https://localhost:8080/"
        },
        "id": "r8nNT_UOrht3",
        "outputId": "79f303d6-a11f-45c5-a658-d33127f3c658"
      },
      "execution_count": 48,
      "outputs": [
        {
          "output_type": "stream",
          "name": "stdout",
          "text": [
            "+--------------------+--------------------+-------------+-----------------+--------------------+-------------+-----------------+------------+----+--------------+--------------------+-------------+\n",
            "|                 _id|  amazon_product_url|       author| bestsellers_date|         description|        price|   published_date|   publisher|rank|rank_last_week|               title|weeks_on_list|\n",
            "+--------------------+--------------------+-------------+-----------------+--------------------+-------------+-----------------+------------+----+--------------+--------------------+-------------+\n",
            "|{5b4aa4ead3089013...|http://www.amazon...| Emily Giffin|{{1211587200000}}|A woman's happy m...|{24.95, null}|{{1212883200000}}|St. Martin's| {3}|           {2}|LOVE THE ONE YOU'...|          {2}|\n",
            "|{5b4aa4ead3089013...|http://www.amazon...|John Sandford|{{1211587200000}}|The Minneapolis d...|{26.95, null}|{{1212883200000}}|      Putnam| {7}|           {4}|        PHANTOM PREY|          {3}|\n",
            "|{5b4aa4ead3089013...|http://www.amazon...| Emily Giffin|{{1212192000000}}|A woman’s happy m...|{24.95, null}|{{1213488000000}}|St. Martin’s| {4}|           {3}|LOVE THE ONE YOU'...|          {3}|\n",
            "|{5b4aa4ead3089013...|http://www.amazon...|John Sandford|{{1212192000000}}|The Minneapolis d...|{26.95, null}|{{1213488000000}}|      Putnam| {9}|           {7}|        PHANTOM PREY|          {4}|\n",
            "|{5b4aa4ead3089013...|http://www.amazon...| Emily Giffin|{{1212796800000}}|A woman’s happy m...|{24.95, null}|{{1214092800000}}|St. Martin’s| {4}|           {4}|LOVE THE ONE YOU'...|          {4}|\n",
            "+--------------------+--------------------+-------------+-----------------+--------------------+-------------+-----------------+------------+----+--------------+--------------------+-------------+\n",
            "only showing top 5 rows\n",
            "\n"
          ]
        }
      ]
    },
    {
      "cell_type": "code",
      "source": [
        "#Like operation---results boolean value\n",
        "\n",
        "dataframe.select('author', 'title', dataframe.title.like(\"% THE %\")).show(5)"
      ],
      "metadata": {
        "colab": {
          "base_uri": "https://localhost:8080/"
        },
        "id": "xoelgeSAsnNO",
        "outputId": "2aa956dd-1bef-4ae4-fa64-7d1abd32cb10"
      },
      "execution_count": 49,
      "outputs": [
        {
          "output_type": "stream",
          "name": "stdout",
          "text": [
            "+-----------------+--------------------+------------------+\n",
            "|           author|               title|title LIKE % THE %|\n",
            "+-----------------+--------------------+------------------+\n",
            "|    Dean R Koontz|           ODD HOURS|             false|\n",
            "|  Stephenie Meyer|            THE HOST|             false|\n",
            "|     Emily Giffin|LOVE THE ONE YOU'...|              true|\n",
            "|Patricia Cornwell|           THE FRONT|             false|\n",
            "|  Chuck Palahniuk|               SNUFF|             false|\n",
            "+-----------------+--------------------+------------------+\n",
            "only showing top 5 rows\n",
            "\n"
          ]
        }
      ]
    },
    {
      "cell_type": "code",
      "source": [
        "#starswith and endswith operation\n",
        "\n",
        "dataframe.select('author','title',dataframe.title.startswith('THE')).show()"
      ],
      "metadata": {
        "colab": {
          "base_uri": "https://localhost:8080/"
        },
        "id": "6Dch2PpwtbbI",
        "outputId": "0239db57-4938-40d2-a01e-7056d591fead"
      },
      "execution_count": 50,
      "outputs": [
        {
          "output_type": "stream",
          "name": "stdout",
          "text": [
            "+--------------------+--------------------+----------------------+\n",
            "|              author|               title|startswith(title, THE)|\n",
            "+--------------------+--------------------+----------------------+\n",
            "|       Dean R Koontz|           ODD HOURS|                 false|\n",
            "|     Stephenie Meyer|            THE HOST|                  true|\n",
            "|        Emily Giffin|LOVE THE ONE YOU'...|                 false|\n",
            "|   Patricia Cornwell|           THE FRONT|                  true|\n",
            "|     Chuck Palahniuk|               SNUFF|                 false|\n",
            "|James Patterson a...|SUNDAYS AT TIFFANY’S|                 false|\n",
            "|       John Sandford|        PHANTOM PREY|                 false|\n",
            "|       Jimmy Buffett|          SWINE NOT?|                 false|\n",
            "|    Elizabeth George|     CARELESS IN RED|                 false|\n",
            "|      David Baldacci|     THE WHOLE TRUTH|                  true|\n",
            "|        Troy Denning|          INVINCIBLE|                 false|\n",
            "|          James Frey|BRIGHT SHINY MORNING|                 false|\n",
            "|         Garth Stein|THE ART OF RACING...|                  true|\n",
            "|     Debbie Macomber|       TWENTY WISHES|                 false|\n",
            "|         Jeff Shaara|      THE STEEL WAVE|                  true|\n",
            "|    Phillip Margolin| EXECUTIVE PRIVILEGE|                 false|\n",
            "|       Jhumpa Lahiri|  UNACCUSTOMED EARTH|                 false|\n",
            "|      Joseph O'Neill|          NETHERLAND|                 false|\n",
            "|        John Grisham|          THE APPEAL|                  true|\n",
            "|       James Rollins|INDIANA JONES AND...|                 false|\n",
            "+--------------------+--------------------+----------------------+\n",
            "only showing top 20 rows\n",
            "\n"
          ]
        }
      ]
    },
    {
      "cell_type": "code",
      "source": [
        "dataframe.select('author','title',dataframe.title.endswith('WAVE')).show(5)"
      ],
      "metadata": {
        "colab": {
          "base_uri": "https://localhost:8080/"
        },
        "id": "lbjC63tzt9tC",
        "outputId": "b0370ece-3452-493e-b1aa-e435e025868c"
      },
      "execution_count": 54,
      "outputs": [
        {
          "output_type": "stream",
          "name": "stdout",
          "text": [
            "+-----------------+--------------------+---------------------+\n",
            "|           author|               title|endswith(title, WAVE)|\n",
            "+-----------------+--------------------+---------------------+\n",
            "|    Dean R Koontz|           ODD HOURS|                false|\n",
            "|  Stephenie Meyer|            THE HOST|                false|\n",
            "|     Emily Giffin|LOVE THE ONE YOU'...|                false|\n",
            "|Patricia Cornwell|           THE FRONT|                false|\n",
            "|  Chuck Palahniuk|               SNUFF|                false|\n",
            "+-----------------+--------------------+---------------------+\n",
            "only showing top 5 rows\n",
            "\n"
          ]
        }
      ]
    },
    {
      "cell_type": "code",
      "source": [
        "# Substring\n",
        "\n",
        "dataframe.select(dataframe.author.substr(1,4).alias('title')).show(5)"
      ],
      "metadata": {
        "colab": {
          "base_uri": "https://localhost:8080/"
        },
        "id": "G4GbasLuuKUO",
        "outputId": "5949f3e7-ac5c-4fd2-c46c-ec77af7d67d7"
      },
      "execution_count": 55,
      "outputs": [
        {
          "output_type": "stream",
          "name": "stdout",
          "text": [
            "+-----+\n",
            "|title|\n",
            "+-----+\n",
            "| Dean|\n",
            "| Step|\n",
            "| Emil|\n",
            "| Patr|\n",
            "| Chuc|\n",
            "+-----+\n",
            "only showing top 5 rows\n",
            "\n"
          ]
        }
      ]
    },
    {
      "cell_type": "code",
      "source": [
        "dataframe.select(dataframe.author.substr(3,7).alias('title')).show(5)"
      ],
      "metadata": {
        "colab": {
          "base_uri": "https://localhost:8080/"
        },
        "id": "3Jp6gU1ru-Px",
        "outputId": "8efd68ad-f32f-41ae-d192-4cf7cad0c6d8"
      },
      "execution_count": 56,
      "outputs": [
        {
          "output_type": "stream",
          "name": "stdout",
          "text": [
            "+-------+\n",
            "|  title|\n",
            "+-------+\n",
            "|an R Ko|\n",
            "|ephenie|\n",
            "|ily Gif|\n",
            "|tricia |\n",
            "|uck Pal|\n",
            "+-------+\n",
            "only showing top 5 rows\n",
            "\n"
          ]
        }
      ]
    },
    {
      "cell_type": "code",
      "source": [
        "dataframe.select(dataframe.author.substr(1,6).alias('title')).show(5)"
      ],
      "metadata": {
        "colab": {
          "base_uri": "https://localhost:8080/"
        },
        "id": "VGepcer_vIpb",
        "outputId": "8728b7a0-90dc-4db1-e19e-20927ca77938"
      },
      "execution_count": 57,
      "outputs": [
        {
          "output_type": "stream",
          "name": "stdout",
          "text": [
            "+------+\n",
            "| title|\n",
            "+------+\n",
            "|Dean R|\n",
            "|Stephe|\n",
            "|Emily |\n",
            "|Patric|\n",
            "|Chuck |\n",
            "+------+\n",
            "only showing top 5 rows\n",
            "\n"
          ]
        }
      ]
    },
    {
      "cell_type": "code",
      "source": [
        "# Adding columns\n",
        "\n",
        "from pyspark.sql import functions as F\n",
        "\n",
        "dataframe =dataframe.withColumn('NewColumn', F.lit('This is a New column'))"
      ],
      "metadata": {
        "id": "rb1W59psvMMg"
      },
      "execution_count": 58,
      "outputs": []
    },
    {
      "cell_type": "code",
      "source": [
        "display(dataframe)"
      ],
      "metadata": {
        "colab": {
          "base_uri": "https://localhost:8080/",
          "height": 121
        },
        "id": "4GY9JVlVwaL-",
        "outputId": "9aacd689-4b08-4237-d847-658812777156"
      },
      "execution_count": 59,
      "outputs": [
        {
          "output_type": "display_data",
          "data": {
            "text/plain": [
              "DataFrame[_id: struct<$oid:string>, amazon_product_url: string, author: string, bestsellers_date: struct<$date:struct<$numberLong:string>>, description: string, price: struct<$numberDouble:string,$numberInt:string>, published_date: struct<$date:struct<$numberLong:string>>, publisher: string, rank: struct<$numberInt:string>, rank_last_week: struct<$numberInt:string>, title: string, weeks_on_list: struct<$numberInt:string>, NewColumn: string]"
            ]
          },
          "metadata": {}
        }
      ]
    },
    {
      "cell_type": "code",
      "source": [
        "dataframe.show()"
      ],
      "metadata": {
        "colab": {
          "base_uri": "https://localhost:8080/"
        },
        "id": "b8ES-nqCwdeB",
        "outputId": "0fe64229-b85c-4905-8c6c-200ab7de555c"
      },
      "execution_count": 60,
      "outputs": [
        {
          "output_type": "stream",
          "name": "stdout",
          "text": [
            "+--------------------+--------------------+--------------------+-----------------+--------------------+-------------+-----------------+--------------------+----+--------------+--------------------+-------------+--------------------+\n",
            "|                 _id|  amazon_product_url|              author| bestsellers_date|         description|        price|   published_date|           publisher|rank|rank_last_week|               title|weeks_on_list|           NewColumn|\n",
            "+--------------------+--------------------+--------------------+-----------------+--------------------+-------------+-----------------+--------------------+----+--------------+--------------------+-------------+--------------------+\n",
            "|{5b4aa4ead3089013...|http://www.amazon...|       Dean R Koontz|{{1211587200000}}|Odd Thomas, who c...|   {null, 27}|{{1212883200000}}|              Bantam| {1}|           {0}|           ODD HOURS|          {1}|This is a New column|\n",
            "|{5b4aa4ead3089013...|http://www.amazon...|     Stephenie Meyer|{{1211587200000}}|Aliens have taken...|{25.99, null}|{{1212883200000}}|       Little, Brown| {2}|           {1}|            THE HOST|          {3}|This is a New column|\n",
            "|{5b4aa4ead3089013...|http://www.amazon...|        Emily Giffin|{{1211587200000}}|A woman's happy m...|{24.95, null}|{{1212883200000}}|        St. Martin's| {3}|           {2}|LOVE THE ONE YOU'...|          {2}|This is a New column|\n",
            "|{5b4aa4ead3089013...|http://www.amazon...|   Patricia Cornwell|{{1211587200000}}|A Massachusetts s...|{22.95, null}|{{1212883200000}}|              Putnam| {4}|           {0}|           THE FRONT|          {1}|This is a New column|\n",
            "|{5b4aa4ead3089013...|http://www.amazon...|     Chuck Palahniuk|{{1211587200000}}|An aging porn que...|{24.95, null}|{{1212883200000}}|           Doubleday| {5}|           {0}|               SNUFF|          {1}|This is a New column|\n",
            "|{5b4aa4ead3089013...|http://www.amazon...|James Patterson a...|{{1211587200000}}|A woman finds an ...|{24.99, null}|{{1212883200000}}|       Little, Brown| {6}|           {3}|SUNDAYS AT TIFFANY’S|          {4}|This is a New column|\n",
            "|{5b4aa4ead3089013...|http://www.amazon...|       John Sandford|{{1211587200000}}|The Minneapolis d...|{26.95, null}|{{1212883200000}}|              Putnam| {7}|           {4}|        PHANTOM PREY|          {3}|This is a New column|\n",
            "|{5b4aa4ead3089013...|http://www.amazon...|       Jimmy Buffett|{{1211587200000}}|A Southern family...|{21.99, null}|{{1212883200000}}|       Little, Brown| {8}|           {6}|          SWINE NOT?|          {2}|This is a New column|\n",
            "|{5b4aa4ead3089013...|http://www.amazon...|    Elizabeth George|{{1211587200000}}|In Cornwall, tryi...|{27.95, null}|{{1212883200000}}|              Harper| {9}|           {8}|     CARELESS IN RED|          {3}|This is a New column|\n",
            "|{5b4aa4ead3089013...|http://www.amazon...|      David Baldacci|{{1211587200000}}|An intelligence a...|{26.99, null}|{{1212883200000}}|       Grand Central|{10}|           {7}|     THE WHOLE TRUTH|          {5}|This is a New column|\n",
            "|{5b4aa4ead3089013...|http://www.amazon...|        Troy Denning|{{1211587200000}}|The New Jedi orde...|   {null, 27}|{{1212883200000}}|  Del Rey/Ballantine|{11}|           {5}|          INVINCIBLE|          {2}|This is a New column|\n",
            "|{5b4aa4ead3089013...|http://www.amazon...|          James Frey|{{1211587200000}}|A novel, set in L...|{26.95, null}|{{1212883200000}}|              Harper|{12}|           {9}|BRIGHT SHINY MORNING|          {2}|This is a New column|\n",
            "|{5b4aa4ead3089013...|http://www.amazon...|         Garth Stein|{{1211587200000}}|A Lab-terrier mix...|{23.95, null}|{{1212883200000}}|              Harper|{13}|           {0}|THE ART OF RACING...|          {1}|This is a New column|\n",
            "|{5b4aa4ead3089013...|http://www.amazon...|     Debbie Macomber|{{1211587200000}}|A widow who owns ...|{24.95, null}|{{1212883200000}}|                Mira|{14}|          {10}|       TWENTY WISHES|          {4}|This is a New column|\n",
            "|{5b4aa4ead3089013...|http://www.amazon...|         Jeff Shaara|{{1211587200000}}|A novel about the...|   {null, 28}|{{1212883200000}}|          Ballantine|{15}|          {11}|      THE STEEL WAVE|          {2}|This is a New column|\n",
            "|{5b4aa4ead3089013...|http://www.amazon...|    Phillip Margolin|{{1211587200000}}|                    |    {null, 0}|{{1212883200000}}|HarperCollins Pub...|{16}|           {0}| EXECUTIVE PRIVILEGE|          {0}|This is a New column|\n",
            "|{5b4aa4ead3089013...|http://www.amazon...|       Jhumpa Lahiri|{{1211587200000}}|Stories of the an...|    {null, 0}|{{1212883200000}}|               Knopf|{17}|           {0}|  UNACCUSTOMED EARTH|          {0}|This is a New column|\n",
            "|{5b4aa4ead3089013...|http://www.amazon...|      Joseph O'Neill|{{1211587200000}}|A Dutchman desert...|    {null, 0}|{{1212883200000}}|Knopf Publishing ...|{18}|           {0}|          NETHERLAND|          {0}|This is a New column|\n",
            "|{5b4aa4ead3089013...|http://www.amazon...|        John Grisham|{{1211587200000}}|Political and leg...|    {null, 0}|{{1212883200000}}|Doubleday Publishing|{19}|           {0}|          THE APPEAL|          {0}|This is a New column|\n",
            "|{5b4aa4ead3089013...|http://www.amazon...|       James Rollins|{{1211587200000}}|                    |    {null, 0}|{{1212883200000}}|Random House Publ...|{20}|           {0}|INDIANA JONES AND...|          {0}|This is a New column|\n",
            "+--------------------+--------------------+--------------------+-----------------+--------------------+-------------+-----------------+--------------------+----+--------------+--------------------+-------------+--------------------+\n",
            "only showing top 20 rows\n",
            "\n"
          ]
        }
      ]
    },
    {
      "cell_type": "code",
      "source": [
        "#updating the columns\n",
        "dataframe =dataframe.withColumnRenamed('amazon_product_url', 'URL')"
      ],
      "metadata": {
        "id": "jO7xpHurwh50"
      },
      "execution_count": 61,
      "outputs": []
    },
    {
      "cell_type": "code",
      "source": [
        "dataframe.show()"
      ],
      "metadata": {
        "colab": {
          "base_uri": "https://localhost:8080/"
        },
        "id": "fho6Pg0Kw41z",
        "outputId": "de6c95c0-a40d-4112-dd9d-76b2888b01eb"
      },
      "execution_count": 62,
      "outputs": [
        {
          "output_type": "stream",
          "name": "stdout",
          "text": [
            "+--------------------+--------------------+--------------------+-----------------+--------------------+-------------+-----------------+--------------------+----+--------------+--------------------+-------------+--------------------+\n",
            "|                 _id|                 URL|              author| bestsellers_date|         description|        price|   published_date|           publisher|rank|rank_last_week|               title|weeks_on_list|           NewColumn|\n",
            "+--------------------+--------------------+--------------------+-----------------+--------------------+-------------+-----------------+--------------------+----+--------------+--------------------+-------------+--------------------+\n",
            "|{5b4aa4ead3089013...|http://www.amazon...|       Dean R Koontz|{{1211587200000}}|Odd Thomas, who c...|   {null, 27}|{{1212883200000}}|              Bantam| {1}|           {0}|           ODD HOURS|          {1}|This is a New column|\n",
            "|{5b4aa4ead3089013...|http://www.amazon...|     Stephenie Meyer|{{1211587200000}}|Aliens have taken...|{25.99, null}|{{1212883200000}}|       Little, Brown| {2}|           {1}|            THE HOST|          {3}|This is a New column|\n",
            "|{5b4aa4ead3089013...|http://www.amazon...|        Emily Giffin|{{1211587200000}}|A woman's happy m...|{24.95, null}|{{1212883200000}}|        St. Martin's| {3}|           {2}|LOVE THE ONE YOU'...|          {2}|This is a New column|\n",
            "|{5b4aa4ead3089013...|http://www.amazon...|   Patricia Cornwell|{{1211587200000}}|A Massachusetts s...|{22.95, null}|{{1212883200000}}|              Putnam| {4}|           {0}|           THE FRONT|          {1}|This is a New column|\n",
            "|{5b4aa4ead3089013...|http://www.amazon...|     Chuck Palahniuk|{{1211587200000}}|An aging porn que...|{24.95, null}|{{1212883200000}}|           Doubleday| {5}|           {0}|               SNUFF|          {1}|This is a New column|\n",
            "|{5b4aa4ead3089013...|http://www.amazon...|James Patterson a...|{{1211587200000}}|A woman finds an ...|{24.99, null}|{{1212883200000}}|       Little, Brown| {6}|           {3}|SUNDAYS AT TIFFANY’S|          {4}|This is a New column|\n",
            "|{5b4aa4ead3089013...|http://www.amazon...|       John Sandford|{{1211587200000}}|The Minneapolis d...|{26.95, null}|{{1212883200000}}|              Putnam| {7}|           {4}|        PHANTOM PREY|          {3}|This is a New column|\n",
            "|{5b4aa4ead3089013...|http://www.amazon...|       Jimmy Buffett|{{1211587200000}}|A Southern family...|{21.99, null}|{{1212883200000}}|       Little, Brown| {8}|           {6}|          SWINE NOT?|          {2}|This is a New column|\n",
            "|{5b4aa4ead3089013...|http://www.amazon...|    Elizabeth George|{{1211587200000}}|In Cornwall, tryi...|{27.95, null}|{{1212883200000}}|              Harper| {9}|           {8}|     CARELESS IN RED|          {3}|This is a New column|\n",
            "|{5b4aa4ead3089013...|http://www.amazon...|      David Baldacci|{{1211587200000}}|An intelligence a...|{26.99, null}|{{1212883200000}}|       Grand Central|{10}|           {7}|     THE WHOLE TRUTH|          {5}|This is a New column|\n",
            "|{5b4aa4ead3089013...|http://www.amazon...|        Troy Denning|{{1211587200000}}|The New Jedi orde...|   {null, 27}|{{1212883200000}}|  Del Rey/Ballantine|{11}|           {5}|          INVINCIBLE|          {2}|This is a New column|\n",
            "|{5b4aa4ead3089013...|http://www.amazon...|          James Frey|{{1211587200000}}|A novel, set in L...|{26.95, null}|{{1212883200000}}|              Harper|{12}|           {9}|BRIGHT SHINY MORNING|          {2}|This is a New column|\n",
            "|{5b4aa4ead3089013...|http://www.amazon...|         Garth Stein|{{1211587200000}}|A Lab-terrier mix...|{23.95, null}|{{1212883200000}}|              Harper|{13}|           {0}|THE ART OF RACING...|          {1}|This is a New column|\n",
            "|{5b4aa4ead3089013...|http://www.amazon...|     Debbie Macomber|{{1211587200000}}|A widow who owns ...|{24.95, null}|{{1212883200000}}|                Mira|{14}|          {10}|       TWENTY WISHES|          {4}|This is a New column|\n",
            "|{5b4aa4ead3089013...|http://www.amazon...|         Jeff Shaara|{{1211587200000}}|A novel about the...|   {null, 28}|{{1212883200000}}|          Ballantine|{15}|          {11}|      THE STEEL WAVE|          {2}|This is a New column|\n",
            "|{5b4aa4ead3089013...|http://www.amazon...|    Phillip Margolin|{{1211587200000}}|                    |    {null, 0}|{{1212883200000}}|HarperCollins Pub...|{16}|           {0}| EXECUTIVE PRIVILEGE|          {0}|This is a New column|\n",
            "|{5b4aa4ead3089013...|http://www.amazon...|       Jhumpa Lahiri|{{1211587200000}}|Stories of the an...|    {null, 0}|{{1212883200000}}|               Knopf|{17}|           {0}|  UNACCUSTOMED EARTH|          {0}|This is a New column|\n",
            "|{5b4aa4ead3089013...|http://www.amazon...|      Joseph O'Neill|{{1211587200000}}|A Dutchman desert...|    {null, 0}|{{1212883200000}}|Knopf Publishing ...|{18}|           {0}|          NETHERLAND|          {0}|This is a New column|\n",
            "|{5b4aa4ead3089013...|http://www.amazon...|        John Grisham|{{1211587200000}}|Political and leg...|    {null, 0}|{{1212883200000}}|Doubleday Publishing|{19}|           {0}|          THE APPEAL|          {0}|This is a New column|\n",
            "|{5b4aa4ead3089013...|http://www.amazon...|       James Rollins|{{1211587200000}}|                    |    {null, 0}|{{1212883200000}}|Random House Publ...|{20}|           {0}|INDIANA JONES AND...|          {0}|This is a New column|\n",
            "+--------------------+--------------------+--------------------+-----------------+--------------------+-------------+-----------------+--------------------+----+--------------+--------------------+-------------+--------------------+\n",
            "only showing top 20 rows\n",
            "\n"
          ]
        }
      ]
    },
    {
      "cell_type": "code",
      "source": [
        "#Removing Columns\n",
        "#drop()\n",
        "\n",
        "dataframe_remove = dataframe.drop('publisher','published_date').show(5)"
      ],
      "metadata": {
        "colab": {
          "base_uri": "https://localhost:8080/"
        },
        "id": "g8syzyKaw7Nf",
        "outputId": "bb10a672-7fc0-4497-f0cb-f5e672620943"
      },
      "execution_count": 63,
      "outputs": [
        {
          "output_type": "stream",
          "name": "stdout",
          "text": [
            "+--------------------+--------------------+-----------------+-----------------+--------------------+-------------+----+--------------+--------------------+-------------+--------------------+\n",
            "|                 _id|                 URL|           author| bestsellers_date|         description|        price|rank|rank_last_week|               title|weeks_on_list|           NewColumn|\n",
            "+--------------------+--------------------+-----------------+-----------------+--------------------+-------------+----+--------------+--------------------+-------------+--------------------+\n",
            "|{5b4aa4ead3089013...|http://www.amazon...|    Dean R Koontz|{{1211587200000}}|Odd Thomas, who c...|   {null, 27}| {1}|           {0}|           ODD HOURS|          {1}|This is a New column|\n",
            "|{5b4aa4ead3089013...|http://www.amazon...|  Stephenie Meyer|{{1211587200000}}|Aliens have taken...|{25.99, null}| {2}|           {1}|            THE HOST|          {3}|This is a New column|\n",
            "|{5b4aa4ead3089013...|http://www.amazon...|     Emily Giffin|{{1211587200000}}|A woman's happy m...|{24.95, null}| {3}|           {2}|LOVE THE ONE YOU'...|          {2}|This is a New column|\n",
            "|{5b4aa4ead3089013...|http://www.amazon...|Patricia Cornwell|{{1211587200000}}|A Massachusetts s...|{22.95, null}| {4}|           {0}|           THE FRONT|          {1}|This is a New column|\n",
            "|{5b4aa4ead3089013...|http://www.amazon...|  Chuck Palahniuk|{{1211587200000}}|An aging porn que...|{24.95, null}| {5}|           {0}|               SNUFF|          {1}|This is a New column|\n",
            "+--------------------+--------------------+-----------------+-----------------+--------------------+-------------+----+--------------+--------------------+-------------+--------------------+\n",
            "only showing top 5 rows\n",
            "\n"
          ]
        }
      ]
    },
    {
      "cell_type": "code",
      "source": [
        "dataframe_remove1 =dataframe.drop(dataframe.publisher).drop(dataframe.published_date).show(5)"
      ],
      "metadata": {
        "colab": {
          "base_uri": "https://localhost:8080/"
        },
        "id": "YpZZh_RKxWlK",
        "outputId": "7c274935-8ba2-4f55-861d-1f58c3267bd6"
      },
      "execution_count": 65,
      "outputs": [
        {
          "output_type": "stream",
          "name": "stdout",
          "text": [
            "+--------------------+--------------------+-----------------+-----------------+--------------------+-------------+----+--------------+--------------------+-------------+--------------------+\n",
            "|                 _id|                 URL|           author| bestsellers_date|         description|        price|rank|rank_last_week|               title|weeks_on_list|           NewColumn|\n",
            "+--------------------+--------------------+-----------------+-----------------+--------------------+-------------+----+--------------+--------------------+-------------+--------------------+\n",
            "|{5b4aa4ead3089013...|http://www.amazon...|    Dean R Koontz|{{1211587200000}}|Odd Thomas, who c...|   {null, 27}| {1}|           {0}|           ODD HOURS|          {1}|This is a New column|\n",
            "|{5b4aa4ead3089013...|http://www.amazon...|  Stephenie Meyer|{{1211587200000}}|Aliens have taken...|{25.99, null}| {2}|           {1}|            THE HOST|          {3}|This is a New column|\n",
            "|{5b4aa4ead3089013...|http://www.amazon...|     Emily Giffin|{{1211587200000}}|A woman's happy m...|{24.95, null}| {3}|           {2}|LOVE THE ONE YOU'...|          {2}|This is a New column|\n",
            "|{5b4aa4ead3089013...|http://www.amazon...|Patricia Cornwell|{{1211587200000}}|A Massachusetts s...|{22.95, null}| {4}|           {0}|           THE FRONT|          {1}|This is a New column|\n",
            "|{5b4aa4ead3089013...|http://www.amazon...|  Chuck Palahniuk|{{1211587200000}}|An aging porn que...|{24.95, null}| {5}|           {0}|               SNUFF|          {1}|This is a New column|\n",
            "+--------------------+--------------------+-----------------+-----------------+--------------------+-------------+----+--------------+--------------------+-------------+--------------------+\n",
            "only showing top 5 rows\n",
            "\n"
          ]
        }
      ]
    },
    {
      "cell_type": "code",
      "source": [
        "#GroupBy author, count the books of the authors in the list\n",
        "\n",
        "dataframe.groupBy('author').count().show(5)\n",
        "\n"
      ],
      "metadata": {
        "colab": {
          "base_uri": "https://localhost:8080/"
        },
        "id": "BDIHdkLkxo28",
        "outputId": "71979ce8-de1d-4fff-825a-cdebf7692f7a"
      },
      "execution_count": 67,
      "outputs": [
        {
          "output_type": "stream",
          "name": "stdout",
          "text": [
            "+-----------------+-----+\n",
            "|           author|count|\n",
            "+-----------------+-----+\n",
            "|       James Frey|    2|\n",
            "| Elin Hilderbrand|   58|\n",
            "|Sharon Kay Penman|    2|\n",
            "|      Kate Jacobs|    3|\n",
            "|    Karen Robards|    6|\n",
            "+-----------------+-----+\n",
            "only showing top 5 rows\n",
            "\n"
          ]
        }
      ]
    },
    {
      "cell_type": "code",
      "source": [
        "# Filter\n",
        "\n",
        "dataframe.filter(dataframe['title']=='THE HOST').show()"
      ],
      "metadata": {
        "colab": {
          "base_uri": "https://localhost:8080/"
        },
        "id": "8HXukxkdyFOx",
        "outputId": "ed7a8e3e-c7c2-4631-e268-5387d315c5f9"
      },
      "execution_count": 70,
      "outputs": [
        {
          "output_type": "stream",
          "name": "stdout",
          "text": [
            "+--------------------+--------------------+---------------+-----------------+--------------------+-------------+-----------------+-------------+----+--------------+--------+-------------+--------------------+\n",
            "|                 _id|                 URL|         author| bestsellers_date|         description|        price|   published_date|    publisher|rank|rank_last_week|   title|weeks_on_list|           NewColumn|\n",
            "+--------------------+--------------------+---------------+-----------------+--------------------+-------------+-----------------+-------------+----+--------------+--------+-------------+--------------------+\n",
            "|{5b4aa4ead3089013...|http://www.amazon...|Stephenie Meyer|{{1211587200000}}|Aliens have taken...|{25.99, null}|{{1212883200000}}|Little, Brown| {2}|           {1}|THE HOST|          {3}|This is a New column|\n",
            "|{5b4aa4ead3089013...|http://www.amazon...|Stephenie Meyer|{{1212192000000}}|Aliens have taken...|{25.99, null}|{{1213488000000}}|Little, Brown| {2}|           {2}|THE HOST|          {4}|This is a New column|\n",
            "|{5b4aa4ead3089013...|http://www.amazon...|Stephenie Meyer|{{1212796800000}}|Aliens have taken...|{25.99, null}|{{1214092800000}}|Little, Brown| {2}|           {2}|THE HOST|          {5}|This is a New column|\n",
            "|{5b4aa4ead3089013...|http://www.amazon...|Stephenie Meyer|{{1213401600000}}|Aliens have taken...|{25.99, null}|{{1214697600000}}|Little, Brown| {3}|           {2}|THE HOST|          {6}|This is a New column|\n",
            "|{5b4aa4ead3089013...|http://www.amazon...|Stephenie Meyer|{{1214006400000}}|Aliens have taken...|{25.99, null}|{{1215302400000}}|Little, Brown| {3}|           {3}|THE HOST|          {7}|This is a New column|\n",
            "|{5b4aa4ead3089013...|http://www.amazon...|Stephenie Meyer|{{1214611200000}}|Aliens have taken...|{25.99, null}|{{1215907200000}}|Little, Brown| {5}|           {3}|THE HOST|          {8}|This is a New column|\n",
            "|{5b4aa4ead3089013...|http://www.amazon...|Stephenie Meyer|{{1215216000000}}|Aliens have taken...|{25.99, null}|{{1216512000000}}|Little, Brown| {6}|           {5}|THE HOST|          {9}|This is a New column|\n",
            "|{5b4aa4ead3089013...|http://www.amazon...|Stephenie Meyer|{{1215820800000}}|Aliens have taken...|{25.99, null}|{{1217116800000}}|Little, Brown| {7}|           {6}|THE HOST|         {10}|This is a New column|\n",
            "|{5b4aa4ead3089013...|http://www.amazon...|Stephenie Meyer|{{1216425600000}}|Aliens have taken...|{25.99, null}|{{1217721600000}}|Little, Brown| {4}|           {7}|THE HOST|         {11}|This is a New column|\n",
            "|{5b4aa4ead3089013...|http://www.amazon...|Stephenie Meyer|{{1217030400000}}|Aliens have taken...|{25.99, null}|{{1218326400000}}|Little, Brown| {3}|           {4}|THE HOST|         {12}|This is a New column|\n",
            "|{5b4aa4ead3089013...|http://www.amazon...|Stephenie Meyer|{{1217635200000}}|Aliens have taken...|{25.99, null}|{{1218931200000}}|Little, Brown| {3}|           {3}|THE HOST|         {13}|This is a New column|\n",
            "|{5b4aa4ead3089013...|http://www.amazon...|Stephenie Meyer|{{1218240000000}}|Aliens have taken...|{25.99, null}|{{1219536000000}}|Little, Brown| {5}|           {3}|THE HOST|         {14}|This is a New column|\n",
            "|{5b4aa4ead3089013...|http://www.amazon...|Stephenie Meyer|{{1218844800000}}|Aliens have taken...|{25.99, null}|{{1220140800000}}|Little, Brown| {6}|           {5}|THE HOST|         {15}|This is a New column|\n",
            "|{5b4aa4ead3089013...|http://www.amazon...|Stephenie Meyer|{{1219449600000}}|Aliens have taken...|{25.99, null}|{{1220745600000}}|Little, Brown| {5}|           {6}|THE HOST|         {16}|This is a New column|\n",
            "|{5b4aa4ead3089013...|http://www.amazon...|Stephenie Meyer|{{1220054400000}}|Aliens have taken...|{25.99, null}|{{1221350400000}}|Little, Brown| {5}|           {5}|THE HOST|         {17}|This is a New column|\n",
            "|{5b4aa4ead3089013...|http://www.amazon...|Stephenie Meyer|{{1220659200000}}|Aliens have taken...|{25.99, null}|{{1221955200000}}|Little, Brown| {6}|           {5}|THE HOST|         {18}|This is a New column|\n",
            "|{5b4aa4ead3089013...|http://www.amazon...|Stephenie Meyer|{{1221264000000}}|Aliens have taken...|{25.99, null}|{{1222560000000}}|Little, Brown| {6}|           {6}|THE HOST|         {19}|This is a New column|\n",
            "|{5b4aa4ead3089013...|http://www.amazon...|Stephenie Meyer|{{1221868800000}}|Aliens have taken...|{25.99, null}|{{1223164800000}}|Little, Brown| {7}|           {6}|THE HOST|         {20}|This is a New column|\n",
            "|{5b4aa4ead3089013...|http://www.amazon...|Stephenie Meyer|{{1222473600000}}|Aliens have taken...|{25.99, null}|{{1223769600000}}|Little, Brown|{10}|           {7}|THE HOST|         {21}|This is a New column|\n",
            "|{5b4aa4ead3089013...|http://www.amazon...|Stephenie Meyer|{{1223078400000}}|Aliens have taken...|{25.99, null}|{{1224374400000}}|Little, Brown|{11}|          {10}|THE HOST|         {22}|This is a New column|\n",
            "+--------------------+--------------------+---------------+-----------------+--------------------+-------------+-----------------+-------------+----+--------------+--------+-------------+--------------------+\n",
            "only showing top 20 rows\n",
            "\n"
          ]
        }
      ]
    },
    {
      "cell_type": "code",
      "source": [
        "# Handling missing values\n",
        "\n",
        "dataframe.na.fill()\n",
        "\n",
        "\n",
        "dataframe.dropna()\n",
        "\n",
        "\n",
        "dataframe.na.replace()"
      ],
      "metadata": {
        "colab": {
          "base_uri": "https://localhost:8080/",
          "height": 235
        },
        "id": "rNsZrKMVyhgf",
        "outputId": "5fa75310-0ef1-4a31-c9eb-0ffdfdef1958"
      },
      "execution_count": 71,
      "outputs": [
        {
          "output_type": "error",
          "ename": "TypeError",
          "evalue": "ignored",
          "traceback": [
            "\u001b[0;31m---------------------------------------------------------------------------\u001b[0m",
            "\u001b[0;31mTypeError\u001b[0m                                 Traceback (most recent call last)",
            "\u001b[0;32m<ipython-input-71-6ff0976bd7a7>\u001b[0m in \u001b[0;36m<module>\u001b[0;34m\u001b[0m\n\u001b[1;32m      1\u001b[0m \u001b[0;31m# Handling missing values\u001b[0m\u001b[0;34m\u001b[0m\u001b[0;34m\u001b[0m\u001b[0;34m\u001b[0m\u001b[0m\n\u001b[1;32m      2\u001b[0m \u001b[0;34m\u001b[0m\u001b[0m\n\u001b[0;32m----> 3\u001b[0;31m \u001b[0mdataframe\u001b[0m\u001b[0;34m.\u001b[0m\u001b[0mna\u001b[0m\u001b[0;34m.\u001b[0m\u001b[0mfill\u001b[0m\u001b[0;34m(\u001b[0m\u001b[0;34m)\u001b[0m\u001b[0;34m\u001b[0m\u001b[0;34m\u001b[0m\u001b[0m\n\u001b[0m\u001b[1;32m      4\u001b[0m \u001b[0;34m\u001b[0m\u001b[0m\n\u001b[1;32m      5\u001b[0m \u001b[0;34m\u001b[0m\u001b[0m\n",
            "\u001b[0;31mTypeError\u001b[0m: fill() missing 1 required positional argument: 'value'"
          ]
        }
      ]
    },
    {
      "cell_type": "code",
      "source": [
        "dataframe.rdd.getNumPartitions()"
      ],
      "metadata": {
        "colab": {
          "base_uri": "https://localhost:8080/"
        },
        "id": "IU22zyw7zSqS",
        "outputId": "938a2abb-4fff-424a-fb9e-5b8ceadcf4b9"
      },
      "execution_count": 73,
      "outputs": [
        {
          "output_type": "execute_result",
          "data": {
            "text/plain": [
              "2"
            ]
          },
          "metadata": {},
          "execution_count": 73
        }
      ]
    },
    {
      "cell_type": "code",
      "source": [
        "df= dataframe.repartition(20)"
      ],
      "metadata": {
        "id": "c9CyoIEAzdxX"
      },
      "execution_count": 75,
      "outputs": []
    },
    {
      "cell_type": "code",
      "source": [
        "df.rdd.getNumPartitions()"
      ],
      "metadata": {
        "colab": {
          "base_uri": "https://localhost:8080/"
        },
        "id": "7XRi07Fezy1y",
        "outputId": "7e5af30d-620c-4a85-c58f-df949970a551"
      },
      "execution_count": 76,
      "outputs": [
        {
          "output_type": "execute_result",
          "data": {
            "text/plain": [
              "20"
            ]
          },
          "metadata": {},
          "execution_count": 76
        }
      ]
    },
    {
      "cell_type": "code",
      "source": [
        "## SQL Commands in Spark"
      ],
      "metadata": {
        "id": "fzxBLZsMz7l_"
      },
      "execution_count": 77,
      "outputs": []
    },
    {
      "cell_type": "code",
      "source": [
        "dataframe.registerTempTable('df1')"
      ],
      "metadata": {
        "colab": {
          "base_uri": "https://localhost:8080/"
        },
        "id": "PX0h7u6G0GOn",
        "outputId": "9691e640-c8d5-4d78-8822-d2a1bef4f90c"
      },
      "execution_count": 78,
      "outputs": [
        {
          "output_type": "stream",
          "name": "stderr",
          "text": [
            "/usr/local/lib/python3.8/dist-packages/pyspark/sql/dataframe.py:229: FutureWarning: Deprecated in 2.0, use createOrReplaceTempView instead.\n",
            "  warnings.warn(\"Deprecated in 2.0, use createOrReplaceTempView instead.\", FutureWarning)\n"
          ]
        }
      ]
    },
    {
      "cell_type": "code",
      "source": [
        "sc.sql('Select * from df1').show(3)"
      ],
      "metadata": {
        "colab": {
          "base_uri": "https://localhost:8080/"
        },
        "id": "P55oHJCt0Oai",
        "outputId": "f34e4c4c-4c56-4a06-98e6-80982efcf523"
      },
      "execution_count": 82,
      "outputs": [
        {
          "output_type": "stream",
          "name": "stdout",
          "text": [
            "+--------------------+--------------------+---------------+-----------------+--------------------+-------------+-----------------+-------------+----+--------------+--------------------+-------------+--------------------+\n",
            "|                 _id|                 URL|         author| bestsellers_date|         description|        price|   published_date|    publisher|rank|rank_last_week|               title|weeks_on_list|           NewColumn|\n",
            "+--------------------+--------------------+---------------+-----------------+--------------------+-------------+-----------------+-------------+----+--------------+--------------------+-------------+--------------------+\n",
            "|{5b4aa4ead3089013...|http://www.amazon...|  Dean R Koontz|{{1211587200000}}|Odd Thomas, who c...|   {null, 27}|{{1212883200000}}|       Bantam| {1}|           {0}|           ODD HOURS|          {1}|This is a New column|\n",
            "|{5b4aa4ead3089013...|http://www.amazon...|Stephenie Meyer|{{1211587200000}}|Aliens have taken...|{25.99, null}|{{1212883200000}}|Little, Brown| {2}|           {1}|            THE HOST|          {3}|This is a New column|\n",
            "|{5b4aa4ead3089013...|http://www.amazon...|   Emily Giffin|{{1211587200000}}|A woman's happy m...|{24.95, null}|{{1212883200000}}| St. Martin's| {3}|           {2}|LOVE THE ONE YOU'...|          {2}|This is a New column|\n",
            "+--------------------+--------------------+---------------+-----------------+--------------------+-------------+-----------------+-------------+----+--------------+--------------------+-------------+--------------------+\n",
            "only showing top 3 rows\n",
            "\n"
          ]
        }
      ]
    },
    {
      "cell_type": "code",
      "source": [
        "## convert a dataframe into an RDD\n",
        "rdd_convert = dataframe.rdd"
      ],
      "metadata": {
        "id": "kg_Q-9dW0ebe"
      },
      "execution_count": 83,
      "outputs": []
    },
    {
      "cell_type": "code",
      "source": [
        "type(rdd_convert)"
      ],
      "metadata": {
        "colab": {
          "base_uri": "https://localhost:8080/"
        },
        "id": "hJ0y4K6z1CUi",
        "outputId": "cbabd14e-f756-4b77-9afb-8835c862b346"
      },
      "execution_count": 84,
      "outputs": [
        {
          "output_type": "execute_result",
          "data": {
            "text/plain": [
              "pyspark.rdd.RDD"
            ]
          },
          "metadata": {},
          "execution_count": 84
        }
      ]
    },
    {
      "cell_type": "code",
      "source": [
        "dataframe.toJSON().take(10)"
      ],
      "metadata": {
        "colab": {
          "base_uri": "https://localhost:8080/"
        },
        "id": "jGVxWj-q1GYJ",
        "outputId": "e2e70107-f904-440d-e9fb-a0be84945dd1"
      },
      "execution_count": 86,
      "outputs": [
        {
          "output_type": "execute_result",
          "data": {
            "text/plain": [
              "['{\"_id\":{\"$oid\":\"5b4aa4ead3089013507db18b\"},\"URL\":\"http://www.amazon.com/Odd-Hours-Dean-Koontz/dp/0553807056?tag=NYTBS-20\",\"author\":\"Dean R Koontz\",\"bestsellers_date\":{\"$date\":{\"$numberLong\":\"1211587200000\"}},\"description\":\"Odd Thomas, who can communicate with the dead, confronts evil forces in a California coastal town.\",\"price\":{\"$numberInt\":\"27\"},\"published_date\":{\"$date\":{\"$numberLong\":\"1212883200000\"}},\"publisher\":\"Bantam\",\"rank\":{\"$numberInt\":\"1\"},\"rank_last_week\":{\"$numberInt\":\"0\"},\"title\":\"ODD HOURS\",\"weeks_on_list\":{\"$numberInt\":\"1\"},\"NewColumn\":\"This is a New column\"}',\n",
              " '{\"_id\":{\"$oid\":\"5b4aa4ead3089013507db18c\"},\"URL\":\"http://www.amazon.com/The-Host-Novel-Stephenie-Meyer/dp/0316218502?tag=NYTBS-20\",\"author\":\"Stephenie Meyer\",\"bestsellers_date\":{\"$date\":{\"$numberLong\":\"1211587200000\"}},\"description\":\"Aliens have taken control of the minds and bodies of most humans, but one woman won’t surrender.\",\"price\":{\"$numberDouble\":\"25.99\"},\"published_date\":{\"$date\":{\"$numberLong\":\"1212883200000\"}},\"publisher\":\"Little, Brown\",\"rank\":{\"$numberInt\":\"2\"},\"rank_last_week\":{\"$numberInt\":\"1\"},\"title\":\"THE HOST\",\"weeks_on_list\":{\"$numberInt\":\"3\"},\"NewColumn\":\"This is a New column\"}',\n",
              " '{\"_id\":{\"$oid\":\"5b4aa4ead3089013507db18d\"},\"URL\":\"http://www.amazon.com/Love-Youre-With-Emily-Giffin/dp/0312348665?tag=NYTBS-20\",\"author\":\"Emily Giffin\",\"bestsellers_date\":{\"$date\":{\"$numberLong\":\"1211587200000\"}},\"description\":\"A woman\\'s happy marriage is shaken when she encounters an old boyfriend.\",\"price\":{\"$numberDouble\":\"24.95\"},\"published_date\":{\"$date\":{\"$numberLong\":\"1212883200000\"}},\"publisher\":\"St. Martin\\'s\",\"rank\":{\"$numberInt\":\"3\"},\"rank_last_week\":{\"$numberInt\":\"2\"},\"title\":\"LOVE THE ONE YOU\\'RE WITH\",\"weeks_on_list\":{\"$numberInt\":\"2\"},\"NewColumn\":\"This is a New column\"}',\n",
              " '{\"_id\":{\"$oid\":\"5b4aa4ead3089013507db18e\"},\"URL\":\"http://www.amazon.com/The-Front-Garano-Patricia-Cornwell-ebook/dp/B0017T0C9M?tag=NYTBS-20\",\"author\":\"Patricia Cornwell\",\"bestsellers_date\":{\"$date\":{\"$numberLong\":\"1211587200000\"}},\"description\":\"A Massachusetts state investigator and his team from \\\\\"At Risk\\\\\" confront a rogue association of municipal police departments.\",\"price\":{\"$numberDouble\":\"22.95\"},\"published_date\":{\"$date\":{\"$numberLong\":\"1212883200000\"}},\"publisher\":\"Putnam\",\"rank\":{\"$numberInt\":\"4\"},\"rank_last_week\":{\"$numberInt\":\"0\"},\"title\":\"THE FRONT\",\"weeks_on_list\":{\"$numberInt\":\"1\"},\"NewColumn\":\"This is a New column\"}',\n",
              " '{\"_id\":{\"$oid\":\"5b4aa4ead3089013507db18f\"},\"URL\":\"http://www.amazon.com/Snuff-Chuck-Palahniuk/dp/0385517882?tag=NYTBS-20\",\"author\":\"Chuck Palahniuk\",\"bestsellers_date\":{\"$date\":{\"$numberLong\":\"1211587200000\"}},\"description\":\"An aging porn queens aims to cap her career by having sex on film with 600 men in one day.\",\"price\":{\"$numberDouble\":\"24.95\"},\"published_date\":{\"$date\":{\"$numberLong\":\"1212883200000\"}},\"publisher\":\"Doubleday\",\"rank\":{\"$numberInt\":\"5\"},\"rank_last_week\":{\"$numberInt\":\"0\"},\"title\":\"SNUFF\",\"weeks_on_list\":{\"$numberInt\":\"1\"},\"NewColumn\":\"This is a New column\"}',\n",
              " '{\"_id\":{\"$oid\":\"5b4aa4ead3089013507db190\"},\"URL\":\"http://www.amazon.com/Sundays-at-Tiffanys-James-Patterson/dp/0446199443?tag=NYTBS-20\",\"author\":\"James Patterson and Gabrielle Charbonnet\",\"bestsellers_date\":{\"$date\":{\"$numberLong\":\"1211587200000\"}},\"description\":\"A woman finds an unexpected love\",\"price\":{\"$numberDouble\":\"24.99\"},\"published_date\":{\"$date\":{\"$numberLong\":\"1212883200000\"}},\"publisher\":\"Little, Brown\",\"rank\":{\"$numberInt\":\"6\"},\"rank_last_week\":{\"$numberInt\":\"3\"},\"title\":\"SUNDAYS AT TIFFANY’S\",\"weeks_on_list\":{\"$numberInt\":\"4\"},\"NewColumn\":\"This is a New column\"}',\n",
              " '{\"_id\":{\"$oid\":\"5b4aa4ead3089013507db191\"},\"URL\":\"http://www.amazon.com/Phantom-Prey-John-Sandford/dp/0425227987?tag=NYTBS-20\",\"author\":\"John Sandford\",\"bestsellers_date\":{\"$date\":{\"$numberLong\":\"1211587200000\"}},\"description\":\"The Minneapolis detective Lucas Davenport investigates a string of murders of young Goths.\",\"price\":{\"$numberDouble\":\"26.95\"},\"published_date\":{\"$date\":{\"$numberLong\":\"1212883200000\"}},\"publisher\":\"Putnam\",\"rank\":{\"$numberInt\":\"7\"},\"rank_last_week\":{\"$numberInt\":\"4\"},\"title\":\"PHANTOM PREY\",\"weeks_on_list\":{\"$numberInt\":\"3\"},\"NewColumn\":\"This is a New column\"}',\n",
              " '{\"_id\":{\"$oid\":\"5b4aa4ead3089013507db192\"},\"URL\":\"http://www.amazon.com/From-Worse-Southern-Vampire-Mysteries/dp/0441015891?tag=NYTBS-20\",\"author\":\"Jimmy Buffett\",\"bestsellers_date\":{\"$date\":{\"$numberLong\":\"1211587200000\"}},\"description\":\"A Southern family tries to hide its pet pig at a New York luxury hotel.\",\"price\":{\"$numberDouble\":\"21.99\"},\"published_date\":{\"$date\":{\"$numberLong\":\"1212883200000\"}},\"publisher\":\"Little, Brown\",\"rank\":{\"$numberInt\":\"8\"},\"rank_last_week\":{\"$numberInt\":\"6\"},\"title\":\"SWINE NOT?\",\"weeks_on_list\":{\"$numberInt\":\"2\"},\"NewColumn\":\"This is a New column\"}',\n",
              " '{\"_id\":{\"$oid\":\"5b4aa4ead3089013507db193\"},\"URL\":\"http://www.amazon.com/Where-Are-You-Now-Novel/dp/1416566384?tag=NYTBS-20\",\"author\":\"Elizabeth George\",\"bestsellers_date\":{\"$date\":{\"$numberLong\":\"1211587200000\"}},\"description\":\"In Cornwall, trying to recover from his wife\\'s death, Detective Thomas Lynley becomes involved in a murder investigation.\",\"price\":{\"$numberDouble\":\"27.95\"},\"published_date\":{\"$date\":{\"$numberLong\":\"1212883200000\"}},\"publisher\":\"Harper\",\"rank\":{\"$numberInt\":\"9\"},\"rank_last_week\":{\"$numberInt\":\"8\"},\"title\":\"CARELESS IN RED\",\"weeks_on_list\":{\"$numberInt\":\"3\"},\"NewColumn\":\"This is a New column\"}',\n",
              " '{\"_id\":{\"$oid\":\"5b4aa4ead3089013507db194\"},\"URL\":\"http://www.amazon.com/The-Whole-Truth-David-Baldacci/dp/0446539686?tag=NYTBS-20\",\"author\":\"David Baldacci\",\"bestsellers_date\":{\"$date\":{\"$numberLong\":\"1211587200000\"}},\"description\":\"An intelligence agent and a journalist team up against a warmongering defense contractor.\",\"price\":{\"$numberDouble\":\"26.99\"},\"published_date\":{\"$date\":{\"$numberLong\":\"1212883200000\"}},\"publisher\":\"Grand Central\",\"rank\":{\"$numberInt\":\"10\"},\"rank_last_week\":{\"$numberInt\":\"7\"},\"title\":\"THE WHOLE TRUTH\",\"weeks_on_list\":{\"$numberInt\":\"5\"},\"NewColumn\":\"This is a New column\"}']"
            ]
          },
          "metadata": {},
          "execution_count": 86
        }
      ]
    },
    {
      "cell_type": "code",
      "source": [
        "DATAFRAME = dataframe.toPandas()"
      ],
      "metadata": {
        "id": "nVHC6adH1Ur-"
      },
      "execution_count": 92,
      "outputs": []
    },
    {
      "cell_type": "code",
      "source": [
        "type(DATAFRAME)"
      ],
      "metadata": {
        "colab": {
          "base_uri": "https://localhost:8080/"
        },
        "id": "Am2CdBGt10RM",
        "outputId": "d53a3c3a-d23d-42e9-9f6a-5a2b3093f620"
      },
      "execution_count": 93,
      "outputs": [
        {
          "output_type": "execute_result",
          "data": {
            "text/plain": [
              "pandas.core.frame.DataFrame"
            ]
          },
          "metadata": {},
          "execution_count": 93
        }
      ]
    },
    {
      "cell_type": "code",
      "source": [
        "DATAFRAME"
      ],
      "metadata": {
        "colab": {
          "base_uri": "https://localhost:8080/",
          "height": 1000
        },
        "id": "w4TSDXKI17AM",
        "outputId": "ffc72365-8bdd-46ee-cc6d-f64ab13ef81f"
      },
      "execution_count": 94,
      "outputs": [
        {
          "output_type": "execute_result",
          "data": {
            "text/plain": [
              "                               _id  \\\n",
              "0      (5b4aa4ead3089013507db18b,)   \n",
              "1      (5b4aa4ead3089013507db18c,)   \n",
              "2      (5b4aa4ead3089013507db18d,)   \n",
              "3      (5b4aa4ead3089013507db18e,)   \n",
              "4      (5b4aa4ead3089013507db18f,)   \n",
              "...                            ...   \n",
              "10190  (5b4aa4ead3089013507dd959,)   \n",
              "10191  (5b4aa4ead3089013507dd95a,)   \n",
              "10192  (5b4aa4ead3089013507dd95b,)   \n",
              "10193  (5b4aa4ead3089013507dd95c,)   \n",
              "10194  (5b4aa4ead3089013507dd95d,)   \n",
              "\n",
              "                                                     URL              author  \\\n",
              "0      http://www.amazon.com/Odd-Hours-Dean-Koontz/dp...       Dean R Koontz   \n",
              "1      http://www.amazon.com/The-Host-Novel-Stephenie...     Stephenie Meyer   \n",
              "2      http://www.amazon.com/Love-Youre-With-Emily-Gi...        Emily Giffin   \n",
              "3      http://www.amazon.com/The-Front-Garano-Patrici...   Patricia Cornwell   \n",
              "4      http://www.amazon.com/Snuff-Chuck-Palahniuk/dp...     Chuck Palahniuk   \n",
              "...                                                  ...                 ...   \n",
              "10190  https://www.amazon.com/Clancy-Line-Sight-Jack-...          Mike Maden   \n",
              "10191  https://www.amazon.com/Something-Water-Novel-C...  Catherine Steadman   \n",
              "10192  https://www.amazon.com/Little-Fires-Everywhere...          Celeste Ng   \n",
              "10193  https://www.amazon.com/Shelter-Place-Nora-Robe...        Nora Roberts   \n",
              "10194  https://www.amazon.com/Last-Time-Lied-Novel/dp...         Riley Sager   \n",
              "\n",
              "          bestsellers_date                                        description  \\\n",
              "0      ((1211587200000,),)  Odd Thomas, who can communicate with the dead,...   \n",
              "1      ((1211587200000,),)  Aliens have taken control of the minds and bod...   \n",
              "2      ((1211587200000,),)  A woman's happy marriage is shaken when she en...   \n",
              "3      ((1211587200000,),)  A Massachusetts state investigator and his tea...   \n",
              "4      ((1211587200000,),)  An aging porn queens aims to cap her career by...   \n",
              "...                    ...                                                ...   \n",
              "10190  ((1530921600000,),)  Jack Ryan Jr. risks his life to protect a woma...   \n",
              "10191  ((1530921600000,),)  A documentary filmmaker and an investment bank...   \n",
              "10192  ((1530921600000,),)   An artist upends a quiet town outside Cleveland.   \n",
              "10193  ((1530921600000,),)  Survivors of a mass shooting outside a mall in...   \n",
              "10194  ((1530921600000,),)  A painter is in danger when she returns to the...   \n",
              "\n",
              "               price       published_date      publisher   rank  \\\n",
              "0         (None, 27)  ((1212883200000,),)         Bantam   (1,)   \n",
              "1      (25.99, None)  ((1212883200000,),)  Little, Brown   (2,)   \n",
              "2      (24.95, None)  ((1212883200000,),)   St. Martin's   (3,)   \n",
              "3      (22.95, None)  ((1212883200000,),)         Putnam   (4,)   \n",
              "4      (24.95, None)  ((1212883200000,),)      Doubleday   (5,)   \n",
              "...              ...                  ...            ...    ...   \n",
              "10190      (None, 0)  ((1532217600000,),)         Putnam  (11,)   \n",
              "10191      (None, 0)  ((1532217600000,),)     Ballantine  (12,)   \n",
              "10192      (None, 0)  ((1532217600000,),)  Penguin Press  (13,)   \n",
              "10193      (None, 0)  ((1532217600000,),)   St. Martin's  (14,)   \n",
              "10194      (None, 0)  ((1532217600000,),)         Dutton  (15,)   \n",
              "\n",
              "      rank_last_week                     title weeks_on_list  \\\n",
              "0               (0,)                 ODD HOURS          (1,)   \n",
              "1               (1,)                  THE HOST          (3,)   \n",
              "2               (2,)  LOVE THE ONE YOU'RE WITH          (2,)   \n",
              "3               (0,)                 THE FRONT          (1,)   \n",
              "4               (0,)                     SNUFF          (1,)   \n",
              "...              ...                       ...           ...   \n",
              "10190           (6,)  TOM CLANCY LINE OF SIGHT          (4,)   \n",
              "10191          (11,)    SOMETHING IN THE WATER          (5,)   \n",
              "10192          (12,)   LITTLE FIRES EVERYWHERE         (41,)   \n",
              "10193           (5,)          SHELTER IN PLACE          (6,)   \n",
              "10194           (0,)      THE LAST TIME I LIED          (1,)   \n",
              "\n",
              "                  NewColumn  \n",
              "0      This is a New column  \n",
              "1      This is a New column  \n",
              "2      This is a New column  \n",
              "3      This is a New column  \n",
              "4      This is a New column  \n",
              "...                     ...  \n",
              "10190  This is a New column  \n",
              "10191  This is a New column  \n",
              "10192  This is a New column  \n",
              "10193  This is a New column  \n",
              "10194  This is a New column  \n",
              "\n",
              "[10195 rows x 13 columns]"
            ],
            "text/html": [
              "\n",
              "  <div id=\"df-2f20f623-f2f1-4258-9e87-e30040c6a1e7\">\n",
              "    <div class=\"colab-df-container\">\n",
              "      <div>\n",
              "<style scoped>\n",
              "    .dataframe tbody tr th:only-of-type {\n",
              "        vertical-align: middle;\n",
              "    }\n",
              "\n",
              "    .dataframe tbody tr th {\n",
              "        vertical-align: top;\n",
              "    }\n",
              "\n",
              "    .dataframe thead th {\n",
              "        text-align: right;\n",
              "    }\n",
              "</style>\n",
              "<table border=\"1\" class=\"dataframe\">\n",
              "  <thead>\n",
              "    <tr style=\"text-align: right;\">\n",
              "      <th></th>\n",
              "      <th>_id</th>\n",
              "      <th>URL</th>\n",
              "      <th>author</th>\n",
              "      <th>bestsellers_date</th>\n",
              "      <th>description</th>\n",
              "      <th>price</th>\n",
              "      <th>published_date</th>\n",
              "      <th>publisher</th>\n",
              "      <th>rank</th>\n",
              "      <th>rank_last_week</th>\n",
              "      <th>title</th>\n",
              "      <th>weeks_on_list</th>\n",
              "      <th>NewColumn</th>\n",
              "    </tr>\n",
              "  </thead>\n",
              "  <tbody>\n",
              "    <tr>\n",
              "      <th>0</th>\n",
              "      <td>(5b4aa4ead3089013507db18b,)</td>\n",
              "      <td>http://www.amazon.com/Odd-Hours-Dean-Koontz/dp...</td>\n",
              "      <td>Dean R Koontz</td>\n",
              "      <td>((1211587200000,),)</td>\n",
              "      <td>Odd Thomas, who can communicate with the dead,...</td>\n",
              "      <td>(None, 27)</td>\n",
              "      <td>((1212883200000,),)</td>\n",
              "      <td>Bantam</td>\n",
              "      <td>(1,)</td>\n",
              "      <td>(0,)</td>\n",
              "      <td>ODD HOURS</td>\n",
              "      <td>(1,)</td>\n",
              "      <td>This is a New column</td>\n",
              "    </tr>\n",
              "    <tr>\n",
              "      <th>1</th>\n",
              "      <td>(5b4aa4ead3089013507db18c,)</td>\n",
              "      <td>http://www.amazon.com/The-Host-Novel-Stephenie...</td>\n",
              "      <td>Stephenie Meyer</td>\n",
              "      <td>((1211587200000,),)</td>\n",
              "      <td>Aliens have taken control of the minds and bod...</td>\n",
              "      <td>(25.99, None)</td>\n",
              "      <td>((1212883200000,),)</td>\n",
              "      <td>Little, Brown</td>\n",
              "      <td>(2,)</td>\n",
              "      <td>(1,)</td>\n",
              "      <td>THE HOST</td>\n",
              "      <td>(3,)</td>\n",
              "      <td>This is a New column</td>\n",
              "    </tr>\n",
              "    <tr>\n",
              "      <th>2</th>\n",
              "      <td>(5b4aa4ead3089013507db18d,)</td>\n",
              "      <td>http://www.amazon.com/Love-Youre-With-Emily-Gi...</td>\n",
              "      <td>Emily Giffin</td>\n",
              "      <td>((1211587200000,),)</td>\n",
              "      <td>A woman's happy marriage is shaken when she en...</td>\n",
              "      <td>(24.95, None)</td>\n",
              "      <td>((1212883200000,),)</td>\n",
              "      <td>St. Martin's</td>\n",
              "      <td>(3,)</td>\n",
              "      <td>(2,)</td>\n",
              "      <td>LOVE THE ONE YOU'RE WITH</td>\n",
              "      <td>(2,)</td>\n",
              "      <td>This is a New column</td>\n",
              "    </tr>\n",
              "    <tr>\n",
              "      <th>3</th>\n",
              "      <td>(5b4aa4ead3089013507db18e,)</td>\n",
              "      <td>http://www.amazon.com/The-Front-Garano-Patrici...</td>\n",
              "      <td>Patricia Cornwell</td>\n",
              "      <td>((1211587200000,),)</td>\n",
              "      <td>A Massachusetts state investigator and his tea...</td>\n",
              "      <td>(22.95, None)</td>\n",
              "      <td>((1212883200000,),)</td>\n",
              "      <td>Putnam</td>\n",
              "      <td>(4,)</td>\n",
              "      <td>(0,)</td>\n",
              "      <td>THE FRONT</td>\n",
              "      <td>(1,)</td>\n",
              "      <td>This is a New column</td>\n",
              "    </tr>\n",
              "    <tr>\n",
              "      <th>4</th>\n",
              "      <td>(5b4aa4ead3089013507db18f,)</td>\n",
              "      <td>http://www.amazon.com/Snuff-Chuck-Palahniuk/dp...</td>\n",
              "      <td>Chuck Palahniuk</td>\n",
              "      <td>((1211587200000,),)</td>\n",
              "      <td>An aging porn queens aims to cap her career by...</td>\n",
              "      <td>(24.95, None)</td>\n",
              "      <td>((1212883200000,),)</td>\n",
              "      <td>Doubleday</td>\n",
              "      <td>(5,)</td>\n",
              "      <td>(0,)</td>\n",
              "      <td>SNUFF</td>\n",
              "      <td>(1,)</td>\n",
              "      <td>This is a New column</td>\n",
              "    </tr>\n",
              "    <tr>\n",
              "      <th>...</th>\n",
              "      <td>...</td>\n",
              "      <td>...</td>\n",
              "      <td>...</td>\n",
              "      <td>...</td>\n",
              "      <td>...</td>\n",
              "      <td>...</td>\n",
              "      <td>...</td>\n",
              "      <td>...</td>\n",
              "      <td>...</td>\n",
              "      <td>...</td>\n",
              "      <td>...</td>\n",
              "      <td>...</td>\n",
              "      <td>...</td>\n",
              "    </tr>\n",
              "    <tr>\n",
              "      <th>10190</th>\n",
              "      <td>(5b4aa4ead3089013507dd959,)</td>\n",
              "      <td>https://www.amazon.com/Clancy-Line-Sight-Jack-...</td>\n",
              "      <td>Mike Maden</td>\n",
              "      <td>((1530921600000,),)</td>\n",
              "      <td>Jack Ryan Jr. risks his life to protect a woma...</td>\n",
              "      <td>(None, 0)</td>\n",
              "      <td>((1532217600000,),)</td>\n",
              "      <td>Putnam</td>\n",
              "      <td>(11,)</td>\n",
              "      <td>(6,)</td>\n",
              "      <td>TOM CLANCY LINE OF SIGHT</td>\n",
              "      <td>(4,)</td>\n",
              "      <td>This is a New column</td>\n",
              "    </tr>\n",
              "    <tr>\n",
              "      <th>10191</th>\n",
              "      <td>(5b4aa4ead3089013507dd95a,)</td>\n",
              "      <td>https://www.amazon.com/Something-Water-Novel-C...</td>\n",
              "      <td>Catherine Steadman</td>\n",
              "      <td>((1530921600000,),)</td>\n",
              "      <td>A documentary filmmaker and an investment bank...</td>\n",
              "      <td>(None, 0)</td>\n",
              "      <td>((1532217600000,),)</td>\n",
              "      <td>Ballantine</td>\n",
              "      <td>(12,)</td>\n",
              "      <td>(11,)</td>\n",
              "      <td>SOMETHING IN THE WATER</td>\n",
              "      <td>(5,)</td>\n",
              "      <td>This is a New column</td>\n",
              "    </tr>\n",
              "    <tr>\n",
              "      <th>10192</th>\n",
              "      <td>(5b4aa4ead3089013507dd95b,)</td>\n",
              "      <td>https://www.amazon.com/Little-Fires-Everywhere...</td>\n",
              "      <td>Celeste Ng</td>\n",
              "      <td>((1530921600000,),)</td>\n",
              "      <td>An artist upends a quiet town outside Cleveland.</td>\n",
              "      <td>(None, 0)</td>\n",
              "      <td>((1532217600000,),)</td>\n",
              "      <td>Penguin Press</td>\n",
              "      <td>(13,)</td>\n",
              "      <td>(12,)</td>\n",
              "      <td>LITTLE FIRES EVERYWHERE</td>\n",
              "      <td>(41,)</td>\n",
              "      <td>This is a New column</td>\n",
              "    </tr>\n",
              "    <tr>\n",
              "      <th>10193</th>\n",
              "      <td>(5b4aa4ead3089013507dd95c,)</td>\n",
              "      <td>https://www.amazon.com/Shelter-Place-Nora-Robe...</td>\n",
              "      <td>Nora Roberts</td>\n",
              "      <td>((1530921600000,),)</td>\n",
              "      <td>Survivors of a mass shooting outside a mall in...</td>\n",
              "      <td>(None, 0)</td>\n",
              "      <td>((1532217600000,),)</td>\n",
              "      <td>St. Martin's</td>\n",
              "      <td>(14,)</td>\n",
              "      <td>(5,)</td>\n",
              "      <td>SHELTER IN PLACE</td>\n",
              "      <td>(6,)</td>\n",
              "      <td>This is a New column</td>\n",
              "    </tr>\n",
              "    <tr>\n",
              "      <th>10194</th>\n",
              "      <td>(5b4aa4ead3089013507dd95d,)</td>\n",
              "      <td>https://www.amazon.com/Last-Time-Lied-Novel/dp...</td>\n",
              "      <td>Riley Sager</td>\n",
              "      <td>((1530921600000,),)</td>\n",
              "      <td>A painter is in danger when she returns to the...</td>\n",
              "      <td>(None, 0)</td>\n",
              "      <td>((1532217600000,),)</td>\n",
              "      <td>Dutton</td>\n",
              "      <td>(15,)</td>\n",
              "      <td>(0,)</td>\n",
              "      <td>THE LAST TIME I LIED</td>\n",
              "      <td>(1,)</td>\n",
              "      <td>This is a New column</td>\n",
              "    </tr>\n",
              "  </tbody>\n",
              "</table>\n",
              "<p>10195 rows × 13 columns</p>\n",
              "</div>\n",
              "      <button class=\"colab-df-convert\" onclick=\"convertToInteractive('df-2f20f623-f2f1-4258-9e87-e30040c6a1e7')\"\n",
              "              title=\"Convert this dataframe to an interactive table.\"\n",
              "              style=\"display:none;\">\n",
              "        \n",
              "  <svg xmlns=\"http://www.w3.org/2000/svg\" height=\"24px\"viewBox=\"0 0 24 24\"\n",
              "       width=\"24px\">\n",
              "    <path d=\"M0 0h24v24H0V0z\" fill=\"none\"/>\n",
              "    <path d=\"M18.56 5.44l.94 2.06.94-2.06 2.06-.94-2.06-.94-.94-2.06-.94 2.06-2.06.94zm-11 1L8.5 8.5l.94-2.06 2.06-.94-2.06-.94L8.5 2.5l-.94 2.06-2.06.94zm10 10l.94 2.06.94-2.06 2.06-.94-2.06-.94-.94-2.06-.94 2.06-2.06.94z\"/><path d=\"M17.41 7.96l-1.37-1.37c-.4-.4-.92-.59-1.43-.59-.52 0-1.04.2-1.43.59L10.3 9.45l-7.72 7.72c-.78.78-.78 2.05 0 2.83L4 21.41c.39.39.9.59 1.41.59.51 0 1.02-.2 1.41-.59l7.78-7.78 2.81-2.81c.8-.78.8-2.07 0-2.86zM5.41 20L4 18.59l7.72-7.72 1.47 1.35L5.41 20z\"/>\n",
              "  </svg>\n",
              "      </button>\n",
              "      \n",
              "  <style>\n",
              "    .colab-df-container {\n",
              "      display:flex;\n",
              "      flex-wrap:wrap;\n",
              "      gap: 12px;\n",
              "    }\n",
              "\n",
              "    .colab-df-convert {\n",
              "      background-color: #E8F0FE;\n",
              "      border: none;\n",
              "      border-radius: 50%;\n",
              "      cursor: pointer;\n",
              "      display: none;\n",
              "      fill: #1967D2;\n",
              "      height: 32px;\n",
              "      padding: 0 0 0 0;\n",
              "      width: 32px;\n",
              "    }\n",
              "\n",
              "    .colab-df-convert:hover {\n",
              "      background-color: #E2EBFA;\n",
              "      box-shadow: 0px 1px 2px rgba(60, 64, 67, 0.3), 0px 1px 3px 1px rgba(60, 64, 67, 0.15);\n",
              "      fill: #174EA6;\n",
              "    }\n",
              "\n",
              "    [theme=dark] .colab-df-convert {\n",
              "      background-color: #3B4455;\n",
              "      fill: #D2E3FC;\n",
              "    }\n",
              "\n",
              "    [theme=dark] .colab-df-convert:hover {\n",
              "      background-color: #434B5C;\n",
              "      box-shadow: 0px 1px 3px 1px rgba(0, 0, 0, 0.15);\n",
              "      filter: drop-shadow(0px 1px 2px rgba(0, 0, 0, 0.3));\n",
              "      fill: #FFFFFF;\n",
              "    }\n",
              "  </style>\n",
              "\n",
              "      <script>\n",
              "        const buttonEl =\n",
              "          document.querySelector('#df-2f20f623-f2f1-4258-9e87-e30040c6a1e7 button.colab-df-convert');\n",
              "        buttonEl.style.display =\n",
              "          google.colab.kernel.accessAllowed ? 'block' : 'none';\n",
              "\n",
              "        async function convertToInteractive(key) {\n",
              "          const element = document.querySelector('#df-2f20f623-f2f1-4258-9e87-e30040c6a1e7');\n",
              "          const dataTable =\n",
              "            await google.colab.kernel.invokeFunction('convertToInteractive',\n",
              "                                                     [key], {});\n",
              "          if (!dataTable) return;\n",
              "\n",
              "          const docLinkHtml = 'Like what you see? Visit the ' +\n",
              "            '<a target=\"_blank\" href=https://colab.research.google.com/notebooks/data_table.ipynb>data table notebook</a>'\n",
              "            + ' to learn more about interactive tables.';\n",
              "          element.innerHTML = '';\n",
              "          dataTable['output_type'] = 'display_data';\n",
              "          await google.colab.output.renderOutput(dataTable, element);\n",
              "          const docLink = document.createElement('div');\n",
              "          docLink.innerHTML = docLinkHtml;\n",
              "          element.appendChild(docLink);\n",
              "        }\n",
              "      </script>\n",
              "    </div>\n",
              "  </div>\n",
              "  "
            ]
          },
          "metadata": {},
          "execution_count": 94
        }
      ]
    },
    {
      "cell_type": "code",
      "source": [
        "dataframe.rdd.getNumPartitions()"
      ],
      "metadata": {
        "colab": {
          "base_uri": "https://localhost:8080/"
        },
        "id": "2Ba1hSNH3lli",
        "outputId": "0f4ad5ef-dad4-420b-a485-97cb0080d3c1"
      },
      "execution_count": 108,
      "outputs": [
        {
          "output_type": "execute_result",
          "data": {
            "text/plain": [
              "1"
            ]
          },
          "metadata": {},
          "execution_count": 108
        }
      ]
    },
    {
      "cell_type": "code",
      "source": [
        "dataframe =dataframe.coalesce(1)"
      ],
      "metadata": {
        "id": "BTlBmWhY3sq8"
      },
      "execution_count": 107,
      "outputs": []
    },
    {
      "cell_type": "code",
      "source": [
        "# Write & Save file in Parque format\n",
        "\n",
        "dataframe.select('author','title','rank','description').write.save('boot/Rankings_Description.parquet')"
      ],
      "metadata": {
        "id": "eb1vqE3O2HNd"
      },
      "execution_count": 110,
      "outputs": []
    },
    {
      "cell_type": "code",
      "source": [
        "#write & Save file in json format\n",
        "\n",
        "dataframe.select('author','title').write.save(\"boot/Author's_Titles.json\",format = 'json')"
      ],
      "metadata": {
        "id": "wiMSDb4p25tJ"
      },
      "execution_count": 112,
      "outputs": []
    },
    {
      "cell_type": "code",
      "source": [
        "#write & Save file in csv format\n",
        "\n",
        "dataframe.select('author','publisher').write.save(\"boot/Author's_Publisher.csv\",format = 'csv')"
      ],
      "metadata": {
        "id": "SibnHiVG4-Kj"
      },
      "execution_count": 113,
      "outputs": []
    },
    {
      "cell_type": "code",
      "source": [],
      "metadata": {
        "colab": {
          "base_uri": "https://localhost:8080/",
          "height": 416
        },
        "id": "YerisaHx5d9Q",
        "outputId": "2caf7d5e-e154-4df2-bd34-7015dd909237"
      },
      "execution_count": 114,
      "outputs": [
        {
          "output_type": "error",
          "ename": "AnalysisException",
          "evalue": "ignored",
          "traceback": [
            "\u001b[0;31m---------------------------------------------------------------------------\u001b[0m",
            "\u001b[0;31mAnalysisException\u001b[0m                         Traceback (most recent call last)",
            "\u001b[0;32m<ipython-input-114-eadef4d9ce9a>\u001b[0m in \u001b[0;36m<module>\u001b[0;34m\u001b[0m\n\u001b[1;32m      1\u001b[0m \u001b[0;31m#write & Save file in avro format\u001b[0m\u001b[0;34m\u001b[0m\u001b[0;34m\u001b[0m\u001b[0;34m\u001b[0m\u001b[0m\n\u001b[1;32m      2\u001b[0m \u001b[0;34m\u001b[0m\u001b[0m\n\u001b[0;32m----> 3\u001b[0;31m \u001b[0mdataframe\u001b[0m\u001b[0;34m.\u001b[0m\u001b[0mselect\u001b[0m\u001b[0;34m(\u001b[0m\u001b[0;34m'author'\u001b[0m\u001b[0;34m,\u001b[0m\u001b[0;34m'title'\u001b[0m\u001b[0;34m)\u001b[0m\u001b[0;34m.\u001b[0m\u001b[0mwrite\u001b[0m\u001b[0;34m.\u001b[0m\u001b[0msave\u001b[0m\u001b[0;34m(\u001b[0m\u001b[0;34m\"boot/Author.avro\"\u001b[0m\u001b[0;34m,\u001b[0m\u001b[0mformat\u001b[0m \u001b[0;34m=\u001b[0m \u001b[0;34m'avro'\u001b[0m\u001b[0;34m)\u001b[0m\u001b[0;34m\u001b[0m\u001b[0;34m\u001b[0m\u001b[0m\n\u001b[0m",
            "\u001b[0;32m/usr/local/lib/python3.8/dist-packages/pyspark/sql/readwriter.py\u001b[0m in \u001b[0;36msave\u001b[0;34m(self, path, format, mode, partitionBy, **options)\u001b[0m\n\u001b[1;32m    966\u001b[0m             \u001b[0mself\u001b[0m\u001b[0;34m.\u001b[0m\u001b[0m_jwrite\u001b[0m\u001b[0;34m.\u001b[0m\u001b[0msave\u001b[0m\u001b[0;34m(\u001b[0m\u001b[0;34m)\u001b[0m\u001b[0;34m\u001b[0m\u001b[0;34m\u001b[0m\u001b[0m\n\u001b[1;32m    967\u001b[0m         \u001b[0;32melse\u001b[0m\u001b[0;34m:\u001b[0m\u001b[0;34m\u001b[0m\u001b[0;34m\u001b[0m\u001b[0m\n\u001b[0;32m--> 968\u001b[0;31m             \u001b[0mself\u001b[0m\u001b[0;34m.\u001b[0m\u001b[0m_jwrite\u001b[0m\u001b[0;34m.\u001b[0m\u001b[0msave\u001b[0m\u001b[0;34m(\u001b[0m\u001b[0mpath\u001b[0m\u001b[0;34m)\u001b[0m\u001b[0;34m\u001b[0m\u001b[0;34m\u001b[0m\u001b[0m\n\u001b[0m\u001b[1;32m    969\u001b[0m \u001b[0;34m\u001b[0m\u001b[0m\n\u001b[1;32m    970\u001b[0m     \u001b[0;34m@\u001b[0m\u001b[0msince\u001b[0m\u001b[0;34m(\u001b[0m\u001b[0;36m1.4\u001b[0m\u001b[0;34m)\u001b[0m\u001b[0;34m\u001b[0m\u001b[0;34m\u001b[0m\u001b[0m\n",
            "\u001b[0;32m/usr/local/lib/python3.8/dist-packages/py4j/java_gateway.py\u001b[0m in \u001b[0;36m__call__\u001b[0;34m(self, *args)\u001b[0m\n\u001b[1;32m   1319\u001b[0m \u001b[0;34m\u001b[0m\u001b[0m\n\u001b[1;32m   1320\u001b[0m         \u001b[0manswer\u001b[0m \u001b[0;34m=\u001b[0m \u001b[0mself\u001b[0m\u001b[0;34m.\u001b[0m\u001b[0mgateway_client\u001b[0m\u001b[0;34m.\u001b[0m\u001b[0msend_command\u001b[0m\u001b[0;34m(\u001b[0m\u001b[0mcommand\u001b[0m\u001b[0;34m)\u001b[0m\u001b[0;34m\u001b[0m\u001b[0;34m\u001b[0m\u001b[0m\n\u001b[0;32m-> 1321\u001b[0;31m         return_value = get_return_value(\n\u001b[0m\u001b[1;32m   1322\u001b[0m             answer, self.gateway_client, self.target_id, self.name)\n\u001b[1;32m   1323\u001b[0m \u001b[0;34m\u001b[0m\u001b[0m\n",
            "\u001b[0;32m/usr/local/lib/python3.8/dist-packages/pyspark/sql/utils.py\u001b[0m in \u001b[0;36mdeco\u001b[0;34m(*a, **kw)\u001b[0m\n\u001b[1;32m    194\u001b[0m                 \u001b[0;31m# Hide where the exception came from that shows a non-Pythonic\u001b[0m\u001b[0;34m\u001b[0m\u001b[0;34m\u001b[0m\u001b[0;34m\u001b[0m\u001b[0m\n\u001b[1;32m    195\u001b[0m                 \u001b[0;31m# JVM exception message.\u001b[0m\u001b[0;34m\u001b[0m\u001b[0;34m\u001b[0m\u001b[0;34m\u001b[0m\u001b[0m\n\u001b[0;32m--> 196\u001b[0;31m                 \u001b[0;32mraise\u001b[0m \u001b[0mconverted\u001b[0m \u001b[0;32mfrom\u001b[0m \u001b[0;32mNone\u001b[0m\u001b[0;34m\u001b[0m\u001b[0;34m\u001b[0m\u001b[0m\n\u001b[0m\u001b[1;32m    197\u001b[0m             \u001b[0;32melse\u001b[0m\u001b[0;34m:\u001b[0m\u001b[0;34m\u001b[0m\u001b[0;34m\u001b[0m\u001b[0m\n\u001b[1;32m    198\u001b[0m                 \u001b[0;32mraise\u001b[0m\u001b[0;34m\u001b[0m\u001b[0;34m\u001b[0m\u001b[0m\n",
            "\u001b[0;31mAnalysisException\u001b[0m:  Failed to find data source: avro. Avro is built-in but external data source module since Spark 2.4. Please deploy the application as per the deployment section of \"Apache Avro Data Source Guide\".        "
          ]
        }
      ]
    },
    {
      "cell_type": "code",
      "source": [],
      "metadata": {
        "id": "R30qPsy25p9S"
      },
      "execution_count": null,
      "outputs": []
    }
  ]
}